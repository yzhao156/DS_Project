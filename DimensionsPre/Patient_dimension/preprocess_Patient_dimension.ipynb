{
 "cells": [
  {
   "cell_type": "code",
   "execution_count": 1,
   "metadata": {},
   "outputs": [],
   "source": [
    "import pandas as pd\n",
    "import numpy as np\n",
    "\n",
    "from datetime import datetime, timedelta\n",
    "\n",
    "cases = pd.read_csv(\"../../Data/IndividualCasesInOntario.csv\")"
   ]
  },
  {
   "cell_type": "code",
   "execution_count": 2,
   "metadata": {},
   "outputs": [],
   "source": [
    "cases[\"Specimen_Date\"] = pd.to_datetime(cases[\"Specimen_Date\"]).dt.strftime('%Y-%m-%d')\n",
    "cases = cases[(cases[\"Test_Reported_Date\"] < \"2021-03-01\") & (cases[\"Test_Reported_Date\"] >= \"2020-11-01\")]\n",
    "# cases = cases[(cases[\"Reporting_PHU_City\"] == \"Toronto\") | (cases[\"Reporting_PHU_City\"] == \"Ottawa\")]\n",
    "durhanCases = cases[(cases[\"Reporting_PHU\"].map(lambda x: \"durham\" in x.lower()))   |  (cases[\"Reporting_PHU_City\"].map(lambda x: \"durham\" in x.lower()))]\n",
    "haltonCases = cases[(cases[\"Reporting_PHU\"].map(lambda x: \"halton\" in x.lower()))   |  (cases[\"Reporting_PHU_City\"].map(lambda x: \"halton\" in x.lower()))]\n",
    "peelCases = cases[(cases[\"Reporting_PHU\"].map(lambda x: \"peel\" in x.lower()))   |  (cases[\"Reporting_PHU_City\"].map(lambda x: \"peel\" in x.lower()))]\n",
    "yorkCases = cases[(cases[\"Reporting_PHU\"].map(lambda x: \"york\" in x.lower()))   |  (cases[\"Reporting_PHU_City\"].map(lambda x: \"york\" in x.lower()))]\n",
    "ottawaCases = cases[(cases[\"Reporting_PHU\"].map(lambda x: \"ottawa\" in x.lower()))   |  (cases[\"Reporting_PHU_City\"].map(lambda x: \"ottawa\" in x.lower()))]\n",
    "torontoCases = cases[(cases[\"Reporting_PHU\"].map(lambda x: \"toronto\" in x.lower()))   |  (cases[\"Reporting_PHU_City\"].map(lambda x: \"toronto\" in x.lower()))]\n",
    "frames = [durhanCases, haltonCases, peelCases, yorkCases, ottawaCases, torontoCases]\n",
    "cases = pd.concat(frames)\n",
    "cases = cases.fillna({'Outbreak_Related':'Unknown'})"
   ]
  },
  {
   "cell_type": "code",
   "execution_count": 3,
   "metadata": {},
   "outputs": [],
   "source": [
    "Patient_dimension = cases[[\"Age_Group\",\"Client_Gender\",\"Case_AcquisitionInfo\",\"Outbreak_Related\"]]\n",
    "Patient_dimension = Patient_dimension.fillna({'Outbreak_Related':'Unknown'})"
   ]
  },
  {
   "cell_type": "code",
   "execution_count": 4,
   "metadata": {},
   "outputs": [],
   "source": [
    "Patient_dimension = Patient_dimension.drop_duplicates()"
   ]
  },
  {
   "cell_type": "code",
   "execution_count": 5,
   "metadata": {},
   "outputs": [],
   "source": [
    "Patient_dimension.insert(0, \"surrogate_key\",  np.arange(len(Patient_dimension)))"
   ]
  },
  {
   "cell_type": "code",
   "execution_count": 6,
   "metadata": {},
   "outputs": [],
   "source": [
    "Patient_dimension.to_csv(\"Patient_dimension.csv\",index=False)"
   ]
  },
  {
   "cell_type": "code",
   "execution_count": null,
   "metadata": {},
   "outputs": [],
   "source": []
  },
  {
   "cell_type": "code",
   "execution_count": null,
   "metadata": {},
   "outputs": [],
   "source": []
  },
  {
   "cell_type": "code",
   "execution_count": null,
   "metadata": {},
   "outputs": [],
   "source": []
  },
  {
   "cell_type": "code",
   "execution_count": null,
   "metadata": {},
   "outputs": [],
   "source": []
  },
  {
   "cell_type": "code",
   "execution_count": null,
   "metadata": {},
   "outputs": [],
   "source": []
  },
  {
   "cell_type": "code",
   "execution_count": null,
   "metadata": {},
   "outputs": [],
   "source": []
  },
  {
   "cell_type": "code",
   "execution_count": null,
   "metadata": {},
   "outputs": [],
   "source": []
  }
 ],
 "metadata": {
  "kernelspec": {
   "display_name": "Python 3",
   "language": "python",
   "name": "python3"
  },
  "language_info": {
   "codemirror_mode": {
    "name": "ipython",
    "version": 3
   },
   "file_extension": ".py",
   "mimetype": "text/x-python",
   "name": "python",
   "nbconvert_exporter": "python",
   "pygments_lexer": "ipython3",
   "version": "3.7.5"
  }
 },
 "nbformat": 4,
 "nbformat_minor": 2
}
