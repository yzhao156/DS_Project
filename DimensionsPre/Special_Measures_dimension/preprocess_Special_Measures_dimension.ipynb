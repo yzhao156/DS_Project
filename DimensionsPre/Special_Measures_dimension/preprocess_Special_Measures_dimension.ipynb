{
 "cells": [
  {
   "cell_type": "code",
   "execution_count": 200,
   "metadata": {},
   "outputs": [],
   "source": [
    "import pandas as pd\n",
    "import numpy as np\n",
    "\n",
    "from datetime import datetime, timedelta\n",
    "dataPath = \"../../Data/\""
   ]
  },
  {
   "cell_type": "code",
   "execution_count": 201,
   "metadata": {},
   "outputs": [],
   "source": [
    "PHU_Status = pd.read_csv(dataPath+\"PHU_Status.csv\")\n",
    "PHU_Status[\"start_date\"] = pd.to_datetime(PHU_Status[\"start_date\"]).dt.strftime('%Y-%m-%d')\n",
    "PHU_Status[\"end_date\"] = pd.to_datetime(PHU_Status[\"end_date\"]).dt.strftime('%Y-%m-%d')"
   ]
  },
  {
   "cell_type": "code",
   "execution_count": 202,
   "metadata": {},
   "outputs": [
    {
     "data": {
      "text/html": [
       "<div>\n",
       "<style scoped>\n",
       "    .dataframe tbody tr th:only-of-type {\n",
       "        vertical-align: middle;\n",
       "    }\n",
       "\n",
       "    .dataframe tbody tr th {\n",
       "        vertical-align: top;\n",
       "    }\n",
       "\n",
       "    .dataframe thead th {\n",
       "        text-align: right;\n",
       "    }\n",
       "</style>\n",
       "<table border=\"1\" class=\"dataframe\">\n",
       "  <thead>\n",
       "    <tr style=\"text-align: right;\">\n",
       "      <th></th>\n",
       "      <th>_id</th>\n",
       "      <th>Reporting_PHU</th>\n",
       "      <th>Reporting_PHU_id</th>\n",
       "      <th>Status_PHU</th>\n",
       "      <th>start_date</th>\n",
       "      <th>end_date</th>\n",
       "      <th>PHU_url</th>\n",
       "    </tr>\n",
       "  </thead>\n",
       "  <tbody>\n",
       "    <tr>\n",
       "      <th>0</th>\n",
       "      <td>1</td>\n",
       "      <td>Algoma Public Health Unit</td>\n",
       "      <td>2226</td>\n",
       "      <td>Prevent</td>\n",
       "      <td>2020-11-07</td>\n",
       "      <td>2020-12-25</td>\n",
       "      <td>http://www.algomapublichealth.com/</td>\n",
       "    </tr>\n",
       "    <tr>\n",
       "      <th>1</th>\n",
       "      <td>2</td>\n",
       "      <td>Algoma Public Health Unit</td>\n",
       "      <td>2226</td>\n",
       "      <td>Stay-at-home</td>\n",
       "      <td>2020-12-26</td>\n",
       "      <td>2021-02-15</td>\n",
       "      <td>http://www.algomapublichealth.com/</td>\n",
       "    </tr>\n",
       "    <tr>\n",
       "      <th>2</th>\n",
       "      <td>3</td>\n",
       "      <td>Algoma Public Health Unit</td>\n",
       "      <td>2226</td>\n",
       "      <td>Protect</td>\n",
       "      <td>2021-02-16</td>\n",
       "      <td>2021-03-14</td>\n",
       "      <td>http://www.algomapublichealth.com/</td>\n",
       "    </tr>\n",
       "    <tr>\n",
       "      <th>3</th>\n",
       "      <td>4</td>\n",
       "      <td>Brant County Health Unit</td>\n",
       "      <td>2227</td>\n",
       "      <td>Protect</td>\n",
       "      <td>2020-11-07</td>\n",
       "      <td>2020-11-15</td>\n",
       "      <td>http://www.bchu.org/</td>\n",
       "    </tr>\n",
       "    <tr>\n",
       "      <th>4</th>\n",
       "      <td>5</td>\n",
       "      <td>Brant County Health Unit</td>\n",
       "      <td>2227</td>\n",
       "      <td>Restrict</td>\n",
       "      <td>2020-11-16</td>\n",
       "      <td>2020-12-20</td>\n",
       "      <td>http://www.bchu.org/</td>\n",
       "    </tr>\n",
       "  </tbody>\n",
       "</table>\n",
       "</div>"
      ],
      "text/plain": [
       "   _id              Reporting_PHU  Reporting_PHU_id    Status_PHU  start_date  \\\n",
       "0    1  Algoma Public Health Unit              2226       Prevent  2020-11-07   \n",
       "1    2  Algoma Public Health Unit              2226  Stay-at-home  2020-12-26   \n",
       "2    3  Algoma Public Health Unit              2226       Protect  2021-02-16   \n",
       "3    4   Brant County Health Unit              2227       Protect  2020-11-07   \n",
       "4    5   Brant County Health Unit              2227      Restrict  2020-11-16   \n",
       "\n",
       "     end_date                             PHU_url  \n",
       "0  2020-12-25  http://www.algomapublichealth.com/  \n",
       "1  2021-02-15  http://www.algomapublichealth.com/  \n",
       "2  2021-03-14  http://www.algomapublichealth.com/  \n",
       "3  2020-11-15                http://www.bchu.org/  \n",
       "4  2020-12-20                http://www.bchu.org/  "
      ]
     },
     "execution_count": 202,
     "metadata": {},
     "output_type": "execute_result"
    }
   ],
   "source": [
    "PHU_Status.head()\n"
   ]
  },
  {
   "cell_type": "code",
   "execution_count": 203,
   "metadata": {},
   "outputs": [
    {
     "data": {
      "text/plain": [
       "0"
      ]
     },
     "execution_count": 203,
     "metadata": {},
     "output_type": "execute_result"
    }
   ],
   "source": [
    "PHU_Status[\"end_date\"].isna().sum()"
   ]
  },
  {
   "cell_type": "code",
   "execution_count": 204,
   "metadata": {
    "scrolled": false
   },
   "outputs": [
    {
     "data": {
      "text/plain": [
       "0           Prevent\n",
       "1      Stay-at-home\n",
       "2           Protect\n",
       "4          Restrict\n",
       "5           Control\n",
       "46         Lockdown\n",
       "147           Other\n",
       "Name: Status_PHU, dtype: object"
      ]
     },
     "execution_count": 204,
     "metadata": {},
     "output_type": "execute_result"
    }
   ],
   "source": [
    "PHU_Status[\"Status_PHU\"].drop_duplicates()"
   ]
  },
  {
   "cell_type": "code",
   "execution_count": 205,
   "metadata": {},
   "outputs": [],
   "source": [
    "Special_Measures_dimension = pd.DataFrame(columns=['Reporting_PHU', 'Reporting_PHU_id', 'Title','Description', 'Keyword_1', 'Keyword_2', 'Start-date', 'End-date'])\n"
   ]
  },
  {
   "cell_type": "code",
   "execution_count": 206,
   "metadata": {},
   "outputs": [],
   "source": [
    "def statusToList(status):\n",
    "    if (status==\"Prevent\"):\n",
    "        return ['Prevent','Green – Prevent \\n1) Focus on education and awareness of public health and workplace safety measures in place. \\n 2) Restrictions reflect broadest allowance of activities in Stage 3 absent a widely available vaccine or treatment. \\n 3) Highest risk settings remain closed.', 'Public health measures and advice', 'Prevent']\n",
    "    elif (status==\"Protect\"):\n",
    "        return ['Protect','\"Yellow – Protect \\n 1) Enhanced targeted enforcement, fines and enhanced education to limit further transmission. \\n 2) Apply public health measures in high risk settings.\"', 'Public health measures and advice', 'Protect']\n",
    "    elif (status==\"Restrict\"):\n",
    "        return ['Restrict',\"Orange – Restrict \\n 1) Implement enhanced measures, restrictions and enforcement avoiding any closures.\", 'Public health measures and advice', 'Restrict']\n",
    "    elif (status==\"Control\"):\n",
    "        return ['Control',\"Red – Control \\n 1) Implement broader-scale measures and restrictions, across multiple sectors, to control transmission. \\n 2) Restrictions are the most severe available before widescale business or organizational closure.\", 'Public health measures and advice', 'Control']\n",
    "    elif (status==\"Lockdown\"):\n",
    "        return ['Lockdown',\"Grey – Lockdown \\n 1) Implement widescale measures and restrictions, including closures, to halt or interrupt transmission. \\n 2) Consider declaration of emergency.\", 'Public health measures and advice', 'Lockdown']\n",
    "    elif (status==\"Stay-at-home\"):\n",
    "        return ['Lockdown',\"ONTARIO REGULATION 11/21 \\n made under the EMERGENCY MANAGEMENT AND CIVIL PROTECTION ACT\", 'Public health measures and advice', 'Stay-at-home']\n",
    "    elif (status==\"Other\"):\n",
    "        return ['Else','Description', 'Public health measures and advice', 'Other']\n",
    "\n",
    "    print(status)\n",
    "    a = 5 / 0\n"
   ]
  },
  {
   "cell_type": "code",
   "execution_count": 207,
   "metadata": {},
   "outputs": [],
   "source": [
    "for idx, row in PHU_Status.iterrows():\n",
    "    current_row = [row[\"Reporting_PHU\"], row[\"Reporting_PHU_id\"]] + statusToList(row[\"Status_PHU\"]) + [row[\"start_date\"], row[\"end_date\"]]\n",
    "    Special_Measures_dimension.loc[len(Special_Measures_dimension)] = current_row"
   ]
  },
  {
   "cell_type": "code",
   "execution_count": null,
   "metadata": {},
   "outputs": [],
   "source": []
  },
  {
   "cell_type": "code",
   "execution_count": 208,
   "metadata": {},
   "outputs": [],
   "source": [
    "# Special_Measures_dimension = pd.DataFrame(columns=['Reporting_PHU', 'Reporting_PHU_id', 'Title','Description', 'Keyword_1', 'Keyword_2', 'Start-date', 'End-date'])\n",
    "# government1 = [\"Home\",\"Stay Home\",\"1\",\"2\",\"2020-02-15\",\"2020-02-19\"]\n",
    "# Special_Measures_dimension.loc[len(Special_Measures_dimension)] = government1"
   ]
  },
  {
   "cell_type": "code",
   "execution_count": 209,
   "metadata": {},
   "outputs": [
    {
     "data": {
      "text/plain": [
       "3"
      ]
     },
     "execution_count": 209,
     "metadata": {},
     "output_type": "execute_result"
    }
   ],
   "source": [
    "len([\"Title-Prevent','Green – Prevent \\n1) Focus on education and awareness of public health and workplace safety measures in place. \\n 2) Restrictions reflect broadest allowance of activities in Stage 3 absent a widely available vaccine or treatment. \\n 3) Highest risk settings remain closed.\", 'Public health measures and advice', 'Prevent'])"
   ]
  },
  {
   "cell_type": "code",
   "execution_count": null,
   "metadata": {},
   "outputs": [],
   "source": []
  },
  {
   "cell_type": "code",
   "execution_count": 210,
   "metadata": {},
   "outputs": [
    {
     "data": {
      "text/html": [
       "<div>\n",
       "<style scoped>\n",
       "    .dataframe tbody tr th:only-of-type {\n",
       "        vertical-align: middle;\n",
       "    }\n",
       "\n",
       "    .dataframe tbody tr th {\n",
       "        vertical-align: top;\n",
       "    }\n",
       "\n",
       "    .dataframe thead th {\n",
       "        text-align: right;\n",
       "    }\n",
       "</style>\n",
       "<table border=\"1\" class=\"dataframe\">\n",
       "  <thead>\n",
       "    <tr style=\"text-align: right;\">\n",
       "      <th></th>\n",
       "      <th>surrogate_key</th>\n",
       "      <th>Reporting_PHU</th>\n",
       "      <th>Reporting_PHU_id</th>\n",
       "      <th>Title</th>\n",
       "      <th>Description</th>\n",
       "      <th>Keyword_1</th>\n",
       "      <th>Keyword_2</th>\n",
       "      <th>Start-date</th>\n",
       "      <th>End-date</th>\n",
       "    </tr>\n",
       "  </thead>\n",
       "  <tbody>\n",
       "    <tr>\n",
       "      <th>0</th>\n",
       "      <td>0</td>\n",
       "      <td>Algoma Public Health Unit</td>\n",
       "      <td>2226</td>\n",
       "      <td>Prevent</td>\n",
       "      <td>Green – Prevent \\n1) Focus on education and aw...</td>\n",
       "      <td>Public health measures and advice</td>\n",
       "      <td>Prevent</td>\n",
       "      <td>2020-11-07</td>\n",
       "      <td>2020-12-25</td>\n",
       "    </tr>\n",
       "    <tr>\n",
       "      <th>1</th>\n",
       "      <td>1</td>\n",
       "      <td>Algoma Public Health Unit</td>\n",
       "      <td>2226</td>\n",
       "      <td>Lockdown</td>\n",
       "      <td>ONTARIO REGULATION 11/21 \\n made under the EME...</td>\n",
       "      <td>Public health measures and advice</td>\n",
       "      <td>Stay-at-home</td>\n",
       "      <td>2020-12-26</td>\n",
       "      <td>2021-02-15</td>\n",
       "    </tr>\n",
       "    <tr>\n",
       "      <th>2</th>\n",
       "      <td>2</td>\n",
       "      <td>Algoma Public Health Unit</td>\n",
       "      <td>2226</td>\n",
       "      <td>Protect</td>\n",
       "      <td>\"Yellow – Protect \\n 1) Enhanced targeted enfo...</td>\n",
       "      <td>Public health measures and advice</td>\n",
       "      <td>Protect</td>\n",
       "      <td>2021-02-16</td>\n",
       "      <td>2021-03-14</td>\n",
       "    </tr>\n",
       "    <tr>\n",
       "      <th>3</th>\n",
       "      <td>3</td>\n",
       "      <td>Brant County Health Unit</td>\n",
       "      <td>2227</td>\n",
       "      <td>Protect</td>\n",
       "      <td>\"Yellow – Protect \\n 1) Enhanced targeted enfo...</td>\n",
       "      <td>Public health measures and advice</td>\n",
       "      <td>Protect</td>\n",
       "      <td>2020-11-07</td>\n",
       "      <td>2020-11-15</td>\n",
       "    </tr>\n",
       "    <tr>\n",
       "      <th>4</th>\n",
       "      <td>4</td>\n",
       "      <td>Brant County Health Unit</td>\n",
       "      <td>2227</td>\n",
       "      <td>Restrict</td>\n",
       "      <td>Orange – Restrict \\n 1) Implement enhanced mea...</td>\n",
       "      <td>Public health measures and advice</td>\n",
       "      <td>Restrict</td>\n",
       "      <td>2020-11-16</td>\n",
       "      <td>2020-12-20</td>\n",
       "    </tr>\n",
       "  </tbody>\n",
       "</table>\n",
       "</div>"
      ],
      "text/plain": [
       "   surrogate_key              Reporting_PHU Reporting_PHU_id     Title  \\\n",
       "0              0  Algoma Public Health Unit             2226   Prevent   \n",
       "1              1  Algoma Public Health Unit             2226  Lockdown   \n",
       "2              2  Algoma Public Health Unit             2226   Protect   \n",
       "3              3   Brant County Health Unit             2227   Protect   \n",
       "4              4   Brant County Health Unit             2227  Restrict   \n",
       "\n",
       "                                         Description  \\\n",
       "0  Green – Prevent \\n1) Focus on education and aw...   \n",
       "1  ONTARIO REGULATION 11/21 \\n made under the EME...   \n",
       "2  \"Yellow – Protect \\n 1) Enhanced targeted enfo...   \n",
       "3  \"Yellow – Protect \\n 1) Enhanced targeted enfo...   \n",
       "4  Orange – Restrict \\n 1) Implement enhanced mea...   \n",
       "\n",
       "                           Keyword_1     Keyword_2  Start-date    End-date  \n",
       "0  Public health measures and advice       Prevent  2020-11-07  2020-12-25  \n",
       "1  Public health measures and advice  Stay-at-home  2020-12-26  2021-02-15  \n",
       "2  Public health measures and advice       Protect  2021-02-16  2021-03-14  \n",
       "3  Public health measures and advice       Protect  2020-11-07  2020-11-15  \n",
       "4  Public health measures and advice      Restrict  2020-11-16  2020-12-20  "
      ]
     },
     "execution_count": 210,
     "metadata": {},
     "output_type": "execute_result"
    }
   ],
   "source": [
    "Special_Measures_dimension.insert(0, \"surrogate_key\",  np.arange(len(Special_Measures_dimension)))\n",
    "Special_Measures_dimension.to_csv(\"Special_Measures_dimension.csv\",index=False)\n",
    "Special_Measures_dimension.head()"
   ]
  },
  {
   "cell_type": "code",
   "execution_count": 211,
   "metadata": {
    "scrolled": true
   },
   "outputs": [
    {
     "data": {
      "text/html": [
       "<div>\n",
       "<style scoped>\n",
       "    .dataframe tbody tr th:only-of-type {\n",
       "        vertical-align: middle;\n",
       "    }\n",
       "\n",
       "    .dataframe tbody tr th {\n",
       "        vertical-align: top;\n",
       "    }\n",
       "\n",
       "    .dataframe thead th {\n",
       "        text-align: right;\n",
       "    }\n",
       "</style>\n",
       "<table border=\"1\" class=\"dataframe\">\n",
       "  <thead>\n",
       "    <tr style=\"text-align: right;\">\n",
       "      <th></th>\n",
       "      <th>surrogate_key</th>\n",
       "      <th>Reporting_PHU</th>\n",
       "      <th>Reporting_PHU_id</th>\n",
       "      <th>Title</th>\n",
       "      <th>Description</th>\n",
       "      <th>Keyword_1</th>\n",
       "      <th>Keyword_2</th>\n",
       "      <th>Start-date</th>\n",
       "      <th>End-date</th>\n",
       "    </tr>\n",
       "  </thead>\n",
       "  <tbody>\n",
       "    <tr>\n",
       "      <th>3</th>\n",
       "      <td>3</td>\n",
       "      <td>Brant County Health Unit</td>\n",
       "      <td>2227</td>\n",
       "      <td>Protect</td>\n",
       "      <td>\"Yellow – Protect \\n 1) Enhanced targeted enfo...</td>\n",
       "      <td>Public health measures and advice</td>\n",
       "      <td>Protect</td>\n",
       "      <td>2020-11-07</td>\n",
       "      <td>2020-11-15</td>\n",
       "    </tr>\n",
       "    <tr>\n",
       "      <th>4</th>\n",
       "      <td>4</td>\n",
       "      <td>Brant County Health Unit</td>\n",
       "      <td>2227</td>\n",
       "      <td>Restrict</td>\n",
       "      <td>Orange – Restrict \\n 1) Implement enhanced mea...</td>\n",
       "      <td>Public health measures and advice</td>\n",
       "      <td>Restrict</td>\n",
       "      <td>2020-11-16</td>\n",
       "      <td>2020-12-20</td>\n",
       "    </tr>\n",
       "    <tr>\n",
       "      <th>5</th>\n",
       "      <td>5</td>\n",
       "      <td>Brant County Health Unit</td>\n",
       "      <td>2227</td>\n",
       "      <td>Control</td>\n",
       "      <td>Red – Control \\n 1) Implement broader-scale me...</td>\n",
       "      <td>Public health measures and advice</td>\n",
       "      <td>Control</td>\n",
       "      <td>2020-12-21</td>\n",
       "      <td>2020-12-25</td>\n",
       "    </tr>\n",
       "    <tr>\n",
       "      <th>6</th>\n",
       "      <td>6</td>\n",
       "      <td>Brant County Health Unit</td>\n",
       "      <td>2227</td>\n",
       "      <td>Lockdown</td>\n",
       "      <td>ONTARIO REGULATION 11/21 \\n made under the EME...</td>\n",
       "      <td>Public health measures and advice</td>\n",
       "      <td>Stay-at-home</td>\n",
       "      <td>2020-12-26</td>\n",
       "      <td>2021-02-15</td>\n",
       "    </tr>\n",
       "    <tr>\n",
       "      <th>7</th>\n",
       "      <td>7</td>\n",
       "      <td>Brant County Health Unit</td>\n",
       "      <td>2227</td>\n",
       "      <td>Restrict</td>\n",
       "      <td>Orange – Restrict \\n 1) Implement enhanced mea...</td>\n",
       "      <td>Public health measures and advice</td>\n",
       "      <td>Restrict</td>\n",
       "      <td>2021-02-16</td>\n",
       "      <td>2021-03-14</td>\n",
       "    </tr>\n",
       "  </tbody>\n",
       "</table>\n",
       "</div>"
      ],
      "text/plain": [
       "   surrogate_key             Reporting_PHU Reporting_PHU_id     Title  \\\n",
       "3              3  Brant County Health Unit             2227   Protect   \n",
       "4              4  Brant County Health Unit             2227  Restrict   \n",
       "5              5  Brant County Health Unit             2227   Control   \n",
       "6              6  Brant County Health Unit             2227  Lockdown   \n",
       "7              7  Brant County Health Unit             2227  Restrict   \n",
       "\n",
       "                                         Description  \\\n",
       "3  \"Yellow – Protect \\n 1) Enhanced targeted enfo...   \n",
       "4  Orange – Restrict \\n 1) Implement enhanced mea...   \n",
       "5  Red – Control \\n 1) Implement broader-scale me...   \n",
       "6  ONTARIO REGULATION 11/21 \\n made under the EME...   \n",
       "7  Orange – Restrict \\n 1) Implement enhanced mea...   \n",
       "\n",
       "                           Keyword_1     Keyword_2  Start-date    End-date  \n",
       "3  Public health measures and advice       Protect  2020-11-07  2020-11-15  \n",
       "4  Public health measures and advice      Restrict  2020-11-16  2020-12-20  \n",
       "5  Public health measures and advice       Control  2020-12-21  2020-12-25  \n",
       "6  Public health measures and advice  Stay-at-home  2020-12-26  2021-02-15  \n",
       "7  Public health measures and advice      Restrict  2021-02-16  2021-03-14  "
      ]
     },
     "execution_count": 211,
     "metadata": {},
     "output_type": "execute_result"
    }
   ],
   "source": [
    "Special_Measures_dimension[Special_Measures_dimension[\"Reporting_PHU_id\"]==2227]"
   ]
  },
  {
   "cell_type": "code",
   "execution_count": 212,
   "metadata": {
    "scrolled": true
   },
   "outputs": [
    {
     "data": {
      "text/html": [
       "<div>\n",
       "<style scoped>\n",
       "    .dataframe tbody tr th:only-of-type {\n",
       "        vertical-align: middle;\n",
       "    }\n",
       "\n",
       "    .dataframe tbody tr th {\n",
       "        vertical-align: top;\n",
       "    }\n",
       "\n",
       "    .dataframe thead th {\n",
       "        text-align: right;\n",
       "    }\n",
       "</style>\n",
       "<table border=\"1\" class=\"dataframe\">\n",
       "  <thead>\n",
       "    <tr style=\"text-align: right;\">\n",
       "      <th></th>\n",
       "      <th>surrogate_key</th>\n",
       "      <th>Reporting_PHU</th>\n",
       "      <th>Reporting_PHU_id</th>\n",
       "      <th>Title</th>\n",
       "      <th>Description</th>\n",
       "      <th>Keyword_1</th>\n",
       "      <th>Keyword_2</th>\n",
       "      <th>Start-date</th>\n",
       "      <th>End-date</th>\n",
       "    </tr>\n",
       "  </thead>\n",
       "  <tbody>\n",
       "    <tr>\n",
       "      <th>149</th>\n",
       "      <td>149</td>\n",
       "      <td>Toronto Public Health</td>\n",
       "      <td>3895</td>\n",
       "      <td>Lockdown</td>\n",
       "      <td>Grey – Lockdown \\n 1) Implement widescale meas...</td>\n",
       "      <td>Public health measures and advice</td>\n",
       "      <td>Lockdown</td>\n",
       "      <td>2020-11-23</td>\n",
       "      <td>2020-12-25</td>\n",
       "    </tr>\n",
       "  </tbody>\n",
       "</table>\n",
       "</div>"
      ],
      "text/plain": [
       "     surrogate_key          Reporting_PHU Reporting_PHU_id     Title  \\\n",
       "149            149  Toronto Public Health             3895  Lockdown   \n",
       "\n",
       "                                           Description  \\\n",
       "149  Grey – Lockdown \\n 1) Implement widescale meas...   \n",
       "\n",
       "                             Keyword_1 Keyword_2  Start-date    End-date  \n",
       "149  Public health measures and advice  Lockdown  2020-11-23  2020-12-25  "
      ]
     },
     "execution_count": 212,
     "metadata": {},
     "output_type": "execute_result"
    }
   ],
   "source": [
    "Special_Measures_dimension[Special_Measures_dimension[\"surrogate_key\"]==149]"
   ]
  },
  {
   "cell_type": "code",
   "execution_count": 214,
   "metadata": {},
   "outputs": [
    {
     "data": {
      "text/plain": [
       "(169, 9)"
      ]
     },
     "execution_count": 214,
     "metadata": {},
     "output_type": "execute_result"
    }
   ],
   "source": [
    "Special_Measures_dimension.shape\n"
   ]
  },
  {
   "cell_type": "code",
   "execution_count": 215,
   "metadata": {},
   "outputs": [
    {
     "data": {
      "text/plain": [
       "169"
      ]
     },
     "execution_count": 215,
     "metadata": {},
     "output_type": "execute_result"
    }
   ],
   "source": [
    "len(Special_Measures_dimension)"
   ]
  }
 ],
 "metadata": {
  "kernelspec": {
   "display_name": "Python 3",
   "language": "python",
   "name": "python3"
  },
  "language_info": {
   "codemirror_mode": {
    "name": "ipython",
    "version": 3
   },
   "file_extension": ".py",
   "mimetype": "text/x-python",
   "name": "python",
   "nbconvert_exporter": "python",
   "pygments_lexer": "ipython3",
   "version": "3.7.5"
  }
 },
 "nbformat": 4,
 "nbformat_minor": 2
}
