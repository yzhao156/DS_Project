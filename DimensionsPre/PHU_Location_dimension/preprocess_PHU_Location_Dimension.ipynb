{
 "cells": [
  {
   "cell_type": "code",
   "execution_count": 13,
   "metadata": {},
   "outputs": [],
   "source": [
    "import pandas as pd\n",
    "import numpy as np\n",
    "\n",
    "from datetime import datetime, timedelta"
   ]
  },
  {
   "cell_type": "code",
   "execution_count": 14,
   "metadata": {},
   "outputs": [],
   "source": [
    "cases = pd.read_csv(\"../../Data/IndividualCasesInOntario.csv\")"
   ]
  },
  {
   "cell_type": "code",
   "execution_count": 15,
   "metadata": {},
   "outputs": [],
   "source": [
    "cases[\"Case_Reported_Date\"] = pd.to_datetime(cases[\"Case_Reported_Date\"]).dt.strftime('%Y-%m-%d')\n",
    "cases = cases[(cases[\"Test_Reported_Date\"] < \"2021-03-01\") & (cases[\"Test_Reported_Date\"] >= \"2020-11-01\")]\n",
    "cases = cases[(cases[\"Reporting_PHU_City\"] == \"Toronto\") | (cases[\"Reporting_PHU_City\"] == \"Ottawa\")]"
   ]
  },
  {
   "cell_type": "code",
   "execution_count": 16,
   "metadata": {},
   "outputs": [
    {
     "data": {
      "text/html": [
       "<div>\n",
       "<style scoped>\n",
       "    .dataframe tbody tr th:only-of-type {\n",
       "        vertical-align: middle;\n",
       "    }\n",
       "\n",
       "    .dataframe tbody tr th {\n",
       "        vertical-align: top;\n",
       "    }\n",
       "\n",
       "    .dataframe thead th {\n",
       "        text-align: right;\n",
       "    }\n",
       "</style>\n",
       "<table border=\"1\" class=\"dataframe\">\n",
       "  <thead>\n",
       "    <tr style=\"text-align: right;\">\n",
       "      <th></th>\n",
       "      <th>_id</th>\n",
       "      <th>Row_ID</th>\n",
       "      <th>Accurate_Episode_Date</th>\n",
       "      <th>Case_Reported_Date</th>\n",
       "      <th>Test_Reported_Date</th>\n",
       "      <th>Specimen_Date</th>\n",
       "      <th>Age_Group</th>\n",
       "      <th>Client_Gender</th>\n",
       "      <th>Case_AcquisitionInfo</th>\n",
       "      <th>Outcome1</th>\n",
       "      <th>Outbreak_Related</th>\n",
       "      <th>Reporting_PHU_ID</th>\n",
       "      <th>Reporting_PHU</th>\n",
       "      <th>Reporting_PHU_Address</th>\n",
       "      <th>Reporting_PHU_City</th>\n",
       "      <th>Reporting_PHU_Postal_Code</th>\n",
       "      <th>Reporting_PHU_Website</th>\n",
       "      <th>Reporting_PHU_Latitude</th>\n",
       "      <th>Reporting_PHU_Longitude</th>\n",
       "    </tr>\n",
       "  </thead>\n",
       "  <tbody>\n",
       "    <tr>\n",
       "      <th>2950</th>\n",
       "      <td>2951</td>\n",
       "      <td>2951</td>\n",
       "      <td>2020-11-23T00:00:00</td>\n",
       "      <td>2020-11-27</td>\n",
       "      <td>2020-11-27T00:00:00</td>\n",
       "      <td>2020-11-23T00:00:00</td>\n",
       "      <td>20s</td>\n",
       "      <td>FEMALE</td>\n",
       "      <td>CC</td>\n",
       "      <td>Resolved</td>\n",
       "      <td>Yes</td>\n",
       "      <td>3895</td>\n",
       "      <td>Toronto Public Health</td>\n",
       "      <td>277 Victoria Street, 5th Floor</td>\n",
       "      <td>Toronto</td>\n",
       "      <td>M5B 1W2</td>\n",
       "      <td>www.toronto.ca/community-people/health-wellnes...</td>\n",
       "      <td>43.656591</td>\n",
       "      <td>-79.379358</td>\n",
       "    </tr>\n",
       "    <tr>\n",
       "      <th>3381</th>\n",
       "      <td>3382</td>\n",
       "      <td>3382</td>\n",
       "      <td>2020-11-23T00:00:00</td>\n",
       "      <td>2020-11-27</td>\n",
       "      <td>2020-11-27T00:00:00</td>\n",
       "      <td>2020-11-23T00:00:00</td>\n",
       "      <td>50s</td>\n",
       "      <td>FEMALE</td>\n",
       "      <td>NO KNOWN EPI LINK</td>\n",
       "      <td>Resolved</td>\n",
       "      <td>NaN</td>\n",
       "      <td>3895</td>\n",
       "      <td>Toronto Public Health</td>\n",
       "      <td>277 Victoria Street, 5th Floor</td>\n",
       "      <td>Toronto</td>\n",
       "      <td>M5B 1W2</td>\n",
       "      <td>www.toronto.ca/community-people/health-wellnes...</td>\n",
       "      <td>43.656591</td>\n",
       "      <td>-79.379358</td>\n",
       "    </tr>\n",
       "    <tr>\n",
       "      <th>3435</th>\n",
       "      <td>3436</td>\n",
       "      <td>3436</td>\n",
       "      <td>2020-11-27T00:00:00</td>\n",
       "      <td>2020-11-27</td>\n",
       "      <td>2021-02-03T00:00:00</td>\n",
       "      <td>2020-11-25T00:00:00</td>\n",
       "      <td>40s</td>\n",
       "      <td>MALE</td>\n",
       "      <td>OB</td>\n",
       "      <td>Resolved</td>\n",
       "      <td>Yes</td>\n",
       "      <td>3895</td>\n",
       "      <td>Toronto Public Health</td>\n",
       "      <td>277 Victoria Street, 5th Floor</td>\n",
       "      <td>Toronto</td>\n",
       "      <td>M5B 1W2</td>\n",
       "      <td>www.toronto.ca/community-people/health-wellnes...</td>\n",
       "      <td>43.656591</td>\n",
       "      <td>-79.379358</td>\n",
       "    </tr>\n",
       "    <tr>\n",
       "      <th>3612</th>\n",
       "      <td>3613</td>\n",
       "      <td>3613</td>\n",
       "      <td>2020-11-24T00:00:00</td>\n",
       "      <td>2020-11-27</td>\n",
       "      <td>2020-11-25T00:00:00</td>\n",
       "      <td>2020-11-24T00:00:00</td>\n",
       "      <td>20s</td>\n",
       "      <td>UNSPECIFIED</td>\n",
       "      <td>OB</td>\n",
       "      <td>Resolved</td>\n",
       "      <td>Yes</td>\n",
       "      <td>3895</td>\n",
       "      <td>Toronto Public Health</td>\n",
       "      <td>277 Victoria Street, 5th Floor</td>\n",
       "      <td>Toronto</td>\n",
       "      <td>M5B 1W2</td>\n",
       "      <td>www.toronto.ca/community-people/health-wellnes...</td>\n",
       "      <td>43.656591</td>\n",
       "      <td>-79.379358</td>\n",
       "    </tr>\n",
       "    <tr>\n",
       "      <th>3770</th>\n",
       "      <td>3771</td>\n",
       "      <td>3771</td>\n",
       "      <td>2020-11-25T00:00:00</td>\n",
       "      <td>2020-11-26</td>\n",
       "      <td>2020-11-26T00:00:00</td>\n",
       "      <td>2020-11-25T00:00:00</td>\n",
       "      <td>60s</td>\n",
       "      <td>MALE</td>\n",
       "      <td>NO KNOWN EPI LINK</td>\n",
       "      <td>Resolved</td>\n",
       "      <td>NaN</td>\n",
       "      <td>3895</td>\n",
       "      <td>Toronto Public Health</td>\n",
       "      <td>277 Victoria Street, 5th Floor</td>\n",
       "      <td>Toronto</td>\n",
       "      <td>M5B 1W2</td>\n",
       "      <td>www.toronto.ca/community-people/health-wellnes...</td>\n",
       "      <td>43.656591</td>\n",
       "      <td>-79.379358</td>\n",
       "    </tr>\n",
       "  </tbody>\n",
       "</table>\n",
       "</div>"
      ],
      "text/plain": [
       "       _id  Row_ID Accurate_Episode_Date Case_Reported_Date  \\\n",
       "2950  2951    2951   2020-11-23T00:00:00         2020-11-27   \n",
       "3381  3382    3382   2020-11-23T00:00:00         2020-11-27   \n",
       "3435  3436    3436   2020-11-27T00:00:00         2020-11-27   \n",
       "3612  3613    3613   2020-11-24T00:00:00         2020-11-27   \n",
       "3770  3771    3771   2020-11-25T00:00:00         2020-11-26   \n",
       "\n",
       "       Test_Reported_Date        Specimen_Date Age_Group Client_Gender  \\\n",
       "2950  2020-11-27T00:00:00  2020-11-23T00:00:00       20s        FEMALE   \n",
       "3381  2020-11-27T00:00:00  2020-11-23T00:00:00       50s        FEMALE   \n",
       "3435  2021-02-03T00:00:00  2020-11-25T00:00:00       40s          MALE   \n",
       "3612  2020-11-25T00:00:00  2020-11-24T00:00:00       20s   UNSPECIFIED   \n",
       "3770  2020-11-26T00:00:00  2020-11-25T00:00:00       60s          MALE   \n",
       "\n",
       "     Case_AcquisitionInfo  Outcome1 Outbreak_Related  Reporting_PHU_ID  \\\n",
       "2950                   CC  Resolved              Yes              3895   \n",
       "3381    NO KNOWN EPI LINK  Resolved              NaN              3895   \n",
       "3435                   OB  Resolved              Yes              3895   \n",
       "3612                   OB  Resolved              Yes              3895   \n",
       "3770    NO KNOWN EPI LINK  Resolved              NaN              3895   \n",
       "\n",
       "              Reporting_PHU           Reporting_PHU_Address  \\\n",
       "2950  Toronto Public Health  277 Victoria Street, 5th Floor   \n",
       "3381  Toronto Public Health  277 Victoria Street, 5th Floor   \n",
       "3435  Toronto Public Health  277 Victoria Street, 5th Floor   \n",
       "3612  Toronto Public Health  277 Victoria Street, 5th Floor   \n",
       "3770  Toronto Public Health  277 Victoria Street, 5th Floor   \n",
       "\n",
       "     Reporting_PHU_City Reporting_PHU_Postal_Code  \\\n",
       "2950            Toronto                   M5B 1W2   \n",
       "3381            Toronto                   M5B 1W2   \n",
       "3435            Toronto                   M5B 1W2   \n",
       "3612            Toronto                   M5B 1W2   \n",
       "3770            Toronto                   M5B 1W2   \n",
       "\n",
       "                                  Reporting_PHU_Website  \\\n",
       "2950  www.toronto.ca/community-people/health-wellnes...   \n",
       "3381  www.toronto.ca/community-people/health-wellnes...   \n",
       "3435  www.toronto.ca/community-people/health-wellnes...   \n",
       "3612  www.toronto.ca/community-people/health-wellnes...   \n",
       "3770  www.toronto.ca/community-people/health-wellnes...   \n",
       "\n",
       "      Reporting_PHU_Latitude  Reporting_PHU_Longitude  \n",
       "2950               43.656591               -79.379358  \n",
       "3381               43.656591               -79.379358  \n",
       "3435               43.656591               -79.379358  \n",
       "3612               43.656591               -79.379358  \n",
       "3770               43.656591               -79.379358  "
      ]
     },
     "execution_count": 16,
     "metadata": {},
     "output_type": "execute_result"
    }
   ],
   "source": [
    "cases.head()"
   ]
  },
  {
   "cell_type": "code",
   "execution_count": 17,
   "metadata": {},
   "outputs": [],
   "source": [
    "PHU_location_dimension = cases[[\"Reporting_PHU_ID\", \"Reporting_PHU\", \"Reporting_PHU_Address\", \"Reporting_PHU_City\", \"Reporting_PHU_Postal_Code\", \"Reporting_PHU_Website\", \"Reporting_PHU_Latitude\", \"Reporting_PHU_Longitude\"]]"
   ]
  },
  {
   "cell_type": "code",
   "execution_count": 18,
   "metadata": {},
   "outputs": [],
   "source": [
    "PHU_location_dimension = PHU_location_dimension.drop_duplicates(subset=None, keep='first', inplace=False)"
   ]
  },
  {
   "cell_type": "code",
   "execution_count": 19,
   "metadata": {},
   "outputs": [],
   "source": [
    "PHU_location_dimension[\"surrogate_key\"] = np.arange(len(PHU_location_dimension))"
   ]
  },
  {
   "cell_type": "code",
   "execution_count": 20,
   "metadata": {},
   "outputs": [],
   "source": [
    "PHU_location_dimension = PHU_location_dimension.reindex(columns=['surrogate_key', \"Reporting_PHU_ID\", \"Reporting_PHU\", \"Reporting_PHU_Address\", \"Reporting_PHU_City\", \"Reporting_PHU_Postal_Code\", \"Reporting_PHU_Website\", \"Reporting_PHU_Latitude\", \"Reporting_PHU_Longitude\"], fill_value=0)"
   ]
  },
  {
   "cell_type": "code",
   "execution_count": 21,
   "metadata": {},
   "outputs": [],
   "source": [
    "PHU_location_dimension = PHU_location_dimension[(PHU_location_dimension[\"Reporting_PHU_City\"] == \"Toronto\") | (PHU_location_dimension[\"Reporting_PHU_City\"] == \"Ottawa\")]"
   ]
  },
  {
   "cell_type": "code",
   "execution_count": 22,
   "metadata": {},
   "outputs": [
    {
     "data": {
      "text/html": [
       "<div>\n",
       "<style scoped>\n",
       "    .dataframe tbody tr th:only-of-type {\n",
       "        vertical-align: middle;\n",
       "    }\n",
       "\n",
       "    .dataframe tbody tr th {\n",
       "        vertical-align: top;\n",
       "    }\n",
       "\n",
       "    .dataframe thead th {\n",
       "        text-align: right;\n",
       "    }\n",
       "</style>\n",
       "<table border=\"1\" class=\"dataframe\">\n",
       "  <thead>\n",
       "    <tr style=\"text-align: right;\">\n",
       "      <th></th>\n",
       "      <th>surrogate_key</th>\n",
       "      <th>Reporting_PHU_ID</th>\n",
       "      <th>Reporting_PHU</th>\n",
       "      <th>Reporting_PHU_Address</th>\n",
       "      <th>Reporting_PHU_City</th>\n",
       "      <th>Reporting_PHU_Postal_Code</th>\n",
       "      <th>Reporting_PHU_Website</th>\n",
       "      <th>Reporting_PHU_Latitude</th>\n",
       "      <th>Reporting_PHU_Longitude</th>\n",
       "    </tr>\n",
       "  </thead>\n",
       "  <tbody>\n",
       "    <tr>\n",
       "      <th>2950</th>\n",
       "      <td>0</td>\n",
       "      <td>3895</td>\n",
       "      <td>Toronto Public Health</td>\n",
       "      <td>277 Victoria Street, 5th Floor</td>\n",
       "      <td>Toronto</td>\n",
       "      <td>M5B 1W2</td>\n",
       "      <td>www.toronto.ca/community-people/health-wellnes...</td>\n",
       "      <td>43.656591</td>\n",
       "      <td>-79.379358</td>\n",
       "    </tr>\n",
       "    <tr>\n",
       "      <th>5005</th>\n",
       "      <td>1</td>\n",
       "      <td>2251</td>\n",
       "      <td>Ottawa Public Health</td>\n",
       "      <td>100 Constellation Drive</td>\n",
       "      <td>Ottawa</td>\n",
       "      <td>K2G 6J8</td>\n",
       "      <td>www.ottawapublichealth.ca</td>\n",
       "      <td>45.345665</td>\n",
       "      <td>-75.763912</td>\n",
       "    </tr>\n",
       "  </tbody>\n",
       "</table>\n",
       "</div>"
      ],
      "text/plain": [
       "      surrogate_key  Reporting_PHU_ID          Reporting_PHU  \\\n",
       "2950              0              3895  Toronto Public Health   \n",
       "5005              1              2251   Ottawa Public Health   \n",
       "\n",
       "               Reporting_PHU_Address Reporting_PHU_City  \\\n",
       "2950  277 Victoria Street, 5th Floor            Toronto   \n",
       "5005         100 Constellation Drive             Ottawa   \n",
       "\n",
       "     Reporting_PHU_Postal_Code  \\\n",
       "2950                   M5B 1W2   \n",
       "5005                   K2G 6J8   \n",
       "\n",
       "                                  Reporting_PHU_Website  \\\n",
       "2950  www.toronto.ca/community-people/health-wellnes...   \n",
       "5005                          www.ottawapublichealth.ca   \n",
       "\n",
       "      Reporting_PHU_Latitude  Reporting_PHU_Longitude  \n",
       "2950               43.656591               -79.379358  \n",
       "5005               45.345665               -75.763912  "
      ]
     },
     "execution_count": 22,
     "metadata": {},
     "output_type": "execute_result"
    }
   ],
   "source": [
    "PHU_location_dimension.head()"
   ]
  },
  {
   "cell_type": "code",
   "execution_count": 23,
   "metadata": {},
   "outputs": [],
   "source": [
    "PHU_location_dimension.to_csv(\"PHU_Location_dimension.csv\",index=False)"
   ]
  },
  {
   "cell_type": "code",
   "execution_count": 25,
   "metadata": {
    "scrolled": false
   },
   "outputs": [
    {
     "data": {
      "text/plain": [
       "2950    3895\n",
       "5005    2251\n",
       "Name: Reporting_PHU_ID, dtype: int64"
      ]
     },
     "execution_count": 25,
     "metadata": {},
     "output_type": "execute_result"
    }
   ],
   "source": [
    "PHU_location_dimension[\"Reporting_PHU_ID\"].drop_duplicates()"
   ]
  },
  {
   "cell_type": "code",
   "execution_count": 28,
   "metadata": {},
   "outputs": [
    {
     "data": {
      "text/plain": [
       "(67401, 19)"
      ]
     },
     "execution_count": 28,
     "metadata": {},
     "output_type": "execute_result"
    }
   ],
   "source": [
    "cases.shape"
   ]
  },
  {
   "cell_type": "code",
   "execution_count": 27,
   "metadata": {},
   "outputs": [
    {
     "data": {
      "text/plain": [
       "2950    277 Victoria Street, 5th Floor\n",
       "5005           100 Constellation Drive\n",
       "Name: Reporting_PHU_Address, dtype: object"
      ]
     },
     "execution_count": 27,
     "metadata": {},
     "output_type": "execute_result"
    }
   ],
   "source": [
    "cases[\"Reporting_PHU_Address\"].drop_duplicates()"
   ]
  },
  {
   "cell_type": "code",
   "execution_count": null,
   "metadata": {},
   "outputs": [],
   "source": []
  },
  {
   "cell_type": "code",
   "execution_count": null,
   "metadata": {},
   "outputs": [],
   "source": []
  }
 ],
 "metadata": {
  "kernelspec": {
   "display_name": "Python 3",
   "language": "python",
   "name": "python3"
  },
  "language_info": {
   "codemirror_mode": {
    "name": "ipython",
    "version": 3
   },
   "file_extension": ".py",
   "mimetype": "text/x-python",
   "name": "python",
   "nbconvert_exporter": "python",
   "pygments_lexer": "ipython3",
   "version": "3.7.5"
  }
 },
 "nbformat": 4,
 "nbformat_minor": 2
}
