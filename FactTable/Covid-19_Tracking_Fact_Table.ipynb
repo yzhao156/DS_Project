{
 "cells": [
  {
   "cell_type": "code",
   "execution_count": 266,
   "metadata": {},
   "outputs": [],
   "source": [
    "import pandas as pd\n",
    "import numpy as np\n",
    "import time\n",
    "import datetime\n",
    "\n",
    "dimension_path = \"../DimensionsPre/\"\n",
    "data_path = \"../Data/\""
   ]
  },
  {
   "cell_type": "code",
   "execution_count": 267,
   "metadata": {},
   "outputs": [],
   "source": [
    "Date_dimension = pd.read_csv(dimension_path+\"Date_dimension/Date_dimension.csv\")\n",
    "Mobility_dimension = pd.read_csv(dimension_path+\"Mobility_dimension/Mobility_dimension.csv\")\n",
    "Patient_dimension = pd.read_csv(dimension_path+\"Patient_dimension/Patient_dimension.csv\")\n",
    "PHU_Location_dimension = pd.read_csv(dimension_path+\"PHU_Location_dimension/PHU_Location_dimension.csv\")\n",
    "Special_Measures_dimension = pd.read_csv(dimension_path+\"Special_Measures_dimension/Special_Measures_dimension.csv\")\n",
    "Weather_dimension = pd.read_csv(dimension_path+\"Weather_dimension/Weather_dimension.csv\")"
   ]
  },
  {
   "cell_type": "code",
   "execution_count": 268,
   "metadata": {},
   "outputs": [],
   "source": [
    "cases = pd.read_csv(data_path+\"IndividualCasesInOntario.csv\")\n",
    "# cases.head()"
   ]
  },
  {
   "cell_type": "code",
   "execution_count": 269,
   "metadata": {},
   "outputs": [],
   "source": [
    "cases[\"Accurate_Episode_Date\"] = pd.to_datetime(cases[\"Accurate_Episode_Date\"]).dt.strftime('%Y-%m-%d')\n",
    "cases[\"Case_Reported_Date\"] = pd.to_datetime(cases[\"Case_Reported_Date\"]).dt.strftime('%Y-%m-%d')\n",
    "cases[\"Test_Reported_Date\"] = pd.to_datetime(cases[\"Test_Reported_Date\"]).dt.strftime('%Y-%m-%d')\n",
    "cases[\"Specimen_Date\"] = pd.to_datetime(cases[\"Specimen_Date\"]).dt.strftime('%Y-%m-%d')\n",
    "cases = cases[(cases[\"Test_Reported_Date\"] < \"2021-03-01\") & (cases[\"Test_Reported_Date\"] >= \"2020-11-01\")]\n",
    "# cases = cases[(cases[\"Reporting_PHU_City\"] == \"Toronto\") | (cases[\"Reporting_PHU_City\"] == \"Ottawa\")]\n",
    "durhanCases = cases[(cases[\"Reporting_PHU\"].map(lambda x: \"durham\" in x.lower()))   |  (cases[\"Reporting_PHU_City\"].map(lambda x: \"durham\" in x.lower()))]\n",
    "haltonCases = cases[(cases[\"Reporting_PHU\"].map(lambda x: \"halton\" in x.lower()))   |  (cases[\"Reporting_PHU_City\"].map(lambda x: \"halton\" in x.lower()))]\n",
    "peelCases = cases[(cases[\"Reporting_PHU\"].map(lambda x: \"peel\" in x.lower()))   |  (cases[\"Reporting_PHU_City\"].map(lambda x: \"peel\" in x.lower()))]\n",
    "yorkCases = cases[(cases[\"Reporting_PHU\"].map(lambda x: \"york\" in x.lower()))   |  (cases[\"Reporting_PHU_City\"].map(lambda x: \"york\" in x.lower()))]\n",
    "ottawaCases = cases[(cases[\"Reporting_PHU\"].map(lambda x: \"ottawa\" in x.lower()))   |  (cases[\"Reporting_PHU_City\"].map(lambda x: \"ottawa\" in x.lower()))]\n",
    "torontoCases = cases[(cases[\"Reporting_PHU\"].map(lambda x: \"toronto\" in x.lower()))   |  (cases[\"Reporting_PHU_City\"].map(lambda x: \"toronto\" in x.lower()))]\n",
    "frames = [durhanCases, haltonCases, peelCases, yorkCases, ottawaCases, torontoCases]\n",
    "cases = pd.concat(frames)\n",
    "cases = cases.fillna({'Outbreak_Related':'Unknown'})#[:67401:100]"
   ]
  },
  {
   "cell_type": "code",
   "execution_count": 270,
   "metadata": {},
   "outputs": [
    {
     "data": {
      "text/html": [
       "<div>\n",
       "<style scoped>\n",
       "    .dataframe tbody tr th:only-of-type {\n",
       "        vertical-align: middle;\n",
       "    }\n",
       "\n",
       "    .dataframe tbody tr th {\n",
       "        vertical-align: top;\n",
       "    }\n",
       "\n",
       "    .dataframe thead th {\n",
       "        text-align: right;\n",
       "    }\n",
       "</style>\n",
       "<table border=\"1\" class=\"dataframe\">\n",
       "  <thead>\n",
       "    <tr style=\"text-align: right;\">\n",
       "      <th></th>\n",
       "      <th>Reporting_PHU</th>\n",
       "      <th>Reporting_PHU_City</th>\n",
       "    </tr>\n",
       "  </thead>\n",
       "  <tbody>\n",
       "    <tr>\n",
       "      <th>2940</th>\n",
       "      <td>Durham Region Health Department</td>\n",
       "      <td>Whitby</td>\n",
       "    </tr>\n",
       "    <tr>\n",
       "      <th>2967</th>\n",
       "      <td>Halton Region Health Department</td>\n",
       "      <td>Oakville</td>\n",
       "    </tr>\n",
       "    <tr>\n",
       "      <th>2918</th>\n",
       "      <td>Peel Public Health</td>\n",
       "      <td>Mississauga</td>\n",
       "    </tr>\n",
       "    <tr>\n",
       "      <th>2920</th>\n",
       "      <td>York Region Public Health Services</td>\n",
       "      <td>Newmarket</td>\n",
       "    </tr>\n",
       "    <tr>\n",
       "      <th>5005</th>\n",
       "      <td>Ottawa Public Health</td>\n",
       "      <td>Ottawa</td>\n",
       "    </tr>\n",
       "    <tr>\n",
       "      <th>2950</th>\n",
       "      <td>Toronto Public Health</td>\n",
       "      <td>Toronto</td>\n",
       "    </tr>\n",
       "  </tbody>\n",
       "</table>\n",
       "</div>"
      ],
      "text/plain": [
       "                           Reporting_PHU Reporting_PHU_City\n",
       "2940     Durham Region Health Department             Whitby\n",
       "2967     Halton Region Health Department           Oakville\n",
       "2918                  Peel Public Health        Mississauga\n",
       "2920  York Region Public Health Services          Newmarket\n",
       "5005                Ottawa Public Health             Ottawa\n",
       "2950               Toronto Public Health            Toronto"
      ]
     },
     "execution_count": 270,
     "metadata": {},
     "output_type": "execute_result"
    }
   ],
   "source": [
    "cases[[\"Reporting_PHU\",\"Reporting_PHU_City\"]].drop_duplicates()"
   ]
  },
  {
   "cell_type": "code",
   "execution_count": 271,
   "metadata": {},
   "outputs": [],
   "source": [
    "reportingPHU2SubRegion2={\n",
    "    \"Durham Region Health Department\":\"Regional Municipality of Durham\",\n",
    "    \"Halton Region Health Department\":\"Regional Municipality of Halton\",\n",
    "    \"Peel Public Health\":\"Regional Municipality of Peel\",\n",
    "    \"York Region Public Health Services\":\"Regional Municipality of York\",\n",
    "    \"Ottawa Public Health\":\"Ottawa Division\",\n",
    "    \"Toronto Public Health\":\"Toronto Division\"\n",
    "}\n",
    "reportingPHUCity2StationName={\n",
    "    \"Durham Region Health Department\":\"TORONTO NORTH YORK\",\n",
    "    \"Halton Region Health Department\":\"TORONTO NORTH YORK\",\n",
    "    \"Peel Public Health\":\"TORONTO NORTH YORK\",\n",
    "    \"York Region Public Health Services\":\"TORONTO NORTH YORK\",\n",
    "    \"Ottawa Public Health\":\"OTTAWA INTL A\",\n",
    "    \"Toronto Public Health\":\"TORONTO NORTH YORK\"\n",
    "}\n",
    "fact_table =  pd.DataFrame(columns=['Onset_date_key','Reported_date_key','Test_date_key', 'Specimen_date_key', 'Patient_key', \"PHU_location_key\",\"Special_measure_key\",\"Mobility_key\",\"Weather_key\",\"Resolved\",\"Unresolved\",\"Fatal\"])"
   ]
  },
  {
   "cell_type": "code",
   "execution_count": 272,
   "metadata": {},
   "outputs": [
    {
     "name": "stdout",
     "output_type": "stream",
     "text": [
      "Finished Forming Fact Table Took 63:48 to Finish\n",
      "Special Measure Mismatch: 3613\n",
      "Mobility Mismatch: 3\n",
      "Weather Mismatch: 68\n",
      "Total Cases: 151566\n"
     ]
    }
   ],
   "source": [
    "#TO REMOVED:df.dropna(axis=0,how='any')\n",
    "start = time.time()\n",
    "cases = cases.dropna(axis=0,how='any')\n",
    "# cases = cases.head()\n",
    "rows = 0\n",
    "Resolved,Unresolved,Fatal = 0,0,0\n",
    "specialMeasureMismatch, mobilityMismatch, weatherMismatch = 0,0,0\n",
    "tmp = 0 \n",
    "\n",
    "for idx, row in cases.iterrows():\n",
    "    rows += 1\n",
    "    \n",
    "    #not considering 2021 data\n",
    "#     if (row[\"Case_Reported_Date\"][:4]!=\"2020\"):\n",
    "#         continue\n",
    "    \n",
    "    if (rows%100 == 0):\n",
    "        percentage = str(round((rows/len(cases))*100, 2)  )\n",
    "        remaining = (time.time()-start)*((len(cases)-rows)/rows)\n",
    "        print(\"%s/%s - %s%%  --about %s:%s left\"%(str(rows),str(len(cases)),percentage,str(int(remaining//60)),str(int(remaining%60))),end = \"\\r\")\n",
    "    \n",
    "    if (row[\"Outcome1\"] == \"Resolved\"):\n",
    "        Resolved+=1\n",
    "    elif (row[\"Outcome1\"] == \"Not Resolved\"):\n",
    "        Unresolved+=1\n",
    "    else:\n",
    "        Fatal+=1\n",
    "\n",
    "        \n",
    "    # Special Measure\n",
    "    try:\n",
    "        specialMeasureId = Special_Measures_dimension[(Special_Measures_dimension[\"Reporting_PHU_id\"]==row[\"Reporting_PHU_ID\"])&(Special_Measures_dimension[\"Start-date\"]<=row[\"Case_Reported_Date\"])&(Special_Measures_dimension[\"End-date\"]>=row[\"Case_Reported_Date\"])][\"surrogate_key\"].values[0]\n",
    "    except IndexError as e:        \n",
    "        specialMeasureMismatch+=1\n",
    "        specialMeasureId = None\n",
    "        \n",
    "    # Mobility\n",
    "    try:\n",
    "        Mobility_dimensionId = Mobility_dimension[(Mobility_dimension[\"sub_region_2\"] == reportingPHU2SubRegion2[row[\"Reporting_PHU\"]])&(Mobility_dimension[\"date\"]==row[\"Case_Reported_Date\"])][\"surrogate_key\"].values[0]\n",
    "    except IndexError as e:        \n",
    "        mobilityMismatch+=1\n",
    "        Mobility_dimensionId = None\n",
    "        \n",
    "       \n",
    "    # Weather\n",
    "    try:\n",
    "        Weather_dimensionId = Weather_dimension[(Weather_dimension[\"Station Name\"]==reportingPHUCity2StationName[row[\"Reporting_PHU\"]])&(Weather_dimension[\"Date/Time\"]==row[\"Case_Reported_Date\"])][\"surrogate_key\"].values[0]\n",
    "    except IndexError as e:        \n",
    "        weatherMismatch+=1\n",
    "        Weather_dimensionId = None\n",
    "\n",
    "        \n",
    "\n",
    "    fact_row = [\n",
    "    Date_dimension[Date_dimension[\"date\"]==row[\"Accurate_Episode_Date\"]][\"surrogate_key\"].values[0],\n",
    "    Date_dimension[Date_dimension[\"date\"]==row[\"Case_Reported_Date\"]][\"surrogate_key\"].values[0],\n",
    "    Date_dimension[Date_dimension[\"date\"]==row[\"Test_Reported_Date\"]][\"surrogate_key\"].values[0],\n",
    "    Date_dimension[Date_dimension[\"date\"]==row[\"Specimen_Date\"]][\"surrogate_key\"].values[0],\n",
    "    Patient_dimension[(Patient_dimension[\"Age_Group\"]==row[\"Age_Group\"])&(Patient_dimension[\"Client_Gender\"]==row[\"Client_Gender\"])&(Patient_dimension[\"Case_AcquisitionInfo\"]==row[\"Case_AcquisitionInfo\"])&(Patient_dimension[\"Outbreak_Related\"]==row[\"Outbreak_Related\"])][\"surrogate_key\"].values[0],\n",
    "    PHU_Location_dimension[PHU_Location_dimension[\"Reporting_PHU_ID\"]==row[\"Reporting_PHU_ID\"]][\"surrogate_key\"].values[0],\n",
    "\n",
    "    specialMeasureId,\n",
    "    Mobility_dimensionId,\n",
    "    Weather_dimensionId,\n",
    "        \n",
    "    Resolved,Unresolved,Fatal\n",
    "    ]\n",
    "    fact_table.loc[len(fact_table)] = fact_row\n",
    "\n",
    "   \n",
    "print(\"Finished Forming Fact Table Took %s:%s to Finish\"%(int((time.time()-start)//60),int((time.time()-start)%60)))\n",
    "print(\"Special Measure Mismatch: %s\"%specialMeasureMismatch)\n",
    "print(\"Mobility Mismatch: %s\"%mobilityMismatch)\n",
    "print(\"Weather Mismatch: %s\"%weatherMismatch)\n",
    "# print(\"Tmp : %s\"%tmp )\n",
    "print(\"Total Cases: %s\"%len(cases))\n",
    "        \n",
    "        \n",
    "        \n",
    "        \n",
    "        "
   ]
  },
  {
   "cell_type": "code",
   "execution_count": 273,
   "metadata": {},
   "outputs": [
    {
     "data": {
      "text/plain": [
       "(151566, 12)"
      ]
     },
     "execution_count": 273,
     "metadata": {},
     "output_type": "execute_result"
    }
   ],
   "source": [
    "fact_table.shape"
   ]
  },
  {
   "cell_type": "code",
   "execution_count": 274,
   "metadata": {},
   "outputs": [
    {
     "data": {
      "text/plain": [
       "Onset_date_key            0\n",
       "Reported_date_key         0\n",
       "Test_date_key             0\n",
       "Specimen_date_key         0\n",
       "Patient_key               0\n",
       "PHU_location_key          0\n",
       "Special_measure_key    3613\n",
       "Mobility_key              3\n",
       "Weather_key              68\n",
       "Resolved                  0\n",
       "Unresolved                0\n",
       "Fatal                     0\n",
       "dtype: int64"
      ]
     },
     "execution_count": 274,
     "metadata": {},
     "output_type": "execute_result"
    }
   ],
   "source": [
    "fact_table.isna().sum()"
   ]
  },
  {
   "cell_type": "code",
   "execution_count": 275,
   "metadata": {
    "scrolled": true
   },
   "outputs": [
    {
     "data": {
      "text/plain": [
       "(147904, 12)"
      ]
     },
     "execution_count": 275,
     "metadata": {},
     "output_type": "execute_result"
    }
   ],
   "source": [
    "fact_table.dropna(axis=0,how='any').shape"
   ]
  },
  {
   "cell_type": "code",
   "execution_count": 276,
   "metadata": {},
   "outputs": [],
   "source": [
    "fact_table = fact_table.dropna(axis=0,how='any')"
   ]
  },
  {
   "cell_type": "code",
   "execution_count": 277,
   "metadata": {},
   "outputs": [
    {
     "data": {
      "text/plain": [
       "Onset_date_key         0\n",
       "Reported_date_key      0\n",
       "Test_date_key          0\n",
       "Specimen_date_key      0\n",
       "Patient_key            0\n",
       "PHU_location_key       0\n",
       "Special_measure_key    0\n",
       "Mobility_key           0\n",
       "Weather_key            0\n",
       "Resolved               0\n",
       "Unresolved             0\n",
       "Fatal                  0\n",
       "dtype: int64"
      ]
     },
     "execution_count": 277,
     "metadata": {},
     "output_type": "execute_result"
    }
   ],
   "source": [
    "fact_table.isna().sum()"
   ]
  },
  {
   "cell_type": "code",
   "execution_count": 278,
   "metadata": {},
   "outputs": [
    {
     "data": {
      "text/plain": [
       "(147904, 12)"
      ]
     },
     "execution_count": 278,
     "metadata": {},
     "output_type": "execute_result"
    }
   ],
   "source": [
    "fact_table.shape"
   ]
  },
  {
   "cell_type": "code",
   "execution_count": 279,
   "metadata": {},
   "outputs": [
    {
     "data": {
      "text/plain": [
       "0         15\n",
       "57        16\n",
       "76        17\n",
       "187       13\n",
       "194       14\n",
       "8728      41\n",
       "8796      43\n",
       "8889      40\n",
       "8977      42\n",
       "15837     97\n",
       "16313     96\n",
       "16449     98\n",
       "19262     99\n",
       "62510    165\n",
       "62732    167\n",
       "62734    168\n",
       "62816    166\n",
       "62989    164\n",
       "84217     93\n",
       "84272     94\n",
       "84353     95\n",
       "91717    149\n",
       "91740    150\n",
       "92085    147\n",
       "92092    148\n",
       "Name: Special_measure_key, dtype: object"
      ]
     },
     "execution_count": 279,
     "metadata": {},
     "output_type": "execute_result"
    }
   ],
   "source": [
    "fact_table[\"Special_measure_key\"].drop_duplicates()"
   ]
  },
  {
   "cell_type": "code",
   "execution_count": 280,
   "metadata": {},
   "outputs": [
    {
     "data": {
      "text/plain": [
       "0"
      ]
     },
     "execution_count": 280,
     "metadata": {},
     "output_type": "execute_result"
    }
   ],
   "source": [
    "fact_table[\"Special_measure_key\"].isna().sum()"
   ]
  },
  {
   "cell_type": "code",
   "execution_count": 281,
   "metadata": {},
   "outputs": [
    {
     "data": {
      "text/plain": [
       "0          OTTAWA INTL A\n",
       "61    TORONTO NORTH YORK\n",
       "Name: Station Name, dtype: object"
      ]
     },
     "execution_count": 281,
     "metadata": {},
     "output_type": "execute_result"
    }
   ],
   "source": [
    "Weather_dimension[\"Station Name\"].drop_duplicates()"
   ]
  },
  {
   "cell_type": "code",
   "execution_count": 282,
   "metadata": {},
   "outputs": [
    {
     "data": {
      "text/plain": [
       "0        0\n",
       "8728     1\n",
       "15837    2\n",
       "62510    3\n",
       "84217    4\n",
       "91717    5\n",
       "Name: PHU_location_key, dtype: object"
      ]
     },
     "execution_count": 282,
     "metadata": {},
     "output_type": "execute_result"
    }
   ],
   "source": [
    "fact_table[\"PHU_location_key\"].drop_duplicates()"
   ]
  },
  {
   "cell_type": "code",
   "execution_count": 283,
   "metadata": {},
   "outputs": [
    {
     "data": {
      "text/plain": [
       "63.81770279804866"
      ]
     },
     "execution_count": 283,
     "metadata": {},
     "output_type": "execute_result"
    }
   ],
   "source": [
    "(time.time()-start)/60"
   ]
  },
  {
   "cell_type": "code",
   "execution_count": null,
   "metadata": {},
   "outputs": [],
   "source": []
  }
 ],
 "metadata": {
  "kernelspec": {
   "display_name": "Python 3",
   "language": "python",
   "name": "python3"
  },
  "language_info": {
   "codemirror_mode": {
    "name": "ipython",
    "version": 3
   },
   "file_extension": ".py",
   "mimetype": "text/x-python",
   "name": "python",
   "nbconvert_exporter": "python",
   "pygments_lexer": "ipython3",
   "version": "3.7.5"
  }
 },
 "nbformat": 4,
 "nbformat_minor": 2
}
