{
 "cells": [
  {
   "cell_type": "code",
   "execution_count": 177,
   "metadata": {},
   "outputs": [],
   "source": [
    "import pandas as pd\n",
    "import numpy as np\n",
    "import time\n",
    "import datetime\n",
    "\n",
    "dimension_path = \"../DimensionsPre/\"\n",
    "data_path = \"../Data/\""
   ]
  },
  {
   "cell_type": "code",
   "execution_count": 178,
   "metadata": {},
   "outputs": [],
   "source": [
    "Date_dimension = pd.read_csv(dimension_path+\"Date_dimension/Date_dimension.csv\")\n",
    "Mobility_dimension = pd.read_csv(dimension_path+\"Mobility_dimension/Mobility_dimension.csv\")\n",
    "Patient_dimension = pd.read_csv(dimension_path+\"Patient_dimension/Patient_dimension.csv\")\n",
    "PHU_Location_dimension = pd.read_csv(dimension_path+\"PHU_Location_dimension/PHU_Location_dimension.csv\")\n",
    "Special_Measures_dimension = pd.read_csv(dimension_path+\"Special_Measures_dimension/Special_Measures_dimension.csv\")\n",
    "Weather_dimension = pd.read_csv(dimension_path+\"Weather_dimension/Weather_dimension.csv\")"
   ]
  },
  {
   "cell_type": "code",
   "execution_count": 179,
   "metadata": {},
   "outputs": [],
   "source": [
    "cases = pd.read_csv(data_path+\"IndividualCasesInOntario.csv\")\n",
    "# cases.head()"
   ]
  },
  {
   "cell_type": "code",
   "execution_count": 180,
   "metadata": {},
   "outputs": [],
   "source": [
    "cases[\"Accurate_Episode_Date\"] = pd.to_datetime(cases[\"Accurate_Episode_Date\"]).dt.strftime('%Y-%m-%d')\n",
    "cases[\"Case_Reported_Date\"] = pd.to_datetime(cases[\"Case_Reported_Date\"]).dt.strftime('%Y-%m-%d')\n",
    "cases[\"Test_Reported_Date\"] = pd.to_datetime(cases[\"Test_Reported_Date\"]).dt.strftime('%Y-%m-%d')\n",
    "cases[\"Specimen_Date\"] = pd.to_datetime(cases[\"Specimen_Date\"]).dt.strftime('%Y-%m-%d')\n",
    "cases = cases[(cases[\"Test_Reported_Date\"] < \"2021-03-01\") & (cases[\"Test_Reported_Date\"] >= \"2020-11-01\")]\n",
    "# cases = cases[(cases[\"Reporting_PHU_City\"] == \"Toronto\") | (cases[\"Reporting_PHU_City\"] == \"Ottawa\")]\n",
    "durhanCases = cases[(cases[\"Reporting_PHU\"].map(lambda x: \"durham\" in x.lower()))   |  (cases[\"Reporting_PHU_City\"].map(lambda x: \"durham\" in x.lower()))]\n",
    "haltonCases = cases[(cases[\"Reporting_PHU\"].map(lambda x: \"halton\" in x.lower()))   |  (cases[\"Reporting_PHU_City\"].map(lambda x: \"halton\" in x.lower()))]\n",
    "peelCases = cases[(cases[\"Reporting_PHU\"].map(lambda x: \"peel\" in x.lower()))   |  (cases[\"Reporting_PHU_City\"].map(lambda x: \"peel\" in x.lower()))]\n",
    "yorkCases = cases[(cases[\"Reporting_PHU\"].map(lambda x: \"york\" in x.lower()))   |  (cases[\"Reporting_PHU_City\"].map(lambda x: \"york\" in x.lower()))]\n",
    "ottawaCases = cases[(cases[\"Reporting_PHU\"].map(lambda x: \"ottawa\" in x.lower()))   |  (cases[\"Reporting_PHU_City\"].map(lambda x: \"ottawa\" in x.lower()))]\n",
    "torontoCases = cases[(cases[\"Reporting_PHU\"].map(lambda x: \"toronto\" in x.lower()))   |  (cases[\"Reporting_PHU_City\"].map(lambda x: \"toronto\" in x.lower()))]\n",
    "frames = [durhanCases, haltonCases, peelCases, yorkCases, ottawaCases, torontoCases]\n",
    "cases = pd.concat(frames)\n",
    "cases = cases.fillna({'Outbreak_Related':'Unknown'})[:67401:100]"
   ]
  },
  {
   "cell_type": "code",
   "execution_count": 181,
   "metadata": {},
   "outputs": [
    {
     "data": {
      "text/html": [
       "<div>\n",
       "<style scoped>\n",
       "    .dataframe tbody tr th:only-of-type {\n",
       "        vertical-align: middle;\n",
       "    }\n",
       "\n",
       "    .dataframe tbody tr th {\n",
       "        vertical-align: top;\n",
       "    }\n",
       "\n",
       "    .dataframe thead th {\n",
       "        text-align: right;\n",
       "    }\n",
       "</style>\n",
       "<table border=\"1\" class=\"dataframe\">\n",
       "  <thead>\n",
       "    <tr style=\"text-align: right;\">\n",
       "      <th></th>\n",
       "      <th>Reporting_PHU</th>\n",
       "      <th>Reporting_PHU_City</th>\n",
       "    </tr>\n",
       "  </thead>\n",
       "  <tbody>\n",
       "    <tr>\n",
       "      <th>2940</th>\n",
       "      <td>Durham Region Health Department</td>\n",
       "      <td>Whitby</td>\n",
       "    </tr>\n",
       "    <tr>\n",
       "      <th>5858</th>\n",
       "      <td>Halton Region Health Department</td>\n",
       "      <td>Oakville</td>\n",
       "    </tr>\n",
       "    <tr>\n",
       "      <th>3079</th>\n",
       "      <td>Peel Public Health</td>\n",
       "      <td>Mississauga</td>\n",
       "    </tr>\n",
       "    <tr>\n",
       "      <th>3424</th>\n",
       "      <td>York Region Public Health Services</td>\n",
       "      <td>Newmarket</td>\n",
       "    </tr>\n",
       "  </tbody>\n",
       "</table>\n",
       "</div>"
      ],
      "text/plain": [
       "                           Reporting_PHU Reporting_PHU_City\n",
       "2940     Durham Region Health Department             Whitby\n",
       "5858     Halton Region Health Department           Oakville\n",
       "3079                  Peel Public Health        Mississauga\n",
       "3424  York Region Public Health Services          Newmarket"
      ]
     },
     "execution_count": 181,
     "metadata": {},
     "output_type": "execute_result"
    }
   ],
   "source": [
    "cases[[\"Reporting_PHU\",\"Reporting_PHU_City\"]].drop_duplicates()"
   ]
  },
  {
   "cell_type": "code",
   "execution_count": 182,
   "metadata": {},
   "outputs": [],
   "source": [
    "reportingPHU2SubRegion2={\n",
    "    \"Durham Region Health Department\":\"Regional Municipality of Durham\",\n",
    "    \"Halton Region Health Department\":\"Regional Municipality of Halton\",\n",
    "    \"Peel Public Health\":\"Regional Municipality of Peel\",\n",
    "    \"York Region Public Health Services\":\"Regional Municipality of York\",\n",
    "    \"Ottawa Public Health\":\"Ottawa Division\",\n",
    "    \"Toronto Public Health\":\"Toronto Division\"\n",
    "}"
   ]
  },
  {
   "cell_type": "code",
   "execution_count": null,
   "metadata": {},
   "outputs": [],
   "source": []
  },
  {
   "cell_type": "code",
   "execution_count": 183,
   "metadata": {},
   "outputs": [],
   "source": [
    "fact_table =  pd.DataFrame(columns=['Onset_date_key','Reported_date_key','Test_date_key', 'Specimen_date_key', 'Patient_key', \"PHU_location_key\",\"Special_measure_key\",\"Mobility_key\",\"Weather_key\",\"Resolved\",\"Unresolved\",\"Fatal\"])"
   ]
  },
  {
   "cell_type": "code",
   "execution_count": 184,
   "metadata": {},
   "outputs": [
    {
     "data": {
      "text/html": [
       "<div>\n",
       "<style scoped>\n",
       "    .dataframe tbody tr th:only-of-type {\n",
       "        vertical-align: middle;\n",
       "    }\n",
       "\n",
       "    .dataframe tbody tr th {\n",
       "        vertical-align: top;\n",
       "    }\n",
       "\n",
       "    .dataframe thead th {\n",
       "        text-align: right;\n",
       "    }\n",
       "</style>\n",
       "<table border=\"1\" class=\"dataframe\">\n",
       "  <thead>\n",
       "    <tr style=\"text-align: right;\">\n",
       "      <th></th>\n",
       "      <th>Onset_date_key</th>\n",
       "      <th>Reported_date_key</th>\n",
       "      <th>Test_date_key</th>\n",
       "      <th>Specimen_date_key</th>\n",
       "      <th>Patient_key</th>\n",
       "      <th>PHU_location_key</th>\n",
       "      <th>Special_measure_key</th>\n",
       "      <th>Mobility_key</th>\n",
       "      <th>Weather_key</th>\n",
       "      <th>Resolved</th>\n",
       "      <th>Unresolved</th>\n",
       "      <th>Fatal</th>\n",
       "    </tr>\n",
       "  </thead>\n",
       "  <tbody>\n",
       "  </tbody>\n",
       "</table>\n",
       "</div>"
      ],
      "text/plain": [
       "Empty DataFrame\n",
       "Columns: [Onset_date_key, Reported_date_key, Test_date_key, Specimen_date_key, Patient_key, PHU_location_key, Special_measure_key, Mobility_key, Weather_key, Resolved, Unresolved, Fatal]\n",
       "Index: []"
      ]
     },
     "execution_count": 184,
     "metadata": {},
     "output_type": "execute_result"
    }
   ],
   "source": [
    "fact_table.head()"
   ]
  },
  {
   "cell_type": "code",
   "execution_count": 186,
   "metadata": {},
   "outputs": [
    {
     "name": "stdout",
     "output_type": "stream",
     "text": [
      "Finished Forming Fact Table Took 0:6 to Finish\n",
      "Special Measure Mismatch: 5\n",
      "Mobility Mismatch: 0\n",
      "Weather Mismatch: 675\n",
      "Total Cases: 675\n"
     ]
    }
   ],
   "source": [
    "#TO REMOVED:df.dropna(axis=0,how='any')\n",
    "start = time.time()\n",
    "cases = cases.dropna(axis=0,how='any')\n",
    "# cases = cases.head()\n",
    "rows = 0\n",
    "Resolved,Unresolved,Fatal = 0,0,0\n",
    "specialMeasureMismatch, mobilityMismatch, weatherMismatch = 0,0,0\n",
    "\n",
    "\n",
    "for idx, row in cases.iterrows():\n",
    "    rows += 1\n",
    "    \n",
    "    #not considering 2021 data\n",
    "#     if (row[\"Case_Reported_Date\"][:4]!=\"2020\"):\n",
    "#         continue\n",
    "    \n",
    "    if (rows%100 == 0):\n",
    "        percentage = str(round((rows/len(cases))*100, 2)  )\n",
    "        remaining = (time.time()-start)*((len(cases)-rows)/rows)\n",
    "        print(\"%s/%s - %s%%  --about %s:%s left\"%(str(rows),str(len(cases)),percentage,str(int(remaining//60)),str(int(remaining%60))),end = \"\\r\")\n",
    "    \n",
    "    if (row[\"Outcome1\"] == \"Resolved\"):\n",
    "        Resolved+=1\n",
    "    elif (row[\"Outcome1\"] == \"Not Resolved\"):\n",
    "        Unresolved+=1\n",
    "    else:\n",
    "        Fatal+=1\n",
    "\n",
    "        \n",
    "    # Special Measure\n",
    "    try:\n",
    "        specialMeasureId = Special_Measures_dimension[(Special_Measures_dimension[\"Reporting_PHU_id\"]==row[\"Reporting_PHU_ID\"])&(Special_Measures_dimension[\"Start-date\"]<=row[\"Case_Reported_Date\"])&(Special_Measures_dimension[\"End-date\"]>=row[\"Case_Reported_Date\"])][\"surrogate_key\"].values[0]\n",
    "    except IndexError as e:        \n",
    "        specialMeasureMismatch+=1\n",
    "        specialMeasureId = None\n",
    "        \n",
    "    # Mobility\n",
    "    try:\n",
    "        Mobility_dimensionId = Mobility_dimension[(Mobility_dimension[\"sub_region_2\"] == reportingPHU2SubRegion2[row[\"Reporting_PHU\"]])&(Mobility_dimension[\"date\"]==row[\"Case_Reported_Date\"])][\"surrogate_key\"].values[0]\n",
    "    except IndexError as e:        \n",
    "        mobilityMismatch+=1\n",
    "        Mobility_dimensionId = None\n",
    "        \n",
    "    # Weather\n",
    "    try:\n",
    "        Weather_dimensionId = Weather_dimension[(Weather_dimension[\"Station Name\"]==row[\"Reporting_PHU_City\"])&(Weather_dimension[\"Date/Time\"]==row[\"Case_Reported_Date\"])][\"surrogate_key\"].values[0]\n",
    "    except IndexError as e:        \n",
    "        weatherMismatch+=1\n",
    "        Weather_dimensionId = None\n",
    "        \n",
    "\n",
    "    fact_row = [\n",
    "    Date_dimension[Date_dimension[\"date\"]==row[\"Accurate_Episode_Date\"]][\"surrogate_key\"].values[0],\n",
    "    Date_dimension[Date_dimension[\"date\"]==row[\"Case_Reported_Date\"]][\"surrogate_key\"].values[0],\n",
    "    Date_dimension[Date_dimension[\"date\"]==row[\"Test_Reported_Date\"]][\"surrogate_key\"].values[0],\n",
    "    Date_dimension[Date_dimension[\"date\"]==row[\"Specimen_Date\"]][\"surrogate_key\"].values[0],\n",
    "    Patient_dimension[(Patient_dimension[\"Age_Group\"]==row[\"Age_Group\"])&(Patient_dimension[\"Client_Gender\"]==row[\"Client_Gender\"])&(Patient_dimension[\"Case_AcquisitionInfo\"]==row[\"Case_AcquisitionInfo\"])&(Patient_dimension[\"Outbreak_Related\"]==row[\"Outbreak_Related\"])][\"surrogate_key\"].values[0],\n",
    "    PHU_Location_dimension[PHU_Location_dimension[\"Reporting_PHU_ID\"]==row[\"Reporting_PHU_ID\"]][\"surrogate_key\"].values[0],\n",
    "\n",
    "    specialMeasureId,\n",
    "    Mobility_dimensionId,\n",
    "    Weather_dimensionId,\n",
    "        \n",
    "        \n",
    "    Resolved,Unresolved,Fatal\n",
    "    ]\n",
    "    fact_table.loc[len(fact_table)] = fact_row\n",
    "\n",
    "   \n",
    "print(\"Finished Forming Fact Table Took %s:%s to Finish\"%(int((time.time()-start)//60),int((time.time()-start)%60)))\n",
    "print(\"Special Measure Mismatch: %s\"%specialMeasureMismatch)\n",
    "print(\"Mobility Mismatch: %s\"%mobilityMismatch)\n",
    "print(\"Weather Mismatch: %s\"%weatherMismatch)\n",
    "print(\"Total Cases: %s\"%len(cases))\n",
    "        \n",
    "        \n",
    "        \n",
    "        \n",
    "        "
   ]
  },
  {
   "cell_type": "code",
   "execution_count": null,
   "metadata": {},
   "outputs": [],
   "source": [
    "# fact_table.to_csv(\"Covid-19_Tracking_Fact_Table.csv\",index=False)\n",
    "fact_table"
   ]
  },
  {
   "cell_type": "code",
   "execution_count": null,
   "metadata": {},
   "outputs": [],
   "source": [
    "fact_table[2990:2991]"
   ]
  },
  {
   "cell_type": "code",
   "execution_count": null,
   "metadata": {},
   "outputs": [],
   "source": [
    "Date_dimension[Date_dimension[\"surrogate_key\"]==356][\"date\"]"
   ]
  },
  {
   "cell_type": "code",
   "execution_count": null,
   "metadata": {},
   "outputs": [],
   "source": [
    "Special_Measures_dimension[Special_Measures_dimension[\"surrogate_key\"]==149]"
   ]
  },
  {
   "cell_type": "code",
   "execution_count": null,
   "metadata": {},
   "outputs": [],
   "source": [
    "PHU_Location_dimension[PHU_Location_dimension[\"surrogate_key\"]==0]"
   ]
  },
  {
   "cell_type": "code",
   "execution_count": null,
   "metadata": {
    "scrolled": true
   },
   "outputs": [],
   "source": [
    "fact_table.head()"
   ]
  },
  {
   "cell_type": "code",
   "execution_count": null,
   "metadata": {},
   "outputs": [],
   "source": [
    "fact_table[2:3]"
   ]
  },
  {
   "cell_type": "code",
   "execution_count": 187,
   "metadata": {},
   "outputs": [
    {
     "data": {
      "text/plain": [
       "0       15.0\n",
       "1       17.0\n",
       "2       13.0\n",
       "3       16.0\n",
       "14      14.0\n",
       "50       NaN\n",
       "88      43.0\n",
       "89      40.0\n",
       "90      41.0\n",
       "95      42.0\n",
       "159     97.0\n",
       "165     98.0\n",
       "171     96.0\n",
       "362     99.0\n",
       "626    165.0\n",
       "628    168.0\n",
       "629    166.0\n",
       "630    164.0\n",
       "635    167.0\n",
       "Name: Special_measure_key, dtype: float64"
      ]
     },
     "execution_count": 187,
     "metadata": {},
     "output_type": "execute_result"
    }
   ],
   "source": [
    "fact_table[\"Special_measure_key\"].drop_duplicates()"
   ]
  },
  {
   "cell_type": "code",
   "execution_count": null,
   "metadata": {},
   "outputs": [],
   "source": [
    "fact_table[166:167]"
   ]
  },
  {
   "cell_type": "code",
   "execution_count": null,
   "metadata": {},
   "outputs": [],
   "source": [
    "fact_table[\"PHU_location_key\"].drop_duplicates()"
   ]
  }
 ],
 "metadata": {
  "kernelspec": {
   "display_name": "Python 3",
   "language": "python",
   "name": "python3"
  },
  "language_info": {
   "codemirror_mode": {
    "name": "ipython",
    "version": 3
   },
   "file_extension": ".py",
   "mimetype": "text/x-python",
   "name": "python",
   "nbconvert_exporter": "python",
   "pygments_lexer": "ipython3",
   "version": "3.7.5"
  }
 },
 "nbformat": 4,
 "nbformat_minor": 2
}
