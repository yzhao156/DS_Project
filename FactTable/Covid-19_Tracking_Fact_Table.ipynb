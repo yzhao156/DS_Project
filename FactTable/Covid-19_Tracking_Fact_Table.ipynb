{
 "cells": [
  {
   "cell_type": "code",
   "execution_count": 316,
   "metadata": {},
   "outputs": [],
   "source": [
    "import pandas as pd\n",
    "import numpy as np\n",
    "dimension_path = \"../DimensionsPre/\"\n",
    "data_path = \"../Data/\""
   ]
  },
  {
   "cell_type": "code",
   "execution_count": 317,
   "metadata": {},
   "outputs": [],
   "source": [
    "Date_dimension = pd.read_csv(dimension_path+\"Date_dimension/Date_dimension.csv\")\n",
    "Mobility_dimension = pd.read_csv(dimension_path+\"Mobility_dimension/Mobility_dimension.csv\")\n",
    "Patient_dimension = pd.read_csv(dimension_path+\"Patient_dimension/Patient_dimension.csv\")\n",
    "PHU_Location_dimension = pd.read_csv(dimension_path+\"PHU_Location_dimension/PHU_Location_dimension.csv\")\n",
    "Special_Measures_dimension = pd.read_csv(dimension_path+\"Special_Measures_dimension/Special_Measures_dimension.csv\")\n",
    "Weather_dimension = pd.read_csv(dimension_path+\"Weather_dimension/Weather_dimension.csv\")"
   ]
  },
  {
   "cell_type": "code",
   "execution_count": 318,
   "metadata": {
    "scrolled": true
   },
   "outputs": [
    {
     "data": {
      "text/html": [
       "<div>\n",
       "<style scoped>\n",
       "    .dataframe tbody tr th:only-of-type {\n",
       "        vertical-align: middle;\n",
       "    }\n",
       "\n",
       "    .dataframe tbody tr th {\n",
       "        vertical-align: top;\n",
       "    }\n",
       "\n",
       "    .dataframe thead th {\n",
       "        text-align: right;\n",
       "    }\n",
       "</style>\n",
       "<table border=\"1\" class=\"dataframe\">\n",
       "  <thead>\n",
       "    <tr style=\"text-align: right;\">\n",
       "      <th></th>\n",
       "      <th>_id</th>\n",
       "      <th>Row_ID</th>\n",
       "      <th>Accurate_Episode_Date</th>\n",
       "      <th>Case_Reported_Date</th>\n",
       "      <th>Test_Reported_Date</th>\n",
       "      <th>Specimen_Date</th>\n",
       "      <th>Age_Group</th>\n",
       "      <th>Client_Gender</th>\n",
       "      <th>Case_AcquisitionInfo</th>\n",
       "      <th>Outcome1</th>\n",
       "      <th>Outbreak_Related</th>\n",
       "      <th>Reporting_PHU_ID</th>\n",
       "      <th>Reporting_PHU</th>\n",
       "      <th>Reporting_PHU_Address</th>\n",
       "      <th>Reporting_PHU_City</th>\n",
       "      <th>Reporting_PHU_Postal_Code</th>\n",
       "      <th>Reporting_PHU_Website</th>\n",
       "      <th>Reporting_PHU_Latitude</th>\n",
       "      <th>Reporting_PHU_Longitude</th>\n",
       "    </tr>\n",
       "  </thead>\n",
       "  <tbody>\n",
       "    <tr>\n",
       "      <th>0</th>\n",
       "      <td>1</td>\n",
       "      <td>1</td>\n",
       "      <td>2020-06-04T00:00:00</td>\n",
       "      <td>2020-06-06T00:00:00</td>\n",
       "      <td>2020-06-06T00:00:00</td>\n",
       "      <td>2020-06-04T00:00:00</td>\n",
       "      <td>50s</td>\n",
       "      <td>FEMALE</td>\n",
       "      <td>CC</td>\n",
       "      <td>Resolved</td>\n",
       "      <td>NaN</td>\n",
       "      <td>2253</td>\n",
       "      <td>Peel Public Health</td>\n",
       "      <td>7120 Hurontario Street</td>\n",
       "      <td>Mississauga</td>\n",
       "      <td>L5W 1N4</td>\n",
       "      <td>www.peelregion.ca/health/</td>\n",
       "      <td>43.647471</td>\n",
       "      <td>-79.708893</td>\n",
       "    </tr>\n",
       "    <tr>\n",
       "      <th>1</th>\n",
       "      <td>2</td>\n",
       "      <td>2</td>\n",
       "      <td>2020-06-01T00:00:00</td>\n",
       "      <td>2020-06-03T00:00:00</td>\n",
       "      <td>2020-06-03T00:00:00</td>\n",
       "      <td>2020-06-02T00:00:00</td>\n",
       "      <td>30s</td>\n",
       "      <td>MALE</td>\n",
       "      <td>CC</td>\n",
       "      <td>Resolved</td>\n",
       "      <td>NaN</td>\n",
       "      <td>2253</td>\n",
       "      <td>Peel Public Health</td>\n",
       "      <td>7120 Hurontario Street</td>\n",
       "      <td>Mississauga</td>\n",
       "      <td>L5W 1N4</td>\n",
       "      <td>www.peelregion.ca/health/</td>\n",
       "      <td>43.647471</td>\n",
       "      <td>-79.708893</td>\n",
       "    </tr>\n",
       "    <tr>\n",
       "      <th>2</th>\n",
       "      <td>3</td>\n",
       "      <td>3</td>\n",
       "      <td>2020-05-30T00:00:00</td>\n",
       "      <td>2020-06-02T00:00:00</td>\n",
       "      <td>2020-06-02T00:00:00</td>\n",
       "      <td>2020-05-30T00:00:00</td>\n",
       "      <td>20s</td>\n",
       "      <td>MALE</td>\n",
       "      <td>CC</td>\n",
       "      <td>Resolved</td>\n",
       "      <td>NaN</td>\n",
       "      <td>2253</td>\n",
       "      <td>Peel Public Health</td>\n",
       "      <td>7120 Hurontario Street</td>\n",
       "      <td>Mississauga</td>\n",
       "      <td>L5W 1N4</td>\n",
       "      <td>www.peelregion.ca/health/</td>\n",
       "      <td>43.647471</td>\n",
       "      <td>-79.708893</td>\n",
       "    </tr>\n",
       "    <tr>\n",
       "      <th>3</th>\n",
       "      <td>4</td>\n",
       "      <td>4</td>\n",
       "      <td>2020-04-15T00:00:00</td>\n",
       "      <td>2020-04-17T00:00:00</td>\n",
       "      <td>2020-04-17T00:00:00</td>\n",
       "      <td>2020-04-16T00:00:00</td>\n",
       "      <td>80s</td>\n",
       "      <td>FEMALE</td>\n",
       "      <td>OB</td>\n",
       "      <td>Resolved</td>\n",
       "      <td>Yes</td>\n",
       "      <td>2253</td>\n",
       "      <td>Peel Public Health</td>\n",
       "      <td>7120 Hurontario Street</td>\n",
       "      <td>Mississauga</td>\n",
       "      <td>L5W 1N4</td>\n",
       "      <td>www.peelregion.ca/health/</td>\n",
       "      <td>43.647471</td>\n",
       "      <td>-79.708893</td>\n",
       "    </tr>\n",
       "    <tr>\n",
       "      <th>4</th>\n",
       "      <td>5</td>\n",
       "      <td>5</td>\n",
       "      <td>2020-04-18T00:00:00</td>\n",
       "      <td>2020-04-21T00:00:00</td>\n",
       "      <td>2020-04-21T00:00:00</td>\n",
       "      <td>2020-04-18T00:00:00</td>\n",
       "      <td>20s</td>\n",
       "      <td>MALE</td>\n",
       "      <td>OB</td>\n",
       "      <td>Resolved</td>\n",
       "      <td>Yes</td>\n",
       "      <td>2253</td>\n",
       "      <td>Peel Public Health</td>\n",
       "      <td>7120 Hurontario Street</td>\n",
       "      <td>Mississauga</td>\n",
       "      <td>L5W 1N4</td>\n",
       "      <td>www.peelregion.ca/health/</td>\n",
       "      <td>43.647471</td>\n",
       "      <td>-79.708893</td>\n",
       "    </tr>\n",
       "  </tbody>\n",
       "</table>\n",
       "</div>"
      ],
      "text/plain": [
       "   _id  Row_ID Accurate_Episode_Date   Case_Reported_Date  \\\n",
       "0    1       1   2020-06-04T00:00:00  2020-06-06T00:00:00   \n",
       "1    2       2   2020-06-01T00:00:00  2020-06-03T00:00:00   \n",
       "2    3       3   2020-05-30T00:00:00  2020-06-02T00:00:00   \n",
       "3    4       4   2020-04-15T00:00:00  2020-04-17T00:00:00   \n",
       "4    5       5   2020-04-18T00:00:00  2020-04-21T00:00:00   \n",
       "\n",
       "    Test_Reported_Date        Specimen_Date Age_Group Client_Gender  \\\n",
       "0  2020-06-06T00:00:00  2020-06-04T00:00:00       50s        FEMALE   \n",
       "1  2020-06-03T00:00:00  2020-06-02T00:00:00       30s          MALE   \n",
       "2  2020-06-02T00:00:00  2020-05-30T00:00:00       20s          MALE   \n",
       "3  2020-04-17T00:00:00  2020-04-16T00:00:00       80s        FEMALE   \n",
       "4  2020-04-21T00:00:00  2020-04-18T00:00:00       20s          MALE   \n",
       "\n",
       "  Case_AcquisitionInfo  Outcome1 Outbreak_Related  Reporting_PHU_ID  \\\n",
       "0                   CC  Resolved              NaN              2253   \n",
       "1                   CC  Resolved              NaN              2253   \n",
       "2                   CC  Resolved              NaN              2253   \n",
       "3                   OB  Resolved              Yes              2253   \n",
       "4                   OB  Resolved              Yes              2253   \n",
       "\n",
       "        Reporting_PHU   Reporting_PHU_Address Reporting_PHU_City  \\\n",
       "0  Peel Public Health  7120 Hurontario Street        Mississauga   \n",
       "1  Peel Public Health  7120 Hurontario Street        Mississauga   \n",
       "2  Peel Public Health  7120 Hurontario Street        Mississauga   \n",
       "3  Peel Public Health  7120 Hurontario Street        Mississauga   \n",
       "4  Peel Public Health  7120 Hurontario Street        Mississauga   \n",
       "\n",
       "  Reporting_PHU_Postal_Code      Reporting_PHU_Website  \\\n",
       "0                   L5W 1N4  www.peelregion.ca/health/   \n",
       "1                   L5W 1N4  www.peelregion.ca/health/   \n",
       "2                   L5W 1N4  www.peelregion.ca/health/   \n",
       "3                   L5W 1N4  www.peelregion.ca/health/   \n",
       "4                   L5W 1N4  www.peelregion.ca/health/   \n",
       "\n",
       "   Reporting_PHU_Latitude  Reporting_PHU_Longitude  \n",
       "0               43.647471               -79.708893  \n",
       "1               43.647471               -79.708893  \n",
       "2               43.647471               -79.708893  \n",
       "3               43.647471               -79.708893  \n",
       "4               43.647471               -79.708893  "
      ]
     },
     "execution_count": 318,
     "metadata": {},
     "output_type": "execute_result"
    }
   ],
   "source": [
    "cases = pd.read_csv(data_path+\"IndividualCasesInOntario.csv\")\n",
    "cases.head()"
   ]
  },
  {
   "cell_type": "code",
   "execution_count": 319,
   "metadata": {},
   "outputs": [],
   "source": [
    "toronto = cases[cases[\"Reporting_PHU_City\"]==\"Toronto\"]"
   ]
  },
  {
   "cell_type": "code",
   "execution_count": 320,
   "metadata": {},
   "outputs": [],
   "source": [
    "ottawa = cases[cases[\"Reporting_PHU_City\"]==\"Ottawa\"]"
   ]
  },
  {
   "cell_type": "code",
   "execution_count": 321,
   "metadata": {},
   "outputs": [],
   "source": [
    "frames = [toronto, ottawa]\n",
    "cases = pd.concat(frames)"
   ]
  },
  {
   "cell_type": "code",
   "execution_count": 322,
   "metadata": {},
   "outputs": [],
   "source": [
    "cases[\"Accurate_Episode_Date\"] = pd.to_datetime(cases[\"Accurate_Episode_Date\"]).dt.strftime('%Y-%m-%d')\n",
    "cases[\"Case_Reported_Date\"] = pd.to_datetime(cases[\"Case_Reported_Date\"]).dt.strftime('%Y-%m-%d')\n",
    "cases[\"Test_Reported_Date\"] = pd.to_datetime(cases[\"Test_Reported_Date\"]).dt.strftime('%Y-%m-%d')\n",
    "cases[\"Specimen_Date\"] = pd.to_datetime(cases[\"Specimen_Date\"]).dt.strftime('%Y-%m-%d')\n",
    "\n",
    "cases = cases.fillna({'Outbreak_Related':'Unknown'})[:1000]"
   ]
  },
  {
   "cell_type": "code",
   "execution_count": 323,
   "metadata": {},
   "outputs": [
    {
     "data": {
      "text/plain": [
       "0"
      ]
     },
     "execution_count": 323,
     "metadata": {},
     "output_type": "execute_result"
    }
   ],
   "source": [
    "cases[\"Reporting_PHU_City\"].isna().sum()"
   ]
  },
  {
   "cell_type": "code",
   "execution_count": 324,
   "metadata": {},
   "outputs": [],
   "source": [
    "# fact_table =  pd.DataFrame(columns=['Onset_date_key','Reported_date_key','Test_date_key', 'Specimen_date_key', 'Patient_key',\"PHU_location_key\",\"Mobility_key\",\"Special_measure_key\",\"Weather_key\",\"Resolved\",\"Unresolved\",\"Fatal\"])\n",
    "# fact_table =  pd.DataFrame(columns=['Onset_date_key','Reported_date_key','Test_date_key', 'Specimen_date_key', 'Patient_key'])\n",
    "fact_table =  pd.DataFrame(columns=['Onset_date_key','Reported_date_key','Test_date_key', 'Specimen_date_key', 'Patient_key', \"PHU_location_key\",\"Mobility_key\",\"Resolved\",\"Unresolved\",\"Fatal\"])\n",
    "# fact_table =  pd.DataFrame(columns=['Onset_date_key']\n"
   ]
  },
  {
   "cell_type": "code",
   "execution_count": 325,
   "metadata": {},
   "outputs": [
    {
     "data": {
      "text/html": [
       "<div>\n",
       "<style scoped>\n",
       "    .dataframe tbody tr th:only-of-type {\n",
       "        vertical-align: middle;\n",
       "    }\n",
       "\n",
       "    .dataframe tbody tr th {\n",
       "        vertical-align: top;\n",
       "    }\n",
       "\n",
       "    .dataframe thead th {\n",
       "        text-align: right;\n",
       "    }\n",
       "</style>\n",
       "<table border=\"1\" class=\"dataframe\">\n",
       "  <thead>\n",
       "    <tr style=\"text-align: right;\">\n",
       "      <th></th>\n",
       "      <th>Onset_date_key</th>\n",
       "      <th>Reported_date_key</th>\n",
       "      <th>Test_date_key</th>\n",
       "      <th>Specimen_date_key</th>\n",
       "      <th>Patient_key</th>\n",
       "      <th>PHU_location_key</th>\n",
       "      <th>Mobility_key</th>\n",
       "      <th>Resolved</th>\n",
       "      <th>Unresolved</th>\n",
       "      <th>Fatal</th>\n",
       "    </tr>\n",
       "  </thead>\n",
       "  <tbody>\n",
       "  </tbody>\n",
       "</table>\n",
       "</div>"
      ],
      "text/plain": [
       "Empty DataFrame\n",
       "Columns: [Onset_date_key, Reported_date_key, Test_date_key, Specimen_date_key, Patient_key, PHU_location_key, Mobility_key, Resolved, Unresolved, Fatal]\n",
       "Index: []"
      ]
     },
     "execution_count": 325,
     "metadata": {},
     "output_type": "execute_result"
    }
   ],
   "source": [
    "fact_table.head()"
   ]
  },
  {
   "cell_type": "code",
   "execution_count": 326,
   "metadata": {},
   "outputs": [
    {
     "name": "stdout",
     "output_type": "stream",
     "text": [
      "772/772 - 100.0% \r"
     ]
    }
   ],
   "source": [
    "#TO REMOVED:df.dropna(axis=0,how='any')\n",
    "cases = cases.dropna(axis=0,how='any')\n",
    "# cases = cases.head()\n",
    "rows = 0\n",
    "Resolved,Unresolved,Fatal = 0,0,0\n",
    "\n",
    "\n",
    "\n",
    "\n",
    "for idx, row in cases.iterrows():\n",
    "    rows += 1\n",
    "    percentage = str(round((rows/len(cases))*100, 2)  )\n",
    "    print(\"%s/%s - %s%% \"%(str(rows),str(len(cases)),percentage),end = \"\\r\")\n",
    "    \n",
    "    if (row[\"Outcome1\"] == \"Resolved\"):\n",
    "        Resolved+=1\n",
    "    elif (row[\"Outcome1\"] == \"Not Resolved\"):\n",
    "        Unresolved+=1\n",
    "    else:\n",
    "        Fatal+=1\n",
    "    \n",
    "    fact_row = [\n",
    "        Date_dimension[Date_dimension[\"date\"]==row[\"Accurate_Episode_Date\"]][\"surrogate_key\"].values[0],\n",
    "        Date_dimension[Date_dimension[\"date\"]==row[\"Case_Reported_Date\"]][\"surrogate_key\"].values[0],\n",
    "        Date_dimension[Date_dimension[\"date\"]==row[\"Test_Reported_Date\"]][\"surrogate_key\"].values[0],\n",
    "        Date_dimension[Date_dimension[\"date\"]==row[\"Specimen_Date\"]][\"surrogate_key\"].values[0],\n",
    "        Patient_dimension[(Patient_dimension[\"Age_Group\"]==row[\"Age_Group\"])&(Patient_dimension[\"Client_Gender\"]==row[\"Client_Gender\"])&(Patient_dimension[\"Case_AcquisitionInfo\"]==row[\"Case_AcquisitionInfo\"])&(Patient_dimension[\"Outbreak_Related\"]==row[\"Outbreak_Related\"])][\"surrogate_key\"].values[0],\n",
    "        PHU_Location_dimension[PHU_Location_dimension[\"Reporting_PHU_ID\"]==row[\"Reporting_PHU_ID\"]][\"surrogate_key\"].values[0],\n",
    "        Mobility_dimension[(Mobility_dimension[\"sub_region_2\"]==row[\"Reporting_PHU_City\"])&(Mobility_dimension[\"date\"]==row[\"Case_Reported_Date\"])][\"surrogate_key\"].values[0], #TODO Case_Reported_Date???\n",
    "        Resolved,Unresolved,Fatal\n",
    "\n",
    "               \n",
    "        ]\n",
    "    fact_table.loc[len(fact_table)] = fact_row\n",
    "    \n",
    "        \n",
    "        \n",
    "        \n",
    "        \n",
    "        \n",
    "        "
   ]
  },
  {
   "cell_type": "code",
   "execution_count": 327,
   "metadata": {},
   "outputs": [
    {
     "data": {
      "text/plain": [
       "2950     2020-11-27\n",
       "3435     2021-02-03\n",
       "3612     2020-11-25\n",
       "3770     2020-11-26\n",
       "5581     2021-02-20\n",
       "            ...    \n",
       "10274    2020-09-25\n",
       "11823    2021-01-01\n",
       "11888    2021-01-05\n",
       "11891    2021-01-30\n",
       "12274    2020-04-07\n",
       "Name: Test_Reported_Date, Length: 175, dtype: object"
      ]
     },
     "execution_count": 327,
     "metadata": {},
     "output_type": "execute_result"
    }
   ],
   "source": [
    "cases[\"Test_Reported_Date\"].drop_duplicates()"
   ]
  },
  {
   "cell_type": "code",
   "execution_count": 328,
   "metadata": {},
   "outputs": [
    {
     "data": {
      "text/plain": [
       "772"
      ]
     },
     "execution_count": 328,
     "metadata": {},
     "output_type": "execute_result"
    }
   ],
   "source": [
    "len(cases)"
   ]
  },
  {
   "cell_type": "code",
   "execution_count": 329,
   "metadata": {},
   "outputs": [
    {
     "data": {
      "text/plain": [
       "(772, 10)"
      ]
     },
     "execution_count": 329,
     "metadata": {},
     "output_type": "execute_result"
    }
   ],
   "source": [
    "fact_table.shape"
   ]
  },
  {
   "cell_type": "code",
   "execution_count": 330,
   "metadata": {},
   "outputs": [
    {
     "data": {
      "text/html": [
       "<div>\n",
       "<style scoped>\n",
       "    .dataframe tbody tr th:only-of-type {\n",
       "        vertical-align: middle;\n",
       "    }\n",
       "\n",
       "    .dataframe tbody tr th {\n",
       "        vertical-align: top;\n",
       "    }\n",
       "\n",
       "    .dataframe thead th {\n",
       "        text-align: right;\n",
       "    }\n",
       "</style>\n",
       "<table border=\"1\" class=\"dataframe\">\n",
       "  <thead>\n",
       "    <tr style=\"text-align: right;\">\n",
       "      <th></th>\n",
       "      <th>Onset_date_key</th>\n",
       "      <th>Reported_date_key</th>\n",
       "      <th>Test_date_key</th>\n",
       "      <th>Specimen_date_key</th>\n",
       "      <th>Patient_key</th>\n",
       "      <th>PHU_location_key</th>\n",
       "      <th>Mobility_key</th>\n",
       "      <th>Resolved</th>\n",
       "      <th>Unresolved</th>\n",
       "      <th>Fatal</th>\n",
       "    </tr>\n",
       "  </thead>\n",
       "  <tbody>\n",
       "    <tr>\n",
       "      <th>0</th>\n",
       "      <td>327</td>\n",
       "      <td>331</td>\n",
       "      <td>331</td>\n",
       "      <td>327</td>\n",
       "      <td>61</td>\n",
       "      <td>24</td>\n",
       "      <td>286</td>\n",
       "      <td>1</td>\n",
       "      <td>0</td>\n",
       "      <td>0</td>\n",
       "    </tr>\n",
       "    <tr>\n",
       "      <th>1</th>\n",
       "      <td>327</td>\n",
       "      <td>331</td>\n",
       "      <td>331</td>\n",
       "      <td>327</td>\n",
       "      <td>11</td>\n",
       "      <td>24</td>\n",
       "      <td>286</td>\n",
       "      <td>2</td>\n",
       "      <td>0</td>\n",
       "      <td>0</td>\n",
       "    </tr>\n",
       "    <tr>\n",
       "      <th>2</th>\n",
       "      <td>331</td>\n",
       "      <td>331</td>\n",
       "      <td>399</td>\n",
       "      <td>329</td>\n",
       "      <td>49</td>\n",
       "      <td>24</td>\n",
       "      <td>286</td>\n",
       "      <td>3</td>\n",
       "      <td>0</td>\n",
       "      <td>0</td>\n",
       "    </tr>\n",
       "    <tr>\n",
       "      <th>3</th>\n",
       "      <td>328</td>\n",
       "      <td>331</td>\n",
       "      <td>329</td>\n",
       "      <td>328</td>\n",
       "      <td>145</td>\n",
       "      <td>24</td>\n",
       "      <td>286</td>\n",
       "      <td>4</td>\n",
       "      <td>0</td>\n",
       "      <td>0</td>\n",
       "    </tr>\n",
       "    <tr>\n",
       "      <th>4</th>\n",
       "      <td>329</td>\n",
       "      <td>330</td>\n",
       "      <td>330</td>\n",
       "      <td>329</td>\n",
       "      <td>10</td>\n",
       "      <td>24</td>\n",
       "      <td>285</td>\n",
       "      <td>5</td>\n",
       "      <td>0</td>\n",
       "      <td>0</td>\n",
       "    </tr>\n",
       "    <tr>\n",
       "      <th>...</th>\n",
       "      <td>...</td>\n",
       "      <td>...</td>\n",
       "      <td>...</td>\n",
       "      <td>...</td>\n",
       "      <td>...</td>\n",
       "      <td>...</td>\n",
       "      <td>...</td>\n",
       "      <td>...</td>\n",
       "      <td>...</td>\n",
       "      <td>...</td>\n",
       "    </tr>\n",
       "    <tr>\n",
       "      <th>767</th>\n",
       "      <td>370</td>\n",
       "      <td>370</td>\n",
       "      <td>395</td>\n",
       "      <td>369</td>\n",
       "      <td>42</td>\n",
       "      <td>24</td>\n",
       "      <td>325</td>\n",
       "      <td>634</td>\n",
       "      <td>121</td>\n",
       "      <td>13</td>\n",
       "    </tr>\n",
       "    <tr>\n",
       "      <th>768</th>\n",
       "      <td>363</td>\n",
       "      <td>370</td>\n",
       "      <td>364</td>\n",
       "      <td>363</td>\n",
       "      <td>79</td>\n",
       "      <td>24</td>\n",
       "      <td>325</td>\n",
       "      <td>635</td>\n",
       "      <td>121</td>\n",
       "      <td>13</td>\n",
       "    </tr>\n",
       "    <tr>\n",
       "      <th>769</th>\n",
       "      <td>96</td>\n",
       "      <td>97</td>\n",
       "      <td>97</td>\n",
       "      <td>96</td>\n",
       "      <td>40</td>\n",
       "      <td>24</td>\n",
       "      <td>52</td>\n",
       "      <td>636</td>\n",
       "      <td>121</td>\n",
       "      <td>13</td>\n",
       "    </tr>\n",
       "    <tr>\n",
       "      <th>770</th>\n",
       "      <td>94</td>\n",
       "      <td>97</td>\n",
       "      <td>97</td>\n",
       "      <td>95</td>\n",
       "      <td>17</td>\n",
       "      <td>24</td>\n",
       "      <td>52</td>\n",
       "      <td>637</td>\n",
       "      <td>121</td>\n",
       "      <td>13</td>\n",
       "    </tr>\n",
       "    <tr>\n",
       "      <th>771</th>\n",
       "      <td>94</td>\n",
       "      <td>97</td>\n",
       "      <td>97</td>\n",
       "      <td>95</td>\n",
       "      <td>4</td>\n",
       "      <td>24</td>\n",
       "      <td>52</td>\n",
       "      <td>638</td>\n",
       "      <td>121</td>\n",
       "      <td>13</td>\n",
       "    </tr>\n",
       "  </tbody>\n",
       "</table>\n",
       "<p>772 rows × 10 columns</p>\n",
       "</div>"
      ],
      "text/plain": [
       "    Onset_date_key Reported_date_key Test_date_key Specimen_date_key  \\\n",
       "0              327               331           331               327   \n",
       "1              327               331           331               327   \n",
       "2              331               331           399               329   \n",
       "3              328               331           329               328   \n",
       "4              329               330           330               329   \n",
       "..             ...               ...           ...               ...   \n",
       "767            370               370           395               369   \n",
       "768            363               370           364               363   \n",
       "769             96                97            97                96   \n",
       "770             94                97            97                95   \n",
       "771             94                97            97                95   \n",
       "\n",
       "    Patient_key PHU_location_key Mobility_key Resolved Unresolved Fatal  \n",
       "0            61               24          286        1          0     0  \n",
       "1            11               24          286        2          0     0  \n",
       "2            49               24          286        3          0     0  \n",
       "3           145               24          286        4          0     0  \n",
       "4            10               24          285        5          0     0  \n",
       "..          ...              ...          ...      ...        ...   ...  \n",
       "767          42               24          325      634        121    13  \n",
       "768          79               24          325      635        121    13  \n",
       "769          40               24           52      636        121    13  \n",
       "770          17               24           52      637        121    13  \n",
       "771           4               24           52      638        121    13  \n",
       "\n",
       "[772 rows x 10 columns]"
      ]
     },
     "execution_count": 330,
     "metadata": {},
     "output_type": "execute_result"
    }
   ],
   "source": [
    "fact_table"
   ]
  },
  {
   "cell_type": "code",
   "execution_count": 331,
   "metadata": {},
   "outputs": [
    {
     "data": {
      "text/plain": [
       "2950        Resolved\n",
       "5586    Not Resolved\n",
       "5660           Fatal\n",
       "Name: Outcome1, dtype: object"
      ]
     },
     "execution_count": 331,
     "metadata": {},
     "output_type": "execute_result"
    }
   ],
   "source": [
    "cases[\"Outcome1\"].drop_duplicates()"
   ]
  },
  {
   "cell_type": "code",
   "execution_count": 332,
   "metadata": {},
   "outputs": [],
   "source": [
    "fact_table.to_csv(\"Covid-19_Tracking_Fact_Table.csv\",index=False)"
   ]
  },
  {
   "cell_type": "code",
   "execution_count": null,
   "metadata": {},
   "outputs": [],
   "source": []
  },
  {
   "cell_type": "code",
   "execution_count": 333,
   "metadata": {
    "scrolled": true
   },
   "outputs": [
    {
     "data": {
      "text/plain": [
       "0      Toronto\n",
       "382     Ottawa\n",
       "Name: sub_region_2, dtype: object"
      ]
     },
     "execution_count": 333,
     "metadata": {},
     "output_type": "execute_result"
    }
   ],
   "source": [
    "Mobility_dimension[\"sub_region_2\"].drop_duplicates()"
   ]
  },
  {
   "cell_type": "code",
   "execution_count": 334,
   "metadata": {},
   "outputs": [
    {
     "data": {
      "text/plain": [
       "2950    Toronto\n",
       "Name: Reporting_PHU_City, dtype: object"
      ]
     },
     "execution_count": 334,
     "metadata": {},
     "output_type": "execute_result"
    }
   ],
   "source": [
    "cases[\"Reporting_PHU_City\"].drop_duplicates()"
   ]
  },
  {
   "cell_type": "code",
   "execution_count": null,
   "metadata": {},
   "outputs": [],
   "source": []
  }
 ],
 "metadata": {
  "kernelspec": {
   "display_name": "Python 3",
   "language": "python",
   "name": "python3"
  },
  "language_info": {
   "codemirror_mode": {
    "name": "ipython",
    "version": 3
   },
   "file_extension": ".py",
   "mimetype": "text/x-python",
   "name": "python",
   "nbconvert_exporter": "python",
   "pygments_lexer": "ipython3",
   "version": "3.7.5"
  }
 },
 "nbformat": 4,
 "nbformat_minor": 2
}
