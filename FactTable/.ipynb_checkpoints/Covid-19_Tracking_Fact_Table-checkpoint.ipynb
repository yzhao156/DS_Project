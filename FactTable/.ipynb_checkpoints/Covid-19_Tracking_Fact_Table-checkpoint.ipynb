{
 "cells": [
  {
   "cell_type": "code",
   "execution_count": null,
   "metadata": {},
   "outputs": [],
   "source": [
    "import pandas as pd\n",
    "import numpy as np\n",
    "import time\n",
    "import datetime\n",
    "\n",
    "dimension_path = \"../DimensionsPre/\"\n",
    "data_path = \"../Data/\""
   ]
  },
  {
   "cell_type": "code",
   "execution_count": null,
   "metadata": {},
   "outputs": [],
   "source": [
    "Date_dimension = pd.read_csv(dimension_path+\"Date_dimension/Date_dimension.csv\")\n",
    "Mobility_dimension = pd.read_csv(dimension_path+\"Mobility_dimension/Mobility_dimension.csv\")\n",
    "Patient_dimension = pd.read_csv(dimension_path+\"Patient_dimension/Patient_dimension.csv\")\n",
    "PHU_Location_dimension = pd.read_csv(dimension_path+\"PHU_Location_dimension/PHU_Location_dimension.csv\")\n",
    "Special_Measures_dimension = pd.read_csv(dimension_path+\"Special_Measures_dimension/Special_Measures_dimension.csv\")\n",
    "Weather_dimension = pd.read_csv(dimension_path+\"Weather_dimension/Weather_dimension.csv\")"
   ]
  },
  {
   "cell_type": "code",
   "execution_count": null,
   "metadata": {
    "scrolled": true
   },
   "outputs": [],
   "source": [
    "cases = pd.read_csv(data_path+\"IndividualCasesInOntario.csv\")\n",
    "cases.head()"
   ]
  },
  {
   "cell_type": "code",
   "execution_count": null,
   "metadata": {},
   "outputs": [],
   "source": [
    "cases = cases[(cases[\"Reporting_PHU_City\"]==\"Toronto\")|(cases[\"Reporting_PHU_City\"]==\"Ottawa\")]\n"
   ]
  },
  {
   "cell_type": "code",
   "execution_count": null,
   "metadata": {},
   "outputs": [],
   "source": [
    "cases[\"Accurate_Episode_Date\"] = pd.to_datetime(cases[\"Accurate_Episode_Date\"]).dt.strftime('%Y-%m-%d')\n",
    "cases[\"Case_Reported_Date\"] = pd.to_datetime(cases[\"Case_Reported_Date\"]).dt.strftime('%Y-%m-%d')\n",
    "cases[\"Test_Reported_Date\"] = pd.to_datetime(cases[\"Test_Reported_Date\"]).dt.strftime('%Y-%m-%d')\n",
    "cases[\"Specimen_Date\"] = pd.to_datetime(cases[\"Specimen_Date\"]).dt.strftime('%Y-%m-%d')\n",
    "cases = cases[(cases[\"Test_Reported_Date\"] < \"2021-03-01\") &(cases[\"Test_Reported_Date\"] >= \"2020-11-01\")]\n",
    "cases = cases.fillna({'Outbreak_Related':'Unknown'})#[:3000]"
   ]
  },
  {
   "cell_type": "code",
   "execution_count": null,
   "metadata": {},
   "outputs": [],
   "source": [
    "cases[\"Reporting_PHU_City\"].isna().sum()"
   ]
  },
  {
   "cell_type": "code",
   "execution_count": null,
   "metadata": {},
   "outputs": [],
   "source": [
    "# fact_table =  pd.DataFrame(columns=['Onset_date_key','Reported_date_key','Test_date_key', 'Specimen_date_key', 'Patient_key',\"PHU_location_key\",\"Mobility_key\",\"Special_measure_key\",\"Weather_key\",\"Resolved\",\"Unresolved\",\"Fatal\"])\n",
    "# fact_table =  pd.DataFrame(columns=['Onset_date_key','Reported_date_key','Test_date_key', 'Specimen_date_key', 'Patient_key'])\n",
    "fact_table =  pd.DataFrame(columns=['Onset_date_key','Reported_date_key','Test_date_key', 'Specimen_date_key', 'Patient_key', \"PHU_location_key\",\"Special_measure_key\",\"Mobility_key\",\"Weather_key\",\"Resolved\",\"Unresolved\",\"Fatal\"])\n",
    "# fact_table =  pd.DataFrame(columns=['Onset_date_key']\n"
   ]
  },
  {
   "cell_type": "code",
   "execution_count": null,
   "metadata": {},
   "outputs": [],
   "source": [
    "fact_table.head()"
   ]
  },
  {
   "cell_type": "code",
   "execution_count": null,
   "metadata": {},
   "outputs": [],
   "source": [
    "#TO REMOVED:df.dropna(axis=0,how='any')\n",
    "start = time.time()\n",
    "cases = cases.dropna(axis=0,how='any')\n",
    "# cases = cases.head()\n",
    "rows = 0\n",
    "Resolved,Unresolved,Fatal = 0,0,0\n",
    "error = 0\n",
    "\n",
    "\n",
    "for idx, row in cases.iterrows():\n",
    "    rows += 1\n",
    "    \n",
    "    #not considering 2021 data\n",
    "#     if (row[\"Case_Reported_Date\"][:4]!=\"2020\"):\n",
    "#         continue\n",
    "    \n",
    "    if (rows%100 == 0):\n",
    "        percentage = str(round((rows/len(cases))*100, 2)  )\n",
    "        remaining = (time.time()-start)*(len(cases)/rows)\n",
    "#         print(\"%s/%s - %s%%  --about %s:%s left\"%(str(rows),str(len(cases)),percentage,str(int(remaining//60)),str(int(remaining%60))),end = \"\\r\")\n",
    "        print(\"%s/%s - %s%%  --about %s:   -- %s taken\"%(str(rows),str(len(cases)),percentage,str(int(remaining//60)),str(time.time()-start)),end = \"\\r\")\n",
    "    \n",
    "    if (row[\"Outcome1\"] == \"Resolved\"):\n",
    "        Resolved+=1\n",
    "    elif (row[\"Outcome1\"] == \"Not Resolved\"):\n",
    "        Unresolved+=1\n",
    "    else:\n",
    "        Fatal+=1\n",
    "\n",
    "    \n",
    "#     specialMeasureId = Special_Measures_dimension[(Special_Measures_dimension[\"Reporting_PHU_id\"]==row[\"Reporting_PHU_ID\"])&(Special_Measures_dimension[\"Start-date\"]<=row[\"Case_Reported_Date\"])&(Special_Measures_dimension[\"End-date\"]>=row[\"Case_Reported_Date\"])][\"surrogate_key\"].values[0]\n",
    "# d_time = datetime.datetime.strptime(str(datetime.datetime.now().date())+'9:30', '%Y-%m-%d%H:%M')\n",
    "\n",
    "    try:\n",
    "#         specialMeasureId = Special_Measures_dimension[(Special_Measures_dimension[\"Reporting_PHU_id\"]==row[\"Reporting_PHU_ID\"])&(datetime.datetime.strptime(Special_Measures_dimension[\"Start-date\"], '%Y-%m-%d')<=datetime.datetime.strptime(row[\"Case_Reported_Date\"], '%Y-%m-%d'))&(datetime.datetime.strptime(Special_Measures_dimension[\"End-date\"], '%Y-%m-%d')>=datetime.datetime.strptime(row[\"Case_Reported_Date\"], '%Y-%m-%d'))][\"surrogate_key\"].values[0]\n",
    "\n",
    "        specialMeasureId = Special_Measures_dimension[(Special_Measures_dimension[\"Reporting_PHU_id\"]==row[\"Reporting_PHU_ID\"])&(Special_Measures_dimension[\"Start-date\"]<=row[\"Case_Reported_Date\"])&(Special_Measures_dimension[\"End-date\"]>=row[\"Case_Reported_Date\"])][\"surrogate_key\"].values[0]\n",
    "    except:\n",
    "        specialMeasureId = 0\n",
    "        \n",
    "    try:\n",
    "        fact_row = [\n",
    "        Date_dimension[Date_dimension[\"date\"]==row[\"Accurate_Episode_Date\"]][\"surrogate_key\"].values[0],\n",
    "        Date_dimension[Date_dimension[\"date\"]==row[\"Case_Reported_Date\"]][\"surrogate_key\"].values[0],\n",
    "        Date_dimension[Date_dimension[\"date\"]==row[\"Test_Reported_Date\"]][\"surrogate_key\"].values[0],\n",
    "        Date_dimension[Date_dimension[\"date\"]==row[\"Specimen_Date\"]][\"surrogate_key\"].values[0],\n",
    "        Patient_dimension[(Patient_dimension[\"Age_Group\"]==row[\"Age_Group\"])&(Patient_dimension[\"Client_Gender\"]==row[\"Client_Gender\"])&(Patient_dimension[\"Case_AcquisitionInfo\"]==row[\"Case_AcquisitionInfo\"])&(Patient_dimension[\"Outbreak_Related\"]==row[\"Outbreak_Related\"])][\"surrogate_key\"].values[0],\n",
    "        PHU_Location_dimension[PHU_Location_dimension[\"Reporting_PHU_ID\"]==row[\"Reporting_PHU_ID\"]][\"surrogate_key\"].values[0],\n",
    "        \n",
    "        specialMeasureId,\n",
    "        Mobility_dimension[(Mobility_dimension[\"sub_region_2\"]==row[\"Reporting_PHU_City\"])&(Mobility_dimension[\"date\"]==row[\"Case_Reported_Date\"])][\"surrogate_key\"].values[0], #TODO Case_Reported_Date???\n",
    "        Weather_dimension[(Weather_dimension[\"Station Name\"]==row[\"Reporting_PHU_City\"])&(Weather_dimension[\"Date/Time\"]==row[\"Case_Reported_Date\"])][\"surrogate_key\"].values[0], \n",
    "        Resolved,Unresolved,Fatal\n",
    "\n",
    "               \n",
    "        ]\n",
    "        fact_table.loc[len(fact_table)] = fact_row\n",
    "    except:\n",
    "        error+=1\n",
    "        print(error)\n",
    "   \n",
    "print(\"Finished Forming Fact Table Took %s:%s to Finish\"%(int((time.time()-start)//60),int((time.time()-start)%60)))\n",
    "print(error)\n",
    "        \n",
    "        \n",
    "        \n",
    "        \n",
    "        "
   ]
  },
  {
   "cell_type": "code",
   "execution_count": null,
   "metadata": {},
   "outputs": [],
   "source": [
    "fact_table.to_csv(\"Covid-19_Tracking_Fact_Table.csv\",index=False)\n",
    "fact_table"
   ]
  },
  {
   "cell_type": "code",
   "execution_count": null,
   "metadata": {},
   "outputs": [],
   "source": [
    "fact_table[\"Special_measure_key\"].isna().sum()"
   ]
  },
  {
   "cell_type": "code",
   "execution_count": null,
   "metadata": {},
   "outputs": [],
   "source": [
    "(fact_table[\"Special_measure_key\"]==0).sum()"
   ]
  },
  {
   "cell_type": "code",
   "execution_count": null,
   "metadata": {
    "scrolled": true
   },
   "outputs": [],
   "source": [
    "fact_table.head()"
   ]
  },
  {
   "cell_type": "code",
   "execution_count": null,
   "metadata": {},
   "outputs": [],
   "source": [
    "fact_table[2:3]"
   ]
  },
  {
   "cell_type": "code",
   "execution_count": null,
   "metadata": {},
   "outputs": [],
   "source": [
    "fact_table[\"Special_measure_key\"].drop_duplicates()"
   ]
  },
  {
   "cell_type": "code",
   "execution_count": null,
   "metadata": {},
   "outputs": [],
   "source": [
    "fact_table[166:167]"
   ]
  }
 ],
 "metadata": {
  "kernelspec": {
   "display_name": "Python 3",
   "language": "python",
   "name": "python3"
  },
  "language_info": {
   "codemirror_mode": {
    "name": "ipython",
    "version": 3
   },
   "file_extension": ".py",
   "mimetype": "text/x-python",
   "name": "python",
   "nbconvert_exporter": "python",
   "pygments_lexer": "ipython3",
   "version": "3.7.5"
  }
 },
 "nbformat": 4,
 "nbformat_minor": 2
}
