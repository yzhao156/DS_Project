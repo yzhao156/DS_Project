{
 "cells": [
  {
   "cell_type": "code",
   "execution_count": 54,
   "metadata": {},
   "outputs": [],
   "source": [
    "import pandas as pd\n",
    "import numpy as np\n",
    "import time\n",
    "import datetime\n",
    "\n",
    "dimension_path = \"../DimensionsPre/\"\n",
    "data_path = \"../Data/\""
   ]
  },
  {
   "cell_type": "code",
   "execution_count": 55,
   "metadata": {},
   "outputs": [],
   "source": [
    "Date_dimension = pd.read_csv(dimension_path+\"Date_dimension/Date_dimension.csv\")\n",
    "Mobility_dimension = pd.read_csv(dimension_path+\"Mobility_dimension/Mobility_dimension.csv\")\n",
    "Patient_dimension = pd.read_csv(dimension_path+\"Patient_dimension/Patient_dimension.csv\")\n",
    "PHU_Location_dimension = pd.read_csv(dimension_path+\"PHU_Location_dimension/PHU_Location_dimension.csv\")\n",
    "Special_Measures_dimension = pd.read_csv(dimension_path+\"Special_Measures_dimension/Special_Measures_dimension.csv\")\n",
    "Weather_dimension = pd.read_csv(dimension_path+\"Weather_dimension/Weather_dimension.csv\")"
   ]
  },
  {
   "cell_type": "code",
   "execution_count": 56,
   "metadata": {},
   "outputs": [],
   "source": [
    "cases = pd.read_csv(data_path+\"IndividualCasesInOntario.csv\")\n",
    "# cases.head()"
   ]
  },
  {
   "cell_type": "code",
   "execution_count": null,
   "metadata": {},
   "outputs": [],
   "source": []
  },
  {
   "cell_type": "code",
   "execution_count": 57,
   "metadata": {},
   "outputs": [],
   "source": [
    "cases[\"Accurate_Episode_Date\"] = pd.to_datetime(cases[\"Accurate_Episode_Date\"]).dt.strftime('%Y-%m-%d')\n",
    "cases[\"Case_Reported_Date\"] = pd.to_datetime(cases[\"Case_Reported_Date\"]).dt.strftime('%Y-%m-%d')\n",
    "cases[\"Test_Reported_Date\"] = pd.to_datetime(cases[\"Test_Reported_Date\"]).dt.strftime('%Y-%m-%d')\n",
    "cases[\"Specimen_Date\"] = pd.to_datetime(cases[\"Specimen_Date\"]).dt.strftime('%Y-%m-%d')\n",
    "cases = cases[(cases[\"Test_Reported_Date\"] < \"2021-03-01\") & (cases[\"Test_Reported_Date\"] >= \"2020-11-01\")]\n",
    "# cases = cases[(cases[\"Reporting_PHU_City\"] == \"Toronto\") | (cases[\"Reporting_PHU_City\"] == \"Ottawa\")]\n",
    "durhanCases = cases[(cases[\"Reporting_PHU\"].map(lambda x: \"durham\" in x.lower()))   |  (cases[\"Reporting_PHU_City\"].map(lambda x: \"durham\" in x.lower()))]\n",
    "haltonCases = cases[(cases[\"Reporting_PHU\"].map(lambda x: \"halton\" in x.lower()))   |  (cases[\"Reporting_PHU_City\"].map(lambda x: \"halton\" in x.lower()))]\n",
    "peelCases = cases[(cases[\"Reporting_PHU\"].map(lambda x: \"peel\" in x.lower()))   |  (cases[\"Reporting_PHU_City\"].map(lambda x: \"peel\" in x.lower()))]\n",
    "yorkCases = cases[(cases[\"Reporting_PHU\"].map(lambda x: \"york\" in x.lower()))   |  (cases[\"Reporting_PHU_City\"].map(lambda x: \"york\" in x.lower()))]\n",
    "ottawaCases = cases[(cases[\"Reporting_PHU\"].map(lambda x: \"ottawa\" in x.lower()))   |  (cases[\"Reporting_PHU_City\"].map(lambda x: \"ottawa\" in x.lower()))]\n",
    "torontoCases = cases[(cases[\"Reporting_PHU\"].map(lambda x: \"toronto\" in x.lower()))   |  (cases[\"Reporting_PHU_City\"].map(lambda x: \"toronto\" in x.lower()))]\n",
    "frames = [durhanCases, haltonCases, peelCases, yorkCases, ottawaCases, torontoCases]\n",
    "cases = pd.concat(frames)\n",
    "cases = cases.fillna({'Outbreak_Related':'Unknown'})#[:67401:100]"
   ]
  },
  {
   "cell_type": "code",
   "execution_count": 58,
   "metadata": {},
   "outputs": [
    {
     "data": {
      "text/html": [
       "<div>\n",
       "<style scoped>\n",
       "    .dataframe tbody tr th:only-of-type {\n",
       "        vertical-align: middle;\n",
       "    }\n",
       "\n",
       "    .dataframe tbody tr th {\n",
       "        vertical-align: top;\n",
       "    }\n",
       "\n",
       "    .dataframe thead th {\n",
       "        text-align: right;\n",
       "    }\n",
       "</style>\n",
       "<table border=\"1\" class=\"dataframe\">\n",
       "  <thead>\n",
       "    <tr style=\"text-align: right;\">\n",
       "      <th></th>\n",
       "      <th>Reporting_PHU</th>\n",
       "      <th>Reporting_PHU_City</th>\n",
       "    </tr>\n",
       "  </thead>\n",
       "  <tbody>\n",
       "    <tr>\n",
       "      <th>2940</th>\n",
       "      <td>Durham Region Health Department</td>\n",
       "      <td>Whitby</td>\n",
       "    </tr>\n",
       "    <tr>\n",
       "      <th>2967</th>\n",
       "      <td>Halton Region Health Department</td>\n",
       "      <td>Oakville</td>\n",
       "    </tr>\n",
       "    <tr>\n",
       "      <th>2918</th>\n",
       "      <td>Peel Public Health</td>\n",
       "      <td>Mississauga</td>\n",
       "    </tr>\n",
       "    <tr>\n",
       "      <th>2920</th>\n",
       "      <td>York Region Public Health Services</td>\n",
       "      <td>Newmarket</td>\n",
       "    </tr>\n",
       "    <tr>\n",
       "      <th>5005</th>\n",
       "      <td>Ottawa Public Health</td>\n",
       "      <td>Ottawa</td>\n",
       "    </tr>\n",
       "    <tr>\n",
       "      <th>2950</th>\n",
       "      <td>Toronto Public Health</td>\n",
       "      <td>Toronto</td>\n",
       "    </tr>\n",
       "  </tbody>\n",
       "</table>\n",
       "</div>"
      ],
      "text/plain": [
       "                           Reporting_PHU Reporting_PHU_City\n",
       "2940     Durham Region Health Department             Whitby\n",
       "2967     Halton Region Health Department           Oakville\n",
       "2918                  Peel Public Health        Mississauga\n",
       "2920  York Region Public Health Services          Newmarket\n",
       "5005                Ottawa Public Health             Ottawa\n",
       "2950               Toronto Public Health            Toronto"
      ]
     },
     "execution_count": 58,
     "metadata": {},
     "output_type": "execute_result"
    }
   ],
   "source": [
    "cases[[\"Reporting_PHU\",\"Reporting_PHU_City\"]].drop_duplicates()"
   ]
  },
  {
   "cell_type": "code",
   "execution_count": 59,
   "metadata": {},
   "outputs": [
    {
     "data": {
      "text/plain": [
       "_id                           0\n",
       "Row_ID                        0\n",
       "Accurate_Episode_Date         0\n",
       "Case_Reported_Date            0\n",
       "Test_Reported_Date            0\n",
       "Specimen_Date                57\n",
       "Age_Group                     0\n",
       "Client_Gender                 0\n",
       "Case_AcquisitionInfo          0\n",
       "Outcome1                      0\n",
       "Outbreak_Related              0\n",
       "Reporting_PHU_ID              0\n",
       "Reporting_PHU                 0\n",
       "Reporting_PHU_Address         0\n",
       "Reporting_PHU_City            0\n",
       "Reporting_PHU_Postal_Code     0\n",
       "Reporting_PHU_Website         0\n",
       "Reporting_PHU_Latitude        0\n",
       "Reporting_PHU_Longitude       0\n",
       "dtype: int64"
      ]
     },
     "execution_count": 59,
     "metadata": {},
     "output_type": "execute_result"
    }
   ],
   "source": [
    "cases.isna().sum()"
   ]
  },
  {
   "cell_type": "code",
   "execution_count": 60,
   "metadata": {},
   "outputs": [
    {
     "data": {
      "text/plain": [
       "_id                          0\n",
       "Row_ID                       0\n",
       "Accurate_Episode_Date        0\n",
       "Case_Reported_Date           0\n",
       "Test_Reported_Date           0\n",
       "Specimen_Date                0\n",
       "Age_Group                    0\n",
       "Client_Gender                0\n",
       "Case_AcquisitionInfo         0\n",
       "Outcome1                     0\n",
       "Outbreak_Related             0\n",
       "Reporting_PHU_ID             0\n",
       "Reporting_PHU                0\n",
       "Reporting_PHU_Address        0\n",
       "Reporting_PHU_City           0\n",
       "Reporting_PHU_Postal_Code    0\n",
       "Reporting_PHU_Website        0\n",
       "Reporting_PHU_Latitude       0\n",
       "Reporting_PHU_Longitude      0\n",
       "dtype: int64"
      ]
     },
     "execution_count": 60,
     "metadata": {},
     "output_type": "execute_result"
    }
   ],
   "source": [
    "cases = cases.dropna(axis=0,how='any')\n",
    "cases.isna().sum()"
   ]
  },
  {
   "cell_type": "code",
   "execution_count": 61,
   "metadata": {},
   "outputs": [],
   "source": [
    "reportingPHU2SubRegion2={\n",
    "    \"Durham Region Health Department\":\"Regional Municipality of Durham\",\n",
    "    \"Halton Region Health Department\":\"Regional Municipality of Halton\",\n",
    "    \"Peel Public Health\":\"Regional Municipality of Peel\",\n",
    "    \"York Region Public Health Services\":\"Regional Municipality of York\",\n",
    "    \"Ottawa Public Health\":\"Ottawa Division\",\n",
    "    \"Toronto Public Health\":\"Toronto Division\"\n",
    "}\n",
    "reportingPHUCity2StationName={\n",
    "    \"Durham Region Health Department\":\"TORONTO NORTH YORK\",\n",
    "    \"Halton Region Health Department\":\"TORONTO NORTH YORK\",\n",
    "    \"Peel Public Health\":\"TORONTO NORTH YORK\",\n",
    "    \"York Region Public Health Services\":\"TORONTO NORTH YORK\",\n",
    "    \"Ottawa Public Health\":\"OTTAWA INTL A\",\n",
    "    \"Toronto Public Health\":\"TORONTO NORTH YORK\"\n",
    "}\n",
    "fact_table =  pd.DataFrame(columns=['Id','Onset_date_key','Reported_date_key','Test_date_key', 'Specimen_date_key', 'Patient_key', \"PHU_location_key\",\"Special_measure_key\",\"Mobility_key\",\"Weather_key\",\"Resolved\",\"Unresolved\",\"Fatal\"])"
   ]
  },
  {
   "cell_type": "code",
   "execution_count": 62,
   "metadata": {},
   "outputs": [
    {
     "name": "stdout",
     "output_type": "stream",
     "text": [
      "Finished Forming Fact Table Took 58:14 to Finish\n",
      "Special Measure Mismatch: 3613\n",
      "Mobility Mismatch: 3\n",
      "Weather Mismatch: 68\n",
      "Total Cases: 151566\n"
     ]
    }
   ],
   "source": [
    "start = time.time()\n",
    "rows,tmp = 1,0\n",
    "\n",
    "specialMeasureMismatch, mobilityMismatch, weatherMismatch = 0,0,0\n",
    "\n",
    "\n",
    "for idx, row in cases.iterrows():\n",
    "    \n",
    "    if (rows%100 == 0):\n",
    "        percentage = str(round((rows/len(cases))*100, 2)  )\n",
    "        remaining = (time.time()-start)*((len(cases)-rows)/rows)\n",
    "        print(\"%s/%s - %s%%  --about %s:%s left\"%(str(rows),str(len(cases)),percentage,str(int(remaining//60)),str(int(remaining%60))),end = \"\\r\")\n",
    "    \n",
    "    Resolved,Unresolved,Fatal = 0,0,0\n",
    "    if (row[\"Outcome1\"] == \"Resolved\"):\n",
    "        Resolved=1\n",
    "    elif (row[\"Outcome1\"] == \"Not Resolved\"):\n",
    "        Unresolved=1\n",
    "    else:\n",
    "        Fatal=1\n",
    "\n",
    "        \n",
    "    # Special Measure\n",
    "    try:\n",
    "        specialMeasureId = Special_Measures_dimension[(Special_Measures_dimension[\"Reporting_PHU_id\"]==row[\"Reporting_PHU_ID\"])&(Special_Measures_dimension[\"StartDate\"]<=row[\"Case_Reported_Date\"])&(Special_Measures_dimension[\"EndDate\"]>=row[\"Case_Reported_Date\"])][\"surrogate_key\"].values[0]\n",
    "    except IndexError as e:        \n",
    "        specialMeasureMismatch+=1\n",
    "        specialMeasureId = None\n",
    "        \n",
    "    # Mobility\n",
    "    try:\n",
    "        Mobility_dimensionId = Mobility_dimension[(Mobility_dimension[\"sub_region_2\"] == reportingPHU2SubRegion2[row[\"Reporting_PHU\"]])&(Mobility_dimension[\"date\"]==row[\"Case_Reported_Date\"])][\"surrogate_key\"].values[0]\n",
    "    except IndexError as e:        \n",
    "        mobilityMismatch+=1\n",
    "        Mobility_dimensionId = None\n",
    "        \n",
    "    # Weather\n",
    "    try:\n",
    "        Weather_dimensionId = Weather_dimension[(Weather_dimension[\"StationName\"]==reportingPHUCity2StationName[row[\"Reporting_PHU\"]])&(Weather_dimension[\"DateTime\"]==row[\"Case_Reported_Date\"])][\"surrogate_key\"].values[0]\n",
    "    except IndexError as e:        \n",
    "        weatherMismatch+=1\n",
    "        Weather_dimensionId = None\n",
    "        \n",
    "    fact_row = [\n",
    "    rows,\n",
    "    Date_dimension[Date_dimension[\"date\"]==row[\"Accurate_Episode_Date\"]][\"surrogate_key\"].values[0],\n",
    "    Date_dimension[Date_dimension[\"date\"]==row[\"Case_Reported_Date\"]][\"surrogate_key\"].values[0],\n",
    "    Date_dimension[Date_dimension[\"date\"]==row[\"Test_Reported_Date\"]][\"surrogate_key\"].values[0],\n",
    "    Date_dimension[Date_dimension[\"date\"]==row[\"Specimen_Date\"]][\"surrogate_key\"].values[0],\n",
    "    Patient_dimension[(Patient_dimension[\"Age_Group\"]==row[\"Age_Group\"])&(Patient_dimension[\"Client_Gender\"]==row[\"Client_Gender\"])&(Patient_dimension[\"Case_AcquisitionInfo\"]==row[\"Case_AcquisitionInfo\"])&(Patient_dimension[\"Outbreak_Related\"]==row[\"Outbreak_Related\"])][\"surrogate_key\"].values[0],\n",
    "    PHU_Location_dimension[PHU_Location_dimension[\"Reporting_PHU_ID\"]==row[\"Reporting_PHU_ID\"]][\"surrogate_key\"].values[0],\n",
    "    specialMeasureId,\n",
    "    Mobility_dimensionId,\n",
    "    Weather_dimensionId,\n",
    "    Resolved,Unresolved,Fatal\n",
    "    ]\n",
    "    \n",
    "    rows += 1\n",
    "    fact_table.loc[len(fact_table)] = fact_row\n",
    "\n",
    "print(\"Finished Forming Fact Table Took %s:%s to Finish\"%(int((time.time()-start)//60),int((time.time()-start)%60)))\n",
    "print(\"Special Measure Mismatch: %s\"%specialMeasureMismatch)\n",
    "print(\"Mobility Mismatch: %s\"%mobilityMismatch)\n",
    "print(\"Weather Mismatch: %s\"%weatherMismatch)\n",
    "# print(\"Tmp : %s\"%tmp )\n",
    "print(\"Total Cases: %s\"%len(cases))\n",
    "        \n",
    "        \n",
    "        \n",
    "        \n",
    "        "
   ]
  },
  {
   "cell_type": "code",
   "execution_count": 63,
   "metadata": {},
   "outputs": [
    {
     "data": {
      "text/plain": [
       "(151566, 13)"
      ]
     },
     "execution_count": 63,
     "metadata": {},
     "output_type": "execute_result"
    }
   ],
   "source": [
    "fact_table.shape"
   ]
  },
  {
   "cell_type": "code",
   "execution_count": 64,
   "metadata": {},
   "outputs": [
    {
     "data": {
      "text/plain": [
       "Id                        0\n",
       "Onset_date_key            0\n",
       "Reported_date_key         0\n",
       "Test_date_key             0\n",
       "Specimen_date_key         0\n",
       "Patient_key               0\n",
       "PHU_location_key          0\n",
       "Special_measure_key    3613\n",
       "Mobility_key              3\n",
       "Weather_key              68\n",
       "Resolved                  0\n",
       "Unresolved                0\n",
       "Fatal                     0\n",
       "dtype: int64"
      ]
     },
     "execution_count": 64,
     "metadata": {},
     "output_type": "execute_result"
    }
   ],
   "source": [
    "fact_table.isna().sum()"
   ]
  },
  {
   "cell_type": "code",
   "execution_count": 65,
   "metadata": {
    "scrolled": true
   },
   "outputs": [
    {
     "data": {
      "text/plain": [
       "(147904, 13)"
      ]
     },
     "execution_count": 65,
     "metadata": {},
     "output_type": "execute_result"
    }
   ],
   "source": [
    "fact_table.dropna(axis=0,how='any').shape"
   ]
  },
  {
   "cell_type": "code",
   "execution_count": 66,
   "metadata": {},
   "outputs": [],
   "source": [
    "fact_table = fact_table.dropna(axis=0,how='any')"
   ]
  },
  {
   "cell_type": "code",
   "execution_count": 67,
   "metadata": {},
   "outputs": [
    {
     "data": {
      "text/plain": [
       "Id                     0\n",
       "Onset_date_key         0\n",
       "Reported_date_key      0\n",
       "Test_date_key          0\n",
       "Specimen_date_key      0\n",
       "Patient_key            0\n",
       "PHU_location_key       0\n",
       "Special_measure_key    0\n",
       "Mobility_key           0\n",
       "Weather_key            0\n",
       "Resolved               0\n",
       "Unresolved             0\n",
       "Fatal                  0\n",
       "dtype: int64"
      ]
     },
     "execution_count": 67,
     "metadata": {},
     "output_type": "execute_result"
    }
   ],
   "source": [
    "fact_table.isna().sum()"
   ]
  },
  {
   "cell_type": "code",
   "execution_count": 68,
   "metadata": {},
   "outputs": [
    {
     "data": {
      "text/plain": [
       "(147904, 13)"
      ]
     },
     "execution_count": 68,
     "metadata": {},
     "output_type": "execute_result"
    }
   ],
   "source": [
    "fact_table.shape"
   ]
  },
  {
   "cell_type": "code",
   "execution_count": 69,
   "metadata": {},
   "outputs": [
    {
     "data": {
      "text/plain": [
       "0         2\n",
       "57        3\n",
       "76        4\n",
       "187       0\n",
       "194       1\n",
       "8728      6\n",
       "8796      8\n",
       "8889      5\n",
       "8977      7\n",
       "15837    10\n",
       "16313     9\n",
       "16449    11\n",
       "19262    12\n",
       "62510    14\n",
       "62732    16\n",
       "62734    17\n",
       "62816    15\n",
       "62989    13\n",
       "84217    18\n",
       "84272    19\n",
       "84353    20\n",
       "91717    23\n",
       "91740    24\n",
       "92085    21\n",
       "92092    22\n",
       "Name: Special_measure_key, dtype: object"
      ]
     },
     "execution_count": 69,
     "metadata": {},
     "output_type": "execute_result"
    }
   ],
   "source": [
    "fact_table[\"Special_measure_key\"].drop_duplicates()"
   ]
  },
  {
   "cell_type": "code",
   "execution_count": 70,
   "metadata": {},
   "outputs": [
    {
     "data": {
      "text/plain": [
       "0"
      ]
     },
     "execution_count": 70,
     "metadata": {},
     "output_type": "execute_result"
    }
   ],
   "source": [
    "fact_table[\"Special_measure_key\"].isna().sum()"
   ]
  },
  {
   "cell_type": "code",
   "execution_count": 71,
   "metadata": {},
   "outputs": [
    {
     "data": {
      "text/plain": [
       "0          OTTAWA INTL A\n",
       "61    TORONTO NORTH YORK\n",
       "Name: StationName, dtype: object"
      ]
     },
     "execution_count": 71,
     "metadata": {},
     "output_type": "execute_result"
    }
   ],
   "source": [
    "Weather_dimension[\"StationName\"].drop_duplicates()"
   ]
  },
  {
   "cell_type": "code",
   "execution_count": 72,
   "metadata": {},
   "outputs": [
    {
     "data": {
      "text/plain": [
       "0        0\n",
       "8728     1\n",
       "15837    2\n",
       "62510    3\n",
       "84217    4\n",
       "91717    5\n",
       "Name: PHU_location_key, dtype: object"
      ]
     },
     "execution_count": 72,
     "metadata": {},
     "output_type": "execute_result"
    }
   ],
   "source": [
    "fact_table[\"PHU_location_key\"].drop_duplicates()"
   ]
  },
  {
   "cell_type": "code",
   "execution_count": 73,
   "metadata": {},
   "outputs": [
    {
     "data": {
      "text/plain": [
       "58.25705401500066"
      ]
     },
     "execution_count": 73,
     "metadata": {},
     "output_type": "execute_result"
    }
   ],
   "source": [
    "(time.time()-start)/60"
   ]
  },
  {
   "cell_type": "code",
   "execution_count": 74,
   "metadata": {},
   "outputs": [],
   "source": [
    "fact_table.to_csv(\"Covid19_Tracking_Fact_Table.csv\",index=False)"
   ]
  },
  {
   "cell_type": "code",
   "execution_count": 75,
   "metadata": {},
   "outputs": [],
   "source": [
    "from termcolor import colored"
   ]
  },
  {
   "cell_type": "code",
   "execution_count": 77,
   "metadata": {},
   "outputs": [
    {
     "data": {
      "text/html": [
       "<div>\n",
       "<style scoped>\n",
       "    .dataframe tbody tr th:only-of-type {\n",
       "        vertical-align: middle;\n",
       "    }\n",
       "\n",
       "    .dataframe tbody tr th {\n",
       "        vertical-align: top;\n",
       "    }\n",
       "\n",
       "    .dataframe thead th {\n",
       "        text-align: right;\n",
       "    }\n",
       "</style>\n",
       "<table border=\"1\" class=\"dataframe\">\n",
       "  <thead>\n",
       "    <tr style=\"text-align: right;\">\n",
       "      <th></th>\n",
       "      <th>Id</th>\n",
       "      <th>Onset_date_key</th>\n",
       "      <th>Reported_date_key</th>\n",
       "      <th>Test_date_key</th>\n",
       "      <th>Specimen_date_key</th>\n",
       "      <th>Patient_key</th>\n",
       "      <th>PHU_location_key</th>\n",
       "      <th>Special_measure_key</th>\n",
       "      <th>Mobility_key</th>\n",
       "      <th>Weather_key</th>\n",
       "      <th>Resolved</th>\n",
       "      <th>Unresolved</th>\n",
       "      <th>Fatal</th>\n",
       "    </tr>\n",
       "  </thead>\n",
       "  <tbody>\n",
       "    <tr>\n",
       "      <th>0</th>\n",
       "      <td>1</td>\n",
       "      <td>323</td>\n",
       "      <td>331</td>\n",
       "      <td>331</td>\n",
       "      <td>327</td>\n",
       "      <td>0</td>\n",
       "      <td>0</td>\n",
       "      <td>2</td>\n",
       "      <td>286</td>\n",
       "      <td>87</td>\n",
       "      <td>1</td>\n",
       "      <td>0</td>\n",
       "      <td>0</td>\n",
       "    </tr>\n",
       "    <tr>\n",
       "      <th>1</th>\n",
       "      <td>2</td>\n",
       "      <td>326</td>\n",
       "      <td>331</td>\n",
       "      <td>331</td>\n",
       "      <td>326</td>\n",
       "      <td>1</td>\n",
       "      <td>0</td>\n",
       "      <td>2</td>\n",
       "      <td>286</td>\n",
       "      <td>87</td>\n",
       "      <td>1</td>\n",
       "      <td>0</td>\n",
       "      <td>0</td>\n",
       "    </tr>\n",
       "    <tr>\n",
       "      <th>2</th>\n",
       "      <td>3</td>\n",
       "      <td>325</td>\n",
       "      <td>331</td>\n",
       "      <td>331</td>\n",
       "      <td>327</td>\n",
       "      <td>2</td>\n",
       "      <td>0</td>\n",
       "      <td>2</td>\n",
       "      <td>286</td>\n",
       "      <td>87</td>\n",
       "      <td>1</td>\n",
       "      <td>0</td>\n",
       "      <td>0</td>\n",
       "    </tr>\n",
       "    <tr>\n",
       "      <th>3</th>\n",
       "      <td>4</td>\n",
       "      <td>327</td>\n",
       "      <td>331</td>\n",
       "      <td>331</td>\n",
       "      <td>327</td>\n",
       "      <td>2</td>\n",
       "      <td>0</td>\n",
       "      <td>2</td>\n",
       "      <td>286</td>\n",
       "      <td>87</td>\n",
       "      <td>1</td>\n",
       "      <td>0</td>\n",
       "      <td>0</td>\n",
       "    </tr>\n",
       "    <tr>\n",
       "      <th>4</th>\n",
       "      <td>5</td>\n",
       "      <td>328</td>\n",
       "      <td>331</td>\n",
       "      <td>331</td>\n",
       "      <td>328</td>\n",
       "      <td>3</td>\n",
       "      <td>0</td>\n",
       "      <td>2</td>\n",
       "      <td>286</td>\n",
       "      <td>87</td>\n",
       "      <td>1</td>\n",
       "      <td>0</td>\n",
       "      <td>0</td>\n",
       "    </tr>\n",
       "  </tbody>\n",
       "</table>\n",
       "</div>"
      ],
      "text/plain": [
       "  Id Onset_date_key Reported_date_key Test_date_key Specimen_date_key  \\\n",
       "0  1            323               331           331               327   \n",
       "1  2            326               331           331               326   \n",
       "2  3            325               331           331               327   \n",
       "3  4            327               331           331               327   \n",
       "4  5            328               331           331               328   \n",
       "\n",
       "  Patient_key PHU_location_key Special_measure_key Mobility_key Weather_key  \\\n",
       "0           0                0                   2          286          87   \n",
       "1           1                0                   2          286          87   \n",
       "2           2                0                   2          286          87   \n",
       "3           2                0                   2          286          87   \n",
       "4           3                0                   2          286          87   \n",
       "\n",
       "  Resolved Unresolved Fatal  \n",
       "0        1          0     0  \n",
       "1        1          0     0  \n",
       "2        1          0     0  \n",
       "3        1          0     0  \n",
       "4        1          0     0  "
      ]
     },
     "execution_count": 77,
     "metadata": {},
     "output_type": "execute_result"
    }
   ],
   "source": [
    "fact_table.head()"
   ]
  },
  {
   "cell_type": "code",
   "execution_count": 76,
   "metadata": {},
   "outputs": [
    {
     "name": "stdout",
     "output_type": "stream",
     "text": [
      "\u001b[36mA\u001b[0m\n"
     ]
    }
   ],
   "source": [
    "print(colored(\"A\",\"cyan\"))"
   ]
  }
 ],
 "metadata": {
  "kernelspec": {
   "display_name": "Python 3",
   "language": "python",
   "name": "python3"
  },
  "language_info": {
   "codemirror_mode": {
    "name": "ipython",
    "version": 3
   },
   "file_extension": ".py",
   "mimetype": "text/x-python",
   "name": "python",
   "nbconvert_exporter": "python",
   "pygments_lexer": "ipython3",
   "version": "3.7.5"
  }
 },
 "nbformat": 4,
 "nbformat_minor": 2
}
