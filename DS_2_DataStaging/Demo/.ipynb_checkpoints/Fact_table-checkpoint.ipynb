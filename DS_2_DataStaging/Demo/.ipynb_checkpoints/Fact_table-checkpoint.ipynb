{
 "cells": [
  {
   "cell_type": "code",
   "execution_count": 1,
   "metadata": {},
   "outputs": [],
   "source": [
    "import pandas as pd\n",
    "import numpy as np"
   ]
  },
  {
   "cell_type": "code",
   "execution_count": 2,
   "metadata": {},
   "outputs": [],
   "source": [
    "location_dimension = pd.read_csv(\"location_dimension.csv\")\n",
    "weather_dimension = pd.read_csv(\"weather_dimension.csv\")\n",
    "accident_dimension = pd.read_csv(\"accident_dimension.csv\")\n",
    "time_dimension = pd.read_csv(\"time_dimension.csv\")\n",
    "date_dimension = pd.read_csv(\"date_dimension.csv\")"
   ]
  },
  {
   "cell_type": "code",
   "execution_count": 3,
   "metadata": {},
   "outputs": [],
   "source": [
    "collisions = pd.read_csv(\"h2017collisionsfinal.csv\")\n",
    "collisions = collisions[:50]"
   ]
  },
  {
   "cell_type": "code",
   "execution_count": 4,
   "metadata": {},
   "outputs": [],
   "source": [
    "collisions[\"Time\"] = pd.to_datetime(collisions[\"Time\"]).dt.strftime('%H:%M:%S')"
   ]
  },
  {
   "cell_type": "code",
   "execution_count": 5,
   "metadata": {},
   "outputs": [],
   "source": [
    "time_dimension[\"time_of_day\"] = pd.to_datetime(time_dimension[\"time_of_day\"] ).dt.strftime('%H:%M:%S')"
   ]
  },
  {
   "cell_type": "code",
   "execution_count": 6,
   "metadata": {},
   "outputs": [],
   "source": [
    "# fact_table =  pd.DataFrame(columns=['Location_ID','Accident_ID','Date_ID', 'Time_ID', 'Weather_ID',\"Is_Fatal\",\"Is_Intersection\"])\n",
    "fact_table =  pd.DataFrame(columns=['Date_ID'])\n",
    "\n"
   ]
  },
  {
   "cell_type": "code",
   "execution_count": 7,
   "metadata": {},
   "outputs": [],
   "source": [
    "collisions = collisions[6:9]"
   ]
  },
  {
   "cell_type": "code",
   "execution_count": 8,
   "metadata": {},
   "outputs": [
    {
     "data": {
      "text/html": [
       "<div>\n",
       "<style scoped>\n",
       "    .dataframe tbody tr th:only-of-type {\n",
       "        vertical-align: middle;\n",
       "    }\n",
       "\n",
       "    .dataframe tbody tr th {\n",
       "        vertical-align: top;\n",
       "    }\n",
       "\n",
       "    .dataframe thead th {\n",
       "        text-align: right;\n",
       "    }\n",
       "</style>\n",
       "<table border=\"1\" class=\"dataframe\">\n",
       "  <thead>\n",
       "    <tr style=\"text-align: right;\">\n",
       "      <th></th>\n",
       "      <th>Record</th>\n",
       "      <th>Location</th>\n",
       "      <th>X</th>\n",
       "      <th>Y</th>\n",
       "      <th>Longitude</th>\n",
       "      <th>Latitude</th>\n",
       "      <th>Year</th>\n",
       "      <th>Date</th>\n",
       "      <th>Time</th>\n",
       "      <th>Environment</th>\n",
       "      <th>Road_Surface</th>\n",
       "      <th>Traffic_Control</th>\n",
       "      <th>Collision_Location</th>\n",
       "      <th>Light</th>\n",
       "      <th>Collision_Classification</th>\n",
       "      <th>Impact_type</th>\n",
       "    </tr>\n",
       "  </thead>\n",
       "  <tbody>\n",
       "    <tr>\n",
       "      <th>6</th>\n",
       "      <td>7</td>\n",
       "      <td>225 E OF RIVERSIDE DR / T &amp; T SC @ HUNT CLUB RD</td>\n",
       "      <td>368235.69760</td>\n",
       "      <td>5.022056e+06</td>\n",
       "      <td>-75.69064</td>\n",
       "      <td>45.33558</td>\n",
       "      <td>2017</td>\n",
       "      <td>2017-01-10</td>\n",
       "      <td>20:34:00</td>\n",
       "      <td>03 - Snow</td>\n",
       "      <td>05 - Packed snow</td>\n",
       "      <td>01 - Traffic signal</td>\n",
       "      <td>02 - Intersection related</td>\n",
       "      <td>07 - Dark</td>\n",
       "      <td>03 - P.D. only</td>\n",
       "      <td>03 - Rear end</td>\n",
       "    </tr>\n",
       "    <tr>\n",
       "      <th>7</th>\n",
       "      <td>8</td>\n",
       "      <td>2ND LINE RD @ CABIN RD</td>\n",
       "      <td>375653.18807</td>\n",
       "      <td>5.002682e+06</td>\n",
       "      <td>-75.59877</td>\n",
       "      <td>45.16056</td>\n",
       "      <td>2017</td>\n",
       "      <td>2017-11-20</td>\n",
       "      <td>09:57:00</td>\n",
       "      <td>03 - Snow</td>\n",
       "      <td>06 - Ice</td>\n",
       "      <td>03 - Yield sign</td>\n",
       "      <td>03 - At intersection</td>\n",
       "      <td>01 - Daylight</td>\n",
       "      <td>03 - P.D. only</td>\n",
       "      <td>07 - SMV other</td>\n",
       "    </tr>\n",
       "    <tr>\n",
       "      <th>8</th>\n",
       "      <td>9</td>\n",
       "      <td>2ND LINE RD btwn OSGOODE MAIN ST &amp; HUGH CRES</td>\n",
       "      <td>376117.45339</td>\n",
       "      <td>5.001581e+06</td>\n",
       "      <td>-75.59302</td>\n",
       "      <td>45.15060</td>\n",
       "      <td>2017</td>\n",
       "      <td>2017-07-04</td>\n",
       "      <td>21:45:00</td>\n",
       "      <td>01 - Clear</td>\n",
       "      <td>01 - Dry</td>\n",
       "      <td>10 - No control</td>\n",
       "      <td>01 - Non intersection</td>\n",
       "      <td>07 - Dark</td>\n",
       "      <td>03 - P.D. only</td>\n",
       "      <td>07 - SMV other</td>\n",
       "    </tr>\n",
       "  </tbody>\n",
       "</table>\n",
       "</div>"
      ],
      "text/plain": [
       "   Record                                         Location             X  \\\n",
       "6       7  225 E OF RIVERSIDE DR / T & T SC @ HUNT CLUB RD  368235.69760   \n",
       "7       8                           2ND LINE RD @ CABIN RD  375653.18807   \n",
       "8       9     2ND LINE RD btwn OSGOODE MAIN ST & HUGH CRES  376117.45339   \n",
       "\n",
       "              Y  Longitude  Latitude  Year        Date      Time Environment  \\\n",
       "6  5.022056e+06  -75.69064  45.33558  2017  2017-01-10  20:34:00   03 - Snow   \n",
       "7  5.002682e+06  -75.59877  45.16056  2017  2017-11-20  09:57:00   03 - Snow   \n",
       "8  5.001581e+06  -75.59302  45.15060  2017  2017-07-04  21:45:00  01 - Clear   \n",
       "\n",
       "       Road_Surface      Traffic_Control         Collision_Location  \\\n",
       "6  05 - Packed snow  01 - Traffic signal  02 - Intersection related   \n",
       "7          06 - Ice      03 - Yield sign       03 - At intersection   \n",
       "8          01 - Dry      10 - No control      01 - Non intersection   \n",
       "\n",
       "           Light Collision_Classification     Impact_type  \n",
       "6      07 - Dark           03 - P.D. only   03 - Rear end  \n",
       "7  01 - Daylight           03 - P.D. only  07 - SMV other  \n",
       "8      07 - Dark           03 - P.D. only  07 - SMV other  "
      ]
     },
     "execution_count": 8,
     "metadata": {},
     "output_type": "execute_result"
    }
   ],
   "source": [
    "collisions"
   ]
  },
  {
   "cell_type": "code",
   "execution_count": 11,
   "metadata": {},
   "outputs": [],
   "source": [
    "\n",
    "for idx, row in collisions.iterrows():\n",
    "\n",
    "    fact_row = [location_dimension[(np.isclose(location_dimension[\"Longitude\"],row[\"Longitude\"]))&(np.isclose(location_dimension[\"Latitude\"],row[\"Latitude\"]))][\"Location_ID\"].values[0] ,\n",
    "                row[\"Record\"],\n",
    "                date_dimension[date_dimension[\"Date\"]==row[\"Date\"]][\"DateNum\"].values[0],\n",
    "                time_dimension[time_dimension[\"time_of_day\"]==row[\"Time\"]][\"ID\"].values[0],\n",
    "                weather_dimension[(weather_dimension[\"LOCAL_DATE\"]==row[\"Date\"])&(weather_dimension[\"STATION_NAME\"]==\"OTTAWA INTL A\")][\"ID\"].values[0]        \n",
    "               ]\n",
    "    \n",
    "    fatal_id = int(row['Collision_Classification'].split(\"-\")[0].strip())\n",
    "    intersection_id = int(row['Collision_Location'].split(\"-\")[0].strip())\n",
    "    \n",
    "    fact_row += [ 1 if fatal_id == 1 else 0 ,\n",
    "                           1 if intersection_id == 3 else 0 ]\n",
    "    \n",
    "    fact_table.loc[len(fact_table)] = fact_row\n"
   ]
  },
  {
   "cell_type": "code",
   "execution_count": 12,
   "metadata": {},
   "outputs": [
    {
     "data": {
      "text/html": [
       "<div>\n",
       "<style scoped>\n",
       "    .dataframe tbody tr th:only-of-type {\n",
       "        vertical-align: middle;\n",
       "    }\n",
       "\n",
       "    .dataframe tbody tr th {\n",
       "        vertical-align: top;\n",
       "    }\n",
       "\n",
       "    .dataframe thead th {\n",
       "        text-align: right;\n",
       "    }\n",
       "</style>\n",
       "<table border=\"1\" class=\"dataframe\">\n",
       "  <thead>\n",
       "    <tr style=\"text-align: right;\">\n",
       "      <th></th>\n",
       "      <th>Location_ID</th>\n",
       "      <th>Accident_ID</th>\n",
       "      <th>Date_ID</th>\n",
       "      <th>Time_ID</th>\n",
       "      <th>Weather_ID</th>\n",
       "      <th>Is_Fatal</th>\n",
       "      <th>Is_Intersection</th>\n",
       "    </tr>\n",
       "  </thead>\n",
       "  <tbody>\n",
       "    <tr>\n",
       "      <th>0</th>\n",
       "      <td>6</td>\n",
       "      <td>7</td>\n",
       "      <td>20170110</td>\n",
       "      <td>1234</td>\n",
       "      <td>61060012017110</td>\n",
       "      <td>0</td>\n",
       "      <td>0</td>\n",
       "    </tr>\n",
       "    <tr>\n",
       "      <th>1</th>\n",
       "      <td>7</td>\n",
       "      <td>8</td>\n",
       "      <td>20171120</td>\n",
       "      <td>597</td>\n",
       "      <td>610600120171120</td>\n",
       "      <td>0</td>\n",
       "      <td>1</td>\n",
       "    </tr>\n",
       "    <tr>\n",
       "      <th>2</th>\n",
       "      <td>8</td>\n",
       "      <td>9</td>\n",
       "      <td>20170704</td>\n",
       "      <td>1305</td>\n",
       "      <td>6106001201774</td>\n",
       "      <td>0</td>\n",
       "      <td>0</td>\n",
       "    </tr>\n",
       "  </tbody>\n",
       "</table>\n",
       "</div>"
      ],
      "text/plain": [
       "  Location_ID Accident_ID   Date_ID Time_ID       Weather_ID Is_Fatal  \\\n",
       "0           6           7  20170110    1234   61060012017110        0   \n",
       "1           7           8  20171120     597  610600120171120        0   \n",
       "2           8           9  20170704    1305    6106001201774        0   \n",
       "\n",
       "  Is_Intersection  \n",
       "0               0  \n",
       "1               1  \n",
       "2               0  "
      ]
     },
     "execution_count": 12,
     "metadata": {},
     "output_type": "execute_result"
    }
   ],
   "source": [
    "fact_table"
   ]
  },
  {
   "cell_type": "code",
   "execution_count": 14,
   "metadata": {},
   "outputs": [],
   "source": [
    "fact_table_final =  pd.DataFrame(columns=['Location_surrogate','Accident_surrogate','Date_surrogate', 'Time_surrogate', 'Weather_surrogate',\"Is_Fatal\",\"Is_Intersection\"])\n",
    "\n"
   ]
  },
  {
   "cell_type": "markdown",
   "metadata": {},
   "source": [
    "Replacing with surrogate keys"
   ]
  },
  {
   "cell_type": "code",
   "execution_count": 15,
   "metadata": {},
   "outputs": [],
   "source": [
    "\n",
    "for idx, row in fact_table.iterrows():\n",
    "    fact_row = [location_dimension[location_dimension[\"Location_ID\"]==row[\"Location_ID\"]][\"Location_surogate_key\"].values[0],\n",
    "                accident_dimension[accident_dimension[\"Accident_ID\"]==row[\"Accident_ID\"]][\"Accident_surogate_key\"].values[0],\n",
    "                date_dimension[date_dimension[\"DateNum\"]==row[\"Date_ID\"]][\"Dates_surrogate_key\"].values[0],\n",
    "                time_dimension[time_dimension[\"ID\"]==row[\"Time_ID\"]][\"surrogate_key\"].values[0],\n",
    "                weather_dimension[weather_dimension[\"ID\"]==row[\"Weather_ID\"]][\"surrogate_key\"].values[0],\n",
    "                row[\"Is_Fatal\"],row[\"Is_Intersection\"]\n",
    "               ]\n",
    "\n",
    "    \n",
    "    fact_table_final.loc[len(fact_table_final)] = fact_row"
   ]
  },
  {
   "cell_type": "code",
   "execution_count": 16,
   "metadata": {},
   "outputs": [
    {
     "data": {
      "text/html": [
       "<div>\n",
       "<style scoped>\n",
       "    .dataframe tbody tr th:only-of-type {\n",
       "        vertical-align: middle;\n",
       "    }\n",
       "\n",
       "    .dataframe tbody tr th {\n",
       "        vertical-align: top;\n",
       "    }\n",
       "\n",
       "    .dataframe thead th {\n",
       "        text-align: right;\n",
       "    }\n",
       "</style>\n",
       "<table border=\"1\" class=\"dataframe\">\n",
       "  <thead>\n",
       "    <tr style=\"text-align: right;\">\n",
       "      <th></th>\n",
       "      <th>Location_surrogate</th>\n",
       "      <th>Accident_surrogate</th>\n",
       "      <th>Date_surrogate</th>\n",
       "      <th>Time_surrogate</th>\n",
       "      <th>Weather_surrogate</th>\n",
       "      <th>Is_Fatal</th>\n",
       "      <th>Is_Intersection</th>\n",
       "    </tr>\n",
       "  </thead>\n",
       "  <tbody>\n",
       "    <tr>\n",
       "      <th>0</th>\n",
       "      <td>206</td>\n",
       "      <td>106</td>\n",
       "      <td>9506</td>\n",
       "      <td>1334</td>\n",
       "      <td>162</td>\n",
       "      <td>0</td>\n",
       "      <td>0</td>\n",
       "    </tr>\n",
       "    <tr>\n",
       "      <th>1</th>\n",
       "      <td>207</td>\n",
       "      <td>107</td>\n",
       "      <td>9820</td>\n",
       "      <td>697</td>\n",
       "      <td>476</td>\n",
       "      <td>0</td>\n",
       "      <td>1</td>\n",
       "    </tr>\n",
       "    <tr>\n",
       "      <th>2</th>\n",
       "      <td>208</td>\n",
       "      <td>108</td>\n",
       "      <td>9681</td>\n",
       "      <td>1405</td>\n",
       "      <td>337</td>\n",
       "      <td>0</td>\n",
       "      <td>0</td>\n",
       "    </tr>\n",
       "  </tbody>\n",
       "</table>\n",
       "</div>"
      ],
      "text/plain": [
       "  Location_surrogate Accident_surrogate Date_surrogate Time_surrogate  \\\n",
       "0                206                106           9506           1334   \n",
       "1                207                107           9820            697   \n",
       "2                208                108           9681           1405   \n",
       "\n",
       "  Weather_surrogate Is_Fatal Is_Intersection  \n",
       "0               162        0               0  \n",
       "1               476        0               1  \n",
       "2               337        0               0  "
      ]
     },
     "execution_count": 16,
     "metadata": {},
     "output_type": "execute_result"
    }
   ],
   "source": [
    "fact_table_final"
   ]
  },
  {
   "cell_type": "code",
   "execution_count": 17,
   "metadata": {},
   "outputs": [],
   "source": [
    "weather_dimension_final = weather_dimension[[ 'surrogate_key', 'ID', \n",
    "       'MEAN_TEMPERATURE',  'MIN_TEMPERATURE',\n",
    "       'MAX_TEMPERATURE', \n",
    "       'TOTAL_PRECIPITATION',  'TOTAL_RAIN',\n",
    "        'TOTAL_SNOW', 'DIRECTION_MAX_GUST', \n",
    "       'SPEED_MAX_GUST', 'COOLING_DEGREE_DAYS',\n",
    "      'HEATING_DEGREE_DAYS']]"
   ]
  },
  {
   "cell_type": "code",
   "execution_count": 19,
   "metadata": {},
   "outputs": [],
   "source": [
    "weather_dimension_final.to_csv(\"final_weather_dimension.csv\",index=False)"
   ]
  },
  {
   "cell_type": "code",
   "execution_count": null,
   "metadata": {},
   "outputs": [],
   "source": []
  }
 ],
 "metadata": {
  "kernelspec": {
   "display_name": "Python 3",
   "language": "python",
   "name": "python3"
  },
  "language_info": {
   "codemirror_mode": {
    "name": "ipython",
    "version": 3
   },
   "file_extension": ".py",
   "mimetype": "text/x-python",
   "name": "python",
   "nbconvert_exporter": "python",
   "pygments_lexer": "ipython3",
   "version": "3.7.5"
  }
 },
 "nbformat": 4,
 "nbformat_minor": 4
}
