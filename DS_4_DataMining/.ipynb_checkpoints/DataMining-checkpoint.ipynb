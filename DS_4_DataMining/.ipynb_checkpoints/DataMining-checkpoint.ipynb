{
 "cells": [
  {
   "cell_type": "code",
   "execution_count": 12,
   "metadata": {
    "ExecuteTime": {
     "end_time": "2021-04-13T21:56:07.203120Z",
     "start_time": "2021-04-13T21:56:07.196710Z"
    }
   },
   "outputs": [],
   "source": [
    "from configparser import ConfigParser\n",
    "import psycopg2\n",
    "import pandas as pd\n",
    "import numpy as np\n",
    "import matplotlib.pyplot as plt\n",
    "from sklearn import tree\n",
    "from sklearn.tree import DecisionTreeClassifier,export_text\n",
    "from sklearn.utils import shuffle\n",
    "from sklearn.model_selection import train_test_split\n",
    "from sklearn.ensemble import RandomForestClassifier,GradientBoostingClassifier\n",
    "from sklearn.metrics import recall_score, precision_score, confusion_matrix, classification_report\n",
    "from sklearn.datasets import load_iris\n",
    "from collections import Counter \n",
    "import datetime\n",
    "import pickle\n",
    "import time\n",
    "import os\n",
    "\n",
    "\n",
    "\n"
   ]
  },
  {
   "cell_type": "code",
   "execution_count": null,
   "metadata": {},
   "outputs": [],
   "source": []
  },
  {
   "cell_type": "code",
   "execution_count": 13,
   "metadata": {
    "ExecuteTime": {
     "end_time": "2021-04-13T21:56:07.501379Z",
     "start_time": "2021-04-13T21:56:07.487218Z"
    }
   },
   "outputs": [],
   "source": [
    "#Sourced from https://www.postgresqltutorial.com/postgresql-python/connect/\n",
    "def config(filename='psql_sample.ini', section='postgresql'):\n",
    "    parser = ConfigParser()\n",
    "    # read config file\n",
    "    parser.read(filename) \n",
    " \n",
    "    # get section, default to postgresql\n",
    "    db = {}\n",
    "    if parser.has_section(section):\n",
    "        params = parser.items(section)\n",
    "        for param in params:\n",
    "            db[param[0]] = param[1]\n",
    "    else:\n",
    "        raise Exception('Section {0} not found in the {1} file'.format(section, filename))\n",
    " \n",
    "    return db"
   ]
  },
  {
   "cell_type": "code",
   "execution_count": 14,
   "metadata": {
    "ExecuteTime": {
     "end_time": "2021-04-13T21:56:07.629434Z",
     "start_time": "2021-04-13T21:56:07.621007Z"
    }
   },
   "outputs": [],
   "source": [
    "cfg = config()"
   ]
  },
  {
   "cell_type": "code",
   "execution_count": 16,
   "metadata": {
    "ExecuteTime": {
     "end_time": "2021-04-13T21:57:46.757750Z",
     "start_time": "2021-04-13T21:57:46.270525Z"
    }
   },
   "outputs": [
    {
     "name": "stdout",
     "output_type": "stream",
     "text": [
      "Here's an attempt to connect to the database\n",
      "Look's like it was a success\n"
     ]
    }
   ],
   "source": [
    "#Establish the connection and create a cursor to the database\n",
    "try:\n",
    "    print(\"Here's an attempt to connect to the database\")\n",
    "#     conn = psycopg2.connect(**cfg)\n",
    "    conn = psycopg2.connect(\n",
    "        host=\"www.eecs.uottawa.ca\",\n",
    "        database=\"group_22\",\n",
    "        user=\"yzhao156\",\n",
    "        password=\"Uozone82211099@\",\n",
    "        port=15432\n",
    "    )\n",
    "    cursor = conn.cursor()\n",
    "    print(\"Look's like it was a success\")\n",
    "    \n",
    "except (Exception, psycopg2.DatabaseError) as error:\n",
    "    print(error)"
   ]
  },
  {
   "cell_type": "code",
   "execution_count": 17,
   "metadata": {
    "ExecuteTime": {
     "end_time": "2021-04-13T21:58:14.068599Z",
     "start_time": "2021-04-13T21:57:54.313461Z"
    }
   },
   "outputs": [],
   "source": [
    "try:\n",
    "    #Lets get our data \n",
    "    cursor.execute(\n",
    "    \"\"\"\n",
    "SELECT D.month as month,  S.title as special_measure, \n",
    "    P.Age_Group as Age_Group, P.client_gender as gender, \n",
    "    M.parks_percent_change_from_baseline as a,\n",
    "    M.workplaces_percent_change_from_baseline as b,\n",
    "    M.residential_percent_change_from_baseline as c,\n",
    "    M.transit_stations_percent_change_from_baseline as d,\n",
    "    F.fatal as fatal\n",
    "FROM covid19_tracking_fact_table F, \n",
    "    date_dimension D, \n",
    "    mobility_dimension M,\n",
    "    special_measures_dimension S,\n",
    "    patient_dimension P\n",
    "WHERE F.reported_date_key = D.surrogate_key AND\n",
    "    F.special_measure_key = S.surrogate_key AND\n",
    "    F.mobility_key = M.surrogate_key AND\n",
    "    F.patient_key = P.surrogate_key \n",
    "ORDER BY D.date\n",
    "    \"\"\"    \n",
    "        \n",
    "                  \n",
    "    \n",
    "    )\n",
    "\n",
    "    #Get the complete result set. It will be a list of tuples where each tuple is a row from the result set\n",
    "    result_list = cursor.fetchall()\n",
    "        \n",
    "except (Exception, psycopg2.DatabaseError) as error:\n",
    "    print(error)"
   ]
  },
  {
   "cell_type": "code",
   "execution_count": 18,
   "metadata": {
    "ExecuteTime": {
     "end_time": "2021-04-13T21:58:45.252232Z",
     "start_time": "2021-04-13T21:58:45.243872Z"
    }
   },
   "outputs": [],
   "source": [
    "cursor.close()\n",
    "conn.close()"
   ]
  },
  {
   "cell_type": "code",
   "execution_count": 70,
   "metadata": {
    "ExecuteTime": {
     "end_time": "2021-04-13T22:08:52.383458Z",
     "start_time": "2021-04-13T22:08:52.217787Z"
    }
   },
   "outputs": [],
   "source": [
    "data = pd.DataFrame(result_list,columns=[\"month\", \"special_measure\",\n",
    "                \"Age_Group\", \"gender\", \"park\", \"workplace\", \"residential\",\"transit\", \"fatal\"])"
   ]
  },
  {
   "cell_type": "code",
   "execution_count": 71,
   "metadata": {
    "ExecuteTime": {
     "end_time": "2021-04-13T22:08:52.976466Z",
     "start_time": "2021-04-13T22:08:52.959595Z"
    }
   },
   "outputs": [
    {
     "data": {
      "text/html": [
       "<div>\n",
       "<style scoped>\n",
       "    .dataframe tbody tr th:only-of-type {\n",
       "        vertical-align: middle;\n",
       "    }\n",
       "\n",
       "    .dataframe tbody tr th {\n",
       "        vertical-align: top;\n",
       "    }\n",
       "\n",
       "    .dataframe thead th {\n",
       "        text-align: right;\n",
       "    }\n",
       "</style>\n",
       "<table border=\"1\" class=\"dataframe\">\n",
       "  <thead>\n",
       "    <tr style=\"text-align: right;\">\n",
       "      <th></th>\n",
       "      <th>month</th>\n",
       "      <th>special_measure</th>\n",
       "      <th>Age_Group</th>\n",
       "      <th>gender</th>\n",
       "      <th>park</th>\n",
       "      <th>workplace</th>\n",
       "      <th>residential</th>\n",
       "      <th>transit</th>\n",
       "      <th>fatal</th>\n",
       "    </tr>\n",
       "  </thead>\n",
       "  <tbody>\n",
       "    <tr>\n",
       "      <th>0</th>\n",
       "      <td>11</td>\n",
       "      <td>Restrict</td>\n",
       "      <td>20s</td>\n",
       "      <td>MALE</td>\n",
       "      <td>-26.0</td>\n",
       "      <td>-11.0</td>\n",
       "      <td>6.0</td>\n",
       "      <td>-59.0</td>\n",
       "      <td>0</td>\n",
       "    </tr>\n",
       "    <tr>\n",
       "      <th>1</th>\n",
       "      <td>11</td>\n",
       "      <td>Restrict</td>\n",
       "      <td>20s</td>\n",
       "      <td>MALE</td>\n",
       "      <td>-26.0</td>\n",
       "      <td>-11.0</td>\n",
       "      <td>6.0</td>\n",
       "      <td>-59.0</td>\n",
       "      <td>0</td>\n",
       "    </tr>\n",
       "    <tr>\n",
       "      <th>2</th>\n",
       "      <td>11</td>\n",
       "      <td>Restrict</td>\n",
       "      <td>40s</td>\n",
       "      <td>FEMALE</td>\n",
       "      <td>-26.0</td>\n",
       "      <td>-11.0</td>\n",
       "      <td>6.0</td>\n",
       "      <td>-59.0</td>\n",
       "      <td>0</td>\n",
       "    </tr>\n",
       "    <tr>\n",
       "      <th>3</th>\n",
       "      <td>11</td>\n",
       "      <td>Restrict</td>\n",
       "      <td>50s</td>\n",
       "      <td>MALE</td>\n",
       "      <td>-26.0</td>\n",
       "      <td>-11.0</td>\n",
       "      <td>6.0</td>\n",
       "      <td>-59.0</td>\n",
       "      <td>0</td>\n",
       "    </tr>\n",
       "    <tr>\n",
       "      <th>4</th>\n",
       "      <td>11</td>\n",
       "      <td>Restrict</td>\n",
       "      <td>20s</td>\n",
       "      <td>FEMALE</td>\n",
       "      <td>-26.0</td>\n",
       "      <td>-11.0</td>\n",
       "      <td>6.0</td>\n",
       "      <td>-59.0</td>\n",
       "      <td>0</td>\n",
       "    </tr>\n",
       "  </tbody>\n",
       "</table>\n",
       "</div>"
      ],
      "text/plain": [
       "   month special_measure Age_Group  gender  park  workplace  residential  \\\n",
       "0     11        Restrict       20s    MALE -26.0      -11.0          6.0   \n",
       "1     11        Restrict       20s    MALE -26.0      -11.0          6.0   \n",
       "2     11        Restrict       40s  FEMALE -26.0      -11.0          6.0   \n",
       "3     11        Restrict       50s    MALE -26.0      -11.0          6.0   \n",
       "4     11        Restrict       20s  FEMALE -26.0      -11.0          6.0   \n",
       "\n",
       "   transit  fatal  \n",
       "0    -59.0      0  \n",
       "1    -59.0      0  \n",
       "2    -59.0      0  \n",
       "3    -59.0      0  \n",
       "4    -59.0      0  "
      ]
     },
     "execution_count": 71,
     "metadata": {},
     "output_type": "execute_result"
    }
   ],
   "source": [
    "data.head()"
   ]
  },
  {
   "cell_type": "code",
   "execution_count": 72,
   "metadata": {
    "ExecuteTime": {
     "end_time": "2021-04-13T22:08:54.710671Z",
     "start_time": "2021-04-13T22:08:53.739131Z"
    }
   },
   "outputs": [
    {
     "data": {
      "text/plain": [
       "<matplotlib.axes._subplots.AxesSubplot at 0x7fe270f60b50>"
      ]
     },
     "execution_count": 72,
     "metadata": {},
     "output_type": "execute_result"
    },
    {
     "data": {
      "image/png": "[encoded data removed]",
      "text/plain": [
       "<Figure size 432x288 with 1 Axes>"
      ]
     },
     "metadata": {
      "needs_background": "light"
     },
     "output_type": "display_data"
    }
   ],
   "source": [
    "data.boxplot(column=[\"month\", \"park\", \"workplace\", \"residential\",\"transit\", \"fatal\"])"
   ]
  },
  {
   "cell_type": "code",
   "execution_count": 73,
   "metadata": {
    "ExecuteTime": {
     "end_time": "2021-04-13T22:08:54.963688Z",
     "start_time": "2021-04-13T22:08:54.713331Z"
    },
    "scrolled": false
   },
   "outputs": [
    {
     "data": {
      "text/plain": [
       "(array([9.27057791e-01, 0.00000000e+00, 0.00000000e+00, 0.00000000e+00,\n",
       "        6.49280013e-01, 0.00000000e+00, 0.00000000e+00, 0.00000000e+00,\n",
       "        6.59857445e-01, 0.00000000e+00, 0.00000000e+00, 0.00000000e+00,\n",
       "        0.00000000e+00, 1.98356892e-01, 0.00000000e+00, 0.00000000e+00,\n",
       "        0.00000000e+00, 6.63944180e-01, 0.00000000e+00, 0.00000000e+00,\n",
       "        0.00000000e+00, 0.00000000e+00, 7.20857974e-01, 0.00000000e+00,\n",
       "        0.00000000e+00, 0.00000000e+00, 4.08883841e-01, 0.00000000e+00,\n",
       "        0.00000000e+00, 0.00000000e+00, 0.00000000e+00, 1.40391365e-01,\n",
       "        0.00000000e+00, 0.00000000e+00, 0.00000000e+00, 7.54543488e-02,\n",
       "        0.00000000e+00, 0.00000000e+00, 0.00000000e+00, 3.60594259e-04]),\n",
       " array([0.   , 0.225, 0.45 , 0.675, 0.9  , 1.125, 1.35 , 1.575, 1.8  ,\n",
       "        2.025, 2.25 , 2.475, 2.7  , 2.925, 3.15 , 3.375, 3.6  , 3.825,\n",
       "        4.05 , 4.275, 4.5  , 4.725, 4.95 , 5.175, 5.4  , 5.625, 5.85 ,\n",
       "        6.075, 6.3  , 6.525, 6.75 , 6.975, 7.2  , 7.425, 7.65 , 7.875,\n",
       "        8.1  , 8.325, 8.55 , 8.775, 9.   ]),\n",
       " <a list of 1 Patch objects>)"
      ]
     },
     "execution_count": 73,
     "metadata": {},
     "output_type": "execute_result"
    },
    {
     "data": {
      "image/png": "[encoded data removed]",
      "text/plain": [
       "<Figure size 432x288 with 1 Axes>"
      ]
     },
     "metadata": {
      "needs_background": "light"
     },
     "output_type": "display_data"
    }
   ],
   "source": [
    "kwargs = dict(histtype='stepfilled', alpha=0.3, density=True, bins=40)\n",
    "plt.hist(data['Age_Group'], **kwargs)"
   ]
  },
  {
   "cell_type": "markdown",
   "metadata": {},
   "source": [
    "# A.2"
   ]
  },
  {
   "cell_type": "code",
   "execution_count": 74,
   "metadata": {
    "ExecuteTime": {
     "end_time": "2021-04-13T22:08:55.004117Z",
     "start_time": "2021-04-13T22:08:54.967632Z"
    },
    "scrolled": true
   },
   "outputs": [
    {
     "data": {
      "text/plain": [
       "month              0\n",
       "special_measure    0\n",
       "Age_Group          0\n",
       "gender             0\n",
       "park               0\n",
       "workplace          0\n",
       "residential        0\n",
       "transit            0\n",
       "fatal              0\n",
       "dtype: int64"
      ]
     },
     "execution_count": 74,
     "metadata": {},
     "output_type": "execute_result"
    }
   ],
   "source": [
    "data.isna().sum()"
   ]
  },
  {
   "cell_type": "code",
   "execution_count": 75,
   "metadata": {
    "ExecuteTime": {
     "end_time": "2021-04-13T22:08:55.070064Z",
     "start_time": "2021-04-13T22:08:55.022886Z"
    }
   },
   "outputs": [],
   "source": [
    "data = data[data['Age_Group']!=\"UNKNOWN\"]"
   ]
  },
  {
   "cell_type": "code",
   "execution_count": 76,
   "metadata": {
    "ExecuteTime": {
     "end_time": "2021-04-13T22:08:55.093559Z",
     "start_time": "2021-04-13T22:08:55.072522Z"
    }
   },
   "outputs": [
    {
     "data": {
      "text/plain": [
       "0      20s\n",
       "2      40s\n",
       "3      50s\n",
       "5      70s\n",
       "9      <20\n",
       "10     30s\n",
       "12     60s\n",
       "19     80s\n",
       "542    90+\n",
       "Name: Age_Group, dtype: object"
      ]
     },
     "execution_count": 76,
     "metadata": {},
     "output_type": "execute_result"
    }
   ],
   "source": [
    "data['Age_Group'].drop_duplicates()"
   ]
  },
  {
   "cell_type": "code",
   "execution_count": 77,
   "metadata": {
    "ExecuteTime": {
     "end_time": "2021-04-13T22:08:55.176085Z",
     "start_time": "2021-04-13T22:08:55.097435Z"
    }
   },
   "outputs": [],
   "source": [
    "mapping_age = {\n",
    "    '<20':0,\n",
    "    '20s':1,\n",
    "    '30s':2,\n",
    "    '40s':3,\n",
    "    '50s':4,\n",
    "    '60s':5,\n",
    "    '70s':6,\n",
    "    '80s':7,\n",
    "    '90+':8\n",
    "}\n",
    "data['Age_Group'] = data['Age_Group'].map(lambda x : mapping_age[x])\n",
    "    "
   ]
  },
  {
   "cell_type": "code",
   "execution_count": 78,
   "metadata": {
    "ExecuteTime": {
     "end_time": "2021-04-13T22:08:55.234302Z",
     "start_time": "2021-04-13T22:08:55.178460Z"
    }
   },
   "outputs": [],
   "source": [
    "mapping_month = {\n",
    "    11:1,\n",
    "    12:2,\n",
    "    1:3,\n",
    "    2:4\n",
    "}\n",
    "data['month'] = data['month'].map(lambda x : mapping_month[x])"
   ]
  },
  {
   "cell_type": "code",
   "execution_count": 79,
   "metadata": {
    "ExecuteTime": {
     "end_time": "2021-04-13T22:08:55.301284Z",
     "start_time": "2021-04-13T22:08:55.239269Z"
    }
   },
   "outputs": [],
   "source": [
    "mapping_gender = {\n",
    "    'MALE':0,\n",
    "    'FEMALE':1,\n",
    "    'UNSPECIFIED':2,\n",
    "    'GENDER DIVERSE':3\n",
    "}\n",
    "data['gender'] = data['gender'].map(lambda x : mapping_gender[x])\n"
   ]
  },
  {
   "cell_type": "code",
   "execution_count": 80,
   "metadata": {
    "ExecuteTime": {
     "end_time": "2021-04-13T22:08:55.414085Z",
     "start_time": "2021-04-13T22:08:55.395440Z"
    }
   },
   "outputs": [
    {
     "data": {
      "text/plain": [
       "12"
      ]
     },
     "execution_count": 80,
     "metadata": {},
     "output_type": "execute_result"
    }
   ],
   "source": [
    "data[data['gender']==3]['gender'].count()"
   ]
  },
  {
   "cell_type": "code",
   "execution_count": 81,
   "metadata": {
    "ExecuteTime": {
     "end_time": "2021-04-13T22:08:56.944528Z",
     "start_time": "2021-04-13T22:08:56.921345Z"
    }
   },
   "outputs": [
    {
     "data": {
      "text/plain": [
       "626"
      ]
     },
     "execution_count": 81,
     "metadata": {},
     "output_type": "execute_result"
    }
   ],
   "source": [
    "data[data['gender']==2]['gender'].count()"
   ]
  },
  {
   "cell_type": "code",
   "execution_count": 82,
   "metadata": {
    "ExecuteTime": {
     "end_time": "2021-04-13T22:08:57.097655Z",
     "start_time": "2021-04-13T22:08:57.075893Z"
    }
   },
   "outputs": [
    {
     "data": {
      "text/plain": [
       "73283"
      ]
     },
     "execution_count": 82,
     "metadata": {},
     "output_type": "execute_result"
    }
   ],
   "source": [
    "data[data['gender']==1]['gender'].count()"
   ]
  },
  {
   "cell_type": "code",
   "execution_count": 83,
   "metadata": {
    "ExecuteTime": {
     "end_time": "2021-04-13T22:08:57.859186Z",
     "start_time": "2021-04-13T22:08:57.833012Z"
    }
   },
   "outputs": [],
   "source": [
    "data = data[data['gender']<2]"
   ]
  },
  {
   "cell_type": "code",
   "execution_count": 84,
   "metadata": {
    "ExecuteTime": {
     "end_time": "2021-04-13T22:08:58.361065Z",
     "start_time": "2021-04-13T22:08:58.337362Z"
    }
   },
   "outputs": [
    {
     "data": {
      "text/plain": [
       "(147254, 5)"
      ]
     },
     "execution_count": 84,
     "metadata": {},
     "output_type": "execute_result"
    }
   ],
   "source": [
    "one_hot = pd.get_dummies(data.special_measure, prefix='special_measure')\n",
    "one_hot.shape"
   ]
  },
  {
   "cell_type": "code",
   "execution_count": 85,
   "metadata": {
    "ExecuteTime": {
     "end_time": "2021-04-13T22:08:58.901326Z",
     "start_time": "2021-04-13T22:08:58.893709Z"
    }
   },
   "outputs": [
    {
     "data": {
      "text/plain": [
       "(147254, 9)"
      ]
     },
     "execution_count": 85,
     "metadata": {},
     "output_type": "execute_result"
    }
   ],
   "source": [
    "data.shape"
   ]
  },
  {
   "cell_type": "code",
   "execution_count": 86,
   "metadata": {
    "ExecuteTime": {
     "end_time": "2021-04-13T22:09:03.740851Z",
     "start_time": "2021-04-13T22:09:03.728551Z"
    }
   },
   "outputs": [],
   "source": [
    "data = pd.concat([data,one_hot],axis=1)"
   ]
  },
  {
   "cell_type": "code",
   "execution_count": 87,
   "metadata": {
    "ExecuteTime": {
     "end_time": "2021-04-13T22:09:03.895843Z",
     "start_time": "2021-04-13T22:09:03.880840Z"
    }
   },
   "outputs": [],
   "source": [
    "data = data.drop(columns=['special_measure'])"
   ]
  },
  {
   "cell_type": "code",
   "execution_count": 88,
   "metadata": {
    "ExecuteTime": {
     "end_time": "2021-04-13T22:09:04.583846Z",
     "start_time": "2021-04-13T22:09:04.558051Z"
    }
   },
   "outputs": [
    {
     "data": {
      "text/html": [
       "<div>\n",
       "<style scoped>\n",
       "    .dataframe tbody tr th:only-of-type {\n",
       "        vertical-align: middle;\n",
       "    }\n",
       "\n",
       "    .dataframe tbody tr th {\n",
       "        vertical-align: top;\n",
       "    }\n",
       "\n",
       "    .dataframe thead th {\n",
       "        text-align: right;\n",
       "    }\n",
       "</style>\n",
       "<table border=\"1\" class=\"dataframe\">\n",
       "  <thead>\n",
       "    <tr style=\"text-align: right;\">\n",
       "      <th></th>\n",
       "      <th>month</th>\n",
       "      <th>Age_Group</th>\n",
       "      <th>gender</th>\n",
       "      <th>park</th>\n",
       "      <th>workplace</th>\n",
       "      <th>residential</th>\n",
       "      <th>transit</th>\n",
       "      <th>fatal</th>\n",
       "      <th>special_measure_Control</th>\n",
       "      <th>special_measure_Lockdown</th>\n",
       "      <th>special_measure_Prevent</th>\n",
       "      <th>special_measure_Protect</th>\n",
       "      <th>special_measure_Restrict</th>\n",
       "    </tr>\n",
       "  </thead>\n",
       "  <tbody>\n",
       "    <tr>\n",
       "      <th>0</th>\n",
       "      <td>1</td>\n",
       "      <td>1</td>\n",
       "      <td>0</td>\n",
       "      <td>-26.0</td>\n",
       "      <td>-11.0</td>\n",
       "      <td>6.0</td>\n",
       "      <td>-59.0</td>\n",
       "      <td>0</td>\n",
       "      <td>0</td>\n",
       "      <td>0</td>\n",
       "      <td>0</td>\n",
       "      <td>0</td>\n",
       "      <td>1</td>\n",
       "    </tr>\n",
       "    <tr>\n",
       "      <th>1</th>\n",
       "      <td>1</td>\n",
       "      <td>1</td>\n",
       "      <td>0</td>\n",
       "      <td>-26.0</td>\n",
       "      <td>-11.0</td>\n",
       "      <td>6.0</td>\n",
       "      <td>-59.0</td>\n",
       "      <td>0</td>\n",
       "      <td>0</td>\n",
       "      <td>0</td>\n",
       "      <td>0</td>\n",
       "      <td>0</td>\n",
       "      <td>1</td>\n",
       "    </tr>\n",
       "    <tr>\n",
       "      <th>2</th>\n",
       "      <td>1</td>\n",
       "      <td>3</td>\n",
       "      <td>1</td>\n",
       "      <td>-26.0</td>\n",
       "      <td>-11.0</td>\n",
       "      <td>6.0</td>\n",
       "      <td>-59.0</td>\n",
       "      <td>0</td>\n",
       "      <td>0</td>\n",
       "      <td>0</td>\n",
       "      <td>0</td>\n",
       "      <td>0</td>\n",
       "      <td>1</td>\n",
       "    </tr>\n",
       "    <tr>\n",
       "      <th>3</th>\n",
       "      <td>1</td>\n",
       "      <td>4</td>\n",
       "      <td>0</td>\n",
       "      <td>-26.0</td>\n",
       "      <td>-11.0</td>\n",
       "      <td>6.0</td>\n",
       "      <td>-59.0</td>\n",
       "      <td>0</td>\n",
       "      <td>0</td>\n",
       "      <td>0</td>\n",
       "      <td>0</td>\n",
       "      <td>0</td>\n",
       "      <td>1</td>\n",
       "    </tr>\n",
       "    <tr>\n",
       "      <th>4</th>\n",
       "      <td>1</td>\n",
       "      <td>1</td>\n",
       "      <td>1</td>\n",
       "      <td>-26.0</td>\n",
       "      <td>-11.0</td>\n",
       "      <td>6.0</td>\n",
       "      <td>-59.0</td>\n",
       "      <td>0</td>\n",
       "      <td>0</td>\n",
       "      <td>0</td>\n",
       "      <td>0</td>\n",
       "      <td>0</td>\n",
       "      <td>1</td>\n",
       "    </tr>\n",
       "    <tr>\n",
       "      <th>...</th>\n",
       "      <td>...</td>\n",
       "      <td>...</td>\n",
       "      <td>...</td>\n",
       "      <td>...</td>\n",
       "      <td>...</td>\n",
       "      <td>...</td>\n",
       "      <td>...</td>\n",
       "      <td>...</td>\n",
       "      <td>...</td>\n",
       "      <td>...</td>\n",
       "      <td>...</td>\n",
       "      <td>...</td>\n",
       "      <td>...</td>\n",
       "    </tr>\n",
       "    <tr>\n",
       "      <th>147899</th>\n",
       "      <td>4</td>\n",
       "      <td>0</td>\n",
       "      <td>1</td>\n",
       "      <td>29.0</td>\n",
       "      <td>-13.0</td>\n",
       "      <td>10.0</td>\n",
       "      <td>-55.0</td>\n",
       "      <td>0</td>\n",
       "      <td>1</td>\n",
       "      <td>0</td>\n",
       "      <td>0</td>\n",
       "      <td>0</td>\n",
       "      <td>0</td>\n",
       "    </tr>\n",
       "    <tr>\n",
       "      <th>147900</th>\n",
       "      <td>4</td>\n",
       "      <td>5</td>\n",
       "      <td>0</td>\n",
       "      <td>29.0</td>\n",
       "      <td>-13.0</td>\n",
       "      <td>10.0</td>\n",
       "      <td>-55.0</td>\n",
       "      <td>0</td>\n",
       "      <td>1</td>\n",
       "      <td>0</td>\n",
       "      <td>0</td>\n",
       "      <td>0</td>\n",
       "      <td>0</td>\n",
       "    </tr>\n",
       "    <tr>\n",
       "      <th>147901</th>\n",
       "      <td>4</td>\n",
       "      <td>1</td>\n",
       "      <td>0</td>\n",
       "      <td>29.0</td>\n",
       "      <td>-13.0</td>\n",
       "      <td>10.0</td>\n",
       "      <td>-55.0</td>\n",
       "      <td>0</td>\n",
       "      <td>1</td>\n",
       "      <td>0</td>\n",
       "      <td>0</td>\n",
       "      <td>0</td>\n",
       "      <td>0</td>\n",
       "    </tr>\n",
       "    <tr>\n",
       "      <th>147902</th>\n",
       "      <td>4</td>\n",
       "      <td>0</td>\n",
       "      <td>1</td>\n",
       "      <td>28.0</td>\n",
       "      <td>-3.0</td>\n",
       "      <td>6.0</td>\n",
       "      <td>-58.0</td>\n",
       "      <td>0</td>\n",
       "      <td>0</td>\n",
       "      <td>0</td>\n",
       "      <td>0</td>\n",
       "      <td>1</td>\n",
       "      <td>0</td>\n",
       "    </tr>\n",
       "    <tr>\n",
       "      <th>147903</th>\n",
       "      <td>4</td>\n",
       "      <td>0</td>\n",
       "      <td>0</td>\n",
       "      <td>28.0</td>\n",
       "      <td>-3.0</td>\n",
       "      <td>6.0</td>\n",
       "      <td>-58.0</td>\n",
       "      <td>0</td>\n",
       "      <td>0</td>\n",
       "      <td>0</td>\n",
       "      <td>0</td>\n",
       "      <td>1</td>\n",
       "      <td>0</td>\n",
       "    </tr>\n",
       "  </tbody>\n",
       "</table>\n",
       "<p>147254 rows × 13 columns</p>\n",
       "</div>"
      ],
      "text/plain": [
       "        month  Age_Group  gender  park  workplace  residential  transit  \\\n",
       "0           1          1       0 -26.0      -11.0          6.0    -59.0   \n",
       "1           1          1       0 -26.0      -11.0          6.0    -59.0   \n",
       "2           1          3       1 -26.0      -11.0          6.0    -59.0   \n",
       "3           1          4       0 -26.0      -11.0          6.0    -59.0   \n",
       "4           1          1       1 -26.0      -11.0          6.0    -59.0   \n",
       "...       ...        ...     ...   ...        ...          ...      ...   \n",
       "147899      4          0       1  29.0      -13.0         10.0    -55.0   \n",
       "147900      4          5       0  29.0      -13.0         10.0    -55.0   \n",
       "147901      4          1       0  29.0      -13.0         10.0    -55.0   \n",
       "147902      4          0       1  28.0       -3.0          6.0    -58.0   \n",
       "147903      4          0       0  28.0       -3.0          6.0    -58.0   \n",
       "\n",
       "        fatal  special_measure_Control  special_measure_Lockdown  \\\n",
       "0           0                        0                         0   \n",
       "1           0                        0                         0   \n",
       "2           0                        0                         0   \n",
       "3           0                        0                         0   \n",
       "4           0                        0                         0   \n",
       "...       ...                      ...                       ...   \n",
       "147899      0                        1                         0   \n",
       "147900      0                        1                         0   \n",
       "147901      0                        1                         0   \n",
       "147902      0                        0                         0   \n",
       "147903      0                        0                         0   \n",
       "\n",
       "        special_measure_Prevent  special_measure_Protect  \\\n",
       "0                             0                        0   \n",
       "1                             0                        0   \n",
       "2                             0                        0   \n",
       "3                             0                        0   \n",
       "4                             0                        0   \n",
       "...                         ...                      ...   \n",
       "147899                        0                        0   \n",
       "147900                        0                        0   \n",
       "147901                        0                        0   \n",
       "147902                        0                        1   \n",
       "147903                        0                        1   \n",
       "\n",
       "        special_measure_Restrict  \n",
       "0                              1  \n",
       "1                              1  \n",
       "2                              1  \n",
       "3                              1  \n",
       "4                              1  \n",
       "...                          ...  \n",
       "147899                         0  \n",
       "147900                         0  \n",
       "147901                         0  \n",
       "147902                         0  \n",
       "147903                         0  \n",
       "\n",
       "[147254 rows x 13 columns]"
      ]
     },
     "execution_count": 88,
     "metadata": {},
     "output_type": "execute_result"
    }
   ],
   "source": [
    "data"
   ]
  },
  {
   "cell_type": "markdown",
   "metadata": {},
   "source": [
    "### normalisation"
   ]
  },
  {
   "cell_type": "code",
   "execution_count": 89,
   "metadata": {
    "ExecuteTime": {
     "end_time": "2021-04-13T22:09:08.432570Z",
     "start_time": "2021-04-13T22:09:08.404892Z"
    }
   },
   "outputs": [],
   "source": [
    "#normalize mobility\n",
    "l = ['month','park','Age_Group', 'workplace','residential','transit']\n",
    "for i in l:\n",
    "    data[i] = (data[i]-data[i].min())/(data[i].max()-data[i].min())\n"
   ]
  },
  {
   "cell_type": "code",
   "execution_count": null,
   "metadata": {},
   "outputs": [],
   "source": []
  },
  {
   "cell_type": "code",
   "execution_count": 90,
   "metadata": {
    "ExecuteTime": {
     "end_time": "2021-04-13T22:09:09.595915Z",
     "start_time": "2021-04-13T22:09:09.569371Z"
    }
   },
   "outputs": [
    {
     "data": {
      "text/html": [
       "<div>\n",
       "<style scoped>\n",
       "    .dataframe tbody tr th:only-of-type {\n",
       "        vertical-align: middle;\n",
       "    }\n",
       "\n",
       "    .dataframe tbody tr th {\n",
       "        vertical-align: top;\n",
       "    }\n",
       "\n",
       "    .dataframe thead th {\n",
       "        text-align: right;\n",
       "    }\n",
       "</style>\n",
       "<table border=\"1\" class=\"dataframe\">\n",
       "  <thead>\n",
       "    <tr style=\"text-align: right;\">\n",
       "      <th></th>\n",
       "      <th>month</th>\n",
       "      <th>Age_Group</th>\n",
       "      <th>gender</th>\n",
       "      <th>park</th>\n",
       "      <th>workplace</th>\n",
       "      <th>residential</th>\n",
       "      <th>transit</th>\n",
       "      <th>fatal</th>\n",
       "      <th>special_measure_Control</th>\n",
       "      <th>special_measure_Lockdown</th>\n",
       "      <th>special_measure_Prevent</th>\n",
       "      <th>special_measure_Protect</th>\n",
       "      <th>special_measure_Restrict</th>\n",
       "    </tr>\n",
       "  </thead>\n",
       "  <tbody>\n",
       "    <tr>\n",
       "      <th>0</th>\n",
       "      <td>0.0</td>\n",
       "      <td>0.125</td>\n",
       "      <td>0</td>\n",
       "      <td>0.084112</td>\n",
       "      <td>0.857143</td>\n",
       "      <td>0.088235</td>\n",
       "      <td>0.3625</td>\n",
       "      <td>0</td>\n",
       "      <td>0</td>\n",
       "      <td>0</td>\n",
       "      <td>0</td>\n",
       "      <td>0</td>\n",
       "      <td>1</td>\n",
       "    </tr>\n",
       "    <tr>\n",
       "      <th>1</th>\n",
       "      <td>0.0</td>\n",
       "      <td>0.125</td>\n",
       "      <td>0</td>\n",
       "      <td>0.084112</td>\n",
       "      <td>0.857143</td>\n",
       "      <td>0.088235</td>\n",
       "      <td>0.3625</td>\n",
       "      <td>0</td>\n",
       "      <td>0</td>\n",
       "      <td>0</td>\n",
       "      <td>0</td>\n",
       "      <td>0</td>\n",
       "      <td>1</td>\n",
       "    </tr>\n",
       "    <tr>\n",
       "      <th>2</th>\n",
       "      <td>0.0</td>\n",
       "      <td>0.375</td>\n",
       "      <td>1</td>\n",
       "      <td>0.084112</td>\n",
       "      <td>0.857143</td>\n",
       "      <td>0.088235</td>\n",
       "      <td>0.3625</td>\n",
       "      <td>0</td>\n",
       "      <td>0</td>\n",
       "      <td>0</td>\n",
       "      <td>0</td>\n",
       "      <td>0</td>\n",
       "      <td>1</td>\n",
       "    </tr>\n",
       "    <tr>\n",
       "      <th>3</th>\n",
       "      <td>0.0</td>\n",
       "      <td>0.500</td>\n",
       "      <td>0</td>\n",
       "      <td>0.084112</td>\n",
       "      <td>0.857143</td>\n",
       "      <td>0.088235</td>\n",
       "      <td>0.3625</td>\n",
       "      <td>0</td>\n",
       "      <td>0</td>\n",
       "      <td>0</td>\n",
       "      <td>0</td>\n",
       "      <td>0</td>\n",
       "      <td>1</td>\n",
       "    </tr>\n",
       "    <tr>\n",
       "      <th>4</th>\n",
       "      <td>0.0</td>\n",
       "      <td>0.125</td>\n",
       "      <td>1</td>\n",
       "      <td>0.084112</td>\n",
       "      <td>0.857143</td>\n",
       "      <td>0.088235</td>\n",
       "      <td>0.3625</td>\n",
       "      <td>0</td>\n",
       "      <td>0</td>\n",
       "      <td>0</td>\n",
       "      <td>0</td>\n",
       "      <td>0</td>\n",
       "      <td>1</td>\n",
       "    </tr>\n",
       "    <tr>\n",
       "      <th>...</th>\n",
       "      <td>...</td>\n",
       "      <td>...</td>\n",
       "      <td>...</td>\n",
       "      <td>...</td>\n",
       "      <td>...</td>\n",
       "      <td>...</td>\n",
       "      <td>...</td>\n",
       "      <td>...</td>\n",
       "      <td>...</td>\n",
       "      <td>...</td>\n",
       "      <td>...</td>\n",
       "      <td>...</td>\n",
       "      <td>...</td>\n",
       "    </tr>\n",
       "    <tr>\n",
       "      <th>147899</th>\n",
       "      <td>1.0</td>\n",
       "      <td>0.000</td>\n",
       "      <td>1</td>\n",
       "      <td>0.255452</td>\n",
       "      <td>0.835165</td>\n",
       "      <td>0.205882</td>\n",
       "      <td>0.4125</td>\n",
       "      <td>0</td>\n",
       "      <td>1</td>\n",
       "      <td>0</td>\n",
       "      <td>0</td>\n",
       "      <td>0</td>\n",
       "      <td>0</td>\n",
       "    </tr>\n",
       "    <tr>\n",
       "      <th>147900</th>\n",
       "      <td>1.0</td>\n",
       "      <td>0.625</td>\n",
       "      <td>0</td>\n",
       "      <td>0.255452</td>\n",
       "      <td>0.835165</td>\n",
       "      <td>0.205882</td>\n",
       "      <td>0.4125</td>\n",
       "      <td>0</td>\n",
       "      <td>1</td>\n",
       "      <td>0</td>\n",
       "      <td>0</td>\n",
       "      <td>0</td>\n",
       "      <td>0</td>\n",
       "    </tr>\n",
       "    <tr>\n",
       "      <th>147901</th>\n",
       "      <td>1.0</td>\n",
       "      <td>0.125</td>\n",
       "      <td>0</td>\n",
       "      <td>0.255452</td>\n",
       "      <td>0.835165</td>\n",
       "      <td>0.205882</td>\n",
       "      <td>0.4125</td>\n",
       "      <td>0</td>\n",
       "      <td>1</td>\n",
       "      <td>0</td>\n",
       "      <td>0</td>\n",
       "      <td>0</td>\n",
       "      <td>0</td>\n",
       "    </tr>\n",
       "    <tr>\n",
       "      <th>147902</th>\n",
       "      <td>1.0</td>\n",
       "      <td>0.000</td>\n",
       "      <td>1</td>\n",
       "      <td>0.252336</td>\n",
       "      <td>0.945055</td>\n",
       "      <td>0.088235</td>\n",
       "      <td>0.3750</td>\n",
       "      <td>0</td>\n",
       "      <td>0</td>\n",
       "      <td>0</td>\n",
       "      <td>0</td>\n",
       "      <td>1</td>\n",
       "      <td>0</td>\n",
       "    </tr>\n",
       "    <tr>\n",
       "      <th>147903</th>\n",
       "      <td>1.0</td>\n",
       "      <td>0.000</td>\n",
       "      <td>0</td>\n",
       "      <td>0.252336</td>\n",
       "      <td>0.945055</td>\n",
       "      <td>0.088235</td>\n",
       "      <td>0.3750</td>\n",
       "      <td>0</td>\n",
       "      <td>0</td>\n",
       "      <td>0</td>\n",
       "      <td>0</td>\n",
       "      <td>1</td>\n",
       "      <td>0</td>\n",
       "    </tr>\n",
       "  </tbody>\n",
       "</table>\n",
       "<p>147254 rows × 13 columns</p>\n",
       "</div>"
      ],
      "text/plain": [
       "        month  Age_Group  gender      park  workplace  residential  transit  \\\n",
       "0         0.0      0.125       0  0.084112   0.857143     0.088235   0.3625   \n",
       "1         0.0      0.125       0  0.084112   0.857143     0.088235   0.3625   \n",
       "2         0.0      0.375       1  0.084112   0.857143     0.088235   0.3625   \n",
       "3         0.0      0.500       0  0.084112   0.857143     0.088235   0.3625   \n",
       "4         0.0      0.125       1  0.084112   0.857143     0.088235   0.3625   \n",
       "...       ...        ...     ...       ...        ...          ...      ...   \n",
       "147899    1.0      0.000       1  0.255452   0.835165     0.205882   0.4125   \n",
       "147900    1.0      0.625       0  0.255452   0.835165     0.205882   0.4125   \n",
       "147901    1.0      0.125       0  0.255452   0.835165     0.205882   0.4125   \n",
       "147902    1.0      0.000       1  0.252336   0.945055     0.088235   0.3750   \n",
       "147903    1.0      0.000       0  0.252336   0.945055     0.088235   0.3750   \n",
       "\n",
       "        fatal  special_measure_Control  special_measure_Lockdown  \\\n",
       "0           0                        0                         0   \n",
       "1           0                        0                         0   \n",
       "2           0                        0                         0   \n",
       "3           0                        0                         0   \n",
       "4           0                        0                         0   \n",
       "...       ...                      ...                       ...   \n",
       "147899      0                        1                         0   \n",
       "147900      0                        1                         0   \n",
       "147901      0                        1                         0   \n",
       "147902      0                        0                         0   \n",
       "147903      0                        0                         0   \n",
       "\n",
       "        special_measure_Prevent  special_measure_Protect  \\\n",
       "0                             0                        0   \n",
       "1                             0                        0   \n",
       "2                             0                        0   \n",
       "3                             0                        0   \n",
       "4                             0                        0   \n",
       "...                         ...                      ...   \n",
       "147899                        0                        0   \n",
       "147900                        0                        0   \n",
       "147901                        0                        0   \n",
       "147902                        0                        1   \n",
       "147903                        0                        1   \n",
       "\n",
       "        special_measure_Restrict  \n",
       "0                              1  \n",
       "1                              1  \n",
       "2                              1  \n",
       "3                              1  \n",
       "4                              1  \n",
       "...                          ...  \n",
       "147899                         0  \n",
       "147900                         0  \n",
       "147901                         0  \n",
       "147902                         0  \n",
       "147903                         0  \n",
       "\n",
       "[147254 rows x 13 columns]"
      ]
     },
     "execution_count": 90,
     "metadata": {},
     "output_type": "execute_result"
    }
   ],
   "source": [
    "data"
   ]
  },
  {
   "cell_type": "code",
   "execution_count": 91,
   "metadata": {
    "ExecuteTime": {
     "end_time": "2021-04-13T22:09:12.675804Z",
     "start_time": "2021-04-13T22:09:12.659762Z"
    }
   },
   "outputs": [],
   "source": [
    "if not os.path.exists('saves'):\n",
    "    os.makedirs('saves')\n",
    "pickle.dump( data, open( \"./saves/prereocessed_data.p\", \"wb\" ) )"
   ]
  },
  {
   "cell_type": "code",
   "execution_count": 92,
   "metadata": {
    "ExecuteTime": {
     "end_time": "2021-04-13T22:09:13.395367Z",
     "start_time": "2021-04-13T22:09:13.392555Z"
    }
   },
   "outputs": [],
   "source": [
    "# data = pickle.load( open( \"./saves/prereocessed_data.p\", \"rb\" ) )"
   ]
  },
  {
   "cell_type": "code",
   "execution_count": 93,
   "metadata": {
    "ExecuteTime": {
     "end_time": "2021-04-13T22:09:16.098141Z",
     "start_time": "2021-04-13T22:09:14.201950Z"
    }
   },
   "outputs": [
    {
     "data": {
      "text/plain": [
       "<matplotlib.axes._subplots.AxesSubplot at 0x7fe27286d8d0>"
      ]
     },
     "execution_count": 93,
     "metadata": {},
     "output_type": "execute_result"
    },
    {
     "data": {
      "image/png": "[encoded data removed]",
      "text/plain": [
       "<Figure size 432x288 with 1 Axes>"
      ]
     },
     "metadata": {
      "needs_background": "light"
     },
     "output_type": "display_data"
    }
   ],
   "source": [
    "data.boxplot(column=data.columns.values.tolist())"
   ]
  },
  {
   "cell_type": "markdown",
   "metadata": {},
   "source": [
    "### undersampling"
   ]
  },
  {
   "cell_type": "code",
   "execution_count": 94,
   "metadata": {
    "ExecuteTime": {
     "end_time": "2021-04-13T22:09:20.006288Z",
     "start_time": "2021-04-13T22:09:19.904899Z"
    }
   },
   "outputs": [],
   "source": [
    "shuffle_unresolved = shuffle(data[data['fatal']==0])\n",
    "shuffle_resolved = shuffle(data[data['fatal']==1])\n",
    "shuffle_resolved = shuffle_resolved[:len(shuffle_unresolved)]\n",
    "undersampled_data = shuffle_resolved.append(shuffle_unresolved)\n",
    "undersampled_data = shuffle(undersampled_data)"
   ]
  },
  {
   "cell_type": "code",
   "execution_count": 95,
   "metadata": {
    "ExecuteTime": {
     "end_time": "2021-04-13T22:09:20.063570Z",
     "start_time": "2021-04-13T22:09:20.052465Z"
    }
   },
   "outputs": [
    {
     "data": {
      "text/plain": [
       "147254"
      ]
     },
     "execution_count": 95,
     "metadata": {},
     "output_type": "execute_result"
    }
   ],
   "source": [
    "len(undersampled_data)"
   ]
  },
  {
   "cell_type": "code",
   "execution_count": 96,
   "metadata": {
    "ExecuteTime": {
     "end_time": "2021-04-13T22:09:20.699548Z",
     "start_time": "2021-04-13T22:09:20.685944Z"
    }
   },
   "outputs": [],
   "source": [
    "if not os.path.exists('saves'):\n",
    "    os.makedirs('saves')\n",
    "pickle.dump( undersampled_data, open( \"./saves/undersampled_data.p\", \"wb\" ) )"
   ]
  },
  {
   "cell_type": "code",
   "execution_count": 97,
   "metadata": {
    "ExecuteTime": {
     "end_time": "2021-04-13T22:09:23.072985Z",
     "start_time": "2021-04-13T22:09:22.962016Z"
    }
   },
   "outputs": [
    {
     "data": {
      "text/html": [
       "<div>\n",
       "<style scoped>\n",
       "    .dataframe tbody tr th:only-of-type {\n",
       "        vertical-align: middle;\n",
       "    }\n",
       "\n",
       "    .dataframe tbody tr th {\n",
       "        vertical-align: top;\n",
       "    }\n",
       "\n",
       "    .dataframe thead th {\n",
       "        text-align: right;\n",
       "    }\n",
       "</style>\n",
       "<table border=\"1\" class=\"dataframe\">\n",
       "  <thead>\n",
       "    <tr style=\"text-align: right;\">\n",
       "      <th></th>\n",
       "      <th>month</th>\n",
       "      <th>Age_Group</th>\n",
       "      <th>gender</th>\n",
       "      <th>park</th>\n",
       "      <th>workplace</th>\n",
       "      <th>residential</th>\n",
       "      <th>transit</th>\n",
       "      <th>fatal</th>\n",
       "      <th>special_measure_Control</th>\n",
       "      <th>special_measure_Lockdown</th>\n",
       "      <th>special_measure_Prevent</th>\n",
       "      <th>special_measure_Protect</th>\n",
       "      <th>special_measure_Restrict</th>\n",
       "    </tr>\n",
       "  </thead>\n",
       "  <tbody>\n",
       "    <tr>\n",
       "      <th>count</th>\n",
       "      <td>147254.000000</td>\n",
       "      <td>147254.000000</td>\n",
       "      <td>147254.000000</td>\n",
       "      <td>147254.000000</td>\n",
       "      <td>147254.000000</td>\n",
       "      <td>147254.000000</td>\n",
       "      <td>147254.000000</td>\n",
       "      <td>147254.000000</td>\n",
       "      <td>147254.000000</td>\n",
       "      <td>147254.000000</td>\n",
       "      <td>147254.000000</td>\n",
       "      <td>147254.000000</td>\n",
       "      <td>147254.000000</td>\n",
       "    </tr>\n",
       "    <tr>\n",
       "      <th>mean</th>\n",
       "      <td>0.479213</td>\n",
       "      <td>0.331319</td>\n",
       "      <td>0.497664</td>\n",
       "      <td>0.154145</td>\n",
       "      <td>0.510049</td>\n",
       "      <td>0.454647</td>\n",
       "      <td>0.297839</td>\n",
       "      <td>0.012753</td>\n",
       "      <td>0.185890</td>\n",
       "      <td>0.217977</td>\n",
       "      <td>0.223213</td>\n",
       "      <td>0.122333</td>\n",
       "      <td>0.250587</td>\n",
       "    </tr>\n",
       "    <tr>\n",
       "      <th>std</th>\n",
       "      <td>0.326122</td>\n",
       "      <td>0.252127</td>\n",
       "      <td>0.499996</td>\n",
       "      <td>0.108316</td>\n",
       "      <td>0.194833</td>\n",
       "      <td>0.179794</td>\n",
       "      <td>0.111775</td>\n",
       "      <td>0.112209</td>\n",
       "      <td>0.389019</td>\n",
       "      <td>0.412873</td>\n",
       "      <td>0.416401</td>\n",
       "      <td>0.327671</td>\n",
       "      <td>0.433353</td>\n",
       "    </tr>\n",
       "    <tr>\n",
       "      <th>min</th>\n",
       "      <td>0.000000</td>\n",
       "      <td>0.000000</td>\n",
       "      <td>0.000000</td>\n",
       "      <td>0.000000</td>\n",
       "      <td>0.000000</td>\n",
       "      <td>0.000000</td>\n",
       "      <td>0.000000</td>\n",
       "      <td>0.000000</td>\n",
       "      <td>0.000000</td>\n",
       "      <td>0.000000</td>\n",
       "      <td>0.000000</td>\n",
       "      <td>0.000000</td>\n",
       "      <td>0.000000</td>\n",
       "    </tr>\n",
       "    <tr>\n",
       "      <th>25%</th>\n",
       "      <td>0.333333</td>\n",
       "      <td>0.125000</td>\n",
       "      <td>0.000000</td>\n",
       "      <td>0.084112</td>\n",
       "      <td>0.384615</td>\n",
       "      <td>0.323529</td>\n",
       "      <td>0.225000</td>\n",
       "      <td>0.000000</td>\n",
       "      <td>0.000000</td>\n",
       "      <td>0.000000</td>\n",
       "      <td>0.000000</td>\n",
       "      <td>0.000000</td>\n",
       "      <td>0.000000</td>\n",
       "    </tr>\n",
       "    <tr>\n",
       "      <th>50%</th>\n",
       "      <td>0.333333</td>\n",
       "      <td>0.250000</td>\n",
       "      <td>0.000000</td>\n",
       "      <td>0.124611</td>\n",
       "      <td>0.461538</td>\n",
       "      <td>0.470588</td>\n",
       "      <td>0.287500</td>\n",
       "      <td>0.000000</td>\n",
       "      <td>0.000000</td>\n",
       "      <td>0.000000</td>\n",
       "      <td>0.000000</td>\n",
       "      <td>0.000000</td>\n",
       "      <td>0.000000</td>\n",
       "    </tr>\n",
       "    <tr>\n",
       "      <th>75%</th>\n",
       "      <td>0.666667</td>\n",
       "      <td>0.500000</td>\n",
       "      <td>1.000000</td>\n",
       "      <td>0.193146</td>\n",
       "      <td>0.670330</td>\n",
       "      <td>0.588235</td>\n",
       "      <td>0.350000</td>\n",
       "      <td>0.000000</td>\n",
       "      <td>0.000000</td>\n",
       "      <td>0.000000</td>\n",
       "      <td>0.000000</td>\n",
       "      <td>0.000000</td>\n",
       "      <td>1.000000</td>\n",
       "    </tr>\n",
       "    <tr>\n",
       "      <th>max</th>\n",
       "      <td>1.000000</td>\n",
       "      <td>1.000000</td>\n",
       "      <td>1.000000</td>\n",
       "      <td>1.000000</td>\n",
       "      <td>1.000000</td>\n",
       "      <td>1.000000</td>\n",
       "      <td>1.000000</td>\n",
       "      <td>1.000000</td>\n",
       "      <td>1.000000</td>\n",
       "      <td>1.000000</td>\n",
       "      <td>1.000000</td>\n",
       "      <td>1.000000</td>\n",
       "      <td>1.000000</td>\n",
       "    </tr>\n",
       "  </tbody>\n",
       "</table>\n",
       "</div>"
      ],
      "text/plain": [
       "               month      Age_Group         gender           park  \\\n",
       "count  147254.000000  147254.000000  147254.000000  147254.000000   \n",
       "mean        0.479213       0.331319       0.497664       0.154145   \n",
       "std         0.326122       0.252127       0.499996       0.108316   \n",
       "min         0.000000       0.000000       0.000000       0.000000   \n",
       "25%         0.333333       0.125000       0.000000       0.084112   \n",
       "50%         0.333333       0.250000       0.000000       0.124611   \n",
       "75%         0.666667       0.500000       1.000000       0.193146   \n",
       "max         1.000000       1.000000       1.000000       1.000000   \n",
       "\n",
       "           workplace    residential        transit          fatal  \\\n",
       "count  147254.000000  147254.000000  147254.000000  147254.000000   \n",
       "mean        0.510049       0.454647       0.297839       0.012753   \n",
       "std         0.194833       0.179794       0.111775       0.112209   \n",
       "min         0.000000       0.000000       0.000000       0.000000   \n",
       "25%         0.384615       0.323529       0.225000       0.000000   \n",
       "50%         0.461538       0.470588       0.287500       0.000000   \n",
       "75%         0.670330       0.588235       0.350000       0.000000   \n",
       "max         1.000000       1.000000       1.000000       1.000000   \n",
       "\n",
       "       special_measure_Control  special_measure_Lockdown  \\\n",
       "count            147254.000000             147254.000000   \n",
       "mean                  0.185890                  0.217977   \n",
       "std                   0.389019                  0.412873   \n",
       "min                   0.000000                  0.000000   \n",
       "25%                   0.000000                  0.000000   \n",
       "50%                   0.000000                  0.000000   \n",
       "75%                   0.000000                  0.000000   \n",
       "max                   1.000000                  1.000000   \n",
       "\n",
       "       special_measure_Prevent  special_measure_Protect  \\\n",
       "count            147254.000000            147254.000000   \n",
       "mean                  0.223213                 0.122333   \n",
       "std                   0.416401                 0.327671   \n",
       "min                   0.000000                 0.000000   \n",
       "25%                   0.000000                 0.000000   \n",
       "50%                   0.000000                 0.000000   \n",
       "75%                   0.000000                 0.000000   \n",
       "max                   1.000000                 1.000000   \n",
       "\n",
       "       special_measure_Restrict  \n",
       "count             147254.000000  \n",
       "mean                   0.250587  \n",
       "std                    0.433353  \n",
       "min                    0.000000  \n",
       "25%                    0.000000  \n",
       "50%                    0.000000  \n",
       "75%                    1.000000  \n",
       "max                    1.000000  "
      ]
     },
     "execution_count": 97,
     "metadata": {},
     "output_type": "execute_result"
    }
   ],
   "source": [
    "undersampled_data.describe()"
   ]
  },
  {
   "cell_type": "code",
   "execution_count": 98,
   "metadata": {
    "ExecuteTime": {
     "end_time": "2021-04-13T22:09:28.065979Z",
     "start_time": "2021-04-13T22:09:26.195413Z"
    }
   },
   "outputs": [
    {
     "data": {
      "text/plain": [
       "<matplotlib.axes._subplots.AxesSubplot at 0x7fe270bf1090>"
      ]
     },
     "execution_count": 98,
     "metadata": {},
     "output_type": "execute_result"
    },
    {
     "data": {
      "image/png": "[encoded data removed]",
      "text/plain": [
       "<Figure size 432x288 with 1 Axes>"
      ]
     },
     "metadata": {
      "needs_background": "light"
     },
     "output_type": "display_data"
    }
   ],
   "source": [
    "undersampled_data.boxplot(column=undersampled_data.columns.values.tolist())"
   ]
  },
  {
   "cell_type": "markdown",
   "metadata": {},
   "source": [
    "# Part B"
   ]
  },
  {
   "cell_type": "markdown",
   "metadata": {},
   "source": [
    "## Decision Tree"
   ]
  },
  {
   "cell_type": "code",
   "execution_count": 2,
   "metadata": {
    "ExecuteTime": {
     "end_time": "2021-04-10T14:55:09.282413Z",
     "start_time": "2021-04-10T14:55:09.274405Z"
    }
   },
   "outputs": [],
   "source": [
    "# undersampled_data = pickle.load( open( \"./saves/undersampled_data.p\", \"rb\" ) )"
   ]
  },
  {
   "cell_type": "code",
   "execution_count": 99,
   "metadata": {
    "ExecuteTime": {
     "end_time": "2021-04-13T22:09:37.557911Z",
     "start_time": "2021-04-13T22:09:37.538684Z"
    }
   },
   "outputs": [],
   "source": [
    "data = pickle.load( open( \"./saves/undersampled_data.p\", \"rb\" ) )"
   ]
  },
  {
   "cell_type": "code",
   "execution_count": 100,
   "metadata": {
    "ExecuteTime": {
     "end_time": "2021-04-13T22:09:38.273448Z",
     "start_time": "2021-04-13T22:09:38.249244Z"
    }
   },
   "outputs": [
    {
     "data": {
      "text/html": [
       "<div>\n",
       "<style scoped>\n",
       "    .dataframe tbody tr th:only-of-type {\n",
       "        vertical-align: middle;\n",
       "    }\n",
       "\n",
       "    .dataframe tbody tr th {\n",
       "        vertical-align: top;\n",
       "    }\n",
       "\n",
       "    .dataframe thead th {\n",
       "        text-align: right;\n",
       "    }\n",
       "</style>\n",
       "<table border=\"1\" class=\"dataframe\">\n",
       "  <thead>\n",
       "    <tr style=\"text-align: right;\">\n",
       "      <th></th>\n",
       "      <th>month</th>\n",
       "      <th>Age_Group</th>\n",
       "      <th>gender</th>\n",
       "      <th>park</th>\n",
       "      <th>workplace</th>\n",
       "      <th>residential</th>\n",
       "      <th>transit</th>\n",
       "      <th>fatal</th>\n",
       "      <th>special_measure_Control</th>\n",
       "      <th>special_measure_Lockdown</th>\n",
       "      <th>special_measure_Prevent</th>\n",
       "      <th>special_measure_Protect</th>\n",
       "      <th>special_measure_Restrict</th>\n",
       "    </tr>\n",
       "  </thead>\n",
       "  <tbody>\n",
       "    <tr>\n",
       "      <th>62186</th>\n",
       "      <td>0.333333</td>\n",
       "      <td>0.500</td>\n",
       "      <td>1</td>\n",
       "      <td>0.168224</td>\n",
       "      <td>0.373626</td>\n",
       "      <td>0.441176</td>\n",
       "      <td>0.3500</td>\n",
       "      <td>0</td>\n",
       "      <td>0</td>\n",
       "      <td>0</td>\n",
       "      <td>0</td>\n",
       "      <td>0</td>\n",
       "      <td>1</td>\n",
       "    </tr>\n",
       "    <tr>\n",
       "      <th>13870</th>\n",
       "      <td>0.000000</td>\n",
       "      <td>0.500</td>\n",
       "      <td>1</td>\n",
       "      <td>0.087227</td>\n",
       "      <td>0.538462</td>\n",
       "      <td>0.411765</td>\n",
       "      <td>0.3250</td>\n",
       "      <td>1</td>\n",
       "      <td>0</td>\n",
       "      <td>0</td>\n",
       "      <td>0</td>\n",
       "      <td>1</td>\n",
       "      <td>0</td>\n",
       "    </tr>\n",
       "    <tr>\n",
       "      <th>101112</th>\n",
       "      <td>0.666667</td>\n",
       "      <td>0.875</td>\n",
       "      <td>1</td>\n",
       "      <td>0.084112</td>\n",
       "      <td>0.450549</td>\n",
       "      <td>0.500000</td>\n",
       "      <td>0.2125</td>\n",
       "      <td>0</td>\n",
       "      <td>1</td>\n",
       "      <td>0</td>\n",
       "      <td>0</td>\n",
       "      <td>0</td>\n",
       "      <td>0</td>\n",
       "    </tr>\n",
       "    <tr>\n",
       "      <th>9991</th>\n",
       "      <td>0.000000</td>\n",
       "      <td>0.000</td>\n",
       "      <td>0</td>\n",
       "      <td>0.233645</td>\n",
       "      <td>0.901099</td>\n",
       "      <td>0.147059</td>\n",
       "      <td>0.4250</td>\n",
       "      <td>0</td>\n",
       "      <td>0</td>\n",
       "      <td>0</td>\n",
       "      <td>0</td>\n",
       "      <td>1</td>\n",
       "      <td>0</td>\n",
       "    </tr>\n",
       "    <tr>\n",
       "      <th>76270</th>\n",
       "      <td>0.666667</td>\n",
       "      <td>0.500</td>\n",
       "      <td>1</td>\n",
       "      <td>0.099688</td>\n",
       "      <td>0.021978</td>\n",
       "      <td>0.970588</td>\n",
       "      <td>0.0625</td>\n",
       "      <td>0</td>\n",
       "      <td>1</td>\n",
       "      <td>0</td>\n",
       "      <td>0</td>\n",
       "      <td>0</td>\n",
       "      <td>0</td>\n",
       "    </tr>\n",
       "    <tr>\n",
       "      <th>...</th>\n",
       "      <td>...</td>\n",
       "      <td>...</td>\n",
       "      <td>...</td>\n",
       "      <td>...</td>\n",
       "      <td>...</td>\n",
       "      <td>...</td>\n",
       "      <td>...</td>\n",
       "      <td>...</td>\n",
       "      <td>...</td>\n",
       "      <td>...</td>\n",
       "      <td>...</td>\n",
       "      <td>...</td>\n",
       "      <td>...</td>\n",
       "    </tr>\n",
       "    <tr>\n",
       "      <th>130254</th>\n",
       "      <td>1.000000</td>\n",
       "      <td>0.375</td>\n",
       "      <td>1</td>\n",
       "      <td>0.034268</td>\n",
       "      <td>0.373626</td>\n",
       "      <td>0.647059</td>\n",
       "      <td>0.2250</td>\n",
       "      <td>0</td>\n",
       "      <td>0</td>\n",
       "      <td>0</td>\n",
       "      <td>1</td>\n",
       "      <td>0</td>\n",
       "      <td>0</td>\n",
       "    </tr>\n",
       "    <tr>\n",
       "      <th>72342</th>\n",
       "      <td>0.333333</td>\n",
       "      <td>0.125</td>\n",
       "      <td>0</td>\n",
       "      <td>0.130841</td>\n",
       "      <td>0.241758</td>\n",
       "      <td>0.705882</td>\n",
       "      <td>0.2000</td>\n",
       "      <td>0</td>\n",
       "      <td>0</td>\n",
       "      <td>0</td>\n",
       "      <td>0</td>\n",
       "      <td>0</td>\n",
       "      <td>1</td>\n",
       "    </tr>\n",
       "    <tr>\n",
       "      <th>78383</th>\n",
       "      <td>0.666667</td>\n",
       "      <td>0.250</td>\n",
       "      <td>0</td>\n",
       "      <td>0.168224</td>\n",
       "      <td>0.648352</td>\n",
       "      <td>0.352941</td>\n",
       "      <td>0.3250</td>\n",
       "      <td>0</td>\n",
       "      <td>1</td>\n",
       "      <td>0</td>\n",
       "      <td>0</td>\n",
       "      <td>0</td>\n",
       "      <td>0</td>\n",
       "    </tr>\n",
       "    <tr>\n",
       "      <th>24275</th>\n",
       "      <td>0.000000</td>\n",
       "      <td>0.250</td>\n",
       "      <td>1</td>\n",
       "      <td>0.124611</td>\n",
       "      <td>0.516484</td>\n",
       "      <td>0.411765</td>\n",
       "      <td>0.3000</td>\n",
       "      <td>0</td>\n",
       "      <td>0</td>\n",
       "      <td>1</td>\n",
       "      <td>0</td>\n",
       "      <td>0</td>\n",
       "      <td>0</td>\n",
       "    </tr>\n",
       "    <tr>\n",
       "      <th>28130</th>\n",
       "      <td>0.000000</td>\n",
       "      <td>0.750</td>\n",
       "      <td>1</td>\n",
       "      <td>0.252336</td>\n",
       "      <td>0.813187</td>\n",
       "      <td>0.117647</td>\n",
       "      <td>0.3125</td>\n",
       "      <td>0</td>\n",
       "      <td>0</td>\n",
       "      <td>1</td>\n",
       "      <td>0</td>\n",
       "      <td>0</td>\n",
       "      <td>0</td>\n",
       "    </tr>\n",
       "  </tbody>\n",
       "</table>\n",
       "<p>147254 rows × 13 columns</p>\n",
       "</div>"
      ],
      "text/plain": [
       "           month  Age_Group  gender      park  workplace  residential  \\\n",
       "62186   0.333333      0.500       1  0.168224   0.373626     0.441176   \n",
       "13870   0.000000      0.500       1  0.087227   0.538462     0.411765   \n",
       "101112  0.666667      0.875       1  0.084112   0.450549     0.500000   \n",
       "9991    0.000000      0.000       0  0.233645   0.901099     0.147059   \n",
       "76270   0.666667      0.500       1  0.099688   0.021978     0.970588   \n",
       "...          ...        ...     ...       ...        ...          ...   \n",
       "130254  1.000000      0.375       1  0.034268   0.373626     0.647059   \n",
       "72342   0.333333      0.125       0  0.130841   0.241758     0.705882   \n",
       "78383   0.666667      0.250       0  0.168224   0.648352     0.352941   \n",
       "24275   0.000000      0.250       1  0.124611   0.516484     0.411765   \n",
       "28130   0.000000      0.750       1  0.252336   0.813187     0.117647   \n",
       "\n",
       "        transit  fatal  special_measure_Control  special_measure_Lockdown  \\\n",
       "62186    0.3500      0                        0                         0   \n",
       "13870    0.3250      1                        0                         0   \n",
       "101112   0.2125      0                        1                         0   \n",
       "9991     0.4250      0                        0                         0   \n",
       "76270    0.0625      0                        1                         0   \n",
       "...         ...    ...                      ...                       ...   \n",
       "130254   0.2250      0                        0                         0   \n",
       "72342    0.2000      0                        0                         0   \n",
       "78383    0.3250      0                        1                         0   \n",
       "24275    0.3000      0                        0                         1   \n",
       "28130    0.3125      0                        0                         1   \n",
       "\n",
       "        special_measure_Prevent  special_measure_Protect  \\\n",
       "62186                         0                        0   \n",
       "13870                         0                        1   \n",
       "101112                        0                        0   \n",
       "9991                          0                        1   \n",
       "76270                         0                        0   \n",
       "...                         ...                      ...   \n",
       "130254                        1                        0   \n",
       "72342                         0                        0   \n",
       "78383                         0                        0   \n",
       "24275                         0                        0   \n",
       "28130                         0                        0   \n",
       "\n",
       "        special_measure_Restrict  \n",
       "62186                          1  \n",
       "13870                          0  \n",
       "101112                         0  \n",
       "9991                           0  \n",
       "76270                          0  \n",
       "...                          ...  \n",
       "130254                         0  \n",
       "72342                          1  \n",
       "78383                          0  \n",
       "24275                          0  \n",
       "28130                          0  \n",
       "\n",
       "[147254 rows x 13 columns]"
      ]
     },
     "execution_count": 100,
     "metadata": {},
     "output_type": "execute_result"
    }
   ],
   "source": [
    "data"
   ]
  },
  {
   "cell_type": "code",
   "execution_count": 101,
   "metadata": {
    "ExecuteTime": {
     "end_time": "2021-04-13T22:09:39.033146Z",
     "start_time": "2021-04-13T22:09:39.014085Z"
    }
   },
   "outputs": [
    {
     "data": {
      "text/plain": [
       "['month',\n",
       " 'Age_Group',\n",
       " 'gender',\n",
       " 'park',\n",
       " 'workplace',\n",
       " 'residential',\n",
       " 'transit',\n",
       " 'special_measure_Control',\n",
       " 'special_measure_Lockdown',\n",
       " 'special_measure_Prevent',\n",
       " 'special_measure_Protect',\n",
       " 'special_measure_Restrict']"
      ]
     },
     "execution_count": 101,
     "metadata": {},
     "output_type": "execute_result"
    }
   ],
   "source": [
    "column_list = data.columns.values.tolist()\n",
    "column_list.remove('fatal')\n",
    "column_list"
   ]
  },
  {
   "cell_type": "code",
   "execution_count": 102,
   "metadata": {
    "ExecuteTime": {
     "end_time": "2021-04-13T22:09:40.131315Z",
     "start_time": "2021-04-13T22:09:40.062453Z"
    }
   },
   "outputs": [],
   "source": [
    "# split the train and test data\n",
    "X = data[column_list]\n",
    "y = data['fatal']\n",
    "X_train, X_test, y_train, y_test = train_test_split(X, y, test_size = 0.25, random_state=1)"
   ]
  },
  {
   "cell_type": "code",
   "execution_count": 103,
   "metadata": {
    "ExecuteTime": {
     "end_time": "2021-04-13T22:09:42.634554Z",
     "start_time": "2021-04-13T22:09:42.231193Z"
    }
   },
   "outputs": [
    {
     "name": "stdout",
     "output_type": "stream",
     "text": [
      "|--- Age_Group <= 0.56\n",
      "|   |--- class: 0\n",
      "|--- Age_Group >  0.56\n",
      "|   |--- Age_Group <= 0.69\n",
      "|   |   |--- class: 1\n",
      "|   |--- Age_Group >  0.69\n",
      "|   |   |--- class: 1\n",
      "\n"
     ]
    },
    {
     "data": {
      "text/plain": [
       "[Text(133.92000000000002, 181.2, 'X[1] <= 0.562\\nentropy = 1.0\\nsamples = 110440\\nvalue = [55220.0, 55220.0]'),\n",
       " Text(66.96000000000001, 108.72, 'entropy = 0.311\\nsamples = 90101\\nvalue = [45599.83, 2694.611]'),\n",
       " Text(200.88000000000002, 108.72, 'X[1] <= 0.688\\nentropy = 0.622\\nsamples = 20339\\nvalue = [9620.17, 52525.389]'),\n",
       " Text(133.92000000000002, 36.23999999999998, 'entropy = 1.0\\nsamples = 10135\\nvalue = [5066.366, 5154.908]'),\n",
       " Text(267.84000000000003, 36.23999999999998, 'entropy = 0.429\\nsamples = 10204\\nvalue = [4553.804, 47370.481]')]"
      ]
     },
     "execution_count": 103,
     "metadata": {},
     "output_type": "execute_result"
    },
    {
     "data": {
      "image/png": "[encoded data removed]",
      "text/plain": [
       "<Figure size 432x288 with 1 Axes>"
      ]
     },
     "metadata": {
      "needs_background": "light"
     },
     "output_type": "display_data"
    }
   ],
   "source": [
    "#Train the data\n",
    "decision_tree = DecisionTreeClassifier(class_weight='balanced',criterion='entropy',max_depth=4,\n",
    "            max_features=None,max_leaf_nodes=3,min_impurity_decrease=1e-04,min_samples_leaf=1,\n",
    "            min_samples_split=2,min_weight_fraction_leaf=0.0,random_state=0,splitter='best')\n",
    "start = time.time()\n",
    "decision_tree = decision_tree.fit(X_train, y_train)\n",
    "time_took = time.time()-start\n",
    "#show the decision condiction and the structure of the tree\n",
    "final_condiction= export_text(decision_tree, feature_names=column_list)\n",
    "print(final_condiction)\n",
    "tree.plot_tree(decision_tree) "
   ]
  },
  {
   "cell_type": "code",
   "execution_count": 104,
   "metadata": {
    "ExecuteTime": {
     "end_time": "2021-04-13T22:09:45.650955Z",
     "start_time": "2021-04-13T22:09:45.542182Z"
    }
   },
   "outputs": [
    {
     "name": "stdout",
     "output_type": "stream",
     "text": [
      "[[29828  6522]\n",
      " [   26   438]]\n",
      "              precision    recall  f1-score   support\n",
      "\n",
      "           0       1.00      0.82      0.90     36350\n",
      "           1       0.06      0.94      0.12       464\n",
      "\n",
      "    accuracy                           0.82     36814\n",
      "   macro avg       0.53      0.88      0.51     36814\n",
      "weighted avg       0.99      0.82      0.89     36814\n",
      "\n",
      "Time to Train 0.12 s\n"
     ]
    }
   ],
   "source": [
    "#eveulate the result\n",
    "y_pred_tree=decision_tree.predict(X_test)\n",
    "print (confusion_matrix(y_test,y_pred_tree))\n",
    "print(classification_report(y_test,y_pred_tree))\n",
    "print(\"Time to Train {:.2f} s\".format(time_took))"
   ]
  },
  {
   "cell_type": "markdown",
   "metadata": {},
   "source": [
    " ## Gradient Boosting  "
   ]
  },
  {
   "cell_type": "code",
   "execution_count": 105,
   "metadata": {
    "ExecuteTime": {
     "end_time": "2021-04-13T22:09:50.327206Z",
     "start_time": "2021-04-13T22:09:46.216349Z"
    }
   },
   "outputs": [],
   "source": [
    "#find the best learning rate\n",
    "lr_list = [0.05, 0.075, 0.1, 0.25, 0.5, 0.75, 1]\n",
    "best_rate=lr_list[0]\n",
    "best_accuracy=0\n",
    "for learning_rate in lr_list:\n",
    "    gradientBoosting = GradientBoostingClassifier(n_estimators=20, learning_rate=learning_rate, max_features=2, max_depth=2, random_state=0)\n",
    "    gradientBoosting.fit(X_train, y_train)\n",
    "    if gradientBoosting.score(X_test, y_test)>best_accuracy:\n",
    "        best_accuracy=gradientBoosting.score(X_test, y_test)\n",
    "        best_rate=learning_rate"
   ]
  },
  {
   "cell_type": "code",
   "execution_count": 106,
   "metadata": {
    "ExecuteTime": {
     "end_time": "2021-04-13T22:09:50.947100Z",
     "start_time": "2021-04-13T22:09:50.329674Z"
    }
   },
   "outputs": [
    {
     "name": "stdout",
     "output_type": "stream",
     "text": [
      "[[15923 20427]\n",
      " [  182   282]]\n",
      "              precision    recall  f1-score   support\n",
      "\n",
      "           0       0.99      0.44      0.61     36350\n",
      "           1       0.01      0.61      0.03       464\n",
      "\n",
      "    accuracy                           0.44     36814\n",
      "   macro avg       0.50      0.52      0.32     36814\n",
      "weighted avg       0.98      0.44      0.60     36814\n",
      "\n",
      "Time to Train 0.50 s\n"
     ]
    }
   ],
   "source": [
    "#Using the best learning rate to train the model\n",
    "gradientBoosting = GradientBoostingClassifier(n_estimators=20, learning_rate=best_accuracy, max_features=2, max_depth=2, random_state=0)\n",
    "start = time.time()\n",
    "gradientBoosting.fit(X_train, y_train)\n",
    "time_took = time.time()-start\n",
    "#eveulate the result\n",
    "y_pred_boosting = gradientBoosting.predict(X_test)\n",
    "print (confusion_matrix(y_test,y_pred_boosting))\n",
    "print(classification_report(y_test,y_pred_boosting))\n",
    "print(\"Time to Train {:.2f} s\".format(time_took))"
   ]
  },
  {
   "cell_type": "markdown",
   "metadata": {},
   "source": [
    " ## Random Forest"
   ]
  },
  {
   "cell_type": "code",
   "execution_count": 107,
   "metadata": {
    "ExecuteTime": {
     "end_time": "2021-04-13T22:09:51.184765Z",
     "start_time": "2021-04-13T22:09:50.950220Z"
    }
   },
   "outputs": [],
   "source": [
    "#training part\n",
    "randomForest = RandomForestClassifier(n_estimators=10, criterion = 'entropy', max_depth=4, random_state=0,\n",
    "                                      max_features='sqrt',max_leaf_nodes=3,min_impurity_decrease=1e-04,\n",
    "                                      min_samples_leaf=1,min_samples_split=2)\n",
    "start = time.time()\n",
    "randomForest.fit(X_train,y_train)\n",
    "time_took = time.time()-start\n",
    "#show the decision condiction and the structure of the tree\n",
    "\n",
    "#Estimators = classifier.estimators_\n",
    "#for index, model in enumerate(Estimators):\n",
    "    #each_condiction= export_text(model, feature_names=['Age_Group', 'Client_Gender', 'mobility', 'Special_Measures_Control', 'Special_Measures_Lockdown', 'Special_Measures_Protect', 'Special_Measures_Restrict'])\n",
    "    #print(each_condiction)\n"
   ]
  },
  {
   "cell_type": "code",
   "execution_count": 108,
   "metadata": {
    "ExecuteTime": {
     "end_time": "2021-04-13T22:09:51.299807Z",
     "start_time": "2021-04-13T22:09:51.187632Z"
    }
   },
   "outputs": [
    {
     "name": "stdout",
     "output_type": "stream",
     "text": [
      "[[36350     0]\n",
      " [  464     0]]\n",
      "              precision    recall  f1-score   support\n",
      "\n",
      "           0       0.99      1.00      0.99     36350\n",
      "           1       0.00      0.00      0.00       464\n",
      "\n",
      "    accuracy                           0.99     36814\n",
      "   macro avg       0.49      0.50      0.50     36814\n",
      "weighted avg       0.97      0.99      0.98     36814\n",
      "\n",
      "Time to Train 0.23 s\n"
     ]
    },
    {
     "name": "stderr",
     "output_type": "stream",
     "text": [
      "/Users/yi/anaconda3/lib/python3.7/site-packages/sklearn/metrics/_classification.py:1272: UndefinedMetricWarning: Precision and F-score are ill-defined and being set to 0.0 in labels with no predicted samples. Use `zero_division` parameter to control this behavior.\n",
      "  _warn_prf(average, modifier, msg_start, len(result))\n"
     ]
    }
   ],
   "source": [
    "#eveulate the result\n",
    "y_pred_forest = randomForest.predict(X_test)\n",
    "print (confusion_matrix(y_test,y_pred_forest))\n",
    "print(classification_report(y_test,y_pred_forest))\n",
    "print(\"Time to Train {:.2f} s\".format(time_took))"
   ]
  },
  {
   "cell_type": "markdown",
   "metadata": {
    "ExecuteTime": {
     "end_time": "2021-04-10T14:27:06.945114Z",
     "start_time": "2021-04-10T14:27:06.940435Z"
    }
   },
   "source": [
    " ## Part C\n",
    " "
   ]
  },
  {
   "cell_type": "code",
   "execution_count": 109,
   "metadata": {
    "ExecuteTime": {
     "end_time": "2021-04-13T22:09:57.805836Z",
     "start_time": "2021-04-13T22:09:51.313644Z"
    }
   },
   "outputs": [
    {
     "name": "stdout",
     "output_type": "stream",
     "text": [
      "[[36350     0]\n",
      " [  464     0]]\n",
      "              precision    recall  f1-score   support\n",
      "\n",
      "           0       0.99      1.00      0.99     36350\n",
      "           1       0.00      0.00      0.00       464\n",
      "\n",
      "    accuracy                           0.99     36814\n",
      "   macro avg       0.49      0.50      0.50     36814\n",
      "weighted avg       0.97      0.99      0.98     36814\n",
      "\n"
     ]
    },
    {
     "name": "stderr",
     "output_type": "stream",
     "text": [
      "/Users/yi/anaconda3/lib/python3.7/site-packages/sklearn/metrics/_classification.py:1272: UndefinedMetricWarning: Precision and F-score are ill-defined and being set to 0.0 in labels with no predicted samples. Use `zero_division` parameter to control this behavior.\n",
      "  _warn_prf(average, modifier, msg_start, len(result))\n"
     ]
    }
   ],
   "source": [
    "from sklearn import svm\n",
    "clf_svm = svm.SVC(kernel=\"linear\", random_state=0, max_iter=3500).fit(X_train, y_train)  \n",
    "\n",
    "#eveulate the result\n",
    "y_pred_svm = clf_svm.predict(X_test)\n",
    "print (confusion_matrix(y_test,y_pred_svm))\n",
    "print(classification_report(y_test,y_pred_svm))"
   ]
  },
  {
   "cell_type": "code",
   "execution_count": null,
   "metadata": {},
   "outputs": [],
   "source": []
  },
  {
   "cell_type": "code",
   "execution_count": null,
   "metadata": {},
   "outputs": [],
   "source": []
  },
  {
   "cell_type": "code",
   "execution_count": null,
   "metadata": {},
   "outputs": [],
   "source": []
  },
  {
   "cell_type": "code",
   "execution_count": null,
   "metadata": {},
   "outputs": [],
   "source": []
  }
 ],
 "metadata": {
  "kernelspec": {
   "display_name": "Python 3",
   "language": "python",
   "name": "python3"
  },
  "language_info": {
   "codemirror_mode": {
    "name": "ipython",
    "version": 3
   },
   "file_extension": ".py",
   "mimetype": "text/x-python",
   "name": "python",
   "nbconvert_exporter": "python",
   "pygments_lexer": "ipython3",
   "version": "3.7.5"
  }
 },
 "nbformat": 4,
 "nbformat_minor": 2
}
