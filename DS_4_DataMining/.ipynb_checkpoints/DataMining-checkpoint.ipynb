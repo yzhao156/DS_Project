{
 "cells": [
  {
   "cell_type": "code",
   "execution_count": 1,
   "metadata": {
    "ExecuteTime": {
     "end_time": "2021-04-10T14:46:39.067756Z",
     "start_time": "2021-04-10T14:46:37.081274Z"
    }
   },
   "outputs": [],
   "source": [
    "from configparser import ConfigParser\n",
    "import psycopg2\n",
    "import pandas as pd\n",
    "import numpy as np\n",
    "import matplotlib.pyplot as plt\n",
    "from sklearn.utils import shuffle\n",
    "from sklearn.model_selection import train_test_split\n",
    "from sklearn.metrics import recall_score, precision_score\n",
    "from sklearn.datasets import load_iris\n",
    "from sklearn.tree import DecisionTreeClassifier\n",
    "from sklearn.tree import export_text\n",
    "from collections import Counter \n",
    "import datetime\n",
    "import pickle\n",
    "import time\n",
    "import os\n",
    "\n",
    "\n",
    "from sklearn import tree\n",
    "from sklearn.datasets import load_iris\n",
    "from sklearn.tree import DecisionTreeClassifier,export_text\n",
    "from sklearn.model_selection import train_test_split\n",
    "from sklearn.metrics import confusion_matrix,classification_report\n",
    "from sklearn.ensemble import RandomForestClassifier,GradientBoostingClassifier"
   ]
  },
  {
   "cell_type": "code",
   "execution_count": null,
   "metadata": {},
   "outputs": [],
   "source": []
  },
  {
   "cell_type": "code",
   "execution_count": 2,
   "metadata": {
    "ExecuteTime": {
     "end_time": "2021-04-10T01:25:40.391439Z",
     "start_time": "2021-04-10T01:25:40.365460Z"
    }
   },
   "outputs": [],
   "source": [
    "#Sourced from https://www.postgresqltutorial.com/postgresql-python/connect/\n",
    "def config(filename='psql_sample.ini', section='postgresql'):\n",
    "    parser = ConfigParser()\n",
    "    # read config file\n",
    "    parser.read(filename) \n",
    " \n",
    "    # get section, default to postgresql\n",
    "    db = {}\n",
    "    if parser.has_section(section):\n",
    "        params = parser.items(section)\n",
    "        for param in params:\n",
    "            db[param[0]] = param[1]\n",
    "    else:\n",
    "        raise Exception('Section {0} not found in the {1} file'.format(section, filename))\n",
    " \n",
    "    return db"
   ]
  },
  {
   "cell_type": "code",
   "execution_count": 3,
   "metadata": {
    "ExecuteTime": {
     "end_time": "2021-04-10T01:25:41.540602Z",
     "start_time": "2021-04-10T01:25:41.513769Z"
    }
   },
   "outputs": [],
   "source": [
    "cfg = config()"
   ]
  },
  {
   "cell_type": "code",
   "execution_count": 4,
   "metadata": {
    "ExecuteTime": {
     "end_time": "2021-04-10T01:25:44.907899Z",
     "start_time": "2021-04-10T01:25:44.434292Z"
    }
   },
   "outputs": [
    {
     "name": "stdout",
     "output_type": "stream",
     "text": [
      "Here's an attempt to connect to the database\n",
      "Look's like it was a success\n"
     ]
    }
   ],
   "source": [
    "#Establish the connection and create a cursor to the database\n",
    "try:\n",
    "    print(\"Here's an attempt to connect to the database\")\n",
    "    conn = psycopg2.connect(**cfg)\n",
    "#     conn = psycopg2.connect(\n",
    "#         host=\"www.eecs.uottawa.ca\",\n",
    "#         database=\"group_22\",\n",
    "#         user=\"yzhao156\",\n",
    "#         password=\"UozonePassword\",\n",
    "#         port=15432\n",
    "#     )\n",
    "    cursor = conn.cursor()\n",
    "    print(\"Look's like it was a success\")\n",
    "    \n",
    "except (Exception, psycopg2.DatabaseError) as error:\n",
    "    print(error)"
   ]
  },
  {
   "cell_type": "code",
   "execution_count": 5,
   "metadata": {
    "ExecuteTime": {
     "end_time": "2021-04-10T01:25:55.980228Z",
     "start_time": "2021-04-10T01:25:46.501051Z"
    }
   },
   "outputs": [],
   "source": [
    "try:\n",
    "    #Lets get our data \n",
    "    cursor.execute(\n",
    "    \"\"\"\n",
    "SELECT D.month as month,  S.title as special_measure, \n",
    "    P.Age_Group as Age_Group, P.client_gender as gender, \n",
    "    M.parks_percent_change_from_baseline as mobility,\n",
    "    F.resolved as resolved\n",
    "FROM covid19_tracking_fact_table F, \n",
    "    date_dimension D, \n",
    "    mobility_dimension M,\n",
    "    special_measures_dimension S,\n",
    "    patient_dimension P\n",
    "WHERE F.reported_date_key = D.surrogate_key AND\n",
    "    F.special_measure_key = S.surrogate_key AND\n",
    "    F.mobility_key = M.surrogate_key AND\n",
    "    F.patient_key = P.surrogate_key \n",
    "ORDER BY D.date\n",
    "    \"\"\"    \n",
    "        \n",
    "                  \n",
    "    \n",
    "    )\n",
    "\n",
    "    #Get the complete result set. It will be a list of tuples where each tuple is a row from the result set\n",
    "    result_list = cursor.fetchall()\n",
    "        \n",
    "except (Exception, psycopg2.DatabaseError) as error:\n",
    "    print(error)"
   ]
  },
  {
   "cell_type": "code",
   "execution_count": 6,
   "metadata": {
    "ExecuteTime": {
     "end_time": "2021-04-10T01:25:56.024730Z",
     "start_time": "2021-04-10T01:25:55.985158Z"
    }
   },
   "outputs": [],
   "source": [
    "cursor.close()\n",
    "conn.close()"
   ]
  },
  {
   "cell_type": "code",
   "execution_count": 8,
   "metadata": {
    "ExecuteTime": {
     "end_time": "2021-04-10T01:26:09.835149Z",
     "start_time": "2021-04-10T01:26:09.450222Z"
    }
   },
   "outputs": [],
   "source": [
    "data = pd.DataFrame(result_list,columns=[\"month\", \"special_measure\",\n",
    "                \"Age_Group\", \"gender\", \"mobility\", \"resolved\"])"
   ]
  },
  {
   "cell_type": "code",
   "execution_count": 11,
   "metadata": {
    "ExecuteTime": {
     "end_time": "2021-04-10T01:26:32.930786Z",
     "start_time": "2021-04-10T01:26:32.881809Z"
    }
   },
   "outputs": [
    {
     "data": {
      "text/html": [
       "<div>\n",
       "<style scoped>\n",
       "    .dataframe tbody tr th:only-of-type {\n",
       "        vertical-align: middle;\n",
       "    }\n",
       "\n",
       "    .dataframe tbody tr th {\n",
       "        vertical-align: top;\n",
       "    }\n",
       "\n",
       "    .dataframe thead th {\n",
       "        text-align: right;\n",
       "    }\n",
       "</style>\n",
       "<table border=\"1\" class=\"dataframe\">\n",
       "  <thead>\n",
       "    <tr style=\"text-align: right;\">\n",
       "      <th></th>\n",
       "      <th>month</th>\n",
       "      <th>special_measure</th>\n",
       "      <th>Age_Group</th>\n",
       "      <th>gender</th>\n",
       "      <th>mobility</th>\n",
       "      <th>resolved</th>\n",
       "    </tr>\n",
       "  </thead>\n",
       "  <tbody>\n",
       "    <tr>\n",
       "      <th>0</th>\n",
       "      <td>11</td>\n",
       "      <td>Restrict</td>\n",
       "      <td>40s</td>\n",
       "      <td>MALE</td>\n",
       "      <td>-26.0</td>\n",
       "      <td>1</td>\n",
       "    </tr>\n",
       "    <tr>\n",
       "      <th>1</th>\n",
       "      <td>11</td>\n",
       "      <td>Restrict</td>\n",
       "      <td>30s</td>\n",
       "      <td>MALE</td>\n",
       "      <td>-26.0</td>\n",
       "      <td>1</td>\n",
       "    </tr>\n",
       "    <tr>\n",
       "      <th>2</th>\n",
       "      <td>11</td>\n",
       "      <td>Restrict</td>\n",
       "      <td>50s</td>\n",
       "      <td>MALE</td>\n",
       "      <td>-26.0</td>\n",
       "      <td>1</td>\n",
       "    </tr>\n",
       "    <tr>\n",
       "      <th>3</th>\n",
       "      <td>11</td>\n",
       "      <td>Restrict</td>\n",
       "      <td>&lt;20</td>\n",
       "      <td>FEMALE</td>\n",
       "      <td>-26.0</td>\n",
       "      <td>1</td>\n",
       "    </tr>\n",
       "    <tr>\n",
       "      <th>4</th>\n",
       "      <td>11</td>\n",
       "      <td>Restrict</td>\n",
       "      <td>30s</td>\n",
       "      <td>FEMALE</td>\n",
       "      <td>-26.0</td>\n",
       "      <td>1</td>\n",
       "    </tr>\n",
       "  </tbody>\n",
       "</table>\n",
       "</div>"
      ],
      "text/plain": [
       "   month special_measure Age_Group  gender  mobility  resolved\n",
       "0     11        Restrict       40s    MALE     -26.0         1\n",
       "1     11        Restrict       30s    MALE     -26.0         1\n",
       "2     11        Restrict       50s    MALE     -26.0         1\n",
       "3     11        Restrict       <20  FEMALE     -26.0         1\n",
       "4     11        Restrict       30s  FEMALE     -26.0         1"
      ]
     },
     "execution_count": 11,
     "metadata": {},
     "output_type": "execute_result"
    }
   ],
   "source": [
    "data.head()"
   ]
  },
  {
   "cell_type": "code",
   "execution_count": 12,
   "metadata": {
    "ExecuteTime": {
     "end_time": "2021-04-10T01:26:36.994363Z",
     "start_time": "2021-04-10T01:26:36.697590Z"
    }
   },
   "outputs": [],
   "source": [
    "if not os.path.exists('saves'):\n",
    "    os.makedirs('saves')\n",
    "pickle.dump( data, open( \"./saves/data.p\", \"wb\" ) )"
   ]
  },
  {
   "cell_type": "code",
   "execution_count": 2,
   "metadata": {
    "ExecuteTime": {
     "end_time": "2021-04-10T01:29:02.043256Z",
     "start_time": "2021-04-10T01:29:01.825026Z"
    }
   },
   "outputs": [],
   "source": [
    "data = pickle.load( open( \"./saves/data.p\", \"rb\" ) )"
   ]
  },
  {
   "cell_type": "code",
   "execution_count": 32,
   "metadata": {
    "ExecuteTime": {
     "end_time": "2021-04-10T01:28:19.815827Z",
     "start_time": "2021-04-10T01:28:19.780864Z"
    }
   },
   "outputs": [
    {
     "data": {
      "text/html": [
       "<div>\n",
       "<style scoped>\n",
       "    .dataframe tbody tr th:only-of-type {\n",
       "        vertical-align: middle;\n",
       "    }\n",
       "\n",
       "    .dataframe tbody tr th {\n",
       "        vertical-align: top;\n",
       "    }\n",
       "\n",
       "    .dataframe thead th {\n",
       "        text-align: right;\n",
       "    }\n",
       "</style>\n",
       "<table border=\"1\" class=\"dataframe\">\n",
       "  <thead>\n",
       "    <tr style=\"text-align: right;\">\n",
       "      <th></th>\n",
       "      <th>month</th>\n",
       "      <th>special_measure</th>\n",
       "      <th>Age_Group</th>\n",
       "      <th>gender</th>\n",
       "      <th>mobility</th>\n",
       "      <th>resolved</th>\n",
       "    </tr>\n",
       "  </thead>\n",
       "  <tbody>\n",
       "    <tr>\n",
       "      <th>0</th>\n",
       "      <td>11</td>\n",
       "      <td>Restrict</td>\n",
       "      <td>40s</td>\n",
       "      <td>MALE</td>\n",
       "      <td>-26.0</td>\n",
       "      <td>1</td>\n",
       "    </tr>\n",
       "    <tr>\n",
       "      <th>1</th>\n",
       "      <td>11</td>\n",
       "      <td>Restrict</td>\n",
       "      <td>30s</td>\n",
       "      <td>MALE</td>\n",
       "      <td>-26.0</td>\n",
       "      <td>1</td>\n",
       "    </tr>\n",
       "    <tr>\n",
       "      <th>2</th>\n",
       "      <td>11</td>\n",
       "      <td>Restrict</td>\n",
       "      <td>50s</td>\n",
       "      <td>MALE</td>\n",
       "      <td>-26.0</td>\n",
       "      <td>1</td>\n",
       "    </tr>\n",
       "    <tr>\n",
       "      <th>3</th>\n",
       "      <td>11</td>\n",
       "      <td>Restrict</td>\n",
       "      <td>&lt;20</td>\n",
       "      <td>FEMALE</td>\n",
       "      <td>-26.0</td>\n",
       "      <td>1</td>\n",
       "    </tr>\n",
       "    <tr>\n",
       "      <th>4</th>\n",
       "      <td>11</td>\n",
       "      <td>Restrict</td>\n",
       "      <td>30s</td>\n",
       "      <td>FEMALE</td>\n",
       "      <td>-26.0</td>\n",
       "      <td>1</td>\n",
       "    </tr>\n",
       "    <tr>\n",
       "      <th>...</th>\n",
       "      <td>...</td>\n",
       "      <td>...</td>\n",
       "      <td>...</td>\n",
       "      <td>...</td>\n",
       "      <td>...</td>\n",
       "      <td>...</td>\n",
       "    </tr>\n",
       "    <tr>\n",
       "      <th>147899</th>\n",
       "      <td>2</td>\n",
       "      <td>Control</td>\n",
       "      <td>&lt;20</td>\n",
       "      <td>FEMALE</td>\n",
       "      <td>-23.0</td>\n",
       "      <td>0</td>\n",
       "    </tr>\n",
       "    <tr>\n",
       "      <th>147900</th>\n",
       "      <td>2</td>\n",
       "      <td>Control</td>\n",
       "      <td>20s</td>\n",
       "      <td>MALE</td>\n",
       "      <td>-23.0</td>\n",
       "      <td>0</td>\n",
       "    </tr>\n",
       "    <tr>\n",
       "      <th>147901</th>\n",
       "      <td>2</td>\n",
       "      <td>Control</td>\n",
       "      <td>20s</td>\n",
       "      <td>FEMALE</td>\n",
       "      <td>-23.0</td>\n",
       "      <td>0</td>\n",
       "    </tr>\n",
       "    <tr>\n",
       "      <th>147902</th>\n",
       "      <td>2</td>\n",
       "      <td>Control</td>\n",
       "      <td>50s</td>\n",
       "      <td>FEMALE</td>\n",
       "      <td>-23.0</td>\n",
       "      <td>1</td>\n",
       "    </tr>\n",
       "    <tr>\n",
       "      <th>147903</th>\n",
       "      <td>2</td>\n",
       "      <td>Control</td>\n",
       "      <td>30s</td>\n",
       "      <td>MALE</td>\n",
       "      <td>-23.0</td>\n",
       "      <td>0</td>\n",
       "    </tr>\n",
       "  </tbody>\n",
       "</table>\n",
       "<p>147904 rows × 6 columns</p>\n",
       "</div>"
      ],
      "text/plain": [
       "        month special_measure Age_Group  gender  mobility  resolved\n",
       "0          11        Restrict       40s    MALE     -26.0         1\n",
       "1          11        Restrict       30s    MALE     -26.0         1\n",
       "2          11        Restrict       50s    MALE     -26.0         1\n",
       "3          11        Restrict       <20  FEMALE     -26.0         1\n",
       "4          11        Restrict       30s  FEMALE     -26.0         1\n",
       "...       ...             ...       ...     ...       ...       ...\n",
       "147899      2         Control       <20  FEMALE     -23.0         0\n",
       "147900      2         Control       20s    MALE     -23.0         0\n",
       "147901      2         Control       20s  FEMALE     -23.0         0\n",
       "147902      2         Control       50s  FEMALE     -23.0         1\n",
       "147903      2         Control       30s    MALE     -23.0         0\n",
       "\n",
       "[147904 rows x 6 columns]"
      ]
     },
     "execution_count": 32,
     "metadata": {},
     "output_type": "execute_result"
    }
   ],
   "source": [
    "data"
   ]
  },
  {
   "cell_type": "code",
   "execution_count": 14,
   "metadata": {
    "ExecuteTime": {
     "end_time": "2021-04-10T01:27:00.880028Z",
     "start_time": "2021-04-10T01:27:00.156594Z"
    }
   },
   "outputs": [
    {
     "data": {
      "text/plain": [
       "<matplotlib.axes._subplots.AxesSubplot at 0x7f95d33a7450>"
      ]
     },
     "execution_count": 14,
     "metadata": {},
     "output_type": "execute_result"
    },
    {
     "data": {
      "image/png": "[encoded data removed]",
      "text/plain": [
       "<Figure size 432x288 with 1 Axes>"
      ]
     },
     "metadata": {
      "needs_background": "light"
     },
     "output_type": "display_data"
    }
   ],
   "source": [
    "data.boxplot(column=['mobility'])"
   ]
  },
  {
   "cell_type": "code",
   "execution_count": 15,
   "metadata": {
    "ExecuteTime": {
     "end_time": "2021-04-10T01:27:01.527813Z",
     "start_time": "2021-04-10T01:27:00.890011Z"
    },
    "scrolled": false
   },
   "outputs": [
    {
     "data": {
      "text/plain": [
       "(array([6.49280013e-01, 0.00000000e+00, 0.00000000e+00, 0.00000000e+00,\n",
       "        7.20857974e-01, 0.00000000e+00, 0.00000000e+00, 0.00000000e+00,\n",
       "        6.59857445e-01, 0.00000000e+00, 0.00000000e+00, 0.00000000e+00,\n",
       "        0.00000000e+00, 6.63944180e-01, 0.00000000e+00, 0.00000000e+00,\n",
       "        0.00000000e+00, 9.27057791e-01, 0.00000000e+00, 0.00000000e+00,\n",
       "        0.00000000e+00, 0.00000000e+00, 4.08883841e-01, 0.00000000e+00,\n",
       "        0.00000000e+00, 0.00000000e+00, 1.40391365e-01, 0.00000000e+00,\n",
       "        0.00000000e+00, 0.00000000e+00, 0.00000000e+00, 1.98356892e-01,\n",
       "        0.00000000e+00, 0.00000000e+00, 0.00000000e+00, 7.54543488e-02,\n",
       "        0.00000000e+00, 0.00000000e+00, 0.00000000e+00, 3.60594259e-04]),\n",
       " array([0.   , 0.225, 0.45 , 0.675, 0.9  , 1.125, 1.35 , 1.575, 1.8  ,\n",
       "        2.025, 2.25 , 2.475, 2.7  , 2.925, 3.15 , 3.375, 3.6  , 3.825,\n",
       "        4.05 , 4.275, 4.5  , 4.725, 4.95 , 5.175, 5.4  , 5.625, 5.85 ,\n",
       "        6.075, 6.3  , 6.525, 6.75 , 6.975, 7.2  , 7.425, 7.65 , 7.875,\n",
       "        8.1  , 8.325, 8.55 , 8.775, 9.   ]),\n",
       " <a list of 1 Patch objects>)"
      ]
     },
     "execution_count": 15,
     "metadata": {},
     "output_type": "execute_result"
    },
    {
     "data": {
      "image/png": "[encoded data removed]",
      "text/plain": [
       "<Figure size 432x288 with 1 Axes>"
      ]
     },
     "metadata": {
      "needs_background": "light"
     },
     "output_type": "display_data"
    }
   ],
   "source": [
    "kwargs = dict(histtype='stepfilled', alpha=0.3, density=True, bins=40)\n",
    "plt.hist(data['Age_Group'], **kwargs)"
   ]
  },
  {
   "cell_type": "markdown",
   "metadata": {},
   "source": [
    "# A.2"
   ]
  },
  {
   "cell_type": "code",
   "execution_count": 16,
   "metadata": {
    "ExecuteTime": {
     "end_time": "2021-04-10T01:27:05.364205Z",
     "start_time": "2021-04-10T01:27:05.340331Z"
    }
   },
   "outputs": [
    {
     "data": {
      "text/html": [
       "<div>\n",
       "<style scoped>\n",
       "    .dataframe tbody tr th:only-of-type {\n",
       "        vertical-align: middle;\n",
       "    }\n",
       "\n",
       "    .dataframe tbody tr th {\n",
       "        vertical-align: top;\n",
       "    }\n",
       "\n",
       "    .dataframe thead th {\n",
       "        text-align: right;\n",
       "    }\n",
       "</style>\n",
       "<table border=\"1\" class=\"dataframe\">\n",
       "  <thead>\n",
       "    <tr style=\"text-align: right;\">\n",
       "      <th></th>\n",
       "      <th>month</th>\n",
       "      <th>special_measure</th>\n",
       "      <th>Age_Group</th>\n",
       "      <th>gender</th>\n",
       "      <th>mobility</th>\n",
       "      <th>resolved</th>\n",
       "    </tr>\n",
       "  </thead>\n",
       "  <tbody>\n",
       "    <tr>\n",
       "      <th>0</th>\n",
       "      <td>11</td>\n",
       "      <td>Restrict</td>\n",
       "      <td>40s</td>\n",
       "      <td>MALE</td>\n",
       "      <td>-26.0</td>\n",
       "      <td>1</td>\n",
       "    </tr>\n",
       "    <tr>\n",
       "      <th>1</th>\n",
       "      <td>11</td>\n",
       "      <td>Restrict</td>\n",
       "      <td>30s</td>\n",
       "      <td>MALE</td>\n",
       "      <td>-26.0</td>\n",
       "      <td>1</td>\n",
       "    </tr>\n",
       "    <tr>\n",
       "      <th>2</th>\n",
       "      <td>11</td>\n",
       "      <td>Restrict</td>\n",
       "      <td>50s</td>\n",
       "      <td>MALE</td>\n",
       "      <td>-26.0</td>\n",
       "      <td>1</td>\n",
       "    </tr>\n",
       "    <tr>\n",
       "      <th>3</th>\n",
       "      <td>11</td>\n",
       "      <td>Restrict</td>\n",
       "      <td>&lt;20</td>\n",
       "      <td>FEMALE</td>\n",
       "      <td>-26.0</td>\n",
       "      <td>1</td>\n",
       "    </tr>\n",
       "    <tr>\n",
       "      <th>4</th>\n",
       "      <td>11</td>\n",
       "      <td>Restrict</td>\n",
       "      <td>30s</td>\n",
       "      <td>FEMALE</td>\n",
       "      <td>-26.0</td>\n",
       "      <td>1</td>\n",
       "    </tr>\n",
       "  </tbody>\n",
       "</table>\n",
       "</div>"
      ],
      "text/plain": [
       "   month special_measure Age_Group  gender  mobility  resolved\n",
       "0     11        Restrict       40s    MALE     -26.0         1\n",
       "1     11        Restrict       30s    MALE     -26.0         1\n",
       "2     11        Restrict       50s    MALE     -26.0         1\n",
       "3     11        Restrict       <20  FEMALE     -26.0         1\n",
       "4     11        Restrict       30s  FEMALE     -26.0         1"
      ]
     },
     "execution_count": 16,
     "metadata": {},
     "output_type": "execute_result"
    }
   ],
   "source": [
    "data.head()"
   ]
  },
  {
   "cell_type": "code",
   "execution_count": 3,
   "metadata": {
    "ExecuteTime": {
     "end_time": "2021-04-10T01:29:10.351013Z",
     "start_time": "2021-04-10T01:29:10.282343Z"
    },
    "scrolled": true
   },
   "outputs": [
    {
     "data": {
      "text/plain": [
       "month              0\n",
       "special_measure    0\n",
       "Age_Group          0\n",
       "gender             0\n",
       "mobility           0\n",
       "resolved           0\n",
       "dtype: int64"
      ]
     },
     "execution_count": 3,
     "metadata": {},
     "output_type": "execute_result"
    }
   ],
   "source": [
    "data.isna().sum()"
   ]
  },
  {
   "cell_type": "code",
   "execution_count": 4,
   "metadata": {
    "ExecuteTime": {
     "end_time": "2021-04-10T01:29:11.162109Z",
     "start_time": "2021-04-10T01:29:11.099280Z"
    }
   },
   "outputs": [],
   "source": [
    "data = data[data['Age_Group']!=\"UNKNOWN\"]"
   ]
  },
  {
   "cell_type": "code",
   "execution_count": 5,
   "metadata": {
    "ExecuteTime": {
     "end_time": "2021-04-10T01:29:11.825844Z",
     "start_time": "2021-04-10T01:29:11.785893Z"
    }
   },
   "outputs": [
    {
     "data": {
      "text/plain": [
       "0      40s\n",
       "1      30s\n",
       "2      50s\n",
       "3      <20\n",
       "7      20s\n",
       "11     60s\n",
       "37     80s\n",
       "44     70s\n",
       "518    90+\n",
       "Name: Age_Group, dtype: object"
      ]
     },
     "execution_count": 5,
     "metadata": {},
     "output_type": "execute_result"
    }
   ],
   "source": [
    "data['Age_Group'].drop_duplicates()"
   ]
  },
  {
   "cell_type": "code",
   "execution_count": 6,
   "metadata": {
    "ExecuteTime": {
     "end_time": "2021-04-10T01:29:13.307169Z",
     "start_time": "2021-04-10T01:29:13.137349Z"
    }
   },
   "outputs": [],
   "source": [
    "mapping_age = {\n",
    "    '<20':0,\n",
    "    '20s':1,\n",
    "    '30s':2,\n",
    "    '40s':3,\n",
    "    '50s':4,\n",
    "    '60s':5,\n",
    "    '70s':6,\n",
    "    '80s':7,\n",
    "    '90+':8\n",
    "}\n",
    "data['Age_Group'] = data['Age_Group'].map(lambda x : mapping_age[x])\n",
    "    "
   ]
  },
  {
   "cell_type": "code",
   "execution_count": 7,
   "metadata": {
    "ExecuteTime": {
     "end_time": "2021-04-10T01:29:14.733462Z",
     "start_time": "2021-04-10T01:29:14.586418Z"
    }
   },
   "outputs": [],
   "source": [
    "mapping_month = {\n",
    "    11:1,\n",
    "    12:2,\n",
    "    1:3,\n",
    "    2:4\n",
    "}\n",
    "data['month'] = data['month'].map(lambda x : mapping_month[x])"
   ]
  },
  {
   "cell_type": "code",
   "execution_count": 8,
   "metadata": {
    "ExecuteTime": {
     "end_time": "2021-04-10T01:29:15.397551Z",
     "start_time": "2021-04-10T01:29:15.238982Z"
    }
   },
   "outputs": [],
   "source": [
    "mapping_gender = {\n",
    "    'MALE':0,\n",
    "    'FEMALE':1,\n",
    "    'UNSPECIFIED':2,\n",
    "    'GENDER DIVERSE':3\n",
    "}\n",
    "data['gender'] = data['gender'].map(lambda x : mapping_gender[x])\n"
   ]
  },
  {
   "cell_type": "code",
   "execution_count": 9,
   "metadata": {
    "ExecuteTime": {
     "end_time": "2021-04-10T01:29:16.748064Z",
     "start_time": "2021-04-10T01:29:16.700735Z"
    }
   },
   "outputs": [
    {
     "data": {
      "text/plain": [
       "(147892, 5)"
      ]
     },
     "execution_count": 9,
     "metadata": {},
     "output_type": "execute_result"
    }
   ],
   "source": [
    "one_hot = pd.get_dummies(data.special_measure, prefix='special_measure')\n",
    "one_hot.shape"
   ]
  },
  {
   "cell_type": "code",
   "execution_count": 10,
   "metadata": {
    "ExecuteTime": {
     "end_time": "2021-04-10T01:29:19.787015Z",
     "start_time": "2021-04-10T01:29:19.769517Z"
    }
   },
   "outputs": [
    {
     "data": {
      "text/plain": [
       "(147892, 6)"
      ]
     },
     "execution_count": 10,
     "metadata": {},
     "output_type": "execute_result"
    }
   ],
   "source": [
    "data.shape"
   ]
  },
  {
   "cell_type": "code",
   "execution_count": 11,
   "metadata": {
    "ExecuteTime": {
     "end_time": "2021-04-10T01:29:28.064796Z",
     "start_time": "2021-04-10T01:29:28.028320Z"
    }
   },
   "outputs": [],
   "source": [
    "data = pd.concat([data,one_hot],axis=1)"
   ]
  },
  {
   "cell_type": "code",
   "execution_count": 13,
   "metadata": {
    "ExecuteTime": {
     "end_time": "2021-04-10T01:29:52.317900Z",
     "start_time": "2021-04-10T01:29:52.297227Z"
    }
   },
   "outputs": [],
   "source": [
    "data = data.drop(columns=['special_measure'])"
   ]
  },
  {
   "cell_type": "code",
   "execution_count": 14,
   "metadata": {
    "ExecuteTime": {
     "end_time": "2021-04-10T01:29:53.025508Z",
     "start_time": "2021-04-10T01:29:52.958879Z"
    }
   },
   "outputs": [
    {
     "data": {
      "text/html": [
       "<div>\n",
       "<style scoped>\n",
       "    .dataframe tbody tr th:only-of-type {\n",
       "        vertical-align: middle;\n",
       "    }\n",
       "\n",
       "    .dataframe tbody tr th {\n",
       "        vertical-align: top;\n",
       "    }\n",
       "\n",
       "    .dataframe thead th {\n",
       "        text-align: right;\n",
       "    }\n",
       "</style>\n",
       "<table border=\"1\" class=\"dataframe\">\n",
       "  <thead>\n",
       "    <tr style=\"text-align: right;\">\n",
       "      <th></th>\n",
       "      <th>month</th>\n",
       "      <th>Age_Group</th>\n",
       "      <th>gender</th>\n",
       "      <th>mobility</th>\n",
       "      <th>resolved</th>\n",
       "      <th>special_measure_Control</th>\n",
       "      <th>special_measure_Lockdown</th>\n",
       "      <th>special_measure_Prevent</th>\n",
       "      <th>special_measure_Protect</th>\n",
       "      <th>special_measure_Restrict</th>\n",
       "    </tr>\n",
       "  </thead>\n",
       "  <tbody>\n",
       "    <tr>\n",
       "      <th>0</th>\n",
       "      <td>1</td>\n",
       "      <td>3</td>\n",
       "      <td>0</td>\n",
       "      <td>-26.0</td>\n",
       "      <td>1</td>\n",
       "      <td>0</td>\n",
       "      <td>0</td>\n",
       "      <td>0</td>\n",
       "      <td>0</td>\n",
       "      <td>1</td>\n",
       "    </tr>\n",
       "    <tr>\n",
       "      <th>1</th>\n",
       "      <td>1</td>\n",
       "      <td>2</td>\n",
       "      <td>0</td>\n",
       "      <td>-26.0</td>\n",
       "      <td>1</td>\n",
       "      <td>0</td>\n",
       "      <td>0</td>\n",
       "      <td>0</td>\n",
       "      <td>0</td>\n",
       "      <td>1</td>\n",
       "    </tr>\n",
       "    <tr>\n",
       "      <th>2</th>\n",
       "      <td>1</td>\n",
       "      <td>4</td>\n",
       "      <td>0</td>\n",
       "      <td>-26.0</td>\n",
       "      <td>1</td>\n",
       "      <td>0</td>\n",
       "      <td>0</td>\n",
       "      <td>0</td>\n",
       "      <td>0</td>\n",
       "      <td>1</td>\n",
       "    </tr>\n",
       "    <tr>\n",
       "      <th>3</th>\n",
       "      <td>1</td>\n",
       "      <td>0</td>\n",
       "      <td>1</td>\n",
       "      <td>-26.0</td>\n",
       "      <td>1</td>\n",
       "      <td>0</td>\n",
       "      <td>0</td>\n",
       "      <td>0</td>\n",
       "      <td>0</td>\n",
       "      <td>1</td>\n",
       "    </tr>\n",
       "    <tr>\n",
       "      <th>4</th>\n",
       "      <td>1</td>\n",
       "      <td>2</td>\n",
       "      <td>1</td>\n",
       "      <td>-26.0</td>\n",
       "      <td>1</td>\n",
       "      <td>0</td>\n",
       "      <td>0</td>\n",
       "      <td>0</td>\n",
       "      <td>0</td>\n",
       "      <td>1</td>\n",
       "    </tr>\n",
       "    <tr>\n",
       "      <th>...</th>\n",
       "      <td>...</td>\n",
       "      <td>...</td>\n",
       "      <td>...</td>\n",
       "      <td>...</td>\n",
       "      <td>...</td>\n",
       "      <td>...</td>\n",
       "      <td>...</td>\n",
       "      <td>...</td>\n",
       "      <td>...</td>\n",
       "      <td>...</td>\n",
       "    </tr>\n",
       "    <tr>\n",
       "      <th>147899</th>\n",
       "      <td>4</td>\n",
       "      <td>0</td>\n",
       "      <td>1</td>\n",
       "      <td>-23.0</td>\n",
       "      <td>0</td>\n",
       "      <td>1</td>\n",
       "      <td>0</td>\n",
       "      <td>0</td>\n",
       "      <td>0</td>\n",
       "      <td>0</td>\n",
       "    </tr>\n",
       "    <tr>\n",
       "      <th>147900</th>\n",
       "      <td>4</td>\n",
       "      <td>1</td>\n",
       "      <td>0</td>\n",
       "      <td>-23.0</td>\n",
       "      <td>0</td>\n",
       "      <td>1</td>\n",
       "      <td>0</td>\n",
       "      <td>0</td>\n",
       "      <td>0</td>\n",
       "      <td>0</td>\n",
       "    </tr>\n",
       "    <tr>\n",
       "      <th>147901</th>\n",
       "      <td>4</td>\n",
       "      <td>1</td>\n",
       "      <td>1</td>\n",
       "      <td>-23.0</td>\n",
       "      <td>0</td>\n",
       "      <td>1</td>\n",
       "      <td>0</td>\n",
       "      <td>0</td>\n",
       "      <td>0</td>\n",
       "      <td>0</td>\n",
       "    </tr>\n",
       "    <tr>\n",
       "      <th>147902</th>\n",
       "      <td>4</td>\n",
       "      <td>4</td>\n",
       "      <td>1</td>\n",
       "      <td>-23.0</td>\n",
       "      <td>1</td>\n",
       "      <td>1</td>\n",
       "      <td>0</td>\n",
       "      <td>0</td>\n",
       "      <td>0</td>\n",
       "      <td>0</td>\n",
       "    </tr>\n",
       "    <tr>\n",
       "      <th>147903</th>\n",
       "      <td>4</td>\n",
       "      <td>2</td>\n",
       "      <td>0</td>\n",
       "      <td>-23.0</td>\n",
       "      <td>0</td>\n",
       "      <td>1</td>\n",
       "      <td>0</td>\n",
       "      <td>0</td>\n",
       "      <td>0</td>\n",
       "      <td>0</td>\n",
       "    </tr>\n",
       "  </tbody>\n",
       "</table>\n",
       "<p>147892 rows × 10 columns</p>\n",
       "</div>"
      ],
      "text/plain": [
       "        month  Age_Group  gender  mobility  resolved  special_measure_Control  \\\n",
       "0           1          3       0     -26.0         1                        0   \n",
       "1           1          2       0     -26.0         1                        0   \n",
       "2           1          4       0     -26.0         1                        0   \n",
       "3           1          0       1     -26.0         1                        0   \n",
       "4           1          2       1     -26.0         1                        0   \n",
       "...       ...        ...     ...       ...       ...                      ...   \n",
       "147899      4          0       1     -23.0         0                        1   \n",
       "147900      4          1       0     -23.0         0                        1   \n",
       "147901      4          1       1     -23.0         0                        1   \n",
       "147902      4          4       1     -23.0         1                        1   \n",
       "147903      4          2       0     -23.0         0                        1   \n",
       "\n",
       "        special_measure_Lockdown  special_measure_Prevent  \\\n",
       "0                              0                        0   \n",
       "1                              0                        0   \n",
       "2                              0                        0   \n",
       "3                              0                        0   \n",
       "4                              0                        0   \n",
       "...                          ...                      ...   \n",
       "147899                         0                        0   \n",
       "147900                         0                        0   \n",
       "147901                         0                        0   \n",
       "147902                         0                        0   \n",
       "147903                         0                        0   \n",
       "\n",
       "        special_measure_Protect  special_measure_Restrict  \n",
       "0                             0                         1  \n",
       "1                             0                         1  \n",
       "2                             0                         1  \n",
       "3                             0                         1  \n",
       "4                             0                         1  \n",
       "...                         ...                       ...  \n",
       "147899                        0                         0  \n",
       "147900                        0                         0  \n",
       "147901                        0                         0  \n",
       "147902                        0                         0  \n",
       "147903                        0                         0  \n",
       "\n",
       "[147892 rows x 10 columns]"
      ]
     },
     "execution_count": 14,
     "metadata": {},
     "output_type": "execute_result"
    }
   ],
   "source": [
    "data"
   ]
  },
  {
   "cell_type": "markdown",
   "metadata": {},
   "source": [
    "### normalisation"
   ]
  },
  {
   "cell_type": "code",
   "execution_count": 15,
   "metadata": {
    "ExecuteTime": {
     "end_time": "2021-04-10T01:30:21.861334Z",
     "start_time": "2021-04-10T01:30:21.159119Z"
    }
   },
   "outputs": [],
   "source": [
    "#normalize mobility\n",
    "data['mobility'] = (data['mobility']-data['mobility'].min())/(data['mobility'].max()-data['mobility'].min())\n",
    "data['Age_Group'] = (data['Age_Group']-data['Age_Group'].min())/(data['Age_Group'].max()-data['Age_Group'].min())\n",
    "data['month'] = (data['month']-data['month'].min())/(data['month'].max()-data['month'].min())"
   ]
  },
  {
   "cell_type": "code",
   "execution_count": 16,
   "metadata": {
    "ExecuteTime": {
     "end_time": "2021-04-10T01:30:28.310076Z",
     "start_time": "2021-04-10T01:30:28.242797Z"
    }
   },
   "outputs": [
    {
     "data": {
      "text/html": [
       "<div>\n",
       "<style scoped>\n",
       "    .dataframe tbody tr th:only-of-type {\n",
       "        vertical-align: middle;\n",
       "    }\n",
       "\n",
       "    .dataframe tbody tr th {\n",
       "        vertical-align: top;\n",
       "    }\n",
       "\n",
       "    .dataframe thead th {\n",
       "        text-align: right;\n",
       "    }\n",
       "</style>\n",
       "<table border=\"1\" class=\"dataframe\">\n",
       "  <thead>\n",
       "    <tr style=\"text-align: right;\">\n",
       "      <th></th>\n",
       "      <th>month</th>\n",
       "      <th>Age_Group</th>\n",
       "      <th>gender</th>\n",
       "      <th>mobility</th>\n",
       "      <th>resolved</th>\n",
       "      <th>special_measure_Control</th>\n",
       "      <th>special_measure_Lockdown</th>\n",
       "      <th>special_measure_Prevent</th>\n",
       "      <th>special_measure_Protect</th>\n",
       "      <th>special_measure_Restrict</th>\n",
       "    </tr>\n",
       "  </thead>\n",
       "  <tbody>\n",
       "    <tr>\n",
       "      <th>0</th>\n",
       "      <td>0.0</td>\n",
       "      <td>0.375</td>\n",
       "      <td>0</td>\n",
       "      <td>0.084112</td>\n",
       "      <td>1</td>\n",
       "      <td>0</td>\n",
       "      <td>0</td>\n",
       "      <td>0</td>\n",
       "      <td>0</td>\n",
       "      <td>1</td>\n",
       "    </tr>\n",
       "    <tr>\n",
       "      <th>1</th>\n",
       "      <td>0.0</td>\n",
       "      <td>0.250</td>\n",
       "      <td>0</td>\n",
       "      <td>0.084112</td>\n",
       "      <td>1</td>\n",
       "      <td>0</td>\n",
       "      <td>0</td>\n",
       "      <td>0</td>\n",
       "      <td>0</td>\n",
       "      <td>1</td>\n",
       "    </tr>\n",
       "    <tr>\n",
       "      <th>2</th>\n",
       "      <td>0.0</td>\n",
       "      <td>0.500</td>\n",
       "      <td>0</td>\n",
       "      <td>0.084112</td>\n",
       "      <td>1</td>\n",
       "      <td>0</td>\n",
       "      <td>0</td>\n",
       "      <td>0</td>\n",
       "      <td>0</td>\n",
       "      <td>1</td>\n",
       "    </tr>\n",
       "    <tr>\n",
       "      <th>3</th>\n",
       "      <td>0.0</td>\n",
       "      <td>0.000</td>\n",
       "      <td>1</td>\n",
       "      <td>0.084112</td>\n",
       "      <td>1</td>\n",
       "      <td>0</td>\n",
       "      <td>0</td>\n",
       "      <td>0</td>\n",
       "      <td>0</td>\n",
       "      <td>1</td>\n",
       "    </tr>\n",
       "    <tr>\n",
       "      <th>4</th>\n",
       "      <td>0.0</td>\n",
       "      <td>0.250</td>\n",
       "      <td>1</td>\n",
       "      <td>0.084112</td>\n",
       "      <td>1</td>\n",
       "      <td>0</td>\n",
       "      <td>0</td>\n",
       "      <td>0</td>\n",
       "      <td>0</td>\n",
       "      <td>1</td>\n",
       "    </tr>\n",
       "    <tr>\n",
       "      <th>...</th>\n",
       "      <td>...</td>\n",
       "      <td>...</td>\n",
       "      <td>...</td>\n",
       "      <td>...</td>\n",
       "      <td>...</td>\n",
       "      <td>...</td>\n",
       "      <td>...</td>\n",
       "      <td>...</td>\n",
       "      <td>...</td>\n",
       "      <td>...</td>\n",
       "    </tr>\n",
       "    <tr>\n",
       "      <th>147899</th>\n",
       "      <td>1.0</td>\n",
       "      <td>0.000</td>\n",
       "      <td>1</td>\n",
       "      <td>0.093458</td>\n",
       "      <td>0</td>\n",
       "      <td>1</td>\n",
       "      <td>0</td>\n",
       "      <td>0</td>\n",
       "      <td>0</td>\n",
       "      <td>0</td>\n",
       "    </tr>\n",
       "    <tr>\n",
       "      <th>147900</th>\n",
       "      <td>1.0</td>\n",
       "      <td>0.125</td>\n",
       "      <td>0</td>\n",
       "      <td>0.093458</td>\n",
       "      <td>0</td>\n",
       "      <td>1</td>\n",
       "      <td>0</td>\n",
       "      <td>0</td>\n",
       "      <td>0</td>\n",
       "      <td>0</td>\n",
       "    </tr>\n",
       "    <tr>\n",
       "      <th>147901</th>\n",
       "      <td>1.0</td>\n",
       "      <td>0.125</td>\n",
       "      <td>1</td>\n",
       "      <td>0.093458</td>\n",
       "      <td>0</td>\n",
       "      <td>1</td>\n",
       "      <td>0</td>\n",
       "      <td>0</td>\n",
       "      <td>0</td>\n",
       "      <td>0</td>\n",
       "    </tr>\n",
       "    <tr>\n",
       "      <th>147902</th>\n",
       "      <td>1.0</td>\n",
       "      <td>0.500</td>\n",
       "      <td>1</td>\n",
       "      <td>0.093458</td>\n",
       "      <td>1</td>\n",
       "      <td>1</td>\n",
       "      <td>0</td>\n",
       "      <td>0</td>\n",
       "      <td>0</td>\n",
       "      <td>0</td>\n",
       "    </tr>\n",
       "    <tr>\n",
       "      <th>147903</th>\n",
       "      <td>1.0</td>\n",
       "      <td>0.250</td>\n",
       "      <td>0</td>\n",
       "      <td>0.093458</td>\n",
       "      <td>0</td>\n",
       "      <td>1</td>\n",
       "      <td>0</td>\n",
       "      <td>0</td>\n",
       "      <td>0</td>\n",
       "      <td>0</td>\n",
       "    </tr>\n",
       "  </tbody>\n",
       "</table>\n",
       "<p>147892 rows × 10 columns</p>\n",
       "</div>"
      ],
      "text/plain": [
       "        month  Age_Group  gender  mobility  resolved  special_measure_Control  \\\n",
       "0         0.0      0.375       0  0.084112         1                        0   \n",
       "1         0.0      0.250       0  0.084112         1                        0   \n",
       "2         0.0      0.500       0  0.084112         1                        0   \n",
       "3         0.0      0.000       1  0.084112         1                        0   \n",
       "4         0.0      0.250       1  0.084112         1                        0   \n",
       "...       ...        ...     ...       ...       ...                      ...   \n",
       "147899    1.0      0.000       1  0.093458         0                        1   \n",
       "147900    1.0      0.125       0  0.093458         0                        1   \n",
       "147901    1.0      0.125       1  0.093458         0                        1   \n",
       "147902    1.0      0.500       1  0.093458         1                        1   \n",
       "147903    1.0      0.250       0  0.093458         0                        1   \n",
       "\n",
       "        special_measure_Lockdown  special_measure_Prevent  \\\n",
       "0                              0                        0   \n",
       "1                              0                        0   \n",
       "2                              0                        0   \n",
       "3                              0                        0   \n",
       "4                              0                        0   \n",
       "...                          ...                      ...   \n",
       "147899                         0                        0   \n",
       "147900                         0                        0   \n",
       "147901                         0                        0   \n",
       "147902                         0                        0   \n",
       "147903                         0                        0   \n",
       "\n",
       "        special_measure_Protect  special_measure_Restrict  \n",
       "0                             0                         1  \n",
       "1                             0                         1  \n",
       "2                             0                         1  \n",
       "3                             0                         1  \n",
       "4                             0                         1  \n",
       "...                         ...                       ...  \n",
       "147899                        0                         0  \n",
       "147900                        0                         0  \n",
       "147901                        0                         0  \n",
       "147902                        0                         0  \n",
       "147903                        0                         0  \n",
       "\n",
       "[147892 rows x 10 columns]"
      ]
     },
     "execution_count": 16,
     "metadata": {},
     "output_type": "execute_result"
    }
   ],
   "source": [
    "data"
   ]
  },
  {
   "cell_type": "code",
   "execution_count": 17,
   "metadata": {
    "ExecuteTime": {
     "end_time": "2021-04-10T01:30:41.960254Z",
     "start_time": "2021-04-10T01:30:41.931505Z"
    }
   },
   "outputs": [],
   "source": [
    "if not os.path.exists('saves'):\n",
    "    os.makedirs('saves')\n",
    "pickle.dump( data, open( \"./saves/prereocessed_data.p\", \"wb\" ) )"
   ]
  },
  {
   "cell_type": "code",
   "execution_count": 11,
   "metadata": {
    "ExecuteTime": {
     "end_time": "2021-04-10T01:45:41.357616Z",
     "start_time": "2021-04-10T01:45:41.344343Z"
    }
   },
   "outputs": [],
   "source": [
    "data = pickle.load( open( \"./saves/prereocessed_data.p\", \"rb\" ) )"
   ]
  },
  {
   "cell_type": "code",
   "execution_count": 12,
   "metadata": {
    "ExecuteTime": {
     "end_time": "2021-04-10T01:45:41.990773Z",
     "start_time": "2021-04-10T01:45:41.734944Z"
    }
   },
   "outputs": [
    {
     "data": {
      "text/plain": [
       "<matplotlib.axes._subplots.AxesSubplot at 0x7f878aa6cf50>"
      ]
     },
     "execution_count": 12,
     "metadata": {},
     "output_type": "execute_result"
    },
    {
     "data": {
      "image/png": "[encoded data removed]",
      "text/plain": [
       "<Figure size 432x288 with 1 Axes>"
      ]
     },
     "metadata": {
      "needs_background": "light"
     },
     "output_type": "display_data"
    }
   ],
   "source": [
    "data.boxplot(column=['mobility'])"
   ]
  },
  {
   "cell_type": "code",
   "execution_count": 13,
   "metadata": {
    "ExecuteTime": {
     "end_time": "2021-04-10T01:45:42.456975Z",
     "start_time": "2021-04-10T01:45:42.190361Z"
    }
   },
   "outputs": [
    {
     "data": {
      "text/plain": [
       "<matplotlib.axes._subplots.AxesSubplot at 0x7f878b66ccd0>"
      ]
     },
     "execution_count": 13,
     "metadata": {},
     "output_type": "execute_result"
    },
    {
     "data": {
      "image/png": "[encoded data removed]",
      "text/plain": [
       "<Figure size 432x288 with 1 Axes>"
      ]
     },
     "metadata": {
      "needs_background": "light"
     },
     "output_type": "display_data"
    }
   ],
   "source": [
    "data.boxplot(column=['Age_Group'])"
   ]
  },
  {
   "cell_type": "markdown",
   "metadata": {},
   "source": [
    "### undersampling"
   ]
  },
  {
   "cell_type": "code",
   "execution_count": null,
   "metadata": {
    "ExecuteTime": {
     "end_time": "2021-04-09T19:10:20.194804Z",
     "start_time": "2021-04-09T19:10:20.173466Z"
    }
   },
   "outputs": [],
   "source": []
  },
  {
   "cell_type": "code",
   "execution_count": 14,
   "metadata": {
    "ExecuteTime": {
     "end_time": "2021-04-10T01:45:49.164611Z",
     "start_time": "2021-04-10T01:45:48.937594Z"
    }
   },
   "outputs": [],
   "source": [
    "shuffle_unresolved = shuffle(data[data['resolved']==0])\n",
    "shuffle_resolved = shuffle(data[data['resolved']==1])\n",
    "shuffle_resolved = shuffle_resolved[:len(shuffle_unresolved)]\n",
    "undersampled_data = shuffle_resolved.append(shuffle_unresolved)\n",
    "undersampled_data = shuffle(undersampled_data)"
   ]
  },
  {
   "cell_type": "code",
   "execution_count": 15,
   "metadata": {
    "ExecuteTime": {
     "end_time": "2021-04-10T01:45:49.740475Z",
     "start_time": "2021-04-10T01:45:49.733682Z"
    }
   },
   "outputs": [
    {
     "data": {
      "text/plain": [
       "11944"
      ]
     },
     "execution_count": 15,
     "metadata": {},
     "output_type": "execute_result"
    }
   ],
   "source": [
    "len(undersampled_data)"
   ]
  },
  {
   "cell_type": "code",
   "execution_count": 16,
   "metadata": {
    "ExecuteTime": {
     "end_time": "2021-04-10T01:45:50.368708Z",
     "start_time": "2021-04-10T01:45:50.362425Z"
    }
   },
   "outputs": [],
   "source": [
    "if not os.path.exists('saves'):\n",
    "    os.makedirs('saves')\n",
    "pickle.dump( undersampled_data, open( \"./saves/undersampled_data.p\", \"wb\" ) )"
   ]
  },
  {
   "cell_type": "markdown",
   "metadata": {},
   "source": [
    "# Part B"
   ]
  },
  {
   "cell_type": "markdown",
   "metadata": {},
   "source": [
    "## Decision Tree"
   ]
  },
  {
   "cell_type": "code",
   "execution_count": 3,
   "metadata": {
    "ExecuteTime": {
     "end_time": "2021-04-10T14:46:53.911238Z",
     "start_time": "2021-04-10T14:46:53.905572Z"
    }
   },
   "outputs": [],
   "source": [
    "undersampled_data = pickle.load( open( \"./saves/undersampled_data.p\", \"rb\" ) )"
   ]
  },
  {
   "cell_type": "code",
   "execution_count": 4,
   "metadata": {
    "ExecuteTime": {
     "end_time": "2021-04-10T14:46:53.934547Z",
     "start_time": "2021-04-10T14:46:53.921729Z"
    }
   },
   "outputs": [],
   "source": [
    "data = pickle.load( open( \"./saves/undersampled_data.p\", \"rb\" ) )"
   ]
  },
  {
   "cell_type": "code",
   "execution_count": 5,
   "metadata": {
    "ExecuteTime": {
     "end_time": "2021-04-10T14:46:53.955963Z",
     "start_time": "2021-04-10T14:46:53.940573Z"
    }
   },
   "outputs": [],
   "source": [
    "column_list = data.columns.values.tolist()\n",
    "column_list.remove('resolved')"
   ]
  },
  {
   "cell_type": "code",
   "execution_count": 6,
   "metadata": {
    "ExecuteTime": {
     "end_time": "2021-04-10T14:46:53.967612Z",
     "start_time": "2021-04-10T14:46:53.959314Z"
    }
   },
   "outputs": [
    {
     "data": {
      "text/plain": [
       "['month',\n",
       " 'Age_Group',\n",
       " 'gender',\n",
       " 'mobility',\n",
       " 'special_measure_Control',\n",
       " 'special_measure_Lockdown',\n",
       " 'special_measure_Prevent',\n",
       " 'special_measure_Protect',\n",
       " 'special_measure_Restrict']"
      ]
     },
     "execution_count": 6,
     "metadata": {},
     "output_type": "execute_result"
    }
   ],
   "source": [
    "column_list"
   ]
  },
  {
   "cell_type": "code",
   "execution_count": 7,
   "metadata": {
    "ExecuteTime": {
     "end_time": "2021-04-10T14:46:53.989352Z",
     "start_time": "2021-04-10T14:46:53.971097Z"
    }
   },
   "outputs": [],
   "source": [
    "iris = load_iris()\n",
    "X = undersampled_data[column_list]\n",
    "y = undersampled_data['resolved']\n",
    "decision_tree = DecisionTreeClassifier(random_state=0, max_depth=2)\n",
    "decision_tree = decision_tree.fit(X, y)\n",
    "r = export_text(decision_tree, feature_names=column_list)"
   ]
  },
  {
   "cell_type": "code",
   "execution_count": 8,
   "metadata": {
    "ExecuteTime": {
     "end_time": "2021-04-10T14:46:54.007987Z",
     "start_time": "2021-04-10T14:46:53.991687Z"
    }
   },
   "outputs": [],
   "source": [
    "decision_tree = DecisionTreeClassifier(random_state=0, max_depth=2)\n",
    "decision_tree = decision_tree.fit(X, y)\n",
    "r = export_text(decision_tree, feature_names=column_list)"
   ]
  },
  {
   "cell_type": "code",
   "execution_count": 9,
   "metadata": {
    "ExecuteTime": {
     "end_time": "2021-04-10T14:46:54.020491Z",
     "start_time": "2021-04-10T14:46:54.013028Z"
    }
   },
   "outputs": [
    {
     "name": "stdout",
     "output_type": "stream",
     "text": [
      "|--- month <= 0.83\n",
      "|   |--- Age_Group <= 0.69\n",
      "|   |   |--- class: 1\n",
      "|   |--- Age_Group >  0.69\n",
      "|   |   |--- class: 0\n",
      "|--- month >  0.83\n",
      "|   |--- mobility <= 0.08\n",
      "|   |   |--- class: 0\n",
      "|   |--- mobility >  0.08\n",
      "|   |   |--- class: 0\n",
      "\n"
     ]
    }
   ],
   "source": [
    "print(r)"
   ]
  },
  {
   "cell_type": "code",
   "execution_count": null,
   "metadata": {},
   "outputs": [],
   "source": []
  },
  {
   "cell_type": "code",
   "execution_count": 10,
   "metadata": {
    "ExecuteTime": {
     "end_time": "2021-04-10T14:46:54.039953Z",
     "start_time": "2021-04-10T14:46:54.025820Z"
    }
   },
   "outputs": [],
   "source": [
    "X_train, X_test, y_train, y_test = train_test_split(X, y, test_size=0.2, shuffle=True, stratify=y)"
   ]
  },
  {
   "cell_type": "code",
   "execution_count": 11,
   "metadata": {
    "ExecuteTime": {
     "end_time": "2021-04-10T14:46:54.050594Z",
     "start_time": "2021-04-10T14:46:54.043080Z"
    }
   },
   "outputs": [
    {
     "name": "stdout",
     "output_type": "stream",
     "text": [
      "Training set Counter({0: 4778, 1: 4777}) \n",
      "Test set Counter({1: 1195, 0: 1194}) \n"
     ]
    }
   ],
   "source": [
    "print(\"Training set {} \".format(Counter(y_train)))\n",
    "print(\"Test set {} \".format(Counter(y_test)))"
   ]
  },
  {
   "cell_type": "code",
   "execution_count": 12,
   "metadata": {
    "ExecuteTime": {
     "end_time": "2021-04-10T14:46:54.071950Z",
     "start_time": "2021-04-10T14:46:54.053250Z"
    }
   },
   "outputs": [],
   "source": [
    "start = time.time()\n",
    "dt = DecisionTreeClassifier(criterion='entropy')\n",
    "decision_tree = dt.fit(X_train, y_train)\n",
    "time_took = time.time()-start"
   ]
  },
  {
   "cell_type": "code",
   "execution_count": 13,
   "metadata": {
    "ExecuteTime": {
     "end_time": "2021-04-10T14:46:54.087599Z",
     "start_time": "2021-04-10T14:46:54.074880Z"
    }
   },
   "outputs": [
    {
     "name": "stdout",
     "output_type": "stream",
     "text": [
      "Recall of Decision Tree 92.23 %\n",
      "precision of Decision Tree 86.44 %\n",
      "Time to Train 0.02 s\n"
     ]
    }
   ],
   "source": [
    "y_pred = dt.predict(X_test)\n",
    "recall = recall_score(y_pred, y_test) * 100\n",
    "precision = precision_score(y_pred, y_test) * 100\n",
    "print(\"Recall of Decision Tree {:.2f} %\".format(recall))\n",
    "print(\"precision of Decision Tree {:.2f} %\".format(precision))\n",
    "print(\"Time to Train {:.2f} s\".format(time_took))"
   ]
  },
  {
   "cell_type": "code",
   "execution_count": 14,
   "metadata": {
    "ExecuteTime": {
     "end_time": "2021-04-10T14:46:54.110377Z",
     "start_time": "2021-04-10T14:46:54.090357Z"
    }
   },
   "outputs": [
    {
     "data": {
      "text/plain": [
       "0.895772289660946"
      ]
     },
     "execution_count": 14,
     "metadata": {},
     "output_type": "execute_result"
    }
   ],
   "source": [
    "from sklearn.metrics import accuracy_score\n",
    "accuracy_score(y_pred,y_test)"
   ]
  },
  {
   "cell_type": "code",
   "execution_count": 15,
   "metadata": {
    "ExecuteTime": {
     "end_time": "2021-04-10T14:46:54.163328Z",
     "start_time": "2021-04-10T14:46:54.130359Z"
    }
   },
   "outputs": [],
   "source": [
    "r = export_text(decision_tree, feature_names=column_list)"
   ]
  },
  {
   "cell_type": "code",
   "execution_count": 16,
   "metadata": {
    "ExecuteTime": {
     "end_time": "2021-04-10T14:46:54.172820Z",
     "start_time": "2021-04-10T14:46:54.170617Z"
    }
   },
   "outputs": [],
   "source": [
    "# print(r)"
   ]
  },
  {
   "cell_type": "code",
   "execution_count": null,
   "metadata": {},
   "outputs": [],
   "source": []
  },
  {
   "cell_type": "code",
   "execution_count": 17,
   "metadata": {
    "ExecuteTime": {
     "end_time": "2021-04-10T14:46:54.211082Z",
     "start_time": "2021-04-10T14:46:54.194599Z"
    }
   },
   "outputs": [],
   "source": [
    "####"
   ]
  },
  {
   "cell_type": "code",
   "execution_count": 18,
   "metadata": {
    "ExecuteTime": {
     "end_time": "2021-04-10T14:46:54.227531Z",
     "start_time": "2021-04-10T14:46:54.216323Z"
    }
   },
   "outputs": [
    {
     "data": {
      "text/plain": [
       "['month',\n",
       " 'Age_Group',\n",
       " 'gender',\n",
       " 'mobility',\n",
       " 'special_measure_Control',\n",
       " 'special_measure_Lockdown',\n",
       " 'special_measure_Prevent',\n",
       " 'special_measure_Protect',\n",
       " 'special_measure_Restrict']"
      ]
     },
     "execution_count": 18,
     "metadata": {},
     "output_type": "execute_result"
    }
   ],
   "source": [
    "column_list = data.columns.values.tolist()\n",
    "column_list.remove('resolved')\n",
    "column_list"
   ]
  },
  {
   "cell_type": "code",
   "execution_count": 19,
   "metadata": {
    "ExecuteTime": {
     "end_time": "2021-04-10T14:46:54.245742Z",
     "start_time": "2021-04-10T14:46:54.231907Z"
    }
   },
   "outputs": [],
   "source": [
    "# split the train and test data\n",
    "X = undersampled_data[column_list]\n",
    "y = undersampled_data['resolved']\n",
    "X_train, X_test, y_train, y_test = train_test_split(X, y, test_size = 0.25, random_state=1)"
   ]
  },
  {
   "cell_type": "code",
   "execution_count": 20,
   "metadata": {
    "ExecuteTime": {
     "end_time": "2021-04-10T14:46:54.510639Z",
     "start_time": "2021-04-10T14:46:54.249506Z"
    }
   },
   "outputs": [
    {
     "name": "stdout",
     "output_type": "stream",
     "text": [
      "|--- month <= 0.83\n",
      "|   |--- Age_Group <= 0.69\n",
      "|   |   |--- class: 1\n",
      "|   |--- Age_Group >  0.69\n",
      "|   |   |--- class: 0\n",
      "|--- month >  0.83\n",
      "|   |--- class: 0\n",
      "\n"
     ]
    },
    {
     "data": {
      "text/plain": [
       "[Text(200.88000000000002, 181.2, 'X[0] <= 0.833\\nentropy = 1.0\\nsamples = 8958\\nvalue = [4479.0, 4479.0]'),\n",
       " Text(133.92000000000002, 108.72, 'X[1] <= 0.688\\nentropy = 0.816\\nsamples = 5274\\nvalue = [1333.871, 3932.586]'),\n",
       " Text(66.96000000000001, 36.23999999999998, 'entropy = 0.286\\nsamples = 3806\\nvalue = [189.55, 3606.532]'),\n",
       " Text(200.88000000000002, 36.23999999999998, 'entropy = 0.763\\nsamples = 1468\\nvalue = [1144.321, 326.054]'),\n",
       " Text(267.84000000000003, 108.72, 'entropy = 0.605\\nsamples = 3684\\nvalue = [3145.129, 546.414]')]"
      ]
     },
     "execution_count": 20,
     "metadata": {},
     "output_type": "execute_result"
    },
    {
     "data": {
      "image/png": "[encoded data removed]",
      "text/plain": [
       "<Figure size 432x288 with 1 Axes>"
      ]
     },
     "metadata": {
      "needs_background": "light"
     },
     "output_type": "display_data"
    }
   ],
   "source": [
    "#Train the data\n",
    "decision_tree = DecisionTreeClassifier(class_weight='balanced',criterion='entropy',max_depth=4,\n",
    "            max_features=None,max_leaf_nodes=3,min_impurity_decrease=1e-04,min_samples_leaf=1,\n",
    "            min_samples_split=2,min_weight_fraction_leaf=0.0,random_state=0,splitter='best')\n",
    "start = time.time()\n",
    "decision_tree = decision_tree.fit(X_train, y_train)\n",
    "time_took = time.time()-start\n",
    "#show the decision condiction and the structure of the tree\n",
    "final_condiction= export_text(decision_tree, feature_names=column_list)\n",
    "print(final_condiction)\n",
    "tree.plot_tree(decision_tree) "
   ]
  },
  {
   "cell_type": "code",
   "execution_count": 21,
   "metadata": {
    "ExecuteTime": {
     "end_time": "2021-04-10T14:46:54.535013Z",
     "start_time": "2021-04-10T14:46:54.514107Z"
    }
   },
   "outputs": [
    {
     "name": "stdout",
     "output_type": "stream",
     "text": [
      "[[1442   64]\n",
      " [ 305 1175]]\n",
      "              precision    recall  f1-score   support\n",
      "\n",
      "           0       0.83      0.96      0.89      1506\n",
      "           1       0.95      0.79      0.86      1480\n",
      "\n",
      "    accuracy                           0.88      2986\n",
      "   macro avg       0.89      0.88      0.88      2986\n",
      "weighted avg       0.89      0.88      0.88      2986\n",
      "\n",
      "Time to Train 0.01 s\n"
     ]
    }
   ],
   "source": [
    "#eveulate the result\n",
    "y_pred_tree=decision_tree.predict(X_test)\n",
    "print (confusion_matrix(y_test,y_pred_tree))\n",
    "print(classification_report(y_test,y_pred_tree))\n",
    "print(\"Time to Train {:.2f} s\".format(time_took))"
   ]
  },
  {
   "cell_type": "code",
   "execution_count": null,
   "metadata": {},
   "outputs": [],
   "source": []
  },
  {
   "cell_type": "code",
   "execution_count": null,
   "metadata": {},
   "outputs": [],
   "source": []
  },
  {
   "cell_type": "markdown",
   "metadata": {},
   "source": [
    " ## Gradient Boosting  "
   ]
  },
  {
   "cell_type": "code",
   "execution_count": null,
   "metadata": {},
   "outputs": [],
   "source": []
  },
  {
   "cell_type": "code",
   "execution_count": null,
   "metadata": {},
   "outputs": [],
   "source": []
  },
  {
   "cell_type": "code",
   "execution_count": null,
   "metadata": {},
   "outputs": [],
   "source": []
  },
  {
   "cell_type": "markdown",
   "metadata": {},
   "source": [
    " ## Random Forest"
   ]
  },
  {
   "cell_type": "code",
   "execution_count": 22,
   "metadata": {
    "ExecuteTime": {
     "end_time": "2021-04-10T14:46:54.586708Z",
     "start_time": "2021-04-10T14:46:54.539244Z"
    }
   },
   "outputs": [],
   "source": [
    "#training part\n",
    "randomForest = RandomForestClassifier(n_estimators=10, criterion = 'entropy', max_depth=4, random_state=0,\n",
    "                                      max_features='sqrt',max_leaf_nodes=3,min_impurity_decrease=1e-04,\n",
    "                                      min_samples_leaf=1,min_samples_split=2)\n",
    "start = time.time()\n",
    "randomForest.fit(X_train,y_train)\n",
    "time_took = time.time()-start\n",
    "#show the decision condiction and the structure of the tree\n",
    "\n",
    "#Estimators = classifier.estimators_\n",
    "#for index, model in enumerate(Estimators):\n",
    "    #each_condiction= export_text(model, feature_names=['Age_Group', 'Client_Gender', 'mobility', 'Special_Measures_Control', 'Special_Measures_Lockdown', 'Special_Measures_Protect', 'Special_Measures_Restrict'])\n",
    "    #print(each_condiction)\n"
   ]
  },
  {
   "cell_type": "code",
   "execution_count": 23,
   "metadata": {
    "ExecuteTime": {
     "end_time": "2021-04-10T14:46:54.610209Z",
     "start_time": "2021-04-10T14:46:54.589524Z"
    }
   },
   "outputs": [
    {
     "name": "stdout",
     "output_type": "stream",
     "text": [
      "[[1360  146]\n",
      " [ 246 1234]]\n",
      "              precision    recall  f1-score   support\n",
      "\n",
      "           0       0.85      0.90      0.87      1506\n",
      "           1       0.89      0.83      0.86      1480\n",
      "\n",
      "    accuracy                           0.87      2986\n",
      "   macro avg       0.87      0.87      0.87      2986\n",
      "weighted avg       0.87      0.87      0.87      2986\n",
      "\n"
     ]
    }
   ],
   "source": [
    "#eveulate the result\n",
    "y_pred_forest = randomForest.predict(X_test)\n",
    "print (confusion_matrix(y_test,y_pred_forest))\n",
    "print(classification_report(y_test,y_pred_forest))"
   ]
  },
  {
   "cell_type": "code",
   "execution_count": 24,
   "metadata": {
    "ExecuteTime": {
     "end_time": "2021-04-10T14:46:54.992182Z",
     "start_time": "2021-04-10T14:46:54.613726Z"
    }
   },
   "outputs": [],
   "source": [
    "#find the best learning rate\n",
    "lr_list = [0.05, 0.075, 0.1, 0.25, 0.5, 0.75, 1]\n",
    "best_rate=lr_list[0]\n",
    "best_accuracy=0\n",
    "for learning_rate in lr_list:\n",
    "    gradientBoosting = GradientBoostingClassifier(n_estimators=20, learning_rate=learning_rate, max_features=2, max_depth=2, random_state=0)\n",
    "    gradientBoosting.fit(X_train, y_train)\n",
    "    if gradientBoosting.score(X_test, y_test)>best_accuracy:\n",
    "        best_accuracy=gradientBoosting.score(X_test, y_test)\n",
    "        best_rate=learning_rate"
   ]
  },
  {
   "cell_type": "code",
   "execution_count": 25,
   "metadata": {
    "ExecuteTime": {
     "end_time": "2021-04-10T14:46:55.062472Z",
     "start_time": "2021-04-10T14:46:54.997968Z"
    },
    "scrolled": true
   },
   "outputs": [
    {
     "name": "stdout",
     "output_type": "stream",
     "text": [
      "[[1409   97]\n",
      " [ 207 1273]]\n",
      "              precision    recall  f1-score   support\n",
      "\n",
      "           0       0.87      0.94      0.90      1506\n",
      "           1       0.93      0.86      0.89      1480\n",
      "\n",
      "    accuracy                           0.90      2986\n",
      "   macro avg       0.90      0.90      0.90      2986\n",
      "weighted avg       0.90      0.90      0.90      2986\n",
      "\n",
      "Time to Train 0.04 s\n"
     ]
    }
   ],
   "source": [
    "#Using the best learning rate to train the model\n",
    "gradientBoosting = GradientBoostingClassifier(n_estimators=20, learning_rate=best_accuracy, max_features=2, max_depth=2, random_state=0)\n",
    "gradientBoosting.fit(X_train, y_train)\n",
    "\n",
    "#eveulate the result\n",
    "y_pred_boosting = gradientBoosting.predict(X_test)\n",
    "print (confusion_matrix(y_test,y_pred_boosting))\n",
    "print(classification_report(y_test,y_pred_boosting))\n",
    "print(\"Time to Train {:.2f} s\".format(time_took))"
   ]
  },
  {
   "cell_type": "code",
   "execution_count": null,
   "metadata": {},
   "outputs": [],
   "source": []
  },
  {
   "cell_type": "markdown",
   "metadata": {
    "ExecuteTime": {
     "end_time": "2021-04-10T14:27:06.945114Z",
     "start_time": "2021-04-10T14:27:06.940435Z"
    }
   },
   "source": [
    " ## SVM\n",
    " "
   ]
  },
  {
   "cell_type": "code",
   "execution_count": 26,
   "metadata": {
    "ExecuteTime": {
     "end_time": "2021-04-10T14:46:56.667389Z",
     "start_time": "2021-04-10T14:46:55.067814Z"
    }
   },
   "outputs": [
    {
     "name": "stdout",
     "output_type": "stream",
     "text": [
      "[[1315  191]\n",
      " [ 412 1068]]\n",
      "              precision    recall  f1-score   support\n",
      "\n",
      "           0       0.76      0.87      0.81      1506\n",
      "           1       0.85      0.72      0.78      1480\n",
      "\n",
      "    accuracy                           0.80      2986\n",
      "   macro avg       0.80      0.80      0.80      2986\n",
      "weighted avg       0.80      0.80      0.80      2986\n",
      "\n"
     ]
    },
    {
     "name": "stderr",
     "output_type": "stream",
     "text": [
      "/Users/yi/anaconda3/lib/python3.7/site-packages/sklearn/svm/_base.py:231: ConvergenceWarning: Solver terminated early (max_iter=3500).  Consider pre-processing your data with StandardScaler or MinMaxScaler.\n",
      "  % self.max_iter, ConvergenceWarning)\n"
     ]
    }
   ],
   "source": [
    "from sklearn import svm\n",
    "clf_svm = svm.SVC(kernel=\"linear\", random_state=0, max_iter=3500).fit(X_train, y_train)  \n",
    "\n",
    "#eveulate the result\n",
    "y_pred_svm = clf_svm.predict(X_test)\n",
    "print (confusion_matrix(y_test,y_pred_svm))\n",
    "print(classification_report(y_test,y_pred_svm))"
   ]
  },
  {
   "cell_type": "code",
   "execution_count": null,
   "metadata": {},
   "outputs": [],
   "source": []
  },
  {
   "cell_type": "code",
   "execution_count": null,
   "metadata": {},
   "outputs": [],
   "source": []
  },
  {
   "cell_type": "code",
   "execution_count": null,
   "metadata": {},
   "outputs": [],
   "source": []
  },
  {
   "cell_type": "code",
   "execution_count": null,
   "metadata": {},
   "outputs": [],
   "source": []
  }
 ],
 "metadata": {
  "kernelspec": {
   "display_name": "Python 3",
   "language": "python",
   "name": "python3"
  },
  "language_info": {
   "codemirror_mode": {
    "name": "ipython",
    "version": 3
   },
   "file_extension": ".py",
   "mimetype": "text/x-python",
   "name": "python",
   "nbconvert_exporter": "python",
   "pygments_lexer": "ipython3",
   "version": "3.7.5"
  }
 },
 "nbformat": 4,
 "nbformat_minor": 2
}
