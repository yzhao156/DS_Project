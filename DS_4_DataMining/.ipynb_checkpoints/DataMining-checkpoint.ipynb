{
 "cells": [
  {
   "cell_type": "code",
   "execution_count": 114,
   "metadata": {
    "ExecuteTime": {
     "end_time": "2021-04-09T19:38:56.924379Z",
     "start_time": "2021-04-09T19:38:56.900643Z"
    }
   },
   "outputs": [],
   "source": [
    "import pandas as pd\n",
    "import numpy as np\n",
    "import matplotlib.pyplot as plt\n",
    "from sklearn.utils import shuffle\n",
    "import datetime"
   ]
  },
  {
   "cell_type": "code",
   "execution_count": 115,
   "metadata": {
    "ExecuteTime": {
     "end_time": "2021-04-09T19:38:56.951995Z",
     "start_time": "2021-04-09T19:38:56.940516Z"
    }
   },
   "outputs": [],
   "source": [
    "dimension_path = \"../DS_2_DataStaging/DimensionsPre/\"\n",
    "fact_table_path = \"../DS_2_DataStaging/FactTable/\"\n",
    "data_path = \"../DS_2_DataStaging/Data/\""
   ]
  },
  {
   "cell_type": "code",
   "execution_count": 116,
   "metadata": {
    "ExecuteTime": {
     "end_time": "2021-04-09T19:38:57.212241Z",
     "start_time": "2021-04-09T19:38:56.992138Z"
    }
   },
   "outputs": [],
   "source": [
    "Date_dimension = pd.read_csv(dimension_path+\"Date_dimension/Date_dimension.csv\")\n",
    "Mobility_dimension = pd.read_csv(dimension_path+\"Mobility_dimension/Mobility_dimension.csv\")\n",
    "Patient_dimension = pd.read_csv(dimension_path+\"Patient_dimension/Patient_dimension.csv\")\n",
    "PHU_Location_dimension = pd.read_csv(dimension_path+\"PHU_Location_dimension/PHU_Location_dimension.csv\")\n",
    "Special_Measures_dimension = pd.read_csv(dimension_path+\"Special_Measures_dimension/Special_Measures_dimension.csv\")\n",
    "Weather_dimension = pd.read_csv(dimension_path+\"Weather_dimension/Weather_dimension.csv\")\n",
    "fact_table = pd.read_csv(fact_table_path+\"Covid19_Tracking_Fact_Table.csv\")[:1000]\n"
   ]
  },
  {
   "cell_type": "code",
   "execution_count": 117,
   "metadata": {
    "ExecuteTime": {
     "end_time": "2021-04-09T19:38:57.220672Z",
     "start_time": "2021-04-09T19:38:57.215460Z"
    }
   },
   "outputs": [],
   "source": [
    "def process_date(d, incubation_days=-2):\n",
    "    dt = datetime.datetime.strptime(d, '%Y-%m-%d')\n",
    "    add_incubation = dt + datetime.timedelta(days=incubation_days)\n",
    "    day_string = add_incubation.strftime(\"%Y-%m-%d\")\n",
    "    return(day_string)\n",
    "def find_value_from_key(key,attribute,dimension):\n",
    "    row = dimension[dimension['surrogate_key']==key]\n",
    "    return row[attribute].values[0]"
   ]
  },
  {
   "cell_type": "code",
   "execution_count": 118,
   "metadata": {
    "ExecuteTime": {
     "end_time": "2021-04-09T19:38:57.233575Z",
     "start_time": "2021-04-09T19:38:57.223326Z"
    }
   },
   "outputs": [],
   "source": [
    "data = pd.DataFrame()"
   ]
  },
  {
   "cell_type": "code",
   "execution_count": 119,
   "metadata": {
    "ExecuteTime": {
     "end_time": "2021-04-09T19:38:57.854340Z",
     "start_time": "2021-04-09T19:38:57.236031Z"
    }
   },
   "outputs": [],
   "source": [
    "data['Onset_date'] = fact_table['Onset_date_key'].map(lambda x: find_value_from_key(x,'date', Date_dimension))"
   ]
  },
  {
   "cell_type": "code",
   "execution_count": 120,
   "metadata": {
    "ExecuteTime": {
     "end_time": "2021-04-09T19:38:57.885950Z",
     "start_time": "2021-04-09T19:38:57.856108Z"
    }
   },
   "outputs": [],
   "source": [
    "data['Onset_date'] = data['Onset_date'].map(process_date)"
   ]
  },
  {
   "cell_type": "code",
   "execution_count": 121,
   "metadata": {
    "ExecuteTime": {
     "end_time": "2021-04-09T19:38:58.956188Z",
     "start_time": "2021-04-09T19:38:57.895424Z"
    },
    "scrolled": false
   },
   "outputs": [],
   "source": [
    "data['Age_Group'] = fact_table['Patient_key'].map(lambda x: find_value_from_key(x,'Age_Group', Patient_dimension))\n",
    "data = data[data['Age_Group'] != 'UNKNOWN']"
   ]
  },
  {
   "cell_type": "code",
   "execution_count": 122,
   "metadata": {
    "ExecuteTime": {
     "end_time": "2021-04-09T19:38:59.679180Z",
     "start_time": "2021-04-09T19:38:58.972160Z"
    }
   },
   "outputs": [],
   "source": [
    "data['Client_Gender'] = fact_table['Patient_key'].map(lambda x: find_value_from_key(x,'Client_Gender', Patient_dimension))"
   ]
  },
  {
   "cell_type": "code",
   "execution_count": 123,
   "metadata": {
    "ExecuteTime": {
     "end_time": "2021-04-09T19:39:00.678979Z",
     "start_time": "2021-04-09T19:38:59.685379Z"
    }
   },
   "outputs": [],
   "source": [
    "data['mobility'] = fact_table['Mobility_key'].map(lambda x: find_value_from_key(x,'parks_percent_change_from_baseline', Mobility_dimension))"
   ]
  },
  {
   "cell_type": "code",
   "execution_count": 124,
   "metadata": {
    "ExecuteTime": {
     "end_time": "2021-04-09T19:39:01.508982Z",
     "start_time": "2021-04-09T19:39:00.688313Z"
    }
   },
   "outputs": [],
   "source": [
    "data['Special_Measures'] = fact_table['Special_measure_key'].map(lambda x: find_value_from_key(x,'Title', Special_Measures_dimension)) "
   ]
  },
  {
   "cell_type": "code",
   "execution_count": 125,
   "metadata": {
    "ExecuteTime": {
     "end_time": "2021-04-09T19:39:01.522012Z",
     "start_time": "2021-04-09T19:39:01.513662Z"
    }
   },
   "outputs": [],
   "source": [
    "data['resolved'] = fact_table['Resolved'].map(lambda x: x)\n",
    "# data['resolved'] = fact_table['Resolved'].map(lambda x: 1 if x>=1 else 0)"
   ]
  },
  {
   "cell_type": "code",
   "execution_count": 126,
   "metadata": {
    "ExecuteTime": {
     "end_time": "2021-04-09T19:39:01.564710Z",
     "start_time": "2021-04-09T19:39:01.525087Z"
    }
   },
   "outputs": [
    {
     "data": {
      "text/html": [
       "<div>\n",
       "<style scoped>\n",
       "    .dataframe tbody tr th:only-of-type {\n",
       "        vertical-align: middle;\n",
       "    }\n",
       "\n",
       "    .dataframe tbody tr th {\n",
       "        vertical-align: top;\n",
       "    }\n",
       "\n",
       "    .dataframe thead th {\n",
       "        text-align: right;\n",
       "    }\n",
       "</style>\n",
       "<table border=\"1\" class=\"dataframe\">\n",
       "  <thead>\n",
       "    <tr style=\"text-align: right;\">\n",
       "      <th></th>\n",
       "      <th>Onset_date</th>\n",
       "      <th>Age_Group</th>\n",
       "      <th>Client_Gender</th>\n",
       "      <th>mobility</th>\n",
       "      <th>Special_Measures</th>\n",
       "      <th>resolved</th>\n",
       "    </tr>\n",
       "  </thead>\n",
       "  <tbody>\n",
       "    <tr>\n",
       "      <th>0</th>\n",
       "      <td>2020-11-17</td>\n",
       "      <td>70s</td>\n",
       "      <td>FEMALE</td>\n",
       "      <td>-15.0</td>\n",
       "      <td>Control</td>\n",
       "      <td>1</td>\n",
       "    </tr>\n",
       "    <tr>\n",
       "      <th>1</th>\n",
       "      <td>2020-11-20</td>\n",
       "      <td>&lt;20</td>\n",
       "      <td>MALE</td>\n",
       "      <td>-15.0</td>\n",
       "      <td>Control</td>\n",
       "      <td>1</td>\n",
       "    </tr>\n",
       "    <tr>\n",
       "      <th>2</th>\n",
       "      <td>2020-11-19</td>\n",
       "      <td>30s</td>\n",
       "      <td>MALE</td>\n",
       "      <td>-15.0</td>\n",
       "      <td>Control</td>\n",
       "      <td>1</td>\n",
       "    </tr>\n",
       "    <tr>\n",
       "      <th>3</th>\n",
       "      <td>2020-11-21</td>\n",
       "      <td>30s</td>\n",
       "      <td>MALE</td>\n",
       "      <td>-15.0</td>\n",
       "      <td>Control</td>\n",
       "      <td>1</td>\n",
       "    </tr>\n",
       "    <tr>\n",
       "      <th>4</th>\n",
       "      <td>2020-11-22</td>\n",
       "      <td>&lt;20</td>\n",
       "      <td>FEMALE</td>\n",
       "      <td>-15.0</td>\n",
       "      <td>Control</td>\n",
       "      <td>1</td>\n",
       "    </tr>\n",
       "  </tbody>\n",
       "</table>\n",
       "</div>"
      ],
      "text/plain": [
       "   Onset_date Age_Group Client_Gender  mobility Special_Measures  resolved\n",
       "0  2020-11-17       70s        FEMALE     -15.0          Control         1\n",
       "1  2020-11-20       <20          MALE     -15.0          Control         1\n",
       "2  2020-11-19       30s          MALE     -15.0          Control         1\n",
       "3  2020-11-21       30s          MALE     -15.0          Control         1\n",
       "4  2020-11-22       <20        FEMALE     -15.0          Control         1"
      ]
     },
     "execution_count": 126,
     "metadata": {},
     "output_type": "execute_result"
    }
   ],
   "source": [
    "data.head()"
   ]
  },
  {
   "cell_type": "code",
   "execution_count": 127,
   "metadata": {
    "ExecuteTime": {
     "end_time": "2021-04-09T19:39:01.838370Z",
     "start_time": "2021-04-09T19:39:01.573867Z"
    }
   },
   "outputs": [
    {
     "data": {
      "text/plain": [
       "<matplotlib.axes._subplots.AxesSubplot at 0x7ff1abe5a250>"
      ]
     },
     "execution_count": 127,
     "metadata": {},
     "output_type": "execute_result"
    },
    {
     "data": {
      "image/png": "[encoded data removed]",
      "text/plain": [
       "<Figure size 432x288 with 1 Axes>"
      ]
     },
     "metadata": {
      "needs_background": "light"
     },
     "output_type": "display_data"
    }
   ],
   "source": [
    "data.boxplot(column=['mobility'])"
   ]
  },
  {
   "cell_type": "code",
   "execution_count": 128,
   "metadata": {
    "ExecuteTime": {
     "end_time": "2021-04-09T19:39:02.223498Z",
     "start_time": "2021-04-09T19:39:01.851888Z"
    },
    "scrolled": false
   },
   "outputs": [
    {
     "data": {
      "text/plain": [
       "(array([0.23 , 0.   , 0.   , 0.   , 0.   , 0.785, 0.   , 0.   , 0.   ,\n",
       "        0.   , 0.765, 0.   , 0.   , 0.   , 0.   , 0.8  , 0.   , 0.   ,\n",
       "        0.   , 0.   , 0.22 , 0.   , 0.   , 0.   , 0.   , 0.5  , 0.   ,\n",
       "        0.   , 0.   , 0.   , 0.79 , 0.   , 0.   , 0.   , 0.   , 0.75 ,\n",
       "        0.   , 0.   , 0.   , 0.16 ]),\n",
       " array([0. , 0.2, 0.4, 0.6, 0.8, 1. , 1.2, 1.4, 1.6, 1.8, 2. , 2.2, 2.4,\n",
       "        2.6, 2.8, 3. , 3.2, 3.4, 3.6, 3.8, 4. , 4.2, 4.4, 4.6, 4.8, 5. ,\n",
       "        5.2, 5.4, 5.6, 5.8, 6. , 6.2, 6.4, 6.6, 6.8, 7. , 7.2, 7.4, 7.6,\n",
       "        7.8, 8. ]),\n",
       " <a list of 1 Patch objects>)"
      ]
     },
     "execution_count": 128,
     "metadata": {},
     "output_type": "execute_result"
    },
    {
     "data": {
      "image/png": "[encoded data removed]",
      "text/plain": [
       "<Figure size 432x288 with 1 Axes>"
      ]
     },
     "metadata": {
      "needs_background": "light"
     },
     "output_type": "display_data"
    }
   ],
   "source": [
    "kwargs = dict(histtype='stepfilled', alpha=0.3, density=True, bins=40)\n",
    "plt.hist(data['Age_Group'], **kwargs)"
   ]
  },
  {
   "cell_type": "markdown",
   "metadata": {},
   "source": [
    "# A.2"
   ]
  },
  {
   "cell_type": "code",
   "execution_count": 129,
   "metadata": {
    "ExecuteTime": {
     "end_time": "2021-04-09T19:39:02.275490Z",
     "start_time": "2021-04-09T19:39:02.241018Z"
    },
    "scrolled": true
   },
   "outputs": [
    {
     "data": {
      "text/plain": [
       "Onset_date          0\n",
       "Age_Group           0\n",
       "Client_Gender       0\n",
       "mobility            0\n",
       "Special_Measures    0\n",
       "resolved            0\n",
       "dtype: int64"
      ]
     },
     "execution_count": 129,
     "metadata": {},
     "output_type": "execute_result"
    }
   ],
   "source": [
    "data.isna().sum()"
   ]
  },
  {
   "cell_type": "code",
   "execution_count": 130,
   "metadata": {
    "ExecuteTime": {
     "end_time": "2021-04-09T19:39:02.295114Z",
     "start_time": "2021-04-09T19:39:02.283542Z"
    }
   },
   "outputs": [
    {
     "data": {
      "text/plain": [
       "0     70s\n",
       "1     <20\n",
       "2     30s\n",
       "6     20s\n",
       "7     80s\n",
       "13    60s\n",
       "15    40s\n",
       "44    50s\n",
       "50    90+\n",
       "Name: Age_Group, dtype: object"
      ]
     },
     "execution_count": 130,
     "metadata": {},
     "output_type": "execute_result"
    }
   ],
   "source": [
    "data['Age_Group'].drop_duplicates()"
   ]
  },
  {
   "cell_type": "code",
   "execution_count": 131,
   "metadata": {
    "ExecuteTime": {
     "end_time": "2021-04-09T19:39:02.313701Z",
     "start_time": "2021-04-09T19:39:02.301257Z"
    }
   },
   "outputs": [],
   "source": [
    "mapping_age = {\n",
    "    '<20':0,\n",
    "    '20s':1,\n",
    "    '30s':2,\n",
    "    '40s':3,\n",
    "    '50s':4,\n",
    "    '60s':5,\n",
    "    '70s':6,\n",
    "    '80s':7,\n",
    "    '90+':8\n",
    "}\n",
    "data['Age_Group'] = data['Age_Group'].map(lambda x : mapping_age[x])\n",
    "    "
   ]
  },
  {
   "cell_type": "code",
   "execution_count": 132,
   "metadata": {
    "ExecuteTime": {
     "end_time": "2021-04-09T19:39:02.332802Z",
     "start_time": "2021-04-09T19:39:02.318713Z"
    }
   },
   "outputs": [
    {
     "data": {
      "text/plain": [
       "0    FEMALE\n",
       "1      MALE\n",
       "Name: Client_Gender, dtype: object"
      ]
     },
     "execution_count": 132,
     "metadata": {},
     "output_type": "execute_result"
    }
   ],
   "source": [
    "data['Client_Gender'].drop_duplicates()"
   ]
  },
  {
   "cell_type": "code",
   "execution_count": 133,
   "metadata": {
    "ExecuteTime": {
     "end_time": "2021-04-09T19:39:02.348206Z",
     "start_time": "2021-04-09T19:39:02.336116Z"
    }
   },
   "outputs": [],
   "source": [
    "mapping_gender = {\n",
    "    'MALE':0,\n",
    "    'FEMALE':1\n",
    "}\n",
    "data['Client_Gender'] = data['Client_Gender'].map(lambda x : mapping_gender[x])\n"
   ]
  },
  {
   "cell_type": "code",
   "execution_count": 134,
   "metadata": {
    "ExecuteTime": {
     "end_time": "2021-04-09T19:39:02.369315Z",
     "start_time": "2021-04-09T19:39:02.356484Z"
    }
   },
   "outputs": [
    {
     "data": {
      "text/plain": [
       "0       Control\n",
       "57     Lockdown\n",
       "187     Protect\n",
       "194    Restrict\n",
       "Name: Special_Measures, dtype: object"
      ]
     },
     "execution_count": 134,
     "metadata": {},
     "output_type": "execute_result"
    }
   ],
   "source": [
    "data['Special_Measures'].drop_duplicates()"
   ]
  },
  {
   "cell_type": "code",
   "execution_count": 135,
   "metadata": {
    "ExecuteTime": {
     "end_time": "2021-04-09T19:39:02.382753Z",
     "start_time": "2021-04-09T19:39:02.376077Z"
    }
   },
   "outputs": [],
   "source": [
    "# mapping_special = {\n",
    "#     'Control':0,\n",
    "#     'Lockdown':1,\n",
    "#     'Protect':2,\n",
    "#     'Restrict':3\n",
    "# #     'Control':0,\n",
    "# #     'Control':0,\n",
    "\n",
    "# }\n",
    "# data['Special_Measures'] = data['Special_Measures'].map(lambda x : mapping_special[x])\n"
   ]
  },
  {
   "cell_type": "code",
   "execution_count": 136,
   "metadata": {
    "ExecuteTime": {
     "end_time": "2021-04-09T19:39:02.424292Z",
     "start_time": "2021-04-09T19:39:02.407701Z"
    }
   },
   "outputs": [
    {
     "data": {
      "text/plain": [
       "(1000, 4)"
      ]
     },
     "execution_count": 136,
     "metadata": {},
     "output_type": "execute_result"
    }
   ],
   "source": [
    "one_hot = pd.get_dummies(data.Special_Measures, prefix='Special_Measures')\n",
    "one_hot.shape"
   ]
  },
  {
   "cell_type": "code",
   "execution_count": 137,
   "metadata": {
    "ExecuteTime": {
     "end_time": "2021-04-09T19:39:02.445086Z",
     "start_time": "2021-04-09T19:39:02.432858Z"
    }
   },
   "outputs": [
    {
     "data": {
      "text/plain": [
       "(1000, 6)"
      ]
     },
     "execution_count": 137,
     "metadata": {},
     "output_type": "execute_result"
    }
   ],
   "source": [
    "data.shape"
   ]
  },
  {
   "cell_type": "code",
   "execution_count": 138,
   "metadata": {
    "ExecuteTime": {
     "end_time": "2021-04-09T19:39:02.467750Z",
     "start_time": "2021-04-09T19:39:02.451136Z"
    }
   },
   "outputs": [],
   "source": [
    "data = pd.concat([data,one_hot],axis=1)\n",
    "data = data.drop(columns=['Special_Measures'])"
   ]
  },
  {
   "cell_type": "code",
   "execution_count": null,
   "metadata": {},
   "outputs": [],
   "source": []
  },
  {
   "cell_type": "code",
   "execution_count": null,
   "metadata": {},
   "outputs": [],
   "source": []
  },
  {
   "cell_type": "code",
   "execution_count": null,
   "metadata": {},
   "outputs": [],
   "source": []
  },
  {
   "cell_type": "markdown",
   "metadata": {},
   "source": [
    "### normalisation"
   ]
  },
  {
   "cell_type": "code",
   "execution_count": 139,
   "metadata": {
    "ExecuteTime": {
     "end_time": "2021-04-09T19:39:02.489312Z",
     "start_time": "2021-04-09T19:39:02.474152Z"
    }
   },
   "outputs": [],
   "source": [
    "#normalize mobility\n",
    "data['mobility'] = (data['mobility']-data['mobility'].min())/(data['mobility'].max()-data['mobility'].min())\n",
    "data['Age_Group'] = (data['Age_Group']-data['Age_Group'].min())/(data['Age_Group'].max()-data['Age_Group'].min())"
   ]
  },
  {
   "cell_type": "code",
   "execution_count": 140,
   "metadata": {
    "ExecuteTime": {
     "end_time": "2021-04-09T19:39:02.834800Z",
     "start_time": "2021-04-09T19:39:02.493833Z"
    }
   },
   "outputs": [
    {
     "data": {
      "text/plain": [
       "<matplotlib.axes._subplots.AxesSubplot at 0x7ff1aba3f410>"
      ]
     },
     "execution_count": 140,
     "metadata": {},
     "output_type": "execute_result"
    },
    {
     "data": {
      "image/png": "[encoded data removed]",
      "text/plain": [
       "<Figure size 432x288 with 1 Axes>"
      ]
     },
     "metadata": {
      "needs_background": "light"
     },
     "output_type": "display_data"
    }
   ],
   "source": [
    "data.boxplot(column=['mobility'])"
   ]
  },
  {
   "cell_type": "code",
   "execution_count": 141,
   "metadata": {
    "ExecuteTime": {
     "end_time": "2021-04-09T19:39:03.152112Z",
     "start_time": "2021-04-09T19:39:02.847275Z"
    }
   },
   "outputs": [
    {
     "data": {
      "text/plain": [
       "<matplotlib.axes._subplots.AxesSubplot at 0x7ff1abd281d0>"
      ]
     },
     "execution_count": 141,
     "metadata": {},
     "output_type": "execute_result"
    },
    {
     "data": {
      "image/png": "[encoded data removed]",
      "text/plain": [
       "<Figure size 432x288 with 1 Axes>"
      ]
     },
     "metadata": {
      "needs_background": "light"
     },
     "output_type": "display_data"
    }
   ],
   "source": [
    "data.boxplot(column=['Age_Group'])"
   ]
  },
  {
   "cell_type": "code",
   "execution_count": 142,
   "metadata": {
    "ExecuteTime": {
     "end_time": "2021-04-09T19:39:03.200286Z",
     "start_time": "2021-04-09T19:39:03.158737Z"
    }
   },
   "outputs": [
    {
     "data": {
      "text/html": [
       "<div>\n",
       "<style scoped>\n",
       "    .dataframe tbody tr th:only-of-type {\n",
       "        vertical-align: middle;\n",
       "    }\n",
       "\n",
       "    .dataframe tbody tr th {\n",
       "        vertical-align: top;\n",
       "    }\n",
       "\n",
       "    .dataframe thead th {\n",
       "        text-align: right;\n",
       "    }\n",
       "</style>\n",
       "<table border=\"1\" class=\"dataframe\">\n",
       "  <thead>\n",
       "    <tr style=\"text-align: right;\">\n",
       "      <th></th>\n",
       "      <th>Onset_date</th>\n",
       "      <th>Age_Group</th>\n",
       "      <th>Client_Gender</th>\n",
       "      <th>mobility</th>\n",
       "      <th>resolved</th>\n",
       "      <th>Special_Measures_Control</th>\n",
       "      <th>Special_Measures_Lockdown</th>\n",
       "      <th>Special_Measures_Protect</th>\n",
       "      <th>Special_Measures_Restrict</th>\n",
       "    </tr>\n",
       "  </thead>\n",
       "  <tbody>\n",
       "    <tr>\n",
       "      <th>0</th>\n",
       "      <td>2020-11-17</td>\n",
       "      <td>0.750</td>\n",
       "      <td>1</td>\n",
       "      <td>0.368932</td>\n",
       "      <td>1</td>\n",
       "      <td>1</td>\n",
       "      <td>0</td>\n",
       "      <td>0</td>\n",
       "      <td>0</td>\n",
       "    </tr>\n",
       "    <tr>\n",
       "      <th>1</th>\n",
       "      <td>2020-11-20</td>\n",
       "      <td>0.000</td>\n",
       "      <td>0</td>\n",
       "      <td>0.368932</td>\n",
       "      <td>1</td>\n",
       "      <td>1</td>\n",
       "      <td>0</td>\n",
       "      <td>0</td>\n",
       "      <td>0</td>\n",
       "    </tr>\n",
       "    <tr>\n",
       "      <th>2</th>\n",
       "      <td>2020-11-19</td>\n",
       "      <td>0.250</td>\n",
       "      <td>0</td>\n",
       "      <td>0.368932</td>\n",
       "      <td>1</td>\n",
       "      <td>1</td>\n",
       "      <td>0</td>\n",
       "      <td>0</td>\n",
       "      <td>0</td>\n",
       "    </tr>\n",
       "    <tr>\n",
       "      <th>3</th>\n",
       "      <td>2020-11-21</td>\n",
       "      <td>0.250</td>\n",
       "      <td>0</td>\n",
       "      <td>0.368932</td>\n",
       "      <td>1</td>\n",
       "      <td>1</td>\n",
       "      <td>0</td>\n",
       "      <td>0</td>\n",
       "      <td>0</td>\n",
       "    </tr>\n",
       "    <tr>\n",
       "      <th>4</th>\n",
       "      <td>2020-11-22</td>\n",
       "      <td>0.000</td>\n",
       "      <td>1</td>\n",
       "      <td>0.368932</td>\n",
       "      <td>1</td>\n",
       "      <td>1</td>\n",
       "      <td>0</td>\n",
       "      <td>0</td>\n",
       "      <td>0</td>\n",
       "    </tr>\n",
       "    <tr>\n",
       "      <th>...</th>\n",
       "      <td>...</td>\n",
       "      <td>...</td>\n",
       "      <td>...</td>\n",
       "      <td>...</td>\n",
       "      <td>...</td>\n",
       "      <td>...</td>\n",
       "      <td>...</td>\n",
       "      <td>...</td>\n",
       "      <td>...</td>\n",
       "    </tr>\n",
       "    <tr>\n",
       "      <th>995</th>\n",
       "      <td>2020-11-16</td>\n",
       "      <td>0.000</td>\n",
       "      <td>0</td>\n",
       "      <td>0.912621</td>\n",
       "      <td>1</td>\n",
       "      <td>1</td>\n",
       "      <td>0</td>\n",
       "      <td>0</td>\n",
       "      <td>0</td>\n",
       "    </tr>\n",
       "    <tr>\n",
       "      <th>996</th>\n",
       "      <td>2020-11-22</td>\n",
       "      <td>0.250</td>\n",
       "      <td>0</td>\n",
       "      <td>0.912621</td>\n",
       "      <td>1</td>\n",
       "      <td>1</td>\n",
       "      <td>0</td>\n",
       "      <td>0</td>\n",
       "      <td>0</td>\n",
       "    </tr>\n",
       "    <tr>\n",
       "      <th>997</th>\n",
       "      <td>2020-10-16</td>\n",
       "      <td>1.000</td>\n",
       "      <td>1</td>\n",
       "      <td>0.912621</td>\n",
       "      <td>1</td>\n",
       "      <td>1</td>\n",
       "      <td>0</td>\n",
       "      <td>0</td>\n",
       "      <td>0</td>\n",
       "    </tr>\n",
       "    <tr>\n",
       "      <th>998</th>\n",
       "      <td>2020-11-22</td>\n",
       "      <td>0.125</td>\n",
       "      <td>1</td>\n",
       "      <td>0.912621</td>\n",
       "      <td>1</td>\n",
       "      <td>1</td>\n",
       "      <td>0</td>\n",
       "      <td>0</td>\n",
       "      <td>0</td>\n",
       "    </tr>\n",
       "    <tr>\n",
       "      <th>999</th>\n",
       "      <td>2020-11-21</td>\n",
       "      <td>0.375</td>\n",
       "      <td>1</td>\n",
       "      <td>0.912621</td>\n",
       "      <td>1</td>\n",
       "      <td>1</td>\n",
       "      <td>0</td>\n",
       "      <td>0</td>\n",
       "      <td>0</td>\n",
       "    </tr>\n",
       "  </tbody>\n",
       "</table>\n",
       "<p>1000 rows × 9 columns</p>\n",
       "</div>"
      ],
      "text/plain": [
       "     Onset_date  Age_Group  Client_Gender  mobility  resolved  \\\n",
       "0    2020-11-17      0.750              1  0.368932         1   \n",
       "1    2020-11-20      0.000              0  0.368932         1   \n",
       "2    2020-11-19      0.250              0  0.368932         1   \n",
       "3    2020-11-21      0.250              0  0.368932         1   \n",
       "4    2020-11-22      0.000              1  0.368932         1   \n",
       "..          ...        ...            ...       ...       ...   \n",
       "995  2020-11-16      0.000              0  0.912621         1   \n",
       "996  2020-11-22      0.250              0  0.912621         1   \n",
       "997  2020-10-16      1.000              1  0.912621         1   \n",
       "998  2020-11-22      0.125              1  0.912621         1   \n",
       "999  2020-11-21      0.375              1  0.912621         1   \n",
       "\n",
       "     Special_Measures_Control  Special_Measures_Lockdown  \\\n",
       "0                           1                          0   \n",
       "1                           1                          0   \n",
       "2                           1                          0   \n",
       "3                           1                          0   \n",
       "4                           1                          0   \n",
       "..                        ...                        ...   \n",
       "995                         1                          0   \n",
       "996                         1                          0   \n",
       "997                         1                          0   \n",
       "998                         1                          0   \n",
       "999                         1                          0   \n",
       "\n",
       "     Special_Measures_Protect  Special_Measures_Restrict  \n",
       "0                           0                          0  \n",
       "1                           0                          0  \n",
       "2                           0                          0  \n",
       "3                           0                          0  \n",
       "4                           0                          0  \n",
       "..                        ...                        ...  \n",
       "995                         0                          0  \n",
       "996                         0                          0  \n",
       "997                         0                          0  \n",
       "998                         0                          0  \n",
       "999                         0                          0  \n",
       "\n",
       "[1000 rows x 9 columns]"
      ]
     },
     "execution_count": 142,
     "metadata": {},
     "output_type": "execute_result"
    }
   ],
   "source": [
    "data"
   ]
  },
  {
   "cell_type": "markdown",
   "metadata": {},
   "source": [
    "### undersampling"
   ]
  },
  {
   "cell_type": "code",
   "execution_count": null,
   "metadata": {
    "ExecuteTime": {
     "end_time": "2021-04-09T19:10:20.194804Z",
     "start_time": "2021-04-09T19:10:20.173466Z"
    }
   },
   "outputs": [],
   "source": []
  },
  {
   "cell_type": "code",
   "execution_count": 143,
   "metadata": {
    "ExecuteTime": {
     "end_time": "2021-04-09T19:39:03.241567Z",
     "start_time": "2021-04-09T19:39:03.215431Z"
    }
   },
   "outputs": [],
   "source": [
    "shuffle_unresolved = shuffle(data[data['resolved']==0])\n",
    "shuffle_resolved = shuffle(data[data['resolved']==1])\n",
    "shuffle_resolved = shuffle_resolved[:len(shuffle_unresolved)]\n",
    "undersampled_data = shuffle_resolved.append(shuffle_unresolved)\n",
    "undersampled_data = shuffle(undersampled_data)"
   ]
  },
  {
   "cell_type": "code",
   "execution_count": 144,
   "metadata": {
    "ExecuteTime": {
     "end_time": "2021-04-09T19:39:03.266945Z",
     "start_time": "2021-04-09T19:39:03.249911Z"
    }
   },
   "outputs": [
    {
     "data": {
      "text/plain": [
       "62"
      ]
     },
     "execution_count": 144,
     "metadata": {},
     "output_type": "execute_result"
    }
   ],
   "source": [
    "len(undersampled_data)"
   ]
  },
  {
   "cell_type": "markdown",
   "metadata": {},
   "source": [
    "# Part B"
   ]
  },
  {
   "cell_type": "code",
   "execution_count": 145,
   "metadata": {
    "ExecuteTime": {
     "end_time": "2021-04-09T19:39:03.288028Z",
     "start_time": "2021-04-09T19:39:03.282020Z"
    }
   },
   "outputs": [],
   "source": [
    "from sklearn.datasets import load_iris\n",
    "from sklearn.tree import DecisionTreeClassifier\n",
    "from sklearn.tree import export_text"
   ]
  },
  {
   "cell_type": "code",
   "execution_count": 146,
   "metadata": {
    "ExecuteTime": {
     "end_time": "2021-04-09T19:39:03.304903Z",
     "start_time": "2021-04-09T19:39:03.293614Z"
    }
   },
   "outputs": [
    {
     "data": {
      "text/plain": [
       "['Onset_date',\n",
       " 'Age_Group',\n",
       " 'Client_Gender',\n",
       " 'mobility',\n",
       " 'resolved',\n",
       " 'Special_Measures_Control',\n",
       " 'Special_Measures_Lockdown',\n",
       " 'Special_Measures_Protect',\n",
       " 'Special_Measures_Restrict']"
      ]
     },
     "execution_count": 146,
     "metadata": {},
     "output_type": "execute_result"
    }
   ],
   "source": [
    "['Onset_date', 'Age_Group', 'Client_Gender', 'mobility', 'resolved', 'Special_Measures_Control', 'Special_Measures_Lockdown', 'Special_Measures_Protect', 'Special_Measures_Restrict']"
   ]
  },
  {
   "cell_type": "code",
   "execution_count": 147,
   "metadata": {
    "ExecuteTime": {
     "end_time": "2021-04-09T19:39:03.327967Z",
     "start_time": "2021-04-09T19:39:03.310933Z"
    }
   },
   "outputs": [],
   "source": [
    "iris = load_iris()\n",
    "X = undersampled_data[['Age_Group', 'Client_Gender', 'mobility', 'Special_Measures_Control', 'Special_Measures_Lockdown', 'Special_Measures_Protect', 'Special_Measures_Restrict']]\n",
    "y = undersampled_data['resolved']\n",
    "decision_tree = DecisionTreeClassifier(random_state=0, max_depth=2)\n",
    "decision_tree = decision_tree.fit(X, y)\n",
    "r = export_text(decision_tree, feature_names=['Age_Group', 'Client_Gender', 'mobility', 'Special_Measures_Control', 'Special_Measures_Lockdown', 'Special_Measures_Protect', 'Special_Measures_Restrict'])"
   ]
  },
  {
   "cell_type": "code",
   "execution_count": 148,
   "metadata": {
    "ExecuteTime": {
     "end_time": "2021-04-09T19:39:03.339597Z",
     "start_time": "2021-04-09T19:39:03.334259Z"
    }
   },
   "outputs": [
    {
     "name": "stdout",
     "output_type": "stream",
     "text": [
      "|--- Age_Group <= 0.81\n",
      "|   |--- Age_Group <= 0.31\n",
      "|   |   |--- class: 1\n",
      "|   |--- Age_Group >  0.31\n",
      "|   |   |--- class: 1\n",
      "|--- Age_Group >  0.81\n",
      "|   |--- Client_Gender <= 0.50\n",
      "|   |   |--- class: 0\n",
      "|   |--- Client_Gender >  0.50\n",
      "|   |   |--- class: 0\n",
      "\n"
     ]
    }
   ],
   "source": [
    "print(r)"
   ]
  },
  {
   "cell_type": "code",
   "execution_count": null,
   "metadata": {},
   "outputs": [],
   "source": []
  },
  {
   "cell_type": "code",
   "execution_count": null,
   "metadata": {
    "ExecuteTime": {
     "end_time": "2021-04-09T19:33:32.310984Z",
     "start_time": "2021-04-09T19:33:32.292208Z"
    }
   },
   "outputs": [],
   "source": []
  },
  {
   "cell_type": "code",
   "execution_count": null,
   "metadata": {},
   "outputs": [],
   "source": []
  },
  {
   "cell_type": "code",
   "execution_count": 149,
   "metadata": {
    "ExecuteTime": {
     "end_time": "2021-04-09T19:39:03.391068Z",
     "start_time": "2021-04-09T19:39:03.344004Z"
    }
   },
   "outputs": [
    {
     "data": {
      "text/html": [
       "<div>\n",
       "<style scoped>\n",
       "    .dataframe tbody tr th:only-of-type {\n",
       "        vertical-align: middle;\n",
       "    }\n",
       "\n",
       "    .dataframe tbody tr th {\n",
       "        vertical-align: top;\n",
       "    }\n",
       "\n",
       "    .dataframe thead th {\n",
       "        text-align: right;\n",
       "    }\n",
       "</style>\n",
       "<table border=\"1\" class=\"dataframe\">\n",
       "  <thead>\n",
       "    <tr style=\"text-align: right;\">\n",
       "      <th></th>\n",
       "      <th>Onset_date</th>\n",
       "      <th>Age_Group</th>\n",
       "      <th>Client_Gender</th>\n",
       "      <th>mobility</th>\n",
       "      <th>resolved</th>\n",
       "      <th>Special_Measures_Control</th>\n",
       "      <th>Special_Measures_Lockdown</th>\n",
       "      <th>Special_Measures_Protect</th>\n",
       "      <th>Special_Measures_Restrict</th>\n",
       "    </tr>\n",
       "  </thead>\n",
       "  <tbody>\n",
       "    <tr>\n",
       "      <th>909</th>\n",
       "      <td>2020-11-23</td>\n",
       "      <td>1.000</td>\n",
       "      <td>1</td>\n",
       "      <td>0.912621</td>\n",
       "      <td>0</td>\n",
       "      <td>1</td>\n",
       "      <td>0</td>\n",
       "      <td>0</td>\n",
       "      <td>0</td>\n",
       "    </tr>\n",
       "    <tr>\n",
       "      <th>480</th>\n",
       "      <td>2021-02-15</td>\n",
       "      <td>0.500</td>\n",
       "      <td>1</td>\n",
       "      <td>0.077670</td>\n",
       "      <td>0</td>\n",
       "      <td>1</td>\n",
       "      <td>0</td>\n",
       "      <td>0</td>\n",
       "      <td>0</td>\n",
       "    </tr>\n",
       "    <tr>\n",
       "      <th>439</th>\n",
       "      <td>2021-02-18</td>\n",
       "      <td>0.500</td>\n",
       "      <td>1</td>\n",
       "      <td>0.000000</td>\n",
       "      <td>0</td>\n",
       "      <td>1</td>\n",
       "      <td>0</td>\n",
       "      <td>0</td>\n",
       "      <td>0</td>\n",
       "    </tr>\n",
       "    <tr>\n",
       "      <th>965</th>\n",
       "      <td>2020-11-23</td>\n",
       "      <td>0.875</td>\n",
       "      <td>0</td>\n",
       "      <td>0.912621</td>\n",
       "      <td>0</td>\n",
       "      <td>1</td>\n",
       "      <td>0</td>\n",
       "      <td>0</td>\n",
       "      <td>0</td>\n",
       "    </tr>\n",
       "    <tr>\n",
       "      <th>640</th>\n",
       "      <td>2020-11-30</td>\n",
       "      <td>0.875</td>\n",
       "      <td>0</td>\n",
       "      <td>0.572816</td>\n",
       "      <td>0</td>\n",
       "      <td>1</td>\n",
       "      <td>0</td>\n",
       "      <td>0</td>\n",
       "      <td>0</td>\n",
       "    </tr>\n",
       "  </tbody>\n",
       "</table>\n",
       "</div>"
      ],
      "text/plain": [
       "     Onset_date  Age_Group  Client_Gender  mobility  resolved  \\\n",
       "909  2020-11-23      1.000              1  0.912621         0   \n",
       "480  2021-02-15      0.500              1  0.077670         0   \n",
       "439  2021-02-18      0.500              1  0.000000         0   \n",
       "965  2020-11-23      0.875              0  0.912621         0   \n",
       "640  2020-11-30      0.875              0  0.572816         0   \n",
       "\n",
       "     Special_Measures_Control  Special_Measures_Lockdown  \\\n",
       "909                         1                          0   \n",
       "480                         1                          0   \n",
       "439                         1                          0   \n",
       "965                         1                          0   \n",
       "640                         1                          0   \n",
       "\n",
       "     Special_Measures_Protect  Special_Measures_Restrict  \n",
       "909                         0                          0  \n",
       "480                         0                          0  \n",
       "439                         0                          0  \n",
       "965                         0                          0  \n",
       "640                         0                          0  "
      ]
     },
     "execution_count": 149,
     "metadata": {},
     "output_type": "execute_result"
    }
   ],
   "source": [
    "undersampled_data.head()"
   ]
  },
  {
   "cell_type": "code",
   "execution_count": null,
   "metadata": {},
   "outputs": [],
   "source": []
  }
 ],
 "metadata": {
  "kernelspec": {
   "display_name": "Python 3",
   "language": "python",
   "name": "python3"
  },
  "language_info": {
   "codemirror_mode": {
    "name": "ipython",
    "version": 3
   },
   "file_extension": ".py",
   "mimetype": "text/x-python",
   "name": "python",
   "nbconvert_exporter": "python",
   "pygments_lexer": "ipython3",
   "version": "3.7.5"
  }
 },
 "nbformat": 4,
 "nbformat_minor": 2
}
