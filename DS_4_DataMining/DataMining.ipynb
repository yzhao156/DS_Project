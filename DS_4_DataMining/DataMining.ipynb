{
 "cells": [
  {
   "cell_type": "code",
   "execution_count": 1,
   "metadata": {
    "ExecuteTime": {
     "end_time": "2021-04-13T21:29:17.376255Z",
     "start_time": "2021-04-13T21:29:15.654038Z"
    }
   },
   "outputs": [],
   "source": [
    "from configparser import ConfigParser\n",
    "import psycopg2\n",
    "import pandas as pd\n",
    "import numpy as np\n",
    "import matplotlib.pyplot as plt\n",
    "from sklearn import tree\n",
    "from sklearn.tree import DecisionTreeClassifier,export_text\n",
    "from sklearn.utils import shuffle\n",
    "from sklearn.model_selection import train_test_split\n",
    "from sklearn.ensemble import RandomForestClassifier,GradientBoostingClassifier\n",
    "from sklearn.metrics import recall_score, precision_score, confusion_matrix, classification_report\n",
    "from sklearn.datasets import load_iris\n",
    "from collections import Counter \n",
    "import datetime\n",
    "import pickle\n",
    "import time\n",
    "import os\n",
    "\n",
    "\n",
    "\n"
   ]
  },
  {
   "cell_type": "code",
   "execution_count": null,
   "metadata": {},
   "outputs": [],
   "source": []
  },
  {
   "cell_type": "code",
   "execution_count": 2,
   "metadata": {
    "ExecuteTime": {
     "end_time": "2021-04-13T21:29:19.322817Z",
     "start_time": "2021-04-13T21:29:19.307278Z"
    }
   },
   "outputs": [],
   "source": [
    "#Sourced from https://www.postgresqltutorial.com/postgresql-python/connect/\n",
    "def config(filename='psql_sample.ini', section='postgresql'):\n",
    "    parser = ConfigParser()\n",
    "    # read config file\n",
    "    parser.read(filename) \n",
    " \n",
    "    # get section, default to postgresql\n",
    "    db = {}\n",
    "    if parser.has_section(section):\n",
    "        params = parser.items(section)\n",
    "        for param in params:\n",
    "            db[param[0]] = param[1]\n",
    "    else:\n",
    "        raise Exception('Section {0} not found in the {1} file'.format(section, filename))\n",
    " \n",
    "    return db"
   ]
  },
  {
   "cell_type": "code",
   "execution_count": 3,
   "metadata": {
    "ExecuteTime": {
     "end_time": "2021-04-10T01:25:41.540602Z",
     "start_time": "2021-04-10T01:25:41.513769Z"
    }
   },
   "outputs": [],
   "source": [
    "cfg = config()"
   ]
  },
  {
   "cell_type": "code",
   "execution_count": 3,
   "metadata": {
    "ExecuteTime": {
     "end_time": "2021-04-13T21:29:32.161410Z",
     "start_time": "2021-04-13T21:29:31.621452Z"
    }
   },
   "outputs": [
    {
     "name": "stdout",
     "output_type": "stream",
     "text": [
      "Here's an attempt to connect to the database\n",
      "Look's like it was a success\n"
     ]
    }
   ],
   "source": [
    "#Establish the connection and create a cursor to the database\n",
    "try:\n",
    "    print(\"Here's an attempt to connect to the database\")\n",
    "#     conn = psycopg2.connect(**cfg)\n",
    "    conn = psycopg2.connect(\n",
    "        host=\"www.eecs.uottawa.ca\",\n",
    "        database=\"group_22\",\n",
    "        user=\"yzhao156\",\n",
    "        password=\"UozonePassword\",\n",
    "        port=15432\n",
    "    )\n",
    "    cursor = conn.cursor()\n",
    "    print(\"Look's like it was a success\")\n",
    "    \n",
    "except (Exception, psycopg2.DatabaseError) as error:\n",
    "    print(error)"
   ]
  },
  {
   "cell_type": "code",
   "execution_count": 4,
   "metadata": {
    "ExecuteTime": {
     "end_time": "2021-04-13T21:29:49.632152Z",
     "start_time": "2021-04-13T21:29:34.070005Z"
    }
   },
   "outputs": [],
   "source": [
    "try:\n",
    "    #Lets get our data \n",
    "    cursor.execute(\n",
    "    \"\"\"\n",
    "SELECT D.month as month,  S.title as special_measure, \n",
    "    P.Age_Group as Age_Group, P.client_gender as gender, \n",
    "    M.parks_percent_change_from_baseline as mobility,\n",
    "    F.fatal as fatal\n",
    "FROM covid19_tracking_fact_table F, \n",
    "    date_dimension D, \n",
    "    mobility_dimension M,\n",
    "    special_measures_dimension S,\n",
    "    patient_dimension P\n",
    "WHERE F.reported_date_key = D.surrogate_key AND\n",
    "    F.special_measure_key = S.surrogate_key AND\n",
    "    F.mobility_key = M.surrogate_key AND\n",
    "    F.patient_key = P.surrogate_key \n",
    "ORDER BY D.date\n",
    "    \"\"\"    \n",
    "        \n",
    "                  \n",
    "    \n",
    "    )\n",
    "\n",
    "    #Get the complete result set. It will be a list of tuples where each tuple is a row from the result set\n",
    "    result_list = cursor.fetchall()\n",
    "        \n",
    "except (Exception, psycopg2.DatabaseError) as error:\n",
    "    print(error)"
   ]
  },
  {
   "cell_type": "code",
   "execution_count": 5,
   "metadata": {
    "ExecuteTime": {
     "end_time": "2021-04-13T21:29:49.651384Z",
     "start_time": "2021-04-13T21:29:49.635362Z"
    }
   },
   "outputs": [],
   "source": [
    "cursor.close()\n",
    "conn.close()"
   ]
  },
  {
   "cell_type": "code",
   "execution_count": 6,
   "metadata": {
    "ExecuteTime": {
     "end_time": "2021-04-13T21:29:49.811843Z",
     "start_time": "2021-04-13T21:29:49.659655Z"
    }
   },
   "outputs": [],
   "source": [
    "data = pd.DataFrame(result_list,columns=[\"month\", \"special_measure\",\n",
    "                \"Age_Group\", \"gender\", \"mobility\", \"fatal\"])"
   ]
  },
  {
   "cell_type": "code",
   "execution_count": 7,
   "metadata": {
    "ExecuteTime": {
     "end_time": "2021-04-13T21:29:49.829952Z",
     "start_time": "2021-04-13T21:29:49.814451Z"
    }
   },
   "outputs": [
    {
     "data": {
      "text/html": [
       "<div>\n",
       "<style scoped>\n",
       "    .dataframe tbody tr th:only-of-type {\n",
       "        vertical-align: middle;\n",
       "    }\n",
       "\n",
       "    .dataframe tbody tr th {\n",
       "        vertical-align: top;\n",
       "    }\n",
       "\n",
       "    .dataframe thead th {\n",
       "        text-align: right;\n",
       "    }\n",
       "</style>\n",
       "<table border=\"1\" class=\"dataframe\">\n",
       "  <thead>\n",
       "    <tr style=\"text-align: right;\">\n",
       "      <th></th>\n",
       "      <th>month</th>\n",
       "      <th>special_measure</th>\n",
       "      <th>Age_Group</th>\n",
       "      <th>gender</th>\n",
       "      <th>mobility</th>\n",
       "      <th>fatal</th>\n",
       "    </tr>\n",
       "  </thead>\n",
       "  <tbody>\n",
       "    <tr>\n",
       "      <th>0</th>\n",
       "      <td>11</td>\n",
       "      <td>Restrict</td>\n",
       "      <td>40s</td>\n",
       "      <td>MALE</td>\n",
       "      <td>-26.0</td>\n",
       "      <td>0</td>\n",
       "    </tr>\n",
       "    <tr>\n",
       "      <th>1</th>\n",
       "      <td>11</td>\n",
       "      <td>Restrict</td>\n",
       "      <td>30s</td>\n",
       "      <td>MALE</td>\n",
       "      <td>-26.0</td>\n",
       "      <td>0</td>\n",
       "    </tr>\n",
       "    <tr>\n",
       "      <th>2</th>\n",
       "      <td>11</td>\n",
       "      <td>Restrict</td>\n",
       "      <td>50s</td>\n",
       "      <td>MALE</td>\n",
       "      <td>-26.0</td>\n",
       "      <td>0</td>\n",
       "    </tr>\n",
       "    <tr>\n",
       "      <th>3</th>\n",
       "      <td>11</td>\n",
       "      <td>Restrict</td>\n",
       "      <td>&lt;20</td>\n",
       "      <td>FEMALE</td>\n",
       "      <td>-26.0</td>\n",
       "      <td>0</td>\n",
       "    </tr>\n",
       "    <tr>\n",
       "      <th>4</th>\n",
       "      <td>11</td>\n",
       "      <td>Restrict</td>\n",
       "      <td>30s</td>\n",
       "      <td>FEMALE</td>\n",
       "      <td>-26.0</td>\n",
       "      <td>0</td>\n",
       "    </tr>\n",
       "  </tbody>\n",
       "</table>\n",
       "</div>"
      ],
      "text/plain": [
       "   month special_measure Age_Group  gender  mobility  fatal\n",
       "0     11        Restrict       40s    MALE     -26.0      0\n",
       "1     11        Restrict       30s    MALE     -26.0      0\n",
       "2     11        Restrict       50s    MALE     -26.0      0\n",
       "3     11        Restrict       <20  FEMALE     -26.0      0\n",
       "4     11        Restrict       30s  FEMALE     -26.0      0"
      ]
     },
     "execution_count": 7,
     "metadata": {},
     "output_type": "execute_result"
    }
   ],
   "source": [
    "data.head()"
   ]
  },
  {
   "cell_type": "code",
   "execution_count": 8,
   "metadata": {
    "ExecuteTime": {
     "end_time": "2021-04-13T21:29:49.989617Z",
     "start_time": "2021-04-13T21:29:49.835157Z"
    }
   },
   "outputs": [],
   "source": [
    "if not os.path.exists('saves'):\n",
    "    os.makedirs('saves')\n",
    "pickle.dump( data, open( \"./saves/data.p\", \"wb\" ) )"
   ]
  },
  {
   "cell_type": "code",
   "execution_count": 33,
   "metadata": {
    "ExecuteTime": {
     "end_time": "2021-04-13T21:31:21.555435Z",
     "start_time": "2021-04-13T21:31:21.470822Z"
    }
   },
   "outputs": [],
   "source": [
    "data = pickle.load( open( \"./saves/data.p\", \"rb\" ) )"
   ]
  },
  {
   "cell_type": "code",
   "execution_count": 34,
   "metadata": {
    "ExecuteTime": {
     "end_time": "2021-04-13T21:31:21.624295Z",
     "start_time": "2021-04-13T21:31:21.606789Z"
    }
   },
   "outputs": [
    {
     "data": {
      "text/html": [
       "<div>\n",
       "<style scoped>\n",
       "    .dataframe tbody tr th:only-of-type {\n",
       "        vertical-align: middle;\n",
       "    }\n",
       "\n",
       "    .dataframe tbody tr th {\n",
       "        vertical-align: top;\n",
       "    }\n",
       "\n",
       "    .dataframe thead th {\n",
       "        text-align: right;\n",
       "    }\n",
       "</style>\n",
       "<table border=\"1\" class=\"dataframe\">\n",
       "  <thead>\n",
       "    <tr style=\"text-align: right;\">\n",
       "      <th></th>\n",
       "      <th>month</th>\n",
       "      <th>special_measure</th>\n",
       "      <th>Age_Group</th>\n",
       "      <th>gender</th>\n",
       "      <th>mobility</th>\n",
       "      <th>fatal</th>\n",
       "    </tr>\n",
       "  </thead>\n",
       "  <tbody>\n",
       "    <tr>\n",
       "      <th>0</th>\n",
       "      <td>11</td>\n",
       "      <td>Restrict</td>\n",
       "      <td>40s</td>\n",
       "      <td>MALE</td>\n",
       "      <td>-26.0</td>\n",
       "      <td>0</td>\n",
       "    </tr>\n",
       "    <tr>\n",
       "      <th>1</th>\n",
       "      <td>11</td>\n",
       "      <td>Restrict</td>\n",
       "      <td>30s</td>\n",
       "      <td>MALE</td>\n",
       "      <td>-26.0</td>\n",
       "      <td>0</td>\n",
       "    </tr>\n",
       "    <tr>\n",
       "      <th>2</th>\n",
       "      <td>11</td>\n",
       "      <td>Restrict</td>\n",
       "      <td>50s</td>\n",
       "      <td>MALE</td>\n",
       "      <td>-26.0</td>\n",
       "      <td>0</td>\n",
       "    </tr>\n",
       "    <tr>\n",
       "      <th>3</th>\n",
       "      <td>11</td>\n",
       "      <td>Restrict</td>\n",
       "      <td>&lt;20</td>\n",
       "      <td>FEMALE</td>\n",
       "      <td>-26.0</td>\n",
       "      <td>0</td>\n",
       "    </tr>\n",
       "    <tr>\n",
       "      <th>4</th>\n",
       "      <td>11</td>\n",
       "      <td>Restrict</td>\n",
       "      <td>30s</td>\n",
       "      <td>FEMALE</td>\n",
       "      <td>-26.0</td>\n",
       "      <td>0</td>\n",
       "    </tr>\n",
       "    <tr>\n",
       "      <th>...</th>\n",
       "      <td>...</td>\n",
       "      <td>...</td>\n",
       "      <td>...</td>\n",
       "      <td>...</td>\n",
       "      <td>...</td>\n",
       "      <td>...</td>\n",
       "    </tr>\n",
       "    <tr>\n",
       "      <th>147899</th>\n",
       "      <td>2</td>\n",
       "      <td>Control</td>\n",
       "      <td>&lt;20</td>\n",
       "      <td>FEMALE</td>\n",
       "      <td>-23.0</td>\n",
       "      <td>0</td>\n",
       "    </tr>\n",
       "    <tr>\n",
       "      <th>147900</th>\n",
       "      <td>2</td>\n",
       "      <td>Control</td>\n",
       "      <td>20s</td>\n",
       "      <td>MALE</td>\n",
       "      <td>-23.0</td>\n",
       "      <td>0</td>\n",
       "    </tr>\n",
       "    <tr>\n",
       "      <th>147901</th>\n",
       "      <td>2</td>\n",
       "      <td>Control</td>\n",
       "      <td>20s</td>\n",
       "      <td>FEMALE</td>\n",
       "      <td>-23.0</td>\n",
       "      <td>0</td>\n",
       "    </tr>\n",
       "    <tr>\n",
       "      <th>147902</th>\n",
       "      <td>2</td>\n",
       "      <td>Control</td>\n",
       "      <td>50s</td>\n",
       "      <td>FEMALE</td>\n",
       "      <td>-23.0</td>\n",
       "      <td>0</td>\n",
       "    </tr>\n",
       "    <tr>\n",
       "      <th>147903</th>\n",
       "      <td>2</td>\n",
       "      <td>Control</td>\n",
       "      <td>30s</td>\n",
       "      <td>MALE</td>\n",
       "      <td>-23.0</td>\n",
       "      <td>0</td>\n",
       "    </tr>\n",
       "  </tbody>\n",
       "</table>\n",
       "<p>147904 rows × 6 columns</p>\n",
       "</div>"
      ],
      "text/plain": [
       "        month special_measure Age_Group  gender  mobility  fatal\n",
       "0          11        Restrict       40s    MALE     -26.0      0\n",
       "1          11        Restrict       30s    MALE     -26.0      0\n",
       "2          11        Restrict       50s    MALE     -26.0      0\n",
       "3          11        Restrict       <20  FEMALE     -26.0      0\n",
       "4          11        Restrict       30s  FEMALE     -26.0      0\n",
       "...       ...             ...       ...     ...       ...    ...\n",
       "147899      2         Control       <20  FEMALE     -23.0      0\n",
       "147900      2         Control       20s    MALE     -23.0      0\n",
       "147901      2         Control       20s  FEMALE     -23.0      0\n",
       "147902      2         Control       50s  FEMALE     -23.0      0\n",
       "147903      2         Control       30s    MALE     -23.0      0\n",
       "\n",
       "[147904 rows x 6 columns]"
      ]
     },
     "execution_count": 34,
     "metadata": {},
     "output_type": "execute_result"
    }
   ],
   "source": [
    "data"
   ]
  },
  {
   "cell_type": "code",
   "execution_count": 35,
   "metadata": {
    "ExecuteTime": {
     "end_time": "2021-04-13T21:31:22.080568Z",
     "start_time": "2021-04-13T21:31:21.747520Z"
    }
   },
   "outputs": [
    {
     "data": {
      "text/plain": [
       "<matplotlib.axes._subplots.AxesSubplot at 0x7fcdcbf2e690>"
      ]
     },
     "execution_count": 35,
     "metadata": {},
     "output_type": "execute_result"
    },
    {
     "data": {
      "image/png": "[encoded data removed]",
      "text/plain": [
       "<Figure size 432x288 with 1 Axes>"
      ]
     },
     "metadata": {
      "needs_background": "light"
     },
     "output_type": "display_data"
    }
   ],
   "source": [
    "data.boxplot(column=['mobility'])"
   ]
  },
  {
   "cell_type": "code",
   "execution_count": 36,
   "metadata": {
    "ExecuteTime": {
     "end_time": "2021-04-13T21:31:22.324828Z",
     "start_time": "2021-04-13T21:31:22.084917Z"
    },
    "scrolled": false
   },
   "outputs": [
    {
     "data": {
      "text/plain": [
       "(array([6.49280013e-01, 0.00000000e+00, 0.00000000e+00, 0.00000000e+00,\n",
       "        7.20857974e-01, 0.00000000e+00, 0.00000000e+00, 0.00000000e+00,\n",
       "        6.59857445e-01, 0.00000000e+00, 0.00000000e+00, 0.00000000e+00,\n",
       "        0.00000000e+00, 6.63944180e-01, 0.00000000e+00, 0.00000000e+00,\n",
       "        0.00000000e+00, 9.27057791e-01, 0.00000000e+00, 0.00000000e+00,\n",
       "        0.00000000e+00, 0.00000000e+00, 4.08883841e-01, 0.00000000e+00,\n",
       "        0.00000000e+00, 0.00000000e+00, 1.40391365e-01, 0.00000000e+00,\n",
       "        0.00000000e+00, 0.00000000e+00, 0.00000000e+00, 1.98356892e-01,\n",
       "        0.00000000e+00, 0.00000000e+00, 0.00000000e+00, 7.54543488e-02,\n",
       "        0.00000000e+00, 0.00000000e+00, 0.00000000e+00, 3.60594259e-04]),\n",
       " array([0.   , 0.225, 0.45 , 0.675, 0.9  , 1.125, 1.35 , 1.575, 1.8  ,\n",
       "        2.025, 2.25 , 2.475, 2.7  , 2.925, 3.15 , 3.375, 3.6  , 3.825,\n",
       "        4.05 , 4.275, 4.5  , 4.725, 4.95 , 5.175, 5.4  , 5.625, 5.85 ,\n",
       "        6.075, 6.3  , 6.525, 6.75 , 6.975, 7.2  , 7.425, 7.65 , 7.875,\n",
       "        8.1  , 8.325, 8.55 , 8.775, 9.   ]),\n",
       " <a list of 1 Patch objects>)"
      ]
     },
     "execution_count": 36,
     "metadata": {},
     "output_type": "execute_result"
    },
    {
     "data": {
      "image/png": "[encoded data removed]",
      "text/plain": [
       "<Figure size 432x288 with 1 Axes>"
      ]
     },
     "metadata": {
      "needs_background": "light"
     },
     "output_type": "display_data"
    }
   ],
   "source": [
    "kwargs = dict(histtype='stepfilled', alpha=0.3, density=True, bins=40)\n",
    "plt.hist(data['Age_Group'], **kwargs)"
   ]
  },
  {
   "cell_type": "markdown",
   "metadata": {},
   "source": [
    "# A.2"
   ]
  },
  {
   "cell_type": "code",
   "execution_count": 37,
   "metadata": {
    "ExecuteTime": {
     "end_time": "2021-04-13T21:31:22.353103Z",
     "start_time": "2021-04-13T21:31:22.334313Z"
    }
   },
   "outputs": [
    {
     "data": {
      "text/html": [
       "<div>\n",
       "<style scoped>\n",
       "    .dataframe tbody tr th:only-of-type {\n",
       "        vertical-align: middle;\n",
       "    }\n",
       "\n",
       "    .dataframe tbody tr th {\n",
       "        vertical-align: top;\n",
       "    }\n",
       "\n",
       "    .dataframe thead th {\n",
       "        text-align: right;\n",
       "    }\n",
       "</style>\n",
       "<table border=\"1\" class=\"dataframe\">\n",
       "  <thead>\n",
       "    <tr style=\"text-align: right;\">\n",
       "      <th></th>\n",
       "      <th>month</th>\n",
       "      <th>special_measure</th>\n",
       "      <th>Age_Group</th>\n",
       "      <th>gender</th>\n",
       "      <th>mobility</th>\n",
       "      <th>fatal</th>\n",
       "    </tr>\n",
       "  </thead>\n",
       "  <tbody>\n",
       "    <tr>\n",
       "      <th>0</th>\n",
       "      <td>11</td>\n",
       "      <td>Restrict</td>\n",
       "      <td>40s</td>\n",
       "      <td>MALE</td>\n",
       "      <td>-26.0</td>\n",
       "      <td>0</td>\n",
       "    </tr>\n",
       "    <tr>\n",
       "      <th>1</th>\n",
       "      <td>11</td>\n",
       "      <td>Restrict</td>\n",
       "      <td>30s</td>\n",
       "      <td>MALE</td>\n",
       "      <td>-26.0</td>\n",
       "      <td>0</td>\n",
       "    </tr>\n",
       "    <tr>\n",
       "      <th>2</th>\n",
       "      <td>11</td>\n",
       "      <td>Restrict</td>\n",
       "      <td>50s</td>\n",
       "      <td>MALE</td>\n",
       "      <td>-26.0</td>\n",
       "      <td>0</td>\n",
       "    </tr>\n",
       "    <tr>\n",
       "      <th>3</th>\n",
       "      <td>11</td>\n",
       "      <td>Restrict</td>\n",
       "      <td>&lt;20</td>\n",
       "      <td>FEMALE</td>\n",
       "      <td>-26.0</td>\n",
       "      <td>0</td>\n",
       "    </tr>\n",
       "    <tr>\n",
       "      <th>4</th>\n",
       "      <td>11</td>\n",
       "      <td>Restrict</td>\n",
       "      <td>30s</td>\n",
       "      <td>FEMALE</td>\n",
       "      <td>-26.0</td>\n",
       "      <td>0</td>\n",
       "    </tr>\n",
       "  </tbody>\n",
       "</table>\n",
       "</div>"
      ],
      "text/plain": [
       "   month special_measure Age_Group  gender  mobility  fatal\n",
       "0     11        Restrict       40s    MALE     -26.0      0\n",
       "1     11        Restrict       30s    MALE     -26.0      0\n",
       "2     11        Restrict       50s    MALE     -26.0      0\n",
       "3     11        Restrict       <20  FEMALE     -26.0      0\n",
       "4     11        Restrict       30s  FEMALE     -26.0      0"
      ]
     },
     "execution_count": 37,
     "metadata": {},
     "output_type": "execute_result"
    }
   ],
   "source": [
    "data.head()"
   ]
  },
  {
   "cell_type": "code",
   "execution_count": 38,
   "metadata": {
    "ExecuteTime": {
     "end_time": "2021-04-13T21:31:22.397327Z",
     "start_time": "2021-04-13T21:31:22.356509Z"
    },
    "scrolled": true
   },
   "outputs": [
    {
     "data": {
      "text/plain": [
       "month              0\n",
       "special_measure    0\n",
       "Age_Group          0\n",
       "gender             0\n",
       "mobility           0\n",
       "fatal              0\n",
       "dtype: int64"
      ]
     },
     "execution_count": 38,
     "metadata": {},
     "output_type": "execute_result"
    }
   ],
   "source": [
    "data.isna().sum()"
   ]
  },
  {
   "cell_type": "code",
   "execution_count": 39,
   "metadata": {
    "ExecuteTime": {
     "end_time": "2021-04-13T21:31:22.464403Z",
     "start_time": "2021-04-13T21:31:22.429611Z"
    }
   },
   "outputs": [],
   "source": [
    "data = data[data['Age_Group']!=\"UNKNOWN\"]"
   ]
  },
  {
   "cell_type": "code",
   "execution_count": 40,
   "metadata": {
    "ExecuteTime": {
     "end_time": "2021-04-13T21:31:22.575019Z",
     "start_time": "2021-04-13T21:31:22.557669Z"
    }
   },
   "outputs": [
    {
     "data": {
      "text/plain": [
       "0      40s\n",
       "1      30s\n",
       "2      50s\n",
       "3      <20\n",
       "7      20s\n",
       "11     60s\n",
       "37     80s\n",
       "44     70s\n",
       "518    90+\n",
       "Name: Age_Group, dtype: object"
      ]
     },
     "execution_count": 40,
     "metadata": {},
     "output_type": "execute_result"
    }
   ],
   "source": [
    "data['Age_Group'].drop_duplicates()"
   ]
  },
  {
   "cell_type": "code",
   "execution_count": 41,
   "metadata": {
    "ExecuteTime": {
     "end_time": "2021-04-13T21:31:22.869232Z",
     "start_time": "2021-04-13T21:31:22.792736Z"
    }
   },
   "outputs": [
    {
     "name": "stderr",
     "output_type": "stream",
     "text": [
      "/Users/yi/anaconda3/lib/python3.7/site-packages/ipykernel_launcher.py:12: SettingWithCopyWarning: \n",
      "A value is trying to be set on a copy of a slice from a DataFrame.\n",
      "Try using .loc[row_indexer,col_indexer] = value instead\n",
      "\n",
      "See the caveats in the documentation: https://pandas.pydata.org/pandas-docs/stable/user_guide/indexing.html#returning-a-view-versus-a-copy\n",
      "  if sys.path[0] == '':\n"
     ]
    }
   ],
   "source": [
    "mapping_age = {\n",
    "    '<20':0,\n",
    "    '20s':1,\n",
    "    '30s':2,\n",
    "    '40s':3,\n",
    "    '50s':4,\n",
    "    '60s':5,\n",
    "    '70s':6,\n",
    "    '80s':7,\n",
    "    '90+':8\n",
    "}\n",
    "data['Age_Group'] = data['Age_Group'].map(lambda x : mapping_age[x])\n",
    "    "
   ]
  },
  {
   "cell_type": "code",
   "execution_count": 42,
   "metadata": {
    "ExecuteTime": {
     "end_time": "2021-04-13T21:31:23.021141Z",
     "start_time": "2021-04-13T21:31:22.938139Z"
    }
   },
   "outputs": [
    {
     "name": "stderr",
     "output_type": "stream",
     "text": [
      "/Users/yi/anaconda3/lib/python3.7/site-packages/ipykernel_launcher.py:7: SettingWithCopyWarning: \n",
      "A value is trying to be set on a copy of a slice from a DataFrame.\n",
      "Try using .loc[row_indexer,col_indexer] = value instead\n",
      "\n",
      "See the caveats in the documentation: https://pandas.pydata.org/pandas-docs/stable/user_guide/indexing.html#returning-a-view-versus-a-copy\n",
      "  import sys\n"
     ]
    }
   ],
   "source": [
    "mapping_month = {\n",
    "    11:1,\n",
    "    12:2,\n",
    "    1:3,\n",
    "    2:4\n",
    "}\n",
    "data['month'] = data['month'].map(lambda x : mapping_month[x])"
   ]
  },
  {
   "cell_type": "code",
   "execution_count": 44,
   "metadata": {
    "ExecuteTime": {
     "end_time": "2021-04-13T21:31:30.744492Z",
     "start_time": "2021-04-13T21:31:30.717864Z"
    }
   },
   "outputs": [
    {
     "ename": "KeyError",
     "evalue": "0",
     "output_type": "error",
     "traceback": [
      "\u001b[0;31m------------------------------------------------------------\u001b[0m",
      "\u001b[0;31mKeyError\u001b[0m                   Traceback (most recent call last)",
      "\u001b[0;32m<ipython-input-44-fb64a07f4caa>\u001b[0m in \u001b[0;36m<module>\u001b[0;34m\u001b[0m\n\u001b[1;32m      5\u001b[0m     \u001b[0;34m'GENDER DIVERSE'\u001b[0m\u001b[0;34m:\u001b[0m\u001b[0;36m3\u001b[0m\u001b[0;34m\u001b[0m\u001b[0;34m\u001b[0m\u001b[0m\n\u001b[1;32m      6\u001b[0m }\n\u001b[0;32m----> 7\u001b[0;31m \u001b[0mdata\u001b[0m\u001b[0;34m[\u001b[0m\u001b[0;34m'gender'\u001b[0m\u001b[0;34m]\u001b[0m \u001b[0;34m=\u001b[0m \u001b[0mdata\u001b[0m\u001b[0;34m[\u001b[0m\u001b[0;34m'gender'\u001b[0m\u001b[0;34m]\u001b[0m\u001b[0;34m.\u001b[0m\u001b[0mmap\u001b[0m\u001b[0;34m(\u001b[0m\u001b[0;32mlambda\u001b[0m \u001b[0mx\u001b[0m \u001b[0;34m:\u001b[0m \u001b[0mmapping_gender\u001b[0m\u001b[0;34m[\u001b[0m\u001b[0mx\u001b[0m\u001b[0;34m]\u001b[0m\u001b[0;34m)\u001b[0m\u001b[0;34m\u001b[0m\u001b[0;34m\u001b[0m\u001b[0m\n\u001b[0m",
      "\u001b[0;32m~/anaconda3/lib/python3.7/site-packages/pandas/core/series.py\u001b[0m in \u001b[0;36mmap\u001b[0;34m(self, arg, na_action)\u001b[0m\n\u001b[1;32m   3907\u001b[0m         \u001b[0mdtype\u001b[0m\u001b[0;34m:\u001b[0m \u001b[0mobject\u001b[0m\u001b[0;34m\u001b[0m\u001b[0;34m\u001b[0m\u001b[0m\n\u001b[1;32m   3908\u001b[0m         \"\"\"\n\u001b[0;32m-> 3909\u001b[0;31m         \u001b[0mnew_values\u001b[0m \u001b[0;34m=\u001b[0m \u001b[0msuper\u001b[0m\u001b[0;34m(\u001b[0m\u001b[0;34m)\u001b[0m\u001b[0;34m.\u001b[0m\u001b[0m_map_values\u001b[0m\u001b[0;34m(\u001b[0m\u001b[0marg\u001b[0m\u001b[0;34m,\u001b[0m \u001b[0mna_action\u001b[0m\u001b[0;34m=\u001b[0m\u001b[0mna_action\u001b[0m\u001b[0;34m)\u001b[0m\u001b[0;34m\u001b[0m\u001b[0;34m\u001b[0m\u001b[0m\n\u001b[0m\u001b[1;32m   3910\u001b[0m         return self._constructor(new_values, index=self.index).__finalize__(\n\u001b[1;32m   3911\u001b[0m             \u001b[0mself\u001b[0m\u001b[0;34m,\u001b[0m \u001b[0mmethod\u001b[0m\u001b[0;34m=\u001b[0m\u001b[0;34m\"map\"\u001b[0m\u001b[0;34m\u001b[0m\u001b[0;34m\u001b[0m\u001b[0m\n",
      "\u001b[0;32m~/anaconda3/lib/python3.7/site-packages/pandas/core/base.py\u001b[0m in \u001b[0;36m_map_values\u001b[0;34m(self, mapper, na_action)\u001b[0m\n\u001b[1;32m    935\u001b[0m \u001b[0;34m\u001b[0m\u001b[0m\n\u001b[1;32m    936\u001b[0m         \u001b[0;31m# mapper is a function\u001b[0m\u001b[0;34m\u001b[0m\u001b[0;34m\u001b[0m\u001b[0;34m\u001b[0m\u001b[0m\n\u001b[0;32m--> 937\u001b[0;31m         \u001b[0mnew_values\u001b[0m \u001b[0;34m=\u001b[0m \u001b[0mmap_f\u001b[0m\u001b[0;34m(\u001b[0m\u001b[0mvalues\u001b[0m\u001b[0;34m,\u001b[0m \u001b[0mmapper\u001b[0m\u001b[0;34m)\u001b[0m\u001b[0;34m\u001b[0m\u001b[0;34m\u001b[0m\u001b[0m\n\u001b[0m\u001b[1;32m    938\u001b[0m \u001b[0;34m\u001b[0m\u001b[0m\n\u001b[1;32m    939\u001b[0m         \u001b[0;32mreturn\u001b[0m \u001b[0mnew_values\u001b[0m\u001b[0;34m\u001b[0m\u001b[0;34m\u001b[0m\u001b[0m\n",
      "\u001b[0;32mpandas/_libs/lib.pyx\u001b[0m in \u001b[0;36mpandas._libs.lib.map_infer\u001b[0;34m()\u001b[0m\n",
      "\u001b[0;32m<ipython-input-44-fb64a07f4caa>\u001b[0m in \u001b[0;36m<lambda>\u001b[0;34m(x)\u001b[0m\n\u001b[1;32m      5\u001b[0m     \u001b[0;34m'GENDER DIVERSE'\u001b[0m\u001b[0;34m:\u001b[0m\u001b[0;36m3\u001b[0m\u001b[0;34m\u001b[0m\u001b[0;34m\u001b[0m\u001b[0m\n\u001b[1;32m      6\u001b[0m }\n\u001b[0;32m----> 7\u001b[0;31m \u001b[0mdata\u001b[0m\u001b[0;34m[\u001b[0m\u001b[0;34m'gender'\u001b[0m\u001b[0;34m]\u001b[0m \u001b[0;34m=\u001b[0m \u001b[0mdata\u001b[0m\u001b[0;34m[\u001b[0m\u001b[0;34m'gender'\u001b[0m\u001b[0;34m]\u001b[0m\u001b[0;34m.\u001b[0m\u001b[0mmap\u001b[0m\u001b[0;34m(\u001b[0m\u001b[0;32mlambda\u001b[0m \u001b[0mx\u001b[0m \u001b[0;34m:\u001b[0m \u001b[0mmapping_gender\u001b[0m\u001b[0;34m[\u001b[0m\u001b[0mx\u001b[0m\u001b[0;34m]\u001b[0m\u001b[0;34m)\u001b[0m\u001b[0;34m\u001b[0m\u001b[0;34m\u001b[0m\u001b[0m\n\u001b[0m",
      "\u001b[0;31mKeyError\u001b[0m: 0"
     ]
    }
   ],
   "source": [
    "mapping_gender = {\n",
    "    'MALE':0,\n",
    "    'FEMALE':1,\n",
    "    'UNSPECIFIED':2,\n",
    "    'GENDER DIVERSE':3\n",
    "}\n",
    "data['gender'] = data['gender'].map(lambda x : mapping_gender[x])\n"
   ]
  },
  {
   "cell_type": "code",
   "execution_count": 45,
   "metadata": {
    "ExecuteTime": {
     "end_time": "2021-04-13T21:31:34.526068Z",
     "start_time": "2021-04-13T21:31:34.344882Z"
    }
   },
   "outputs": [
    {
     "data": {
      "text/plain": [
       "12"
      ]
     },
     "execution_count": 45,
     "metadata": {},
     "output_type": "execute_result"
    }
   ],
   "source": [
    "data[data['gender']==3]['gender'].count()"
   ]
  },
  {
   "cell_type": "code",
   "execution_count": 46,
   "metadata": {
    "ExecuteTime": {
     "end_time": "2021-04-13T21:31:35.157235Z",
     "start_time": "2021-04-13T21:31:35.148652Z"
    }
   },
   "outputs": [
    {
     "data": {
      "text/plain": [
       "626"
      ]
     },
     "execution_count": 46,
     "metadata": {},
     "output_type": "execute_result"
    }
   ],
   "source": [
    "data[data['gender']==2]['gender'].count()"
   ]
  },
  {
   "cell_type": "code",
   "execution_count": 47,
   "metadata": {
    "ExecuteTime": {
     "end_time": "2021-04-13T21:31:35.773201Z",
     "start_time": "2021-04-13T21:31:35.753740Z"
    }
   },
   "outputs": [
    {
     "data": {
      "text/plain": [
       "73283"
      ]
     },
     "execution_count": 47,
     "metadata": {},
     "output_type": "execute_result"
    }
   ],
   "source": [
    "data[data['gender']==1]['gender'].count()"
   ]
  },
  {
   "cell_type": "code",
   "execution_count": 48,
   "metadata": {
    "ExecuteTime": {
     "end_time": "2021-04-13T21:31:36.561691Z",
     "start_time": "2021-04-13T21:31:36.546056Z"
    }
   },
   "outputs": [],
   "source": [
    "data = data[data['gender']<2]"
   ]
  },
  {
   "cell_type": "code",
   "execution_count": 49,
   "metadata": {
    "ExecuteTime": {
     "end_time": "2021-04-13T21:31:37.406203Z",
     "start_time": "2021-04-13T21:31:37.388151Z"
    }
   },
   "outputs": [
    {
     "data": {
      "text/plain": [
       "(147254, 5)"
      ]
     },
     "execution_count": 49,
     "metadata": {},
     "output_type": "execute_result"
    }
   ],
   "source": [
    "one_hot = pd.get_dummies(data.special_measure, prefix='special_measure')\n",
    "one_hot.shape"
   ]
  },
  {
   "cell_type": "code",
   "execution_count": 50,
   "metadata": {
    "ExecuteTime": {
     "end_time": "2021-04-13T21:31:38.352284Z",
     "start_time": "2021-04-13T21:31:38.346123Z"
    }
   },
   "outputs": [
    {
     "data": {
      "text/plain": [
       "(147254, 6)"
      ]
     },
     "execution_count": 50,
     "metadata": {},
     "output_type": "execute_result"
    }
   ],
   "source": [
    "data.shape"
   ]
  },
  {
   "cell_type": "code",
   "execution_count": 51,
   "metadata": {
    "ExecuteTime": {
     "end_time": "2021-04-13T21:31:39.022305Z",
     "start_time": "2021-04-13T21:31:39.001789Z"
    }
   },
   "outputs": [],
   "source": [
    "data = pd.concat([data,one_hot],axis=1)"
   ]
  },
  {
   "cell_type": "code",
   "execution_count": 52,
   "metadata": {
    "ExecuteTime": {
     "end_time": "2021-04-13T21:31:39.575616Z",
     "start_time": "2021-04-13T21:31:39.564798Z"
    }
   },
   "outputs": [],
   "source": [
    "data = data.drop(columns=['special_measure'])"
   ]
  },
  {
   "cell_type": "code",
   "execution_count": 53,
   "metadata": {
    "ExecuteTime": {
     "end_time": "2021-04-13T21:31:40.175418Z",
     "start_time": "2021-04-13T21:31:40.152961Z"
    }
   },
   "outputs": [
    {
     "data": {
      "text/html": [
       "<div>\n",
       "<style scoped>\n",
       "    .dataframe tbody tr th:only-of-type {\n",
       "        vertical-align: middle;\n",
       "    }\n",
       "\n",
       "    .dataframe tbody tr th {\n",
       "        vertical-align: top;\n",
       "    }\n",
       "\n",
       "    .dataframe thead th {\n",
       "        text-align: right;\n",
       "    }\n",
       "</style>\n",
       "<table border=\"1\" class=\"dataframe\">\n",
       "  <thead>\n",
       "    <tr style=\"text-align: right;\">\n",
       "      <th></th>\n",
       "      <th>month</th>\n",
       "      <th>Age_Group</th>\n",
       "      <th>gender</th>\n",
       "      <th>mobility</th>\n",
       "      <th>fatal</th>\n",
       "      <th>special_measure_Control</th>\n",
       "      <th>special_measure_Lockdown</th>\n",
       "      <th>special_measure_Prevent</th>\n",
       "      <th>special_measure_Protect</th>\n",
       "      <th>special_measure_Restrict</th>\n",
       "    </tr>\n",
       "  </thead>\n",
       "  <tbody>\n",
       "    <tr>\n",
       "      <th>0</th>\n",
       "      <td>1</td>\n",
       "      <td>3</td>\n",
       "      <td>0</td>\n",
       "      <td>-26.0</td>\n",
       "      <td>0</td>\n",
       "      <td>0</td>\n",
       "      <td>0</td>\n",
       "      <td>0</td>\n",
       "      <td>0</td>\n",
       "      <td>1</td>\n",
       "    </tr>\n",
       "    <tr>\n",
       "      <th>1</th>\n",
       "      <td>1</td>\n",
       "      <td>2</td>\n",
       "      <td>0</td>\n",
       "      <td>-26.0</td>\n",
       "      <td>0</td>\n",
       "      <td>0</td>\n",
       "      <td>0</td>\n",
       "      <td>0</td>\n",
       "      <td>0</td>\n",
       "      <td>1</td>\n",
       "    </tr>\n",
       "    <tr>\n",
       "      <th>2</th>\n",
       "      <td>1</td>\n",
       "      <td>4</td>\n",
       "      <td>0</td>\n",
       "      <td>-26.0</td>\n",
       "      <td>0</td>\n",
       "      <td>0</td>\n",
       "      <td>0</td>\n",
       "      <td>0</td>\n",
       "      <td>0</td>\n",
       "      <td>1</td>\n",
       "    </tr>\n",
       "    <tr>\n",
       "      <th>3</th>\n",
       "      <td>1</td>\n",
       "      <td>0</td>\n",
       "      <td>1</td>\n",
       "      <td>-26.0</td>\n",
       "      <td>0</td>\n",
       "      <td>0</td>\n",
       "      <td>0</td>\n",
       "      <td>0</td>\n",
       "      <td>0</td>\n",
       "      <td>1</td>\n",
       "    </tr>\n",
       "    <tr>\n",
       "      <th>4</th>\n",
       "      <td>1</td>\n",
       "      <td>2</td>\n",
       "      <td>1</td>\n",
       "      <td>-26.0</td>\n",
       "      <td>0</td>\n",
       "      <td>0</td>\n",
       "      <td>0</td>\n",
       "      <td>0</td>\n",
       "      <td>0</td>\n",
       "      <td>1</td>\n",
       "    </tr>\n",
       "    <tr>\n",
       "      <th>...</th>\n",
       "      <td>...</td>\n",
       "      <td>...</td>\n",
       "      <td>...</td>\n",
       "      <td>...</td>\n",
       "      <td>...</td>\n",
       "      <td>...</td>\n",
       "      <td>...</td>\n",
       "      <td>...</td>\n",
       "      <td>...</td>\n",
       "      <td>...</td>\n",
       "    </tr>\n",
       "    <tr>\n",
       "      <th>147899</th>\n",
       "      <td>4</td>\n",
       "      <td>0</td>\n",
       "      <td>1</td>\n",
       "      <td>-23.0</td>\n",
       "      <td>0</td>\n",
       "      <td>1</td>\n",
       "      <td>0</td>\n",
       "      <td>0</td>\n",
       "      <td>0</td>\n",
       "      <td>0</td>\n",
       "    </tr>\n",
       "    <tr>\n",
       "      <th>147900</th>\n",
       "      <td>4</td>\n",
       "      <td>1</td>\n",
       "      <td>0</td>\n",
       "      <td>-23.0</td>\n",
       "      <td>0</td>\n",
       "      <td>1</td>\n",
       "      <td>0</td>\n",
       "      <td>0</td>\n",
       "      <td>0</td>\n",
       "      <td>0</td>\n",
       "    </tr>\n",
       "    <tr>\n",
       "      <th>147901</th>\n",
       "      <td>4</td>\n",
       "      <td>1</td>\n",
       "      <td>1</td>\n",
       "      <td>-23.0</td>\n",
       "      <td>0</td>\n",
       "      <td>1</td>\n",
       "      <td>0</td>\n",
       "      <td>0</td>\n",
       "      <td>0</td>\n",
       "      <td>0</td>\n",
       "    </tr>\n",
       "    <tr>\n",
       "      <th>147902</th>\n",
       "      <td>4</td>\n",
       "      <td>4</td>\n",
       "      <td>1</td>\n",
       "      <td>-23.0</td>\n",
       "      <td>0</td>\n",
       "      <td>1</td>\n",
       "      <td>0</td>\n",
       "      <td>0</td>\n",
       "      <td>0</td>\n",
       "      <td>0</td>\n",
       "    </tr>\n",
       "    <tr>\n",
       "      <th>147903</th>\n",
       "      <td>4</td>\n",
       "      <td>2</td>\n",
       "      <td>0</td>\n",
       "      <td>-23.0</td>\n",
       "      <td>0</td>\n",
       "      <td>1</td>\n",
       "      <td>0</td>\n",
       "      <td>0</td>\n",
       "      <td>0</td>\n",
       "      <td>0</td>\n",
       "    </tr>\n",
       "  </tbody>\n",
       "</table>\n",
       "<p>147254 rows × 10 columns</p>\n",
       "</div>"
      ],
      "text/plain": [
       "        month  Age_Group  gender  mobility  fatal  special_measure_Control  \\\n",
       "0           1          3       0     -26.0      0                        0   \n",
       "1           1          2       0     -26.0      0                        0   \n",
       "2           1          4       0     -26.0      0                        0   \n",
       "3           1          0       1     -26.0      0                        0   \n",
       "4           1          2       1     -26.0      0                        0   \n",
       "...       ...        ...     ...       ...    ...                      ...   \n",
       "147899      4          0       1     -23.0      0                        1   \n",
       "147900      4          1       0     -23.0      0                        1   \n",
       "147901      4          1       1     -23.0      0                        1   \n",
       "147902      4          4       1     -23.0      0                        1   \n",
       "147903      4          2       0     -23.0      0                        1   \n",
       "\n",
       "        special_measure_Lockdown  special_measure_Prevent  \\\n",
       "0                              0                        0   \n",
       "1                              0                        0   \n",
       "2                              0                        0   \n",
       "3                              0                        0   \n",
       "4                              0                        0   \n",
       "...                          ...                      ...   \n",
       "147899                         0                        0   \n",
       "147900                         0                        0   \n",
       "147901                         0                        0   \n",
       "147902                         0                        0   \n",
       "147903                         0                        0   \n",
       "\n",
       "        special_measure_Protect  special_measure_Restrict  \n",
       "0                             0                         1  \n",
       "1                             0                         1  \n",
       "2                             0                         1  \n",
       "3                             0                         1  \n",
       "4                             0                         1  \n",
       "...                         ...                       ...  \n",
       "147899                        0                         0  \n",
       "147900                        0                         0  \n",
       "147901                        0                         0  \n",
       "147902                        0                         0  \n",
       "147903                        0                         0  \n",
       "\n",
       "[147254 rows x 10 columns]"
      ]
     },
     "execution_count": 53,
     "metadata": {},
     "output_type": "execute_result"
    }
   ],
   "source": [
    "data"
   ]
  },
  {
   "cell_type": "markdown",
   "metadata": {},
   "source": [
    "### normalisation"
   ]
  },
  {
   "cell_type": "code",
   "execution_count": 54,
   "metadata": {
    "ExecuteTime": {
     "end_time": "2021-04-13T21:31:43.001416Z",
     "start_time": "2021-04-13T21:31:42.869293Z"
    }
   },
   "outputs": [],
   "source": [
    "#normalize mobility\n",
    "data['mobility'] = (data['mobility']-data['mobility'].min())/(data['mobility'].max()-data['mobility'].min())\n",
    "data['Age_Group'] = (data['Age_Group']-data['Age_Group'].min())/(data['Age_Group'].max()-data['Age_Group'].min())\n",
    "data['month'] = (data['month']-data['month'].min())/(data['month'].max()-data['month'].min())"
   ]
  },
  {
   "cell_type": "code",
   "execution_count": null,
   "metadata": {},
   "outputs": [],
   "source": []
  },
  {
   "cell_type": "code",
   "execution_count": 55,
   "metadata": {
    "ExecuteTime": {
     "end_time": "2021-04-13T21:31:44.167057Z",
     "start_time": "2021-04-13T21:31:44.143853Z"
    }
   },
   "outputs": [
    {
     "data": {
      "text/html": [
       "<div>\n",
       "<style scoped>\n",
       "    .dataframe tbody tr th:only-of-type {\n",
       "        vertical-align: middle;\n",
       "    }\n",
       "\n",
       "    .dataframe tbody tr th {\n",
       "        vertical-align: top;\n",
       "    }\n",
       "\n",
       "    .dataframe thead th {\n",
       "        text-align: right;\n",
       "    }\n",
       "</style>\n",
       "<table border=\"1\" class=\"dataframe\">\n",
       "  <thead>\n",
       "    <tr style=\"text-align: right;\">\n",
       "      <th></th>\n",
       "      <th>month</th>\n",
       "      <th>Age_Group</th>\n",
       "      <th>gender</th>\n",
       "      <th>mobility</th>\n",
       "      <th>fatal</th>\n",
       "      <th>special_measure_Control</th>\n",
       "      <th>special_measure_Lockdown</th>\n",
       "      <th>special_measure_Prevent</th>\n",
       "      <th>special_measure_Protect</th>\n",
       "      <th>special_measure_Restrict</th>\n",
       "    </tr>\n",
       "  </thead>\n",
       "  <tbody>\n",
       "    <tr>\n",
       "      <th>0</th>\n",
       "      <td>0.0</td>\n",
       "      <td>0.375</td>\n",
       "      <td>0</td>\n",
       "      <td>0.084112</td>\n",
       "      <td>0</td>\n",
       "      <td>0</td>\n",
       "      <td>0</td>\n",
       "      <td>0</td>\n",
       "      <td>0</td>\n",
       "      <td>1</td>\n",
       "    </tr>\n",
       "    <tr>\n",
       "      <th>1</th>\n",
       "      <td>0.0</td>\n",
       "      <td>0.250</td>\n",
       "      <td>0</td>\n",
       "      <td>0.084112</td>\n",
       "      <td>0</td>\n",
       "      <td>0</td>\n",
       "      <td>0</td>\n",
       "      <td>0</td>\n",
       "      <td>0</td>\n",
       "      <td>1</td>\n",
       "    </tr>\n",
       "    <tr>\n",
       "      <th>2</th>\n",
       "      <td>0.0</td>\n",
       "      <td>0.500</td>\n",
       "      <td>0</td>\n",
       "      <td>0.084112</td>\n",
       "      <td>0</td>\n",
       "      <td>0</td>\n",
       "      <td>0</td>\n",
       "      <td>0</td>\n",
       "      <td>0</td>\n",
       "      <td>1</td>\n",
       "    </tr>\n",
       "    <tr>\n",
       "      <th>3</th>\n",
       "      <td>0.0</td>\n",
       "      <td>0.000</td>\n",
       "      <td>1</td>\n",
       "      <td>0.084112</td>\n",
       "      <td>0</td>\n",
       "      <td>0</td>\n",
       "      <td>0</td>\n",
       "      <td>0</td>\n",
       "      <td>0</td>\n",
       "      <td>1</td>\n",
       "    </tr>\n",
       "    <tr>\n",
       "      <th>4</th>\n",
       "      <td>0.0</td>\n",
       "      <td>0.250</td>\n",
       "      <td>1</td>\n",
       "      <td>0.084112</td>\n",
       "      <td>0</td>\n",
       "      <td>0</td>\n",
       "      <td>0</td>\n",
       "      <td>0</td>\n",
       "      <td>0</td>\n",
       "      <td>1</td>\n",
       "    </tr>\n",
       "    <tr>\n",
       "      <th>...</th>\n",
       "      <td>...</td>\n",
       "      <td>...</td>\n",
       "      <td>...</td>\n",
       "      <td>...</td>\n",
       "      <td>...</td>\n",
       "      <td>...</td>\n",
       "      <td>...</td>\n",
       "      <td>...</td>\n",
       "      <td>...</td>\n",
       "      <td>...</td>\n",
       "    </tr>\n",
       "    <tr>\n",
       "      <th>147899</th>\n",
       "      <td>1.0</td>\n",
       "      <td>0.000</td>\n",
       "      <td>1</td>\n",
       "      <td>0.093458</td>\n",
       "      <td>0</td>\n",
       "      <td>1</td>\n",
       "      <td>0</td>\n",
       "      <td>0</td>\n",
       "      <td>0</td>\n",
       "      <td>0</td>\n",
       "    </tr>\n",
       "    <tr>\n",
       "      <th>147900</th>\n",
       "      <td>1.0</td>\n",
       "      <td>0.125</td>\n",
       "      <td>0</td>\n",
       "      <td>0.093458</td>\n",
       "      <td>0</td>\n",
       "      <td>1</td>\n",
       "      <td>0</td>\n",
       "      <td>0</td>\n",
       "      <td>0</td>\n",
       "      <td>0</td>\n",
       "    </tr>\n",
       "    <tr>\n",
       "      <th>147901</th>\n",
       "      <td>1.0</td>\n",
       "      <td>0.125</td>\n",
       "      <td>1</td>\n",
       "      <td>0.093458</td>\n",
       "      <td>0</td>\n",
       "      <td>1</td>\n",
       "      <td>0</td>\n",
       "      <td>0</td>\n",
       "      <td>0</td>\n",
       "      <td>0</td>\n",
       "    </tr>\n",
       "    <tr>\n",
       "      <th>147902</th>\n",
       "      <td>1.0</td>\n",
       "      <td>0.500</td>\n",
       "      <td>1</td>\n",
       "      <td>0.093458</td>\n",
       "      <td>0</td>\n",
       "      <td>1</td>\n",
       "      <td>0</td>\n",
       "      <td>0</td>\n",
       "      <td>0</td>\n",
       "      <td>0</td>\n",
       "    </tr>\n",
       "    <tr>\n",
       "      <th>147903</th>\n",
       "      <td>1.0</td>\n",
       "      <td>0.250</td>\n",
       "      <td>0</td>\n",
       "      <td>0.093458</td>\n",
       "      <td>0</td>\n",
       "      <td>1</td>\n",
       "      <td>0</td>\n",
       "      <td>0</td>\n",
       "      <td>0</td>\n",
       "      <td>0</td>\n",
       "    </tr>\n",
       "  </tbody>\n",
       "</table>\n",
       "<p>147254 rows × 10 columns</p>\n",
       "</div>"
      ],
      "text/plain": [
       "        month  Age_Group  gender  mobility  fatal  special_measure_Control  \\\n",
       "0         0.0      0.375       0  0.084112      0                        0   \n",
       "1         0.0      0.250       0  0.084112      0                        0   \n",
       "2         0.0      0.500       0  0.084112      0                        0   \n",
       "3         0.0      0.000       1  0.084112      0                        0   \n",
       "4         0.0      0.250       1  0.084112      0                        0   \n",
       "...       ...        ...     ...       ...    ...                      ...   \n",
       "147899    1.0      0.000       1  0.093458      0                        1   \n",
       "147900    1.0      0.125       0  0.093458      0                        1   \n",
       "147901    1.0      0.125       1  0.093458      0                        1   \n",
       "147902    1.0      0.500       1  0.093458      0                        1   \n",
       "147903    1.0      0.250       0  0.093458      0                        1   \n",
       "\n",
       "        special_measure_Lockdown  special_measure_Prevent  \\\n",
       "0                              0                        0   \n",
       "1                              0                        0   \n",
       "2                              0                        0   \n",
       "3                              0                        0   \n",
       "4                              0                        0   \n",
       "...                          ...                      ...   \n",
       "147899                         0                        0   \n",
       "147900                         0                        0   \n",
       "147901                         0                        0   \n",
       "147902                         0                        0   \n",
       "147903                         0                        0   \n",
       "\n",
       "        special_measure_Protect  special_measure_Restrict  \n",
       "0                             0                         1  \n",
       "1                             0                         1  \n",
       "2                             0                         1  \n",
       "3                             0                         1  \n",
       "4                             0                         1  \n",
       "...                         ...                       ...  \n",
       "147899                        0                         0  \n",
       "147900                        0                         0  \n",
       "147901                        0                         0  \n",
       "147902                        0                         0  \n",
       "147903                        0                         0  \n",
       "\n",
       "[147254 rows x 10 columns]"
      ]
     },
     "execution_count": 55,
     "metadata": {},
     "output_type": "execute_result"
    }
   ],
   "source": [
    "data"
   ]
  },
  {
   "cell_type": "code",
   "execution_count": 56,
   "metadata": {
    "ExecuteTime": {
     "end_time": "2021-04-13T21:31:45.102202Z",
     "start_time": "2021-04-13T21:31:45.080095Z"
    }
   },
   "outputs": [],
   "source": [
    "if not os.path.exists('saves'):\n",
    "    os.makedirs('saves')\n",
    "pickle.dump( data, open( \"./saves/prereocessed_data.p\", \"wb\" ) )"
   ]
  },
  {
   "cell_type": "code",
   "execution_count": 57,
   "metadata": {
    "ExecuteTime": {
     "end_time": "2021-04-13T21:31:51.413485Z",
     "start_time": "2021-04-13T21:31:51.400508Z"
    }
   },
   "outputs": [],
   "source": [
    "data = pickle.load( open( \"./saves/prereocessed_data.p\", \"rb\" ) )"
   ]
  },
  {
   "cell_type": "code",
   "execution_count": 58,
   "metadata": {
    "ExecuteTime": {
     "end_time": "2021-04-13T21:31:52.188917Z",
     "start_time": "2021-04-13T21:31:51.934791Z"
    }
   },
   "outputs": [
    {
     "data": {
      "text/plain": [
       "<matplotlib.axes._subplots.AxesSubplot at 0x7fcdcc1f0690>"
      ]
     },
     "execution_count": 58,
     "metadata": {},
     "output_type": "execute_result"
    },
    {
     "data": {
      "image/png": "[encoded data removed]",
      "text/plain": [
       "<Figure size 432x288 with 1 Axes>"
      ]
     },
     "metadata": {
      "needs_background": "light"
     },
     "output_type": "display_data"
    }
   ],
   "source": [
    "data.boxplot(column=['mobility'])"
   ]
  },
  {
   "cell_type": "code",
   "execution_count": 59,
   "metadata": {
    "ExecuteTime": {
     "end_time": "2021-04-13T21:31:53.128766Z",
     "start_time": "2021-04-13T21:31:52.866938Z"
    }
   },
   "outputs": [
    {
     "data": {
      "text/plain": [
       "<matplotlib.axes._subplots.AxesSubplot at 0x7fcdcc741ed0>"
      ]
     },
     "execution_count": 59,
     "metadata": {},
     "output_type": "execute_result"
    },
    {
     "data": {
      "image/png": "[encoded data removed]",
      "text/plain": [
       "<Figure size 432x288 with 1 Axes>"
      ]
     },
     "metadata": {
      "needs_background": "light"
     },
     "output_type": "display_data"
    }
   ],
   "source": [
    "data.boxplot(column=['Age_Group'])"
   ]
  },
  {
   "cell_type": "markdown",
   "metadata": {},
   "source": [
    "### undersampling"
   ]
  },
  {
   "cell_type": "code",
   "execution_count": null,
   "metadata": {
    "ExecuteTime": {
     "end_time": "2021-04-09T19:10:20.194804Z",
     "start_time": "2021-04-09T19:10:20.173466Z"
    }
   },
   "outputs": [],
   "source": []
  },
  {
   "cell_type": "code",
   "execution_count": 61,
   "metadata": {
    "ExecuteTime": {
     "end_time": "2021-04-13T21:32:03.360581Z",
     "start_time": "2021-04-13T21:32:03.287406Z"
    }
   },
   "outputs": [],
   "source": [
    "shuffle_unresolved = shuffle(data[data['fatal']==0])\n",
    "shuffle_resolved = shuffle(data[data['fatal']==1])\n",
    "shuffle_resolved = shuffle_resolved[:len(shuffle_unresolved)]\n",
    "undersampled_data = shuffle_resolved.append(shuffle_unresolved)\n",
    "undersampled_data = shuffle(undersampled_data)"
   ]
  },
  {
   "cell_type": "code",
   "execution_count": 62,
   "metadata": {
    "ExecuteTime": {
     "end_time": "2021-04-13T21:32:05.582466Z",
     "start_time": "2021-04-13T21:32:05.574821Z"
    }
   },
   "outputs": [
    {
     "data": {
      "text/plain": [
       "147254"
      ]
     },
     "execution_count": 62,
     "metadata": {},
     "output_type": "execute_result"
    }
   ],
   "source": [
    "len(undersampled_data)"
   ]
  },
  {
   "cell_type": "code",
   "execution_count": 63,
   "metadata": {
    "ExecuteTime": {
     "end_time": "2021-04-13T21:32:11.693860Z",
     "start_time": "2021-04-13T21:32:11.681892Z"
    }
   },
   "outputs": [],
   "source": [
    "if not os.path.exists('saves'):\n",
    "    os.makedirs('saves')\n",
    "pickle.dump( undersampled_data, open( \"./saves/undersampled_data.p\", \"wb\" ) )"
   ]
  },
  {
   "cell_type": "code",
   "execution_count": 64,
   "metadata": {
    "ExecuteTime": {
     "end_time": "2021-04-13T21:32:12.607314Z",
     "start_time": "2021-04-13T21:32:12.527306Z"
    }
   },
   "outputs": [
    {
     "data": {
      "text/html": [
       "<div>\n",
       "<style scoped>\n",
       "    .dataframe tbody tr th:only-of-type {\n",
       "        vertical-align: middle;\n",
       "    }\n",
       "\n",
       "    .dataframe tbody tr th {\n",
       "        vertical-align: top;\n",
       "    }\n",
       "\n",
       "    .dataframe thead th {\n",
       "        text-align: right;\n",
       "    }\n",
       "</style>\n",
       "<table border=\"1\" class=\"dataframe\">\n",
       "  <thead>\n",
       "    <tr style=\"text-align: right;\">\n",
       "      <th></th>\n",
       "      <th>month</th>\n",
       "      <th>Age_Group</th>\n",
       "      <th>gender</th>\n",
       "      <th>mobility</th>\n",
       "      <th>fatal</th>\n",
       "      <th>special_measure_Control</th>\n",
       "      <th>special_measure_Lockdown</th>\n",
       "      <th>special_measure_Prevent</th>\n",
       "      <th>special_measure_Protect</th>\n",
       "      <th>special_measure_Restrict</th>\n",
       "    </tr>\n",
       "  </thead>\n",
       "  <tbody>\n",
       "    <tr>\n",
       "      <th>count</th>\n",
       "      <td>147254.000000</td>\n",
       "      <td>147254.000000</td>\n",
       "      <td>147254.000000</td>\n",
       "      <td>147254.000000</td>\n",
       "      <td>147254.000000</td>\n",
       "      <td>147254.000000</td>\n",
       "      <td>147254.000000</td>\n",
       "      <td>147254.000000</td>\n",
       "      <td>147254.000000</td>\n",
       "      <td>147254.000000</td>\n",
       "    </tr>\n",
       "    <tr>\n",
       "      <th>mean</th>\n",
       "      <td>0.479213</td>\n",
       "      <td>0.331319</td>\n",
       "      <td>0.497664</td>\n",
       "      <td>0.154145</td>\n",
       "      <td>0.012753</td>\n",
       "      <td>0.185890</td>\n",
       "      <td>0.217977</td>\n",
       "      <td>0.223213</td>\n",
       "      <td>0.122333</td>\n",
       "      <td>0.250587</td>\n",
       "    </tr>\n",
       "    <tr>\n",
       "      <th>std</th>\n",
       "      <td>0.326122</td>\n",
       "      <td>0.252127</td>\n",
       "      <td>0.499996</td>\n",
       "      <td>0.108316</td>\n",
       "      <td>0.112209</td>\n",
       "      <td>0.389019</td>\n",
       "      <td>0.412873</td>\n",
       "      <td>0.416401</td>\n",
       "      <td>0.327671</td>\n",
       "      <td>0.433353</td>\n",
       "    </tr>\n",
       "    <tr>\n",
       "      <th>min</th>\n",
       "      <td>0.000000</td>\n",
       "      <td>0.000000</td>\n",
       "      <td>0.000000</td>\n",
       "      <td>0.000000</td>\n",
       "      <td>0.000000</td>\n",
       "      <td>0.000000</td>\n",
       "      <td>0.000000</td>\n",
       "      <td>0.000000</td>\n",
       "      <td>0.000000</td>\n",
       "      <td>0.000000</td>\n",
       "    </tr>\n",
       "    <tr>\n",
       "      <th>25%</th>\n",
       "      <td>0.333333</td>\n",
       "      <td>0.125000</td>\n",
       "      <td>0.000000</td>\n",
       "      <td>0.084112</td>\n",
       "      <td>0.000000</td>\n",
       "      <td>0.000000</td>\n",
       "      <td>0.000000</td>\n",
       "      <td>0.000000</td>\n",
       "      <td>0.000000</td>\n",
       "      <td>0.000000</td>\n",
       "    </tr>\n",
       "    <tr>\n",
       "      <th>50%</th>\n",
       "      <td>0.333333</td>\n",
       "      <td>0.250000</td>\n",
       "      <td>0.000000</td>\n",
       "      <td>0.124611</td>\n",
       "      <td>0.000000</td>\n",
       "      <td>0.000000</td>\n",
       "      <td>0.000000</td>\n",
       "      <td>0.000000</td>\n",
       "      <td>0.000000</td>\n",
       "      <td>0.000000</td>\n",
       "    </tr>\n",
       "    <tr>\n",
       "      <th>75%</th>\n",
       "      <td>0.666667</td>\n",
       "      <td>0.500000</td>\n",
       "      <td>1.000000</td>\n",
       "      <td>0.193146</td>\n",
       "      <td>0.000000</td>\n",
       "      <td>0.000000</td>\n",
       "      <td>0.000000</td>\n",
       "      <td>0.000000</td>\n",
       "      <td>0.000000</td>\n",
       "      <td>1.000000</td>\n",
       "    </tr>\n",
       "    <tr>\n",
       "      <th>max</th>\n",
       "      <td>1.000000</td>\n",
       "      <td>1.000000</td>\n",
       "      <td>1.000000</td>\n",
       "      <td>1.000000</td>\n",
       "      <td>1.000000</td>\n",
       "      <td>1.000000</td>\n",
       "      <td>1.000000</td>\n",
       "      <td>1.000000</td>\n",
       "      <td>1.000000</td>\n",
       "      <td>1.000000</td>\n",
       "    </tr>\n",
       "  </tbody>\n",
       "</table>\n",
       "</div>"
      ],
      "text/plain": [
       "               month      Age_Group         gender       mobility  \\\n",
       "count  147254.000000  147254.000000  147254.000000  147254.000000   \n",
       "mean        0.479213       0.331319       0.497664       0.154145   \n",
       "std         0.326122       0.252127       0.499996       0.108316   \n",
       "min         0.000000       0.000000       0.000000       0.000000   \n",
       "25%         0.333333       0.125000       0.000000       0.084112   \n",
       "50%         0.333333       0.250000       0.000000       0.124611   \n",
       "75%         0.666667       0.500000       1.000000       0.193146   \n",
       "max         1.000000       1.000000       1.000000       1.000000   \n",
       "\n",
       "               fatal  special_measure_Control  special_measure_Lockdown  \\\n",
       "count  147254.000000            147254.000000             147254.000000   \n",
       "mean        0.012753                 0.185890                  0.217977   \n",
       "std         0.112209                 0.389019                  0.412873   \n",
       "min         0.000000                 0.000000                  0.000000   \n",
       "25%         0.000000                 0.000000                  0.000000   \n",
       "50%         0.000000                 0.000000                  0.000000   \n",
       "75%         0.000000                 0.000000                  0.000000   \n",
       "max         1.000000                 1.000000                  1.000000   \n",
       "\n",
       "       special_measure_Prevent  special_measure_Protect  \\\n",
       "count            147254.000000            147254.000000   \n",
       "mean                  0.223213                 0.122333   \n",
       "std                   0.416401                 0.327671   \n",
       "min                   0.000000                 0.000000   \n",
       "25%                   0.000000                 0.000000   \n",
       "50%                   0.000000                 0.000000   \n",
       "75%                   0.000000                 0.000000   \n",
       "max                   1.000000                 1.000000   \n",
       "\n",
       "       special_measure_Restrict  \n",
       "count             147254.000000  \n",
       "mean                   0.250587  \n",
       "std                    0.433353  \n",
       "min                    0.000000  \n",
       "25%                    0.000000  \n",
       "50%                    0.000000  \n",
       "75%                    1.000000  \n",
       "max                    1.000000  "
      ]
     },
     "execution_count": 64,
     "metadata": {},
     "output_type": "execute_result"
    }
   ],
   "source": [
    "undersampled_data.describe()"
   ]
  },
  {
   "cell_type": "code",
   "execution_count": 65,
   "metadata": {
    "ExecuteTime": {
     "end_time": "2021-04-13T21:32:18.249589Z",
     "start_time": "2021-04-13T21:32:16.655627Z"
    }
   },
   "outputs": [
    {
     "data": {
      "text/plain": [
       "<matplotlib.axes._subplots.AxesSubplot at 0x7fcdc9c17cd0>"
      ]
     },
     "execution_count": 65,
     "metadata": {},
     "output_type": "execute_result"
    },
    {
     "data": {
      "image/png": "[encoded data removed]",
      "text/plain": [
       "<Figure size 432x288 with 1 Axes>"
      ]
     },
     "metadata": {
      "needs_background": "light"
     },
     "output_type": "display_data"
    }
   ],
   "source": [
    "undersampled_data.boxplot(column=undersampled_data.columns.values.tolist())"
   ]
  },
  {
   "cell_type": "markdown",
   "metadata": {},
   "source": [
    "# Part B"
   ]
  },
  {
   "cell_type": "markdown",
   "metadata": {},
   "source": [
    "## Decision Tree"
   ]
  },
  {
   "cell_type": "code",
   "execution_count": 2,
   "metadata": {
    "ExecuteTime": {
     "end_time": "2021-04-10T14:55:09.282413Z",
     "start_time": "2021-04-10T14:55:09.274405Z"
    }
   },
   "outputs": [],
   "source": [
    "undersampled_data = pickle.load( open( \"./saves/undersampled_data.p\", \"rb\" ) )"
   ]
  },
  {
   "cell_type": "code",
   "execution_count": 3,
   "metadata": {
    "ExecuteTime": {
     "end_time": "2021-04-10T14:55:09.296378Z",
     "start_time": "2021-04-10T14:55:09.287688Z"
    }
   },
   "outputs": [],
   "source": [
    "data = pickle.load( open( \"./saves/undersampled_data.p\", \"rb\" ) )"
   ]
  },
  {
   "cell_type": "code",
   "execution_count": 66,
   "metadata": {
    "ExecuteTime": {
     "end_time": "2021-04-13T21:32:59.839592Z",
     "start_time": "2021-04-13T21:32:59.831305Z"
    }
   },
   "outputs": [
    {
     "data": {
      "text/plain": [
       "['month',\n",
       " 'Age_Group',\n",
       " 'gender',\n",
       " 'mobility',\n",
       " 'special_measure_Control',\n",
       " 'special_measure_Lockdown',\n",
       " 'special_measure_Prevent',\n",
       " 'special_measure_Protect',\n",
       " 'special_measure_Restrict']"
      ]
     },
     "execution_count": 66,
     "metadata": {},
     "output_type": "execute_result"
    }
   ],
   "source": [
    "column_list = data.columns.values.tolist()\n",
    "column_list.remove('fatal')\n",
    "column_list"
   ]
  },
  {
   "cell_type": "code",
   "execution_count": 67,
   "metadata": {
    "ExecuteTime": {
     "end_time": "2021-04-13T21:33:00.482405Z",
     "start_time": "2021-04-13T21:33:00.427559Z"
    }
   },
   "outputs": [],
   "source": [
    "# split the train and test data\n",
    "X = undersampled_data[column_list]\n",
    "y = undersampled_data['fatal']\n",
    "X_train, X_test, y_train, y_test = train_test_split(X, y, test_size = 0.25, random_state=1)"
   ]
  },
  {
   "cell_type": "code",
   "execution_count": 68,
   "metadata": {
    "ExecuteTime": {
     "end_time": "2021-04-13T21:33:01.525006Z",
     "start_time": "2021-04-13T21:33:01.211089Z"
    }
   },
   "outputs": [
    {
     "name": "stdout",
     "output_type": "stream",
     "text": [
      "|--- Age_Group <= 0.56\n",
      "|   |--- class: 0\n",
      "|--- Age_Group >  0.56\n",
      "|   |--- Age_Group <= 0.69\n",
      "|   |   |--- class: 0\n",
      "|   |--- Age_Group >  0.69\n",
      "|   |   |--- class: 1\n",
      "\n"
     ]
    },
    {
     "data": {
      "text/plain": [
       "[Text(133.92000000000002, 181.2, 'X[1] <= 0.562\\nentropy = 1.0\\nsamples = 110440\\nvalue = [55220.0, 55220.0]'),\n",
       " Text(66.96000000000001, 108.72, 'entropy = 0.308\\nsamples = 90032\\nvalue = [45556.703, 2657.859]'),\n",
       " Text(200.88000000000002, 108.72, 'X[1] <= 0.688\\nentropy = 0.623\\nsamples = 20408\\nvalue = [9663.297, 52562.141]'),\n",
       " Text(133.92000000000002, 36.23999999999998, 'entropy = 1.0\\nsamples = 10083\\nvalue = [5042.051, 4998.362]'),\n",
       " Text(267.84000000000003, 36.23999999999998, 'entropy = 0.432\\nsamples = 10325\\nvalue = [4621.247, 47563.779]')]"
      ]
     },
     "execution_count": 68,
     "metadata": {},
     "output_type": "execute_result"
    },
    {
     "data": {
      "image/png": "[encoded data removed]",
      "text/plain": [
       "<Figure size 432x288 with 1 Axes>"
      ]
     },
     "metadata": {
      "needs_background": "light"
     },
     "output_type": "display_data"
    }
   ],
   "source": [
    "#Train the data\n",
    "decision_tree = DecisionTreeClassifier(class_weight='balanced',criterion='entropy',max_depth=4,\n",
    "            max_features=None,max_leaf_nodes=3,min_impurity_decrease=1e-04,min_samples_leaf=1,\n",
    "            min_samples_split=2,min_weight_fraction_leaf=0.0,random_state=0,splitter='best')\n",
    "start = time.time()\n",
    "decision_tree = decision_tree.fit(X_train, y_train)\n",
    "time_took = time.time()-start\n",
    "#show the decision condiction and the structure of the tree\n",
    "final_condiction= export_text(decision_tree, feature_names=column_list)\n",
    "print(final_condiction)\n",
    "tree.plot_tree(decision_tree) "
   ]
  },
  {
   "cell_type": "code",
   "execution_count": 69,
   "metadata": {
    "ExecuteTime": {
     "end_time": "2021-04-13T21:33:04.667689Z",
     "start_time": "2021-04-13T21:33:04.561912Z"
    }
   },
   "outputs": [
    {
     "name": "stdout",
     "output_type": "stream",
     "text": [
      "[[33336  2992]\n",
      " [   66   420]]\n",
      "              precision    recall  f1-score   support\n",
      "\n",
      "           0       1.00      0.92      0.96     36328\n",
      "           1       0.12      0.86      0.22       486\n",
      "\n",
      "    accuracy                           0.92     36814\n",
      "   macro avg       0.56      0.89      0.59     36814\n",
      "weighted avg       0.99      0.92      0.95     36814\n",
      "\n",
      "Time to Train 0.09 s\n"
     ]
    }
   ],
   "source": [
    "#eveulate the result\n",
    "y_pred_tree=decision_tree.predict(X_test)\n",
    "print (confusion_matrix(y_test,y_pred_tree))\n",
    "print(classification_report(y_test,y_pred_tree))\n",
    "print(\"Time to Train {:.2f} s\".format(time_took))"
   ]
  },
  {
   "cell_type": "markdown",
   "metadata": {},
   "source": [
    " ## Gradient Boosting  "
   ]
  },
  {
   "cell_type": "code",
   "execution_count": 70,
   "metadata": {
    "ExecuteTime": {
     "end_time": "2021-04-13T21:33:11.468398Z",
     "start_time": "2021-04-13T21:33:08.267120Z"
    }
   },
   "outputs": [],
   "source": [
    "#find the best learning rate\n",
    "lr_list = [0.05, 0.075, 0.1, 0.25, 0.5, 0.75, 1]\n",
    "best_rate=lr_list[0]\n",
    "best_accuracy=0\n",
    "for learning_rate in lr_list:\n",
    "    gradientBoosting = GradientBoostingClassifier(n_estimators=20, learning_rate=learning_rate, max_features=2, max_depth=2, random_state=0)\n",
    "    gradientBoosting.fit(X_train, y_train)\n",
    "    if gradientBoosting.score(X_test, y_test)>best_accuracy:\n",
    "        best_accuracy=gradientBoosting.score(X_test, y_test)\n",
    "        best_rate=learning_rate"
   ]
  },
  {
   "cell_type": "code",
   "execution_count": 71,
   "metadata": {
    "ExecuteTime": {
     "end_time": "2021-04-13T21:33:12.060749Z",
     "start_time": "2021-04-13T21:33:11.470896Z"
    }
   },
   "outputs": [
    {
     "name": "stdout",
     "output_type": "stream",
     "text": [
      "[[35121  1207]\n",
      " [  481     5]]\n",
      "              precision    recall  f1-score   support\n",
      "\n",
      "           0       0.99      0.97      0.98     36328\n",
      "           1       0.00      0.01      0.01       486\n",
      "\n",
      "    accuracy                           0.95     36814\n",
      "   macro avg       0.50      0.49      0.49     36814\n",
      "weighted avg       0.97      0.95      0.96     36814\n",
      "\n",
      "Time to Train 0.50 s\n"
     ]
    }
   ],
   "source": [
    "#Using the best learning rate to train the model\n",
    "gradientBoosting = GradientBoostingClassifier(n_estimators=20, learning_rate=best_accuracy, max_features=2, max_depth=2, random_state=0)\n",
    "start = time.time()\n",
    "gradientBoosting.fit(X_train, y_train)\n",
    "time_took = time.time()-start\n",
    "#eveulate the result\n",
    "y_pred_boosting = gradientBoosting.predict(X_test)\n",
    "print (confusion_matrix(y_test,y_pred_boosting))\n",
    "print(classification_report(y_test,y_pred_boosting))\n",
    "print(\"Time to Train {:.2f} s\".format(time_took))"
   ]
  },
  {
   "cell_type": "markdown",
   "metadata": {},
   "source": [
    " ## Random Forest"
   ]
  },
  {
   "cell_type": "code",
   "execution_count": 72,
   "metadata": {
    "ExecuteTime": {
     "end_time": "2021-04-13T21:33:17.475911Z",
     "start_time": "2021-04-13T21:33:17.254046Z"
    }
   },
   "outputs": [],
   "source": [
    "#training part\n",
    "randomForest = RandomForestClassifier(n_estimators=10, criterion = 'entropy', max_depth=4, random_state=0,\n",
    "                                      max_features='sqrt',max_leaf_nodes=3,min_impurity_decrease=1e-04,\n",
    "                                      min_samples_leaf=1,min_samples_split=2)\n",
    "start = time.time()\n",
    "randomForest.fit(X_train,y_train)\n",
    "time_took = time.time()-start\n",
    "#show the decision condiction and the structure of the tree\n",
    "\n",
    "#Estimators = classifier.estimators_\n",
    "#for index, model in enumerate(Estimators):\n",
    "    #each_condiction= export_text(model, feature_names=['Age_Group', 'Client_Gender', 'mobility', 'Special_Measures_Control', 'Special_Measures_Lockdown', 'Special_Measures_Protect', 'Special_Measures_Restrict'])\n",
    "    #print(each_condiction)\n"
   ]
  },
  {
   "cell_type": "code",
   "execution_count": 73,
   "metadata": {
    "ExecuteTime": {
     "end_time": "2021-04-13T21:33:17.939364Z",
     "start_time": "2021-04-13T21:33:17.807927Z"
    }
   },
   "outputs": [
    {
     "name": "stdout",
     "output_type": "stream",
     "text": [
      "[[36328     0]\n",
      " [  486     0]]\n",
      "              precision    recall  f1-score   support\n",
      "\n",
      "           0       0.99      1.00      0.99     36328\n",
      "           1       0.00      0.00      0.00       486\n",
      "\n",
      "    accuracy                           0.99     36814\n",
      "   macro avg       0.49      0.50      0.50     36814\n",
      "weighted avg       0.97      0.99      0.98     36814\n",
      "\n",
      "Time to Train 0.22 s\n"
     ]
    },
    {
     "name": "stderr",
     "output_type": "stream",
     "text": [
      "/Users/yi/anaconda3/lib/python3.7/site-packages/sklearn/metrics/_classification.py:1272: UndefinedMetricWarning: Precision and F-score are ill-defined and being set to 0.0 in labels with no predicted samples. Use `zero_division` parameter to control this behavior.\n",
      "  _warn_prf(average, modifier, msg_start, len(result))\n"
     ]
    }
   ],
   "source": [
    "#eveulate the result\n",
    "y_pred_forest = randomForest.predict(X_test)\n",
    "print (confusion_matrix(y_test,y_pred_forest))\n",
    "print(classification_report(y_test,y_pred_forest))\n",
    "print(\"Time to Train {:.2f} s\".format(time_took))"
   ]
  },
  {
   "cell_type": "markdown",
   "metadata": {
    "ExecuteTime": {
     "end_time": "2021-04-10T14:27:06.945114Z",
     "start_time": "2021-04-10T14:27:06.940435Z"
    }
   },
   "source": [
    " ## Part C\n",
    " "
   ]
  },
  {
   "cell_type": "code",
   "execution_count": 74,
   "metadata": {
    "ExecuteTime": {
     "end_time": "2021-04-13T21:33:29.147257Z",
     "start_time": "2021-04-13T21:33:23.702623Z"
    }
   },
   "outputs": [
    {
     "name": "stdout",
     "output_type": "stream",
     "text": [
      "[[36328     0]\n",
      " [  486     0]]\n",
      "              precision    recall  f1-score   support\n",
      "\n",
      "           0       0.99      1.00      0.99     36328\n",
      "           1       0.00      0.00      0.00       486\n",
      "\n",
      "    accuracy                           0.99     36814\n",
      "   macro avg       0.49      0.50      0.50     36814\n",
      "weighted avg       0.97      0.99      0.98     36814\n",
      "\n"
     ]
    },
    {
     "name": "stderr",
     "output_type": "stream",
     "text": [
      "/Users/yi/anaconda3/lib/python3.7/site-packages/sklearn/metrics/_classification.py:1272: UndefinedMetricWarning: Precision and F-score are ill-defined and being set to 0.0 in labels with no predicted samples. Use `zero_division` parameter to control this behavior.\n",
      "  _warn_prf(average, modifier, msg_start, len(result))\n"
     ]
    }
   ],
   "source": [
    "from sklearn import svm\n",
    "clf_svm = svm.SVC(kernel=\"linear\", random_state=0, max_iter=3500).fit(X_train, y_train)  \n",
    "\n",
    "#eveulate the result\n",
    "y_pred_svm = clf_svm.predict(X_test)\n",
    "print (confusion_matrix(y_test,y_pred_svm))\n",
    "print(classification_report(y_test,y_pred_svm))"
   ]
  },
  {
   "cell_type": "code",
   "execution_count": null,
   "metadata": {},
   "outputs": [],
   "source": []
  },
  {
   "cell_type": "code",
   "execution_count": null,
   "metadata": {},
   "outputs": [],
   "source": []
  },
  {
   "cell_type": "code",
   "execution_count": null,
   "metadata": {},
   "outputs": [],
   "source": []
  },
  {
   "cell_type": "code",
   "execution_count": null,
   "metadata": {},
   "outputs": [],
   "source": []
  }
 ],
 "metadata": {
  "kernelspec": {
   "display_name": "Python 3",
   "language": "python",
   "name": "python3"
  },
  "language_info": {
   "codemirror_mode": {
    "name": "ipython",
    "version": 3
   },
   "file_extension": ".py",
   "mimetype": "text/x-python",
   "name": "python",
   "nbconvert_exporter": "python",
   "pygments_lexer": "ipython3",
   "version": "3.7.5"
  }
 },
 "nbformat": 4,
 "nbformat_minor": 2
}
