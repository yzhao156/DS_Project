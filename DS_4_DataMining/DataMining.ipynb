{
 "cells": [
  {
   "cell_type": "code",
   "execution_count": 1,
   "metadata": {
    "ExecuteTime": {
     "end_time": "2021-04-13T21:56:07.203120Z",
     "start_time": "2021-04-13T21:56:07.196710Z"
    }
   },
   "outputs": [
    {
     "name": "stderr",
     "output_type": "stream",
     "text": [
      "/Applications/anaconda3/lib/python3.7/site-packages/psycopg2/__init__.py:144: UserWarning: The psycopg2 wheel package will be renamed from release 2.8; in order to keep installing from binary please use \"pip install psycopg2-binary\" instead. For details see: <http://initd.org/psycopg/docs/install.html#binary-install-from-pypi>.\n",
      "  \"\"\")\n"
     ]
    }
   ],
   "source": [
    "from configparser import ConfigParser\n",
    "import psycopg2\n",
    "import pandas as pd\n",
    "import numpy as np\n",
    "import matplotlib.pyplot as plt\n",
    "from sklearn import tree, svm\n",
    "from sklearn.tree import DecisionTreeClassifier,export_text\n",
    "from sklearn.utils import shuffle\n",
    "from sklearn.model_selection import train_test_split\n",
    "from sklearn.ensemble import RandomForestClassifier,GradientBoostingClassifier\n",
    "from sklearn.metrics import recall_score, precision_score, confusion_matrix, classification_report\n",
    "from sklearn.datasets import load_iris\n",
    "from collections import Counter \n",
    "import datetime\n",
    "import pickle\n",
    "import time\n",
    "import os\n",
    "from random import randint"
   ]
  },
  {
   "cell_type": "code",
   "execution_count": 2,
   "metadata": {
    "ExecuteTime": {
     "end_time": "2021-04-13T21:56:07.501379Z",
     "start_time": "2021-04-13T21:56:07.487218Z"
    }
   },
   "outputs": [],
   "source": [
    "#Sourced from https://www.postgresqltutorial.com/postgresql-python/connect/\n",
    "def config(filename='psql_sample.ini', section='postgresql'):\n",
    "    parser = ConfigParser()\n",
    "    # read config file\n",
    "    parser.read(filename) \n",
    " \n",
    "    # get section, default to postgresql\n",
    "    db = {}\n",
    "    if parser.has_section(section):\n",
    "        params = parser.items(section)\n",
    "        for param in params:\n",
    "            db[param[0]] = param[1]\n",
    "    else:\n",
    "        raise Exception('Section {0} not found in the {1} file'.format(section, filename))\n",
    " \n",
    "    return db"
   ]
  },
  {
   "cell_type": "code",
   "execution_count": 3,
   "metadata": {
    "ExecuteTime": {
     "end_time": "2021-04-13T21:56:07.629434Z",
     "start_time": "2021-04-13T21:56:07.621007Z"
    }
   },
   "outputs": [],
   "source": [
    "cfg = config()"
   ]
  },
  {
   "cell_type": "code",
   "execution_count": 4,
   "metadata": {
    "ExecuteTime": {
     "end_time": "2021-04-13T21:57:46.757750Z",
     "start_time": "2021-04-13T21:57:46.270525Z"
    }
   },
   "outputs": [
    {
     "name": "stdout",
     "output_type": "stream",
     "text": [
      "Here's an attempt to connect to the database\n",
      "Look's like it was a success\n"
     ]
    }
   ],
   "source": [
    "#Establish the connection and create a cursor to the database\n",
    "try:\n",
    "    print(\"Here's an attempt to connect to the database\")\n",
    "    conn = psycopg2.connect(\n",
    "        host=\"www.eecs.uottawa.ca\",\n",
    "        database=\"group_22\",\n",
    "        user=\"yzhao156\",\n",
    "        password=\"#####Uozone#####\",\n",
    "        port=15432\n",
    "    )\n",
    "    cursor = conn.cursor()\n",
    "    print(\"Look's like it was a success\")\n",
    "    \n",
    "except (Exception, psycopg2.DatabaseError) as error:\n",
    "    print(error)"
   ]
  },
  {
   "cell_type": "code",
   "execution_count": 5,
   "metadata": {
    "ExecuteTime": {
     "end_time": "2021-04-13T21:58:14.068599Z",
     "start_time": "2021-04-13T21:57:54.313461Z"
    }
   },
   "outputs": [],
   "source": [
    "try:\n",
    "    #Lets get our data \n",
    "    cursor.execute(\n",
    "    \"\"\"\n",
    "SELECT D.month as month,  S.title as special_measure, \n",
    "    P.Age_Group as Age_Group, P.client_gender as gender, \n",
    "    M.parks_percent_change_from_baseline as a,\n",
    "    M.workplaces_percent_change_from_baseline as b,\n",
    "    M.residential_percent_change_from_baseline as c,\n",
    "    M.transit_stations_percent_change_from_baseline as d,\n",
    "    F.fatal as fatal\n",
    "FROM covid19_tracking_fact_table F, \n",
    "    date_dimension D, \n",
    "    mobility_dimension M,\n",
    "    special_measures_dimension S,\n",
    "    patient_dimension P\n",
    "WHERE F.reported_date_key = D.surrogate_key AND\n",
    "    F.special_measure_key = S.surrogate_key AND\n",
    "    F.mobility_key = M.surrogate_key AND\n",
    "    F.patient_key = P.surrogate_key \n",
    "ORDER BY D.date\n",
    "    \"\"\" )\n",
    "    #Get the complete result set. It will be a list of tuples where each tuple is a row from the result set\n",
    "    result_list = cursor.fetchall()\n",
    "        \n",
    "except (Exception, psycopg2.DatabaseError) as error:\n",
    "    print(error)"
   ]
  },
  {
   "cell_type": "code",
   "execution_count": 6,
   "metadata": {
    "ExecuteTime": {
     "end_time": "2021-04-13T21:58:45.252232Z",
     "start_time": "2021-04-13T21:58:45.243872Z"
    }
   },
   "outputs": [],
   "source": [
    "cursor.close()\n",
    "conn.close()"
   ]
  },
  {
   "cell_type": "code",
   "execution_count": 7,
   "metadata": {
    "ExecuteTime": {
     "end_time": "2021-04-13T22:08:52.383458Z",
     "start_time": "2021-04-13T22:08:52.217787Z"
    }
   },
   "outputs": [],
   "source": [
    "data = pd.DataFrame(result_list,columns=[\"month\", \"special_measure\",\n",
    "                \"Age_Group\", \"gender\", \"park\", \"workplace\", \"residential\",\"transit\",\"fatal\"])"
   ]
  },
  {
   "cell_type": "code",
   "execution_count": 8,
   "metadata": {
    "ExecuteTime": {
     "end_time": "2021-04-13T22:08:52.976466Z",
     "start_time": "2021-04-13T22:08:52.959595Z"
    }
   },
   "outputs": [
    {
     "data": {
      "text/html": [
       "<div>\n",
       "<style scoped>\n",
       "    .dataframe tbody tr th:only-of-type {\n",
       "        vertical-align: middle;\n",
       "    }\n",
       "\n",
       "    .dataframe tbody tr th {\n",
       "        vertical-align: top;\n",
       "    }\n",
       "\n",
       "    .dataframe thead th {\n",
       "        text-align: right;\n",
       "    }\n",
       "</style>\n",
       "<table border=\"1\" class=\"dataframe\">\n",
       "  <thead>\n",
       "    <tr style=\"text-align: right;\">\n",
       "      <th></th>\n",
       "      <th>month</th>\n",
       "      <th>special_measure</th>\n",
       "      <th>Age_Group</th>\n",
       "      <th>gender</th>\n",
       "      <th>park</th>\n",
       "      <th>workplace</th>\n",
       "      <th>residential</th>\n",
       "      <th>transit</th>\n",
       "      <th>fatal</th>\n",
       "    </tr>\n",
       "  </thead>\n",
       "  <tbody>\n",
       "    <tr>\n",
       "      <td>0</td>\n",
       "      <td>11</td>\n",
       "      <td>Restrict</td>\n",
       "      <td>20s</td>\n",
       "      <td>MALE</td>\n",
       "      <td>-26.0</td>\n",
       "      <td>-11.0</td>\n",
       "      <td>6.0</td>\n",
       "      <td>-59.0</td>\n",
       "      <td>0</td>\n",
       "    </tr>\n",
       "    <tr>\n",
       "      <td>1</td>\n",
       "      <td>11</td>\n",
       "      <td>Restrict</td>\n",
       "      <td>20s</td>\n",
       "      <td>MALE</td>\n",
       "      <td>-26.0</td>\n",
       "      <td>-11.0</td>\n",
       "      <td>6.0</td>\n",
       "      <td>-59.0</td>\n",
       "      <td>0</td>\n",
       "    </tr>\n",
       "    <tr>\n",
       "      <td>2</td>\n",
       "      <td>11</td>\n",
       "      <td>Restrict</td>\n",
       "      <td>40s</td>\n",
       "      <td>FEMALE</td>\n",
       "      <td>-26.0</td>\n",
       "      <td>-11.0</td>\n",
       "      <td>6.0</td>\n",
       "      <td>-59.0</td>\n",
       "      <td>0</td>\n",
       "    </tr>\n",
       "    <tr>\n",
       "      <td>3</td>\n",
       "      <td>11</td>\n",
       "      <td>Restrict</td>\n",
       "      <td>50s</td>\n",
       "      <td>MALE</td>\n",
       "      <td>-26.0</td>\n",
       "      <td>-11.0</td>\n",
       "      <td>6.0</td>\n",
       "      <td>-59.0</td>\n",
       "      <td>0</td>\n",
       "    </tr>\n",
       "    <tr>\n",
       "      <td>4</td>\n",
       "      <td>11</td>\n",
       "      <td>Restrict</td>\n",
       "      <td>20s</td>\n",
       "      <td>FEMALE</td>\n",
       "      <td>-26.0</td>\n",
       "      <td>-11.0</td>\n",
       "      <td>6.0</td>\n",
       "      <td>-59.0</td>\n",
       "      <td>0</td>\n",
       "    </tr>\n",
       "  </tbody>\n",
       "</table>\n",
       "</div>"
      ],
      "text/plain": [
       "   month special_measure Age_Group  gender  park  workplace  residential  \\\n",
       "0     11        Restrict       20s    MALE -26.0      -11.0          6.0   \n",
       "1     11        Restrict       20s    MALE -26.0      -11.0          6.0   \n",
       "2     11        Restrict       40s  FEMALE -26.0      -11.0          6.0   \n",
       "3     11        Restrict       50s    MALE -26.0      -11.0          6.0   \n",
       "4     11        Restrict       20s  FEMALE -26.0      -11.0          6.0   \n",
       "\n",
       "   transit  fatal  \n",
       "0    -59.0      0  \n",
       "1    -59.0      0  \n",
       "2    -59.0      0  \n",
       "3    -59.0      0  \n",
       "4    -59.0      0  "
      ]
     },
     "execution_count": 8,
     "metadata": {},
     "output_type": "execute_result"
    }
   ],
   "source": [
    "data.head()"
   ]
  },
  {
   "cell_type": "code",
   "execution_count": 9,
   "metadata": {
    "ExecuteTime": {
     "end_time": "2021-04-13T22:08:54.710671Z",
     "start_time": "2021-04-13T22:08:53.739131Z"
    }
   },
   "outputs": [
    {
     "data": {
      "text/plain": [
       "<matplotlib.axes._subplots.AxesSubplot at 0x7f90efbfc128>"
      ]
     },
     "execution_count": 9,
     "metadata": {},
     "output_type": "execute_result"
    },
    {
     "data": {
      "image/png": "[encoded data removed]",
      "text/plain": [
       "<Figure size 432x288 with 1 Axes>"
      ]
     },
     "metadata": {
      "needs_background": "light"
     },
     "output_type": "display_data"
    }
   ],
   "source": [
    "data.boxplot(column=[\"month\", \"park\", \"workplace\", \"residential\",\"transit\", \"fatal\"])"
   ]
  },
  {
   "cell_type": "code",
   "execution_count": 57,
   "metadata": {
    "ExecuteTime": {
     "end_time": "2021-04-13T22:08:54.963688Z",
     "start_time": "2021-04-13T22:08:54.713331Z"
    },
    "scrolled": false
   },
   "outputs": [
    {
     "data": {
      "text/plain": [
       "(array([3.14164004, 0.        , 0.        , 0.        , 0.        ,\n",
       "        3.83386581, 0.        , 0.        , 0.        , 0.        ,\n",
       "        3.52502662, 0.        , 0.        , 0.        , 0.        ,\n",
       "        2.97124601, 0.        , 0.        , 0.        , 0.        ,\n",
       "        3.83386581, 0.        , 0.        , 0.        , 0.        ,\n",
       "        3.68477103, 0.        , 0.        , 0.        , 0.        ,\n",
       "        4.69648562, 0.        , 0.        , 0.        , 0.        ,\n",
       "        8.10436635, 0.        , 0.        , 0.        , 6.20873269]),\n",
       " array([0.   , 0.025, 0.05 , 0.075, 0.1  , 0.125, 0.15 , 0.175, 0.2  ,\n",
       "        0.225, 0.25 , 0.275, 0.3  , 0.325, 0.35 , 0.375, 0.4  , 0.425,\n",
       "        0.45 , 0.475, 0.5  , 0.525, 0.55 , 0.575, 0.6  , 0.625, 0.65 ,\n",
       "        0.675, 0.7  , 0.725, 0.75 , 0.775, 0.8  , 0.825, 0.85 , 0.875,\n",
       "        0.9  , 0.925, 0.95 , 0.975, 1.   ]),\n",
       " <a list of 1 Patch objects>)"
      ]
     },
     "execution_count": 57,
     "metadata": {},
     "output_type": "execute_result"
    },
    {
     "data": {
      "image/png": "[encoded data removed]",
      "text/plain": [
       "<Figure size 432x288 with 1 Axes>"
      ]
     },
     "metadata": {
      "needs_background": "light"
     },
     "output_type": "display_data"
    }
   ],
   "source": [
    "kwargs = dict(histtype='stepfilled', alpha=0.3, density=True, bins=40)\n",
    "plt.hist(data['Age_Group'], **kwargs)"
   ]
  },
  {
   "cell_type": "markdown",
   "metadata": {},
   "source": [
    "# A.2"
   ]
  },
  {
   "cell_type": "code",
   "execution_count": 11,
   "metadata": {
    "ExecuteTime": {
     "end_time": "2021-04-13T22:08:55.004117Z",
     "start_time": "2021-04-13T22:08:54.967632Z"
    },
    "scrolled": true
   },
   "outputs": [
    {
     "data": {
      "text/plain": [
       "month              0\n",
       "special_measure    0\n",
       "Age_Group          0\n",
       "gender             0\n",
       "park               0\n",
       "workplace          0\n",
       "residential        0\n",
       "transit            0\n",
       "fatal              0\n",
       "dtype: int64"
      ]
     },
     "execution_count": 11,
     "metadata": {},
     "output_type": "execute_result"
    }
   ],
   "source": [
    "data.isna().sum()"
   ]
  },
  {
   "cell_type": "code",
   "execution_count": 12,
   "metadata": {
    "ExecuteTime": {
     "end_time": "2021-04-13T22:08:55.070064Z",
     "start_time": "2021-04-13T22:08:55.022886Z"
    }
   },
   "outputs": [],
   "source": [
    "data = data[data['Age_Group']!=\"UNKNOWN\"]"
   ]
  },
  {
   "cell_type": "code",
   "execution_count": 13,
   "metadata": {
    "ExecuteTime": {
     "end_time": "2021-04-13T22:08:55.093559Z",
     "start_time": "2021-04-13T22:08:55.072522Z"
    }
   },
   "outputs": [
    {
     "data": {
      "text/plain": [
       "0      20s\n",
       "2      40s\n",
       "3      50s\n",
       "5      70s\n",
       "9      <20\n",
       "10     30s\n",
       "12     60s\n",
       "19     80s\n",
       "542    90+\n",
       "Name: Age_Group, dtype: object"
      ]
     },
     "execution_count": 13,
     "metadata": {},
     "output_type": "execute_result"
    }
   ],
   "source": [
    "data['Age_Group'].drop_duplicates()"
   ]
  },
  {
   "cell_type": "code",
   "execution_count": 14,
   "metadata": {
    "ExecuteTime": {
     "end_time": "2021-04-13T22:08:55.176085Z",
     "start_time": "2021-04-13T22:08:55.097435Z"
    }
   },
   "outputs": [],
   "source": [
    "mapping_age = {\n",
    "    '<20':0,\n",
    "    '20s':1,\n",
    "    '30s':2,\n",
    "    '40s':3,\n",
    "    '50s':4,\n",
    "    '60s':5,\n",
    "    '70s':6,\n",
    "    '80s':7,\n",
    "    '90+':8\n",
    "}\n",
    "data['Age_Group'] = data['Age_Group'].map(lambda x : mapping_age[x])\n",
    "    "
   ]
  },
  {
   "cell_type": "code",
   "execution_count": 15,
   "metadata": {
    "ExecuteTime": {
     "end_time": "2021-04-13T22:08:55.234302Z",
     "start_time": "2021-04-13T22:08:55.178460Z"
    }
   },
   "outputs": [],
   "source": [
    "mapping_month = {\n",
    "    11:1,\n",
    "    12:2,\n",
    "    1:3,\n",
    "    2:4\n",
    "}\n",
    "data['month'] = data['month'].map(lambda x : mapping_month[x])"
   ]
  },
  {
   "cell_type": "code",
   "execution_count": 16,
   "metadata": {
    "ExecuteTime": {
     "end_time": "2021-04-13T22:08:55.301284Z",
     "start_time": "2021-04-13T22:08:55.239269Z"
    }
   },
   "outputs": [],
   "source": [
    "mapping_gender = {\n",
    "    'MALE':0,\n",
    "    'FEMALE':1,\n",
    "    'UNSPECIFIED':2,\n",
    "    'GENDER DIVERSE':3\n",
    "}\n",
    "data['gender'] = data['gender'].map(lambda x : mapping_gender[x])\n"
   ]
  },
  {
   "cell_type": "code",
   "execution_count": 17,
   "metadata": {
    "ExecuteTime": {
     "end_time": "2021-04-13T22:08:55.414085Z",
     "start_time": "2021-04-13T22:08:55.395440Z"
    }
   },
   "outputs": [
    {
     "name": "stdout",
     "output_type": "stream",
     "text": [
      "12\n",
      "626\n",
      "73283\n"
     ]
    }
   ],
   "source": [
    "print(data[data['gender']==3]['gender'].count())\n",
    "print(data[data['gender']==2]['gender'].count())\n",
    "print(data[data['gender']==1]['gender'].count())\n",
    "data = data[data['gender']<2]"
   ]
  },
  {
   "cell_type": "code",
   "execution_count": 18,
   "metadata": {
    "ExecuteTime": {
     "end_time": "2021-04-13T22:08:58.361065Z",
     "start_time": "2021-04-13T22:08:58.337362Z"
    }
   },
   "outputs": [
    {
     "data": {
      "text/plain": [
       "(147254, 5)"
      ]
     },
     "execution_count": 18,
     "metadata": {},
     "output_type": "execute_result"
    }
   ],
   "source": [
    "one_hot = pd.get_dummies(data.special_measure, prefix='special_measure')\n",
    "one_hot.shape"
   ]
  },
  {
   "cell_type": "code",
   "execution_count": 19,
   "metadata": {
    "ExecuteTime": {
     "end_time": "2021-04-13T22:08:58.901326Z",
     "start_time": "2021-04-13T22:08:58.893709Z"
    }
   },
   "outputs": [
    {
     "data": {
      "text/plain": [
       "(147254, 9)"
      ]
     },
     "execution_count": 19,
     "metadata": {},
     "output_type": "execute_result"
    }
   ],
   "source": [
    "data.shape"
   ]
  },
  {
   "cell_type": "code",
   "execution_count": 20,
   "metadata": {
    "ExecuteTime": {
     "end_time": "2021-04-13T22:09:03.740851Z",
     "start_time": "2021-04-13T22:09:03.728551Z"
    }
   },
   "outputs": [
    {
     "data": {
      "text/html": [
       "<div>\n",
       "<style scoped>\n",
       "    .dataframe tbody tr th:only-of-type {\n",
       "        vertical-align: middle;\n",
       "    }\n",
       "\n",
       "    .dataframe tbody tr th {\n",
       "        vertical-align: top;\n",
       "    }\n",
       "\n",
       "    .dataframe thead th {\n",
       "        text-align: right;\n",
       "    }\n",
       "</style>\n",
       "<table border=\"1\" class=\"dataframe\">\n",
       "  <thead>\n",
       "    <tr style=\"text-align: right;\">\n",
       "      <th></th>\n",
       "      <th>month</th>\n",
       "      <th>Age_Group</th>\n",
       "      <th>gender</th>\n",
       "      <th>park</th>\n",
       "      <th>workplace</th>\n",
       "      <th>residential</th>\n",
       "      <th>transit</th>\n",
       "      <th>fatal</th>\n",
       "      <th>special_measure_Control</th>\n",
       "      <th>special_measure_Lockdown</th>\n",
       "      <th>special_measure_Prevent</th>\n",
       "      <th>special_measure_Protect</th>\n",
       "      <th>special_measure_Restrict</th>\n",
       "    </tr>\n",
       "  </thead>\n",
       "  <tbody>\n",
       "    <tr>\n",
       "      <td>0</td>\n",
       "      <td>1</td>\n",
       "      <td>1</td>\n",
       "      <td>0</td>\n",
       "      <td>-26.0</td>\n",
       "      <td>-11.0</td>\n",
       "      <td>6.0</td>\n",
       "      <td>-59.0</td>\n",
       "      <td>0</td>\n",
       "      <td>0</td>\n",
       "      <td>0</td>\n",
       "      <td>0</td>\n",
       "      <td>0</td>\n",
       "      <td>1</td>\n",
       "    </tr>\n",
       "    <tr>\n",
       "      <td>1</td>\n",
       "      <td>1</td>\n",
       "      <td>1</td>\n",
       "      <td>0</td>\n",
       "      <td>-26.0</td>\n",
       "      <td>-11.0</td>\n",
       "      <td>6.0</td>\n",
       "      <td>-59.0</td>\n",
       "      <td>0</td>\n",
       "      <td>0</td>\n",
       "      <td>0</td>\n",
       "      <td>0</td>\n",
       "      <td>0</td>\n",
       "      <td>1</td>\n",
       "    </tr>\n",
       "    <tr>\n",
       "      <td>2</td>\n",
       "      <td>1</td>\n",
       "      <td>3</td>\n",
       "      <td>1</td>\n",
       "      <td>-26.0</td>\n",
       "      <td>-11.0</td>\n",
       "      <td>6.0</td>\n",
       "      <td>-59.0</td>\n",
       "      <td>0</td>\n",
       "      <td>0</td>\n",
       "      <td>0</td>\n",
       "      <td>0</td>\n",
       "      <td>0</td>\n",
       "      <td>1</td>\n",
       "    </tr>\n",
       "    <tr>\n",
       "      <td>3</td>\n",
       "      <td>1</td>\n",
       "      <td>4</td>\n",
       "      <td>0</td>\n",
       "      <td>-26.0</td>\n",
       "      <td>-11.0</td>\n",
       "      <td>6.0</td>\n",
       "      <td>-59.0</td>\n",
       "      <td>0</td>\n",
       "      <td>0</td>\n",
       "      <td>0</td>\n",
       "      <td>0</td>\n",
       "      <td>0</td>\n",
       "      <td>1</td>\n",
       "    </tr>\n",
       "    <tr>\n",
       "      <td>4</td>\n",
       "      <td>1</td>\n",
       "      <td>1</td>\n",
       "      <td>1</td>\n",
       "      <td>-26.0</td>\n",
       "      <td>-11.0</td>\n",
       "      <td>6.0</td>\n",
       "      <td>-59.0</td>\n",
       "      <td>0</td>\n",
       "      <td>0</td>\n",
       "      <td>0</td>\n",
       "      <td>0</td>\n",
       "      <td>0</td>\n",
       "      <td>1</td>\n",
       "    </tr>\n",
       "    <tr>\n",
       "      <td>...</td>\n",
       "      <td>...</td>\n",
       "      <td>...</td>\n",
       "      <td>...</td>\n",
       "      <td>...</td>\n",
       "      <td>...</td>\n",
       "      <td>...</td>\n",
       "      <td>...</td>\n",
       "      <td>...</td>\n",
       "      <td>...</td>\n",
       "      <td>...</td>\n",
       "      <td>...</td>\n",
       "      <td>...</td>\n",
       "      <td>...</td>\n",
       "    </tr>\n",
       "    <tr>\n",
       "      <td>147899</td>\n",
       "      <td>4</td>\n",
       "      <td>0</td>\n",
       "      <td>1</td>\n",
       "      <td>29.0</td>\n",
       "      <td>-13.0</td>\n",
       "      <td>10.0</td>\n",
       "      <td>-55.0</td>\n",
       "      <td>0</td>\n",
       "      <td>1</td>\n",
       "      <td>0</td>\n",
       "      <td>0</td>\n",
       "      <td>0</td>\n",
       "      <td>0</td>\n",
       "    </tr>\n",
       "    <tr>\n",
       "      <td>147900</td>\n",
       "      <td>4</td>\n",
       "      <td>5</td>\n",
       "      <td>0</td>\n",
       "      <td>29.0</td>\n",
       "      <td>-13.0</td>\n",
       "      <td>10.0</td>\n",
       "      <td>-55.0</td>\n",
       "      <td>0</td>\n",
       "      <td>1</td>\n",
       "      <td>0</td>\n",
       "      <td>0</td>\n",
       "      <td>0</td>\n",
       "      <td>0</td>\n",
       "    </tr>\n",
       "    <tr>\n",
       "      <td>147901</td>\n",
       "      <td>4</td>\n",
       "      <td>1</td>\n",
       "      <td>0</td>\n",
       "      <td>29.0</td>\n",
       "      <td>-13.0</td>\n",
       "      <td>10.0</td>\n",
       "      <td>-55.0</td>\n",
       "      <td>0</td>\n",
       "      <td>1</td>\n",
       "      <td>0</td>\n",
       "      <td>0</td>\n",
       "      <td>0</td>\n",
       "      <td>0</td>\n",
       "    </tr>\n",
       "    <tr>\n",
       "      <td>147902</td>\n",
       "      <td>4</td>\n",
       "      <td>0</td>\n",
       "      <td>1</td>\n",
       "      <td>28.0</td>\n",
       "      <td>-3.0</td>\n",
       "      <td>6.0</td>\n",
       "      <td>-58.0</td>\n",
       "      <td>0</td>\n",
       "      <td>0</td>\n",
       "      <td>0</td>\n",
       "      <td>0</td>\n",
       "      <td>1</td>\n",
       "      <td>0</td>\n",
       "    </tr>\n",
       "    <tr>\n",
       "      <td>147903</td>\n",
       "      <td>4</td>\n",
       "      <td>0</td>\n",
       "      <td>0</td>\n",
       "      <td>28.0</td>\n",
       "      <td>-3.0</td>\n",
       "      <td>6.0</td>\n",
       "      <td>-58.0</td>\n",
       "      <td>0</td>\n",
       "      <td>0</td>\n",
       "      <td>0</td>\n",
       "      <td>0</td>\n",
       "      <td>1</td>\n",
       "      <td>0</td>\n",
       "    </tr>\n",
       "  </tbody>\n",
       "</table>\n",
       "<p>147254 rows × 13 columns</p>\n",
       "</div>"
      ],
      "text/plain": [
       "        month  Age_Group  gender  park  workplace  residential  transit  \\\n",
       "0           1          1       0 -26.0      -11.0          6.0    -59.0   \n",
       "1           1          1       0 -26.0      -11.0          6.0    -59.0   \n",
       "2           1          3       1 -26.0      -11.0          6.0    -59.0   \n",
       "3           1          4       0 -26.0      -11.0          6.0    -59.0   \n",
       "4           1          1       1 -26.0      -11.0          6.0    -59.0   \n",
       "...       ...        ...     ...   ...        ...          ...      ...   \n",
       "147899      4          0       1  29.0      -13.0         10.0    -55.0   \n",
       "147900      4          5       0  29.0      -13.0         10.0    -55.0   \n",
       "147901      4          1       0  29.0      -13.0         10.0    -55.0   \n",
       "147902      4          0       1  28.0       -3.0          6.0    -58.0   \n",
       "147903      4          0       0  28.0       -3.0          6.0    -58.0   \n",
       "\n",
       "        fatal  special_measure_Control  special_measure_Lockdown  \\\n",
       "0           0                        0                         0   \n",
       "1           0                        0                         0   \n",
       "2           0                        0                         0   \n",
       "3           0                        0                         0   \n",
       "4           0                        0                         0   \n",
       "...       ...                      ...                       ...   \n",
       "147899      0                        1                         0   \n",
       "147900      0                        1                         0   \n",
       "147901      0                        1                         0   \n",
       "147902      0                        0                         0   \n",
       "147903      0                        0                         0   \n",
       "\n",
       "        special_measure_Prevent  special_measure_Protect  \\\n",
       "0                             0                        0   \n",
       "1                             0                        0   \n",
       "2                             0                        0   \n",
       "3                             0                        0   \n",
       "4                             0                        0   \n",
       "...                         ...                      ...   \n",
       "147899                        0                        0   \n",
       "147900                        0                        0   \n",
       "147901                        0                        0   \n",
       "147902                        0                        1   \n",
       "147903                        0                        1   \n",
       "\n",
       "        special_measure_Restrict  \n",
       "0                              1  \n",
       "1                              1  \n",
       "2                              1  \n",
       "3                              1  \n",
       "4                              1  \n",
       "...                          ...  \n",
       "147899                         0  \n",
       "147900                         0  \n",
       "147901                         0  \n",
       "147902                         0  \n",
       "147903                         0  \n",
       "\n",
       "[147254 rows x 13 columns]"
      ]
     },
     "execution_count": 20,
     "metadata": {},
     "output_type": "execute_result"
    }
   ],
   "source": [
    "data = pd.concat([data,one_hot],axis=1)\n",
    "data = data.drop(columns=['special_measure'])\n",
    "data"
   ]
  },
  {
   "cell_type": "markdown",
   "metadata": {},
   "source": [
    "### normalisation"
   ]
  },
  {
   "cell_type": "code",
   "execution_count": 21,
   "metadata": {
    "ExecuteTime": {
     "end_time": "2021-04-13T22:09:08.432570Z",
     "start_time": "2021-04-13T22:09:08.404892Z"
    }
   },
   "outputs": [],
   "source": [
    "#normalize mobility\n",
    "l = ['month','park','Age_Group', 'workplace','residential','transit']\n",
    "for i in l:\n",
    "    data[i] = (data[i]-data[i].min())/(data[i].max()-data[i].min())"
   ]
  },
  {
   "cell_type": "code",
   "execution_count": 22,
   "metadata": {
    "ExecuteTime": {
     "end_time": "2021-04-13T22:09:09.595915Z",
     "start_time": "2021-04-13T22:09:09.569371Z"
    }
   },
   "outputs": [
    {
     "data": {
      "text/html": [
       "<div>\n",
       "<style scoped>\n",
       "    .dataframe tbody tr th:only-of-type {\n",
       "        vertical-align: middle;\n",
       "    }\n",
       "\n",
       "    .dataframe tbody tr th {\n",
       "        vertical-align: top;\n",
       "    }\n",
       "\n",
       "    .dataframe thead th {\n",
       "        text-align: right;\n",
       "    }\n",
       "</style>\n",
       "<table border=\"1\" class=\"dataframe\">\n",
       "  <thead>\n",
       "    <tr style=\"text-align: right;\">\n",
       "      <th></th>\n",
       "      <th>month</th>\n",
       "      <th>Age_Group</th>\n",
       "      <th>gender</th>\n",
       "      <th>park</th>\n",
       "      <th>workplace</th>\n",
       "      <th>residential</th>\n",
       "      <th>transit</th>\n",
       "      <th>fatal</th>\n",
       "      <th>special_measure_Control</th>\n",
       "      <th>special_measure_Lockdown</th>\n",
       "      <th>special_measure_Prevent</th>\n",
       "      <th>special_measure_Protect</th>\n",
       "      <th>special_measure_Restrict</th>\n",
       "    </tr>\n",
       "  </thead>\n",
       "  <tbody>\n",
       "    <tr>\n",
       "      <td>0</td>\n",
       "      <td>0.0</td>\n",
       "      <td>0.125</td>\n",
       "      <td>0</td>\n",
       "      <td>0.084112</td>\n",
       "      <td>0.857143</td>\n",
       "      <td>0.088235</td>\n",
       "      <td>0.3625</td>\n",
       "      <td>0</td>\n",
       "      <td>0</td>\n",
       "      <td>0</td>\n",
       "      <td>0</td>\n",
       "      <td>0</td>\n",
       "      <td>1</td>\n",
       "    </tr>\n",
       "    <tr>\n",
       "      <td>1</td>\n",
       "      <td>0.0</td>\n",
       "      <td>0.125</td>\n",
       "      <td>0</td>\n",
       "      <td>0.084112</td>\n",
       "      <td>0.857143</td>\n",
       "      <td>0.088235</td>\n",
       "      <td>0.3625</td>\n",
       "      <td>0</td>\n",
       "      <td>0</td>\n",
       "      <td>0</td>\n",
       "      <td>0</td>\n",
       "      <td>0</td>\n",
       "      <td>1</td>\n",
       "    </tr>\n",
       "    <tr>\n",
       "      <td>2</td>\n",
       "      <td>0.0</td>\n",
       "      <td>0.375</td>\n",
       "      <td>1</td>\n",
       "      <td>0.084112</td>\n",
       "      <td>0.857143</td>\n",
       "      <td>0.088235</td>\n",
       "      <td>0.3625</td>\n",
       "      <td>0</td>\n",
       "      <td>0</td>\n",
       "      <td>0</td>\n",
       "      <td>0</td>\n",
       "      <td>0</td>\n",
       "      <td>1</td>\n",
       "    </tr>\n",
       "    <tr>\n",
       "      <td>3</td>\n",
       "      <td>0.0</td>\n",
       "      <td>0.500</td>\n",
       "      <td>0</td>\n",
       "      <td>0.084112</td>\n",
       "      <td>0.857143</td>\n",
       "      <td>0.088235</td>\n",
       "      <td>0.3625</td>\n",
       "      <td>0</td>\n",
       "      <td>0</td>\n",
       "      <td>0</td>\n",
       "      <td>0</td>\n",
       "      <td>0</td>\n",
       "      <td>1</td>\n",
       "    </tr>\n",
       "    <tr>\n",
       "      <td>4</td>\n",
       "      <td>0.0</td>\n",
       "      <td>0.125</td>\n",
       "      <td>1</td>\n",
       "      <td>0.084112</td>\n",
       "      <td>0.857143</td>\n",
       "      <td>0.088235</td>\n",
       "      <td>0.3625</td>\n",
       "      <td>0</td>\n",
       "      <td>0</td>\n",
       "      <td>0</td>\n",
       "      <td>0</td>\n",
       "      <td>0</td>\n",
       "      <td>1</td>\n",
       "    </tr>\n",
       "    <tr>\n",
       "      <td>...</td>\n",
       "      <td>...</td>\n",
       "      <td>...</td>\n",
       "      <td>...</td>\n",
       "      <td>...</td>\n",
       "      <td>...</td>\n",
       "      <td>...</td>\n",
       "      <td>...</td>\n",
       "      <td>...</td>\n",
       "      <td>...</td>\n",
       "      <td>...</td>\n",
       "      <td>...</td>\n",
       "      <td>...</td>\n",
       "      <td>...</td>\n",
       "    </tr>\n",
       "    <tr>\n",
       "      <td>147899</td>\n",
       "      <td>1.0</td>\n",
       "      <td>0.000</td>\n",
       "      <td>1</td>\n",
       "      <td>0.255452</td>\n",
       "      <td>0.835165</td>\n",
       "      <td>0.205882</td>\n",
       "      <td>0.4125</td>\n",
       "      <td>0</td>\n",
       "      <td>1</td>\n",
       "      <td>0</td>\n",
       "      <td>0</td>\n",
       "      <td>0</td>\n",
       "      <td>0</td>\n",
       "    </tr>\n",
       "    <tr>\n",
       "      <td>147900</td>\n",
       "      <td>1.0</td>\n",
       "      <td>0.625</td>\n",
       "      <td>0</td>\n",
       "      <td>0.255452</td>\n",
       "      <td>0.835165</td>\n",
       "      <td>0.205882</td>\n",
       "      <td>0.4125</td>\n",
       "      <td>0</td>\n",
       "      <td>1</td>\n",
       "      <td>0</td>\n",
       "      <td>0</td>\n",
       "      <td>0</td>\n",
       "      <td>0</td>\n",
       "    </tr>\n",
       "    <tr>\n",
       "      <td>147901</td>\n",
       "      <td>1.0</td>\n",
       "      <td>0.125</td>\n",
       "      <td>0</td>\n",
       "      <td>0.255452</td>\n",
       "      <td>0.835165</td>\n",
       "      <td>0.205882</td>\n",
       "      <td>0.4125</td>\n",
       "      <td>0</td>\n",
       "      <td>1</td>\n",
       "      <td>0</td>\n",
       "      <td>0</td>\n",
       "      <td>0</td>\n",
       "      <td>0</td>\n",
       "    </tr>\n",
       "    <tr>\n",
       "      <td>147902</td>\n",
       "      <td>1.0</td>\n",
       "      <td>0.000</td>\n",
       "      <td>1</td>\n",
       "      <td>0.252336</td>\n",
       "      <td>0.945055</td>\n",
       "      <td>0.088235</td>\n",
       "      <td>0.3750</td>\n",
       "      <td>0</td>\n",
       "      <td>0</td>\n",
       "      <td>0</td>\n",
       "      <td>0</td>\n",
       "      <td>1</td>\n",
       "      <td>0</td>\n",
       "    </tr>\n",
       "    <tr>\n",
       "      <td>147903</td>\n",
       "      <td>1.0</td>\n",
       "      <td>0.000</td>\n",
       "      <td>0</td>\n",
       "      <td>0.252336</td>\n",
       "      <td>0.945055</td>\n",
       "      <td>0.088235</td>\n",
       "      <td>0.3750</td>\n",
       "      <td>0</td>\n",
       "      <td>0</td>\n",
       "      <td>0</td>\n",
       "      <td>0</td>\n",
       "      <td>1</td>\n",
       "      <td>0</td>\n",
       "    </tr>\n",
       "  </tbody>\n",
       "</table>\n",
       "<p>147254 rows × 13 columns</p>\n",
       "</div>"
      ],
      "text/plain": [
       "        month  Age_Group  gender      park  workplace  residential  transit  \\\n",
       "0         0.0      0.125       0  0.084112   0.857143     0.088235   0.3625   \n",
       "1         0.0      0.125       0  0.084112   0.857143     0.088235   0.3625   \n",
       "2         0.0      0.375       1  0.084112   0.857143     0.088235   0.3625   \n",
       "3         0.0      0.500       0  0.084112   0.857143     0.088235   0.3625   \n",
       "4         0.0      0.125       1  0.084112   0.857143     0.088235   0.3625   \n",
       "...       ...        ...     ...       ...        ...          ...      ...   \n",
       "147899    1.0      0.000       1  0.255452   0.835165     0.205882   0.4125   \n",
       "147900    1.0      0.625       0  0.255452   0.835165     0.205882   0.4125   \n",
       "147901    1.0      0.125       0  0.255452   0.835165     0.205882   0.4125   \n",
       "147902    1.0      0.000       1  0.252336   0.945055     0.088235   0.3750   \n",
       "147903    1.0      0.000       0  0.252336   0.945055     0.088235   0.3750   \n",
       "\n",
       "        fatal  special_measure_Control  special_measure_Lockdown  \\\n",
       "0           0                        0                         0   \n",
       "1           0                        0                         0   \n",
       "2           0                        0                         0   \n",
       "3           0                        0                         0   \n",
       "4           0                        0                         0   \n",
       "...       ...                      ...                       ...   \n",
       "147899      0                        1                         0   \n",
       "147900      0                        1                         0   \n",
       "147901      0                        1                         0   \n",
       "147902      0                        0                         0   \n",
       "147903      0                        0                         0   \n",
       "\n",
       "        special_measure_Prevent  special_measure_Protect  \\\n",
       "0                             0                        0   \n",
       "1                             0                        0   \n",
       "2                             0                        0   \n",
       "3                             0                        0   \n",
       "4                             0                        0   \n",
       "...                         ...                      ...   \n",
       "147899                        0                        0   \n",
       "147900                        0                        0   \n",
       "147901                        0                        0   \n",
       "147902                        0                        1   \n",
       "147903                        0                        1   \n",
       "\n",
       "        special_measure_Restrict  \n",
       "0                              1  \n",
       "1                              1  \n",
       "2                              1  \n",
       "3                              1  \n",
       "4                              1  \n",
       "...                          ...  \n",
       "147899                         0  \n",
       "147900                         0  \n",
       "147901                         0  \n",
       "147902                         0  \n",
       "147903                         0  \n",
       "\n",
       "[147254 rows x 13 columns]"
      ]
     },
     "execution_count": 22,
     "metadata": {},
     "output_type": "execute_result"
    }
   ],
   "source": [
    "data"
   ]
  },
  {
   "cell_type": "code",
   "execution_count": 23,
   "metadata": {
    "ExecuteTime": {
     "end_time": "2021-04-13T22:09:12.675804Z",
     "start_time": "2021-04-13T22:09:12.659762Z"
    }
   },
   "outputs": [],
   "source": [
    "if not os.path.exists('saves'):\n",
    "    os.makedirs('saves')\n",
    "pickle.dump( data, open( \"./saves/prereocessed_data.p\", \"wb\" ) )"
   ]
  },
  {
   "cell_type": "code",
   "execution_count": 24,
   "metadata": {
    "ExecuteTime": {
     "end_time": "2021-04-13T22:09:16.098141Z",
     "start_time": "2021-04-13T22:09:14.201950Z"
    }
   },
   "outputs": [
    {
     "data": {
      "text/plain": [
       "<matplotlib.axes._subplots.AxesSubplot at 0x7f90edeb4978>"
      ]
     },
     "execution_count": 24,
     "metadata": {},
     "output_type": "execute_result"
    },
    {
     "data": {
      "image/png": "[encoded data removed]",
      "text/plain": [
       "<Figure size 432x288 with 1 Axes>"
      ]
     },
     "metadata": {
      "needs_background": "light"
     },
     "output_type": "display_data"
    }
   ],
   "source": [
    "# data = pickle.load( open( \"./saves/prereocessed_data.p\", \"rb\" ) )\n",
    "data.boxplot(column=data.columns.values.tolist())"
   ]
  },
  {
   "cell_type": "markdown",
   "metadata": {},
   "source": [
    "### undersampling"
   ]
  },
  {
   "cell_type": "code",
   "execution_count": 25,
   "metadata": {
    "ExecuteTime": {
     "end_time": "2021-04-13T22:09:20.006288Z",
     "start_time": "2021-04-13T22:09:19.904899Z"
    }
   },
   "outputs": [],
   "source": [
    "shuffle_unresolved = shuffle(data[data['fatal']==0])\n",
    "shuffle_resolved = shuffle(data[data['fatal']==1])\n",
    "shuffle_resolved = shuffle_resolved[:len(shuffle_unresolved)]\n",
    "undersampled_data = shuffle_resolved.append(shuffle_unresolved)\n",
    "undersampled_data = shuffle(undersampled_data)"
   ]
  },
  {
   "cell_type": "code",
   "execution_count": 26,
   "metadata": {
    "ExecuteTime": {
     "end_time": "2021-04-13T22:09:20.699548Z",
     "start_time": "2021-04-13T22:09:20.685944Z"
    }
   },
   "outputs": [],
   "source": [
    "if not os.path.exists('saves'):\n",
    "    os.makedirs('saves')\n",
    "pickle.dump( undersampled_data, open( \"./saves/undersampled_data.p\", \"wb\" ) )"
   ]
  },
  {
   "cell_type": "code",
   "execution_count": 27,
   "metadata": {
    "ExecuteTime": {
     "end_time": "2021-04-13T22:09:23.072985Z",
     "start_time": "2021-04-13T22:09:22.962016Z"
    }
   },
   "outputs": [
    {
     "data": {
      "text/html": [
       "<div>\n",
       "<style scoped>\n",
       "    .dataframe tbody tr th:only-of-type {\n",
       "        vertical-align: middle;\n",
       "    }\n",
       "\n",
       "    .dataframe tbody tr th {\n",
       "        vertical-align: top;\n",
       "    }\n",
       "\n",
       "    .dataframe thead th {\n",
       "        text-align: right;\n",
       "    }\n",
       "</style>\n",
       "<table border=\"1\" class=\"dataframe\">\n",
       "  <thead>\n",
       "    <tr style=\"text-align: right;\">\n",
       "      <th></th>\n",
       "      <th>month</th>\n",
       "      <th>Age_Group</th>\n",
       "      <th>gender</th>\n",
       "      <th>park</th>\n",
       "      <th>workplace</th>\n",
       "      <th>residential</th>\n",
       "      <th>transit</th>\n",
       "      <th>fatal</th>\n",
       "      <th>special_measure_Control</th>\n",
       "      <th>special_measure_Lockdown</th>\n",
       "      <th>special_measure_Prevent</th>\n",
       "      <th>special_measure_Protect</th>\n",
       "      <th>special_measure_Restrict</th>\n",
       "    </tr>\n",
       "  </thead>\n",
       "  <tbody>\n",
       "    <tr>\n",
       "      <td>count</td>\n",
       "      <td>147254.000000</td>\n",
       "      <td>147254.000000</td>\n",
       "      <td>147254.000000</td>\n",
       "      <td>147254.000000</td>\n",
       "      <td>147254.000000</td>\n",
       "      <td>147254.000000</td>\n",
       "      <td>147254.000000</td>\n",
       "      <td>147254.000000</td>\n",
       "      <td>147254.000000</td>\n",
       "      <td>147254.000000</td>\n",
       "      <td>147254.000000</td>\n",
       "      <td>147254.000000</td>\n",
       "      <td>147254.000000</td>\n",
       "    </tr>\n",
       "    <tr>\n",
       "      <td>mean</td>\n",
       "      <td>0.479213</td>\n",
       "      <td>0.331319</td>\n",
       "      <td>0.497664</td>\n",
       "      <td>0.154145</td>\n",
       "      <td>0.510049</td>\n",
       "      <td>0.454647</td>\n",
       "      <td>0.297839</td>\n",
       "      <td>0.012753</td>\n",
       "      <td>0.185890</td>\n",
       "      <td>0.217977</td>\n",
       "      <td>0.223213</td>\n",
       "      <td>0.122333</td>\n",
       "      <td>0.250587</td>\n",
       "    </tr>\n",
       "    <tr>\n",
       "      <td>std</td>\n",
       "      <td>0.326122</td>\n",
       "      <td>0.252127</td>\n",
       "      <td>0.499996</td>\n",
       "      <td>0.108316</td>\n",
       "      <td>0.194833</td>\n",
       "      <td>0.179794</td>\n",
       "      <td>0.111775</td>\n",
       "      <td>0.112209</td>\n",
       "      <td>0.389019</td>\n",
       "      <td>0.412873</td>\n",
       "      <td>0.416401</td>\n",
       "      <td>0.327671</td>\n",
       "      <td>0.433353</td>\n",
       "    </tr>\n",
       "    <tr>\n",
       "      <td>min</td>\n",
       "      <td>0.000000</td>\n",
       "      <td>0.000000</td>\n",
       "      <td>0.000000</td>\n",
       "      <td>0.000000</td>\n",
       "      <td>0.000000</td>\n",
       "      <td>0.000000</td>\n",
       "      <td>0.000000</td>\n",
       "      <td>0.000000</td>\n",
       "      <td>0.000000</td>\n",
       "      <td>0.000000</td>\n",
       "      <td>0.000000</td>\n",
       "      <td>0.000000</td>\n",
       "      <td>0.000000</td>\n",
       "    </tr>\n",
       "    <tr>\n",
       "      <td>25%</td>\n",
       "      <td>0.333333</td>\n",
       "      <td>0.125000</td>\n",
       "      <td>0.000000</td>\n",
       "      <td>0.084112</td>\n",
       "      <td>0.384615</td>\n",
       "      <td>0.323529</td>\n",
       "      <td>0.225000</td>\n",
       "      <td>0.000000</td>\n",
       "      <td>0.000000</td>\n",
       "      <td>0.000000</td>\n",
       "      <td>0.000000</td>\n",
       "      <td>0.000000</td>\n",
       "      <td>0.000000</td>\n",
       "    </tr>\n",
       "    <tr>\n",
       "      <td>50%</td>\n",
       "      <td>0.333333</td>\n",
       "      <td>0.250000</td>\n",
       "      <td>0.000000</td>\n",
       "      <td>0.124611</td>\n",
       "      <td>0.461538</td>\n",
       "      <td>0.470588</td>\n",
       "      <td>0.287500</td>\n",
       "      <td>0.000000</td>\n",
       "      <td>0.000000</td>\n",
       "      <td>0.000000</td>\n",
       "      <td>0.000000</td>\n",
       "      <td>0.000000</td>\n",
       "      <td>0.000000</td>\n",
       "    </tr>\n",
       "    <tr>\n",
       "      <td>75%</td>\n",
       "      <td>0.666667</td>\n",
       "      <td>0.500000</td>\n",
       "      <td>1.000000</td>\n",
       "      <td>0.193146</td>\n",
       "      <td>0.670330</td>\n",
       "      <td>0.588235</td>\n",
       "      <td>0.350000</td>\n",
       "      <td>0.000000</td>\n",
       "      <td>0.000000</td>\n",
       "      <td>0.000000</td>\n",
       "      <td>0.000000</td>\n",
       "      <td>0.000000</td>\n",
       "      <td>1.000000</td>\n",
       "    </tr>\n",
       "    <tr>\n",
       "      <td>max</td>\n",
       "      <td>1.000000</td>\n",
       "      <td>1.000000</td>\n",
       "      <td>1.000000</td>\n",
       "      <td>1.000000</td>\n",
       "      <td>1.000000</td>\n",
       "      <td>1.000000</td>\n",
       "      <td>1.000000</td>\n",
       "      <td>1.000000</td>\n",
       "      <td>1.000000</td>\n",
       "      <td>1.000000</td>\n",
       "      <td>1.000000</td>\n",
       "      <td>1.000000</td>\n",
       "      <td>1.000000</td>\n",
       "    </tr>\n",
       "  </tbody>\n",
       "</table>\n",
       "</div>"
      ],
      "text/plain": [
       "               month      Age_Group         gender           park  \\\n",
       "count  147254.000000  147254.000000  147254.000000  147254.000000   \n",
       "mean        0.479213       0.331319       0.497664       0.154145   \n",
       "std         0.326122       0.252127       0.499996       0.108316   \n",
       "min         0.000000       0.000000       0.000000       0.000000   \n",
       "25%         0.333333       0.125000       0.000000       0.084112   \n",
       "50%         0.333333       0.250000       0.000000       0.124611   \n",
       "75%         0.666667       0.500000       1.000000       0.193146   \n",
       "max         1.000000       1.000000       1.000000       1.000000   \n",
       "\n",
       "           workplace    residential        transit          fatal  \\\n",
       "count  147254.000000  147254.000000  147254.000000  147254.000000   \n",
       "mean        0.510049       0.454647       0.297839       0.012753   \n",
       "std         0.194833       0.179794       0.111775       0.112209   \n",
       "min         0.000000       0.000000       0.000000       0.000000   \n",
       "25%         0.384615       0.323529       0.225000       0.000000   \n",
       "50%         0.461538       0.470588       0.287500       0.000000   \n",
       "75%         0.670330       0.588235       0.350000       0.000000   \n",
       "max         1.000000       1.000000       1.000000       1.000000   \n",
       "\n",
       "       special_measure_Control  special_measure_Lockdown  \\\n",
       "count            147254.000000             147254.000000   \n",
       "mean                  0.185890                  0.217977   \n",
       "std                   0.389019                  0.412873   \n",
       "min                   0.000000                  0.000000   \n",
       "25%                   0.000000                  0.000000   \n",
       "50%                   0.000000                  0.000000   \n",
       "75%                   0.000000                  0.000000   \n",
       "max                   1.000000                  1.000000   \n",
       "\n",
       "       special_measure_Prevent  special_measure_Protect  \\\n",
       "count            147254.000000            147254.000000   \n",
       "mean                  0.223213                 0.122333   \n",
       "std                   0.416401                 0.327671   \n",
       "min                   0.000000                 0.000000   \n",
       "25%                   0.000000                 0.000000   \n",
       "50%                   0.000000                 0.000000   \n",
       "75%                   0.000000                 0.000000   \n",
       "max                   1.000000                 1.000000   \n",
       "\n",
       "       special_measure_Restrict  \n",
       "count             147254.000000  \n",
       "mean                   0.250587  \n",
       "std                    0.433353  \n",
       "min                    0.000000  \n",
       "25%                    0.000000  \n",
       "50%                    0.000000  \n",
       "75%                    1.000000  \n",
       "max                    1.000000  "
      ]
     },
     "execution_count": 27,
     "metadata": {},
     "output_type": "execute_result"
    }
   ],
   "source": [
    "undersampled_data.describe()"
   ]
  },
  {
   "cell_type": "code",
   "execution_count": 28,
   "metadata": {
    "ExecuteTime": {
     "end_time": "2021-04-13T22:09:28.065979Z",
     "start_time": "2021-04-13T22:09:26.195413Z"
    }
   },
   "outputs": [
    {
     "data": {
      "text/plain": [
       "<matplotlib.axes._subplots.AxesSubplot at 0x7f90f0bdd518>"
      ]
     },
     "execution_count": 28,
     "metadata": {},
     "output_type": "execute_result"
    },
    {
     "data": {
      "image/png": "[encoded data removed]",
      "text/plain": [
       "<Figure size 432x288 with 1 Axes>"
      ]
     },
     "metadata": {
      "needs_background": "light"
     },
     "output_type": "display_data"
    }
   ],
   "source": [
    "undersampled_data.boxplot(column=undersampled_data.columns.values.tolist())"
   ]
  },
  {
   "cell_type": "markdown",
   "metadata": {},
   "source": [
    "# Part B"
   ]
  },
  {
   "cell_type": "markdown",
   "metadata": {},
   "source": [
    "## Decision Tree"
   ]
  },
  {
   "cell_type": "code",
   "execution_count": 29,
   "metadata": {
    "ExecuteTime": {
     "end_time": "2021-04-10T14:55:09.282413Z",
     "start_time": "2021-04-10T14:55:09.274405Z"
    }
   },
   "outputs": [
    {
     "data": {
      "text/html": [
       "<div>\n",
       "<style scoped>\n",
       "    .dataframe tbody tr th:only-of-type {\n",
       "        vertical-align: middle;\n",
       "    }\n",
       "\n",
       "    .dataframe tbody tr th {\n",
       "        vertical-align: top;\n",
       "    }\n",
       "\n",
       "    .dataframe thead th {\n",
       "        text-align: right;\n",
       "    }\n",
       "</style>\n",
       "<table border=\"1\" class=\"dataframe\">\n",
       "  <thead>\n",
       "    <tr style=\"text-align: right;\">\n",
       "      <th></th>\n",
       "      <th>month</th>\n",
       "      <th>Age_Group</th>\n",
       "      <th>gender</th>\n",
       "      <th>park</th>\n",
       "      <th>workplace</th>\n",
       "      <th>residential</th>\n",
       "      <th>transit</th>\n",
       "      <th>fatal</th>\n",
       "      <th>special_measure_Control</th>\n",
       "      <th>special_measure_Lockdown</th>\n",
       "      <th>special_measure_Prevent</th>\n",
       "      <th>special_measure_Protect</th>\n",
       "      <th>special_measure_Restrict</th>\n",
       "    </tr>\n",
       "  </thead>\n",
       "  <tbody>\n",
       "    <tr>\n",
       "      <td>27365</td>\n",
       "      <td>0.000000</td>\n",
       "      <td>0.875</td>\n",
       "      <td>1</td>\n",
       "      <td>0.526480</td>\n",
       "      <td>0.923077</td>\n",
       "      <td>0.176471</td>\n",
       "      <td>0.8625</td>\n",
       "      <td>1</td>\n",
       "      <td>0</td>\n",
       "      <td>1</td>\n",
       "      <td>0</td>\n",
       "      <td>0</td>\n",
       "      <td>0</td>\n",
       "    </tr>\n",
       "    <tr>\n",
       "      <td>104299</td>\n",
       "      <td>0.666667</td>\n",
       "      <td>1.000</td>\n",
       "      <td>1</td>\n",
       "      <td>0.046729</td>\n",
       "      <td>0.428571</td>\n",
       "      <td>0.617647</td>\n",
       "      <td>0.2000</td>\n",
       "      <td>1</td>\n",
       "      <td>1</td>\n",
       "      <td>0</td>\n",
       "      <td>0</td>\n",
       "      <td>0</td>\n",
       "      <td>0</td>\n",
       "    </tr>\n",
       "    <tr>\n",
       "      <td>14764</td>\n",
       "      <td>0.000000</td>\n",
       "      <td>1.000</td>\n",
       "      <td>1</td>\n",
       "      <td>0.096573</td>\n",
       "      <td>0.538462</td>\n",
       "      <td>0.411765</td>\n",
       "      <td>0.3000</td>\n",
       "      <td>1</td>\n",
       "      <td>0</td>\n",
       "      <td>0</td>\n",
       "      <td>0</td>\n",
       "      <td>1</td>\n",
       "      <td>0</td>\n",
       "    </tr>\n",
       "    <tr>\n",
       "      <td>55102</td>\n",
       "      <td>0.333333</td>\n",
       "      <td>0.875</td>\n",
       "      <td>1</td>\n",
       "      <td>0.118380</td>\n",
       "      <td>0.527473</td>\n",
       "      <td>0.441176</td>\n",
       "      <td>0.3250</td>\n",
       "      <td>1</td>\n",
       "      <td>0</td>\n",
       "      <td>1</td>\n",
       "      <td>0</td>\n",
       "      <td>0</td>\n",
       "      <td>0</td>\n",
       "    </tr>\n",
       "    <tr>\n",
       "      <td>66617</td>\n",
       "      <td>0.333333</td>\n",
       "      <td>0.875</td>\n",
       "      <td>0</td>\n",
       "      <td>0.109034</td>\n",
       "      <td>0.494505</td>\n",
       "      <td>0.382353</td>\n",
       "      <td>0.2375</td>\n",
       "      <td>1</td>\n",
       "      <td>1</td>\n",
       "      <td>0</td>\n",
       "      <td>0</td>\n",
       "      <td>0</td>\n",
       "      <td>0</td>\n",
       "    </tr>\n",
       "    <tr>\n",
       "      <td>...</td>\n",
       "      <td>...</td>\n",
       "      <td>...</td>\n",
       "      <td>...</td>\n",
       "      <td>...</td>\n",
       "      <td>...</td>\n",
       "      <td>...</td>\n",
       "      <td>...</td>\n",
       "      <td>...</td>\n",
       "      <td>...</td>\n",
       "      <td>...</td>\n",
       "      <td>...</td>\n",
       "      <td>...</td>\n",
       "      <td>...</td>\n",
       "    </tr>\n",
       "    <tr>\n",
       "      <td>11495</td>\n",
       "      <td>0.000000</td>\n",
       "      <td>0.250</td>\n",
       "      <td>1</td>\n",
       "      <td>0.040498</td>\n",
       "      <td>0.824176</td>\n",
       "      <td>0.147059</td>\n",
       "      <td>0.2875</td>\n",
       "      <td>0</td>\n",
       "      <td>0</td>\n",
       "      <td>0</td>\n",
       "      <td>0</td>\n",
       "      <td>1</td>\n",
       "      <td>0</td>\n",
       "    </tr>\n",
       "    <tr>\n",
       "      <td>15923</td>\n",
       "      <td>0.000000</td>\n",
       "      <td>0.500</td>\n",
       "      <td>1</td>\n",
       "      <td>0.140187</td>\n",
       "      <td>0.538462</td>\n",
       "      <td>0.382353</td>\n",
       "      <td>0.3375</td>\n",
       "      <td>0</td>\n",
       "      <td>0</td>\n",
       "      <td>0</td>\n",
       "      <td>0</td>\n",
       "      <td>1</td>\n",
       "      <td>0</td>\n",
       "    </tr>\n",
       "    <tr>\n",
       "      <td>58002</td>\n",
       "      <td>0.333333</td>\n",
       "      <td>0.500</td>\n",
       "      <td>0</td>\n",
       "      <td>0.149533</td>\n",
       "      <td>0.758242</td>\n",
       "      <td>0.176471</td>\n",
       "      <td>0.4500</td>\n",
       "      <td>0</td>\n",
       "      <td>0</td>\n",
       "      <td>0</td>\n",
       "      <td>0</td>\n",
       "      <td>0</td>\n",
       "      <td>1</td>\n",
       "    </tr>\n",
       "    <tr>\n",
       "      <td>58021</td>\n",
       "      <td>0.333333</td>\n",
       "      <td>0.875</td>\n",
       "      <td>0</td>\n",
       "      <td>0.149533</td>\n",
       "      <td>0.758242</td>\n",
       "      <td>0.176471</td>\n",
       "      <td>0.4500</td>\n",
       "      <td>0</td>\n",
       "      <td>0</td>\n",
       "      <td>0</td>\n",
       "      <td>0</td>\n",
       "      <td>0</td>\n",
       "      <td>1</td>\n",
       "    </tr>\n",
       "    <tr>\n",
       "      <td>143350</td>\n",
       "      <td>1.000000</td>\n",
       "      <td>0.125</td>\n",
       "      <td>1</td>\n",
       "      <td>0.161994</td>\n",
       "      <td>0.439560</td>\n",
       "      <td>0.558824</td>\n",
       "      <td>0.2625</td>\n",
       "      <td>0</td>\n",
       "      <td>1</td>\n",
       "      <td>0</td>\n",
       "      <td>0</td>\n",
       "      <td>0</td>\n",
       "      <td>0</td>\n",
       "    </tr>\n",
       "  </tbody>\n",
       "</table>\n",
       "<p>3756 rows × 13 columns</p>\n",
       "</div>"
      ],
      "text/plain": [
       "           month  Age_Group  gender      park  workplace  residential  \\\n",
       "27365   0.000000      0.875       1  0.526480   0.923077     0.176471   \n",
       "104299  0.666667      1.000       1  0.046729   0.428571     0.617647   \n",
       "14764   0.000000      1.000       1  0.096573   0.538462     0.411765   \n",
       "55102   0.333333      0.875       1  0.118380   0.527473     0.441176   \n",
       "66617   0.333333      0.875       0  0.109034   0.494505     0.382353   \n",
       "...          ...        ...     ...       ...        ...          ...   \n",
       "11495   0.000000      0.250       1  0.040498   0.824176     0.147059   \n",
       "15923   0.000000      0.500       1  0.140187   0.538462     0.382353   \n",
       "58002   0.333333      0.500       0  0.149533   0.758242     0.176471   \n",
       "58021   0.333333      0.875       0  0.149533   0.758242     0.176471   \n",
       "143350  1.000000      0.125       1  0.161994   0.439560     0.558824   \n",
       "\n",
       "        transit  fatal  special_measure_Control  special_measure_Lockdown  \\\n",
       "27365    0.8625      1                        0                         1   \n",
       "104299   0.2000      1                        1                         0   \n",
       "14764    0.3000      1                        0                         0   \n",
       "55102    0.3250      1                        0                         1   \n",
       "66617    0.2375      1                        1                         0   \n",
       "...         ...    ...                      ...                       ...   \n",
       "11495    0.2875      0                        0                         0   \n",
       "15923    0.3375      0                        0                         0   \n",
       "58002    0.4500      0                        0                         0   \n",
       "58021    0.4500      0                        0                         0   \n",
       "143350   0.2625      0                        1                         0   \n",
       "\n",
       "        special_measure_Prevent  special_measure_Protect  \\\n",
       "27365                         0                        0   \n",
       "104299                        0                        0   \n",
       "14764                         0                        1   \n",
       "55102                         0                        0   \n",
       "66617                         0                        0   \n",
       "...                         ...                      ...   \n",
       "11495                         0                        1   \n",
       "15923                         0                        1   \n",
       "58002                         0                        0   \n",
       "58021                         0                        0   \n",
       "143350                        0                        0   \n",
       "\n",
       "        special_measure_Restrict  \n",
       "27365                          0  \n",
       "104299                         0  \n",
       "14764                          0  \n",
       "55102                          0  \n",
       "66617                          0  \n",
       "...                          ...  \n",
       "11495                          0  \n",
       "15923                          0  \n",
       "58002                          1  \n",
       "58021                          1  \n",
       "143350                         0  \n",
       "\n",
       "[3756 rows x 13 columns]"
      ]
     },
     "execution_count": 29,
     "metadata": {},
     "output_type": "execute_result"
    }
   ],
   "source": [
    "# split the train and test data\n",
    "data = pickle.load(open(\"./saves/undersampled_data.p\", \"rb\" ))\n",
    "\n",
    "res=data[data['fatal']==1]\n",
    "rest=data[data['fatal']==0]\n",
    "tmp=randint(0,len(rest)-len(res))\n",
    "tmp=rest[tmp:tmp+len(res)]\n",
    "res=res.append(tmp)\n",
    "data=res\n",
    "\n",
    "column_list = data.columns.values.tolist()\n",
    "column_list.remove('fatal')\n",
    "\n",
    "X = data[column_list]\n",
    "y = data['fatal']\n",
    "X_train, X_test, y_train, y_test = train_test_split(X, y, test_size = 0.25, random_state=1)\n",
    "data"
   ]
  },
  {
   "cell_type": "code",
   "execution_count": 30,
   "metadata": {
    "ExecuteTime": {
     "end_time": "2021-04-13T22:09:42.634554Z",
     "start_time": "2021-04-13T22:09:42.231193Z"
    }
   },
   "outputs": [
    {
     "name": "stdout",
     "output_type": "stream",
     "text": [
      "|--- Age_Group <= 0.69\n",
      "|   |--- Age_Group <= 0.44\n",
      "|   |   |--- Age_Group <= 0.19\n",
      "|   |   |   |--- class: 0\n",
      "|   |   |--- Age_Group >  0.19\n",
      "|   |   |   |--- transit <= 0.23\n",
      "|   |   |   |   |--- class: 0\n",
      "|   |   |   |--- transit >  0.23\n",
      "|   |   |   |   |--- workplace <= 0.73\n",
      "|   |   |   |   |   |--- class: 0\n",
      "|   |   |   |   |--- workplace >  0.73\n",
      "|   |   |   |   |   |--- class: 0\n",
      "|   |--- Age_Group >  0.44\n",
      "|   |   |--- Age_Group <= 0.56\n",
      "|   |   |   |--- gender <= 0.50\n",
      "|   |   |   |   |--- class: 0\n",
      "|   |   |   |--- gender >  0.50\n",
      "|   |   |   |   |--- class: 0\n",
      "|   |   |--- Age_Group >  0.56\n",
      "|   |   |   |--- special_measure_Control <= 0.50\n",
      "|   |   |   |   |--- special_measure_Lockdown <= 0.50\n",
      "|   |   |   |   |   |--- class: 1\n",
      "|   |   |   |   |--- special_measure_Lockdown >  0.50\n",
      "|   |   |   |   |   |--- class: 0\n",
      "|   |   |   |--- special_measure_Control >  0.50\n",
      "|   |   |   |   |--- transit <= 0.29\n",
      "|   |   |   |   |   |--- class: 0\n",
      "|   |   |   |   |--- transit >  0.29\n",
      "|   |   |   |   |   |--- class: 1\n",
      "|--- Age_Group >  0.69\n",
      "|   |--- Age_Group <= 0.81\n",
      "|   |   |--- transit <= 0.14\n",
      "|   |   |   |--- class: 0\n",
      "|   |   |--- transit >  0.14\n",
      "|   |   |   |--- class: 1\n",
      "|   |--- Age_Group >  0.81\n",
      "|   |   |--- transit <= 0.33\n",
      "|   |   |   |--- park <= 0.25\n",
      "|   |   |   |   |--- class: 1\n",
      "|   |   |   |--- park >  0.25\n",
      "|   |   |   |   |--- class: 1\n",
      "|   |   |--- transit >  0.33\n",
      "|   |   |   |--- residential <= 0.28\n",
      "|   |   |   |   |--- class: 1\n",
      "|   |   |   |--- residential >  0.28\n",
      "|   |   |   |   |--- class: 1\n",
      "\n"
     ]
    }
   ],
   "source": [
    "#Train the data\n",
    "#decision_tree = DecisionTreeClassifier(criterion='entropy',\n",
    "            #max_features=None,max_leaf_nodes=,max_leaf_nodes=16,\n",
    "            #random_state=0,)\n",
    "decision_tree = DecisionTreeClassifier(class_weight='balanced',criterion='entropy',min_impurity_decrease=1e-07,max_depth=5,max_leaf_nodes=16,random_state=0,splitter='best')\n",
    "start = time.time()\n",
    "decision_tree = decision_tree.fit(X_train, y_train)\n",
    "time_took = time.time()-start\n",
    "#show the decision condiction and the structure of the tree\n",
    "final_condiction= export_text(decision_tree, feature_names=column_list)\n",
    "print(final_condiction)\n",
    "#tree.plot_tree(decision_tree) "
   ]
  },
  {
   "cell_type": "code",
   "execution_count": 31,
   "metadata": {},
   "outputs": [
    {
     "data": {
      "text/plain": [
       "[Text(162.16875000000002, 199.32, 'X[1] <= 0.688\\nentropy = 1.0\\nsamples = 2817\\nvalue = [1408.5, 1408.5]'),\n",
       " Text(80.2125, 163.07999999999998, 'X[1] <= 0.438\\nentropy = 0.552\\nsamples = 1487\\nvalue = [1285.85, 189.081]'),\n",
       " Text(27.900000000000002, 126.83999999999999, 'X[1] <= 0.188\\nentropy = 0.136\\nsamples = 967\\nvalue = [938.67, 18.2]'),\n",
       " Text(13.950000000000001, 90.6, 'entropy = 0.021\\nsamples = 505\\nvalue = [498.514, 1.011]'),\n",
       " Text(41.85, 90.6, 'X[6] <= 0.231\\nentropy = 0.231\\nsamples = 462\\nvalue = [440.156, 17.189]'),\n",
       " Text(27.900000000000002, 54.359999999999985, 'entropy = 0.0\\nsamples = 111\\nvalue = [109.792, 0.0]'),\n",
       " Text(55.800000000000004, 54.359999999999985, 'X[4] <= 0.731\\nentropy = 0.284\\nsamples = 351\\nvalue = [330.364, 17.189]'),\n",
       " Text(41.85, 18.119999999999976, 'entropy = 0.353\\nsamples = 261\\nvalue = [241.344, 17.189]'),\n",
       " Text(69.75, 18.119999999999976, 'entropy = 0.0\\nsamples = 90\\nvalue = [89.02, 0.0]'),\n",
       " Text(132.525, 126.83999999999999, 'X[1] <= 0.562\\nentropy = 0.915\\nsamples = 520\\nvalue = [347.179, 170.88]'),\n",
       " Text(97.65, 90.6, 'X[2] <= 0.5\\nentropy = 0.727\\nsamples = 271\\nvalue = [214.638, 54.601]'),\n",
       " Text(83.7, 54.359999999999985, 'entropy = 0.837\\nsamples = 141\\nvalue = [102.868, 37.412]'),\n",
       " Text(111.60000000000001, 54.359999999999985, 'entropy = 0.566\\nsamples = 130\\nvalue = [111.77, 17.189]'),\n",
       " Text(167.4, 90.6, 'X[7] <= 0.5\\nentropy = 0.997\\nsamples = 249\\nvalue = [132.541, 116.28]'),\n",
       " Text(139.5, 54.359999999999985, 'X[8] <= 0.5\\nentropy = 0.999\\nsamples = 218\\nvalue = [105.835, 112.235]'),\n",
       " Text(125.55000000000001, 18.119999999999976, 'entropy = 0.983\\nsamples = 177\\nvalue = [75.173, 102.124]'),\n",
       " Text(153.45000000000002, 18.119999999999976, 'entropy = 0.808\\nsamples = 41\\nvalue = [30.663, 10.111]'),\n",
       " Text(195.3, 54.359999999999985, 'X[6] <= 0.288\\nentropy = 0.562\\nsamples = 31\\nvalue = [26.706, 4.045]'),\n",
       " Text(181.35000000000002, 18.119999999999976, 'entropy = 0.232\\nsamples = 27\\nvalue = [25.717, 1.011]'),\n",
       " Text(209.25000000000003, 18.119999999999976, 'entropy = 0.805\\nsamples = 4\\nvalue = [0.989, 3.033]'),\n",
       " Text(244.12500000000003, 163.07999999999998, 'X[1] <= 0.812\\nentropy = 0.441\\nsamples = 1330\\nvalue = [122.65, 1219.419]'),\n",
       " Text(209.25000000000003, 126.83999999999999, 'X[6] <= 0.138\\nentropy = 0.703\\nsamples = 319\\nvalue = [61.325, 259.86]'),\n",
       " Text(195.3, 90.6, 'entropy = 0.95\\nsamples = 11\\nvalue = [6.924, 4.045]'),\n",
       " Text(223.20000000000002, 90.6, 'entropy = 0.67\\nsamples = 308\\nvalue = [54.401, 255.815]'),\n",
       " Text(279.0, 126.83999999999999, 'X[6] <= 0.331\\nentropy = 0.328\\nsamples = 1011\\nvalue = [61.325, 959.56]'),\n",
       " Text(251.10000000000002, 90.6, 'X[3] <= 0.254\\nentropy = 0.392\\nsamples = 584\\nvalue = [45.499, 543.986]'),\n",
       " Text(237.15, 54.359999999999985, 'entropy = 0.417\\nsamples = 535\\nvalue = [45.499, 494.441]'),\n",
       " Text(265.05, 54.359999999999985, 'entropy = -0.0\\nsamples = 49\\nvalue = [0.0, 49.545]'),\n",
       " Text(306.90000000000003, 90.6, 'X[5] <= 0.279\\nentropy = 0.227\\nsamples = 427\\nvalue = [15.826, 415.573]'),\n",
       " Text(292.95000000000005, 54.359999999999985, 'entropy = 0.383\\nsamples = 184\\nvalue = [13.848, 171.892]'),\n",
       " Text(320.85, 54.359999999999985, 'entropy = 0.068\\nsamples = 243\\nvalue = [1.978, 243.682]')]"
      ]
     },
     "execution_count": 31,
     "metadata": {},
     "output_type": "execute_result"
    },
    {
     "data": {
      "image/png": "[encoded data removed]",
      "text/plain": [
       "<Figure size 432x288 with 1 Axes>"
      ]
     },
     "metadata": {
      "needs_background": "light"
     },
     "output_type": "display_data"
    }
   ],
   "source": [
    "tree.plot_tree(decision_tree) "
   ]
  },
  {
   "cell_type": "code",
   "execution_count": 32,
   "metadata": {
    "ExecuteTime": {
     "end_time": "2021-04-13T22:09:45.650955Z",
     "start_time": "2021-04-13T22:09:45.542182Z"
    },
    "scrolled": true
   },
   "outputs": [
    {
     "name": "stdout",
     "output_type": "stream",
     "text": [
      "[[384  70]\n",
      " [ 36 449]]\n",
      "              precision    recall  f1-score   support\n",
      "\n",
      "           0       0.91      0.85      0.88       454\n",
      "           1       0.87      0.93      0.89       485\n",
      "\n",
      "    accuracy                           0.89       939\n",
      "   macro avg       0.89      0.89      0.89       939\n",
      "weighted avg       0.89      0.89      0.89       939\n",
      "\n",
      "Time to Train 0.01 s\n"
     ]
    }
   ],
   "source": [
    "#eveulate the result\n",
    "y_pred_tree=decision_tree.predict(X_test)\n",
    "print (confusion_matrix(y_test,y_pred_tree))\n",
    "print(classification_report(y_test,y_pred_tree))\n",
    "print(\"Time to Train {:.2f} s\".format(time_took))"
   ]
  },
  {
   "cell_type": "markdown",
   "metadata": {},
   "source": [
    " ## Gradient Boosting  "
   ]
  },
  {
   "cell_type": "code",
   "execution_count": 40,
   "metadata": {
    "ExecuteTime": {
     "end_time": "2021-04-13T22:15:29.295223Z",
     "start_time": "2021-04-13T22:15:25.572847Z"
    }
   },
   "outputs": [
    {
     "name": "stdout",
     "output_type": "stream",
     "text": [
      "0.075\n"
     ]
    }
   ],
   "source": [
    "#find the best learning rate\n",
    "lr_start = time.time()\n",
    "lr_list = [0.05, 0.075, 0.1, 0.25, 0.5, 0.75, 1]\n",
    "best_rate=lr_list[0]\n",
    "best_accuracy=0\n",
    "for learning_rate in lr_list:\n",
    "    gradientBoosting = GradientBoostingClassifier(n_estimators=15, learning_rate=learning_rate, max_features=4, max_depth=5, random_state=0)\n",
    "    gradientBoosting.fit(X_train, y_train)\n",
    "    if gradientBoosting.score(X_test, y_test)>best_accuracy:\n",
    "        best_accuracy=gradientBoosting.score(X_test, y_test)\n",
    "        best_rate=learning_rate\n",
    "lr_end = time.time()\n",
    "print(best_rate)"
   ]
  },
  {
   "cell_type": "code",
   "execution_count": 41,
   "metadata": {
    "ExecuteTime": {
     "end_time": "2021-04-13T22:15:29.991754Z",
     "start_time": "2021-04-13T22:15:29.297548Z"
    }
   },
   "outputs": [
    {
     "name": "stdout",
     "output_type": "stream",
     "text": [
      "[[399  55]\n",
      " [ 46 439]]\n",
      "              precision    recall  f1-score   support\n",
      "\n",
      "           0       0.90      0.88      0.89       454\n",
      "           1       0.89      0.91      0.90       485\n",
      "\n",
      "    accuracy                           0.89       939\n",
      "   macro avg       0.89      0.89      0.89       939\n",
      "weighted avg       0.89      0.89      0.89       939\n",
      "\n",
      "Time to Find Best Learning Rate 0.38 s\n",
      "Time to Train 0.06 s\n"
     ]
    }
   ],
   "source": [
    "#Using the best learning rate to train the model\n",
    "gradientBoosting = GradientBoostingClassifier(n_estimators=15, learning_rate=best_rate, max_features=4, max_depth=5, random_state=0)\n",
    "start = time.time()\n",
    "gradientBoosting.fit(X_train, y_train)\n",
    "time_took = time.time()-start\n",
    "#eveulate the result\n",
    "y_pred_boosting = gradientBoosting.predict(X_test)\n",
    "print (confusion_matrix(y_test,y_pred_boosting))\n",
    "print(classification_report(y_test,y_pred_boosting))\n",
    "print(\"Time to Find Best Learning Rate {:.2f} s\".format(lr_end-lr_start))\n",
    "print(\"Time to Train {:.2f} s\".format(time_took))"
   ]
  },
  {
   "cell_type": "code",
   "execution_count": 42,
   "metadata": {},
   "outputs": [
    {
     "data": {
      "image/png": "[encoded data removed]",
      "text/plain": [
       "<Figure size 432x288 with 1 Axes>"
      ]
     },
     "metadata": {
      "needs_background": "light"
     },
     "output_type": "display_data"
    }
   ],
   "source": [
    "# Plot feature importance\n",
    "feature_importance = gradientBoosting.feature_importances_\n",
    "feature_importance = 100.0 * (feature_importance / feature_importance.max())\n",
    "sorted_idx = np.argsort(feature_importance)\n",
    "pos = np.arange(sorted_idx.shape[0]) + .5\n",
    "plt.subplot(1, 2, 2)\n",
    "plt.barh(pos, feature_importance[sorted_idx], align='center')\n",
    "plt.yticks(pos, column_list)\n",
    "plt.xlabel('Relative Importance')\n",
    "plt.title('Variable Importance')\n",
    "plt.show()"
   ]
  },
  {
   "cell_type": "markdown",
   "metadata": {},
   "source": [
    " ## Random Forest"
   ]
  },
  {
   "cell_type": "code",
   "execution_count": 36,
   "metadata": {
    "ExecuteTime": {
     "end_time": "2021-04-13T22:09:51.184765Z",
     "start_time": "2021-04-13T22:09:50.950220Z"
    }
   },
   "outputs": [],
   "source": [
    "#training part\n",
    "randomForest = RandomForestClassifier(n_estimators=10, criterion = 'entropy', max_depth=5, random_state=0,\n",
    "                                      max_features='sqrt',min_impurity_decrease=1e-04,\n",
    "                                      min_samples_leaf=1,min_samples_split=2)\n",
    "start = time.time()\n",
    "randomForest.fit(X_train,y_train)\n",
    "time_took = time.time()-start\n",
    "#show the decision condiction and the structure of the tree\n",
    "\n",
    "#Estimators = classifier.estimators_\n",
    "#for index, model in enumerate(Estimators):\n",
    "    #each_condiction= export_text(model, feature_names=['Age_Group', 'Client_Gender', 'mobility', 'Special_Measures_Control', 'Special_Measures_Lockdown', 'Special_Measures_Protect', 'Special_Measures_Restrict'])\n",
    "    #print(each_condiction)"
   ]
  },
  {
   "cell_type": "code",
   "execution_count": 37,
   "metadata": {
    "ExecuteTime": {
     "end_time": "2021-04-13T22:09:51.299807Z",
     "start_time": "2021-04-13T22:09:51.187632Z"
    }
   },
   "outputs": [
    {
     "name": "stdout",
     "output_type": "stream",
     "text": [
      "[[396  58]\n",
      " [ 43 442]]\n",
      "              precision    recall  f1-score   support\n",
      "\n",
      "           0       0.90      0.87      0.89       454\n",
      "           1       0.88      0.91      0.90       485\n",
      "\n",
      "    accuracy                           0.89       939\n",
      "   macro avg       0.89      0.89      0.89       939\n",
      "weighted avg       0.89      0.89      0.89       939\n",
      "\n",
      "Time to Train 0.03 s\n"
     ]
    }
   ],
   "source": [
    "#eveulate the result\n",
    "y_pred_forest = randomForest.predict(X_test)\n",
    "print (confusion_matrix(y_test,y_pred_forest))\n",
    "print(classification_report(y_test,y_pred_forest))\n",
    "print(\"Time to Train {:.2f} s\".format(time_took))"
   ]
  },
  {
   "cell_type": "code",
   "execution_count": 38,
   "metadata": {},
   "outputs": [
    {
     "name": "stdout",
     "output_type": "stream",
     "text": [
      " 1) Age_Group                      0.784520\n",
      " 2) special_measure_Control        0.052139\n",
      " 3) month                          0.041303\n",
      " 4) transit                        0.025591\n",
      " 5) workplace                      0.024810\n",
      " 6) park                           0.024145\n",
      " 7) residential                    0.019147\n",
      " 8) gender                         0.010140\n",
      " 9) special_measure_Restrict       0.007871\n",
      "10) special_measure_Prevent        0.005257\n",
      "11) special_measure_Lockdown       0.004356\n",
      "12) special_measure_Protect        0.000721\n"
     ]
    }
   ],
   "source": [
    "importances = randomForest.feature_importances_\n",
    "indices = np.argsort(importances)[::-1]\n",
    "for f in range(X_train.shape[1]):\n",
    "    print(\"%2d) %-*s %f\" % (f + 1, 30, column_list[indices[f]], importances[indices[f]]))"
   ]
  },
  {
   "cell_type": "markdown",
   "metadata": {
    "ExecuteTime": {
     "end_time": "2021-04-10T14:27:06.945114Z",
     "start_time": "2021-04-10T14:27:06.940435Z"
    }
   },
   "source": [
    " ## Part C\n",
    " "
   ]
  },
  {
   "cell_type": "code",
   "execution_count": 39,
   "metadata": {
    "ExecuteTime": {
     "end_time": "2021-04-13T22:09:57.805836Z",
     "start_time": "2021-04-13T22:09:51.313644Z"
    }
   },
   "outputs": [
    {
     "name": "stdout",
     "output_type": "stream",
     "text": [
      "[[398  56]\n",
      " [ 45 440]]\n",
      "              precision    recall  f1-score   support\n",
      "\n",
      "           0       0.90      0.88      0.89       454\n",
      "           1       0.89      0.91      0.90       485\n",
      "\n",
      "    accuracy                           0.89       939\n",
      "   macro avg       0.89      0.89      0.89       939\n",
      "weighted avg       0.89      0.89      0.89       939\n",
      "\n"
     ]
    }
   ],
   "source": [
    "clf_svm = svm.SVC(kernel=\"linear\", random_state=0, max_iter=3500).fit(X_train, y_train)  \n",
    "\n",
    "#eveulate the result\n",
    "y_pred_svm = clf_svm.predict(X_test)\n",
    "print (confusion_matrix(y_test,y_pred_svm))\n",
    "print(classification_report(y_test,y_pred_svm))"
   ]
  },
  {
   "cell_type": "code",
   "execution_count": 56,
   "metadata": {},
   "outputs": [
    {
     "data": {
      "text/plain": [
       "array([124.37627194, 129.03535894, 129.51703902, ..., 132.5437969 ,\n",
       "       130.90456688, 128.17283421])"
      ]
     },
     "execution_count": 56,
     "metadata": {},
     "output_type": "execute_result"
    }
   ],
   "source": [
    "clf = svm.OneClassSVM(nu=0.05, kernel=\"rbf\", gamma=0.1).fit(data)\n",
    "\n",
    "pred = clf.predict(data)\n",
    "normal = data[pred == 1]\n",
    "abnormal = data[pred == -1]\n",
    "clf.score_samples(data)"
   ]
  }
 ],
 "metadata": {
  "kernelspec": {
   "display_name": "Python 3",
   "language": "python",
   "name": "python3"
  },
  "language_info": {
   "codemirror_mode": {
    "name": "ipython",
    "version": 3
   },
   "file_extension": ".py",
   "mimetype": "text/x-python",
   "name": "python",
   "nbconvert_exporter": "python",
   "pygments_lexer": "ipython3",
   "version": "3.7.3"
  }
 },
 "nbformat": 4,
 "nbformat_minor": 2
}
